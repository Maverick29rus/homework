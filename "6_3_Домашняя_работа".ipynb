{
  "nbformat": 4,
  "nbformat_minor": 0,
  "metadata": {
    "colab": {
      "provenance": [],
      "include_colab_link": true
    },
    "kernelspec": {
      "name": "python3",
      "display_name": "Python 3"
    },
    "language_info": {
      "name": "python"
    }
  },
  "cells": [
    {
      "cell_type": "markdown",
      "metadata": {
        "id": "view-in-github",
        "colab_type": "text"
      },
      "source": [
        "<a href=\"https://colab.research.google.com/github/Maverick29rus/homework/blob/master/%226_3_%D0%94%D0%BE%D0%BC%D0%B0%D1%88%D0%BD%D1%8F%D1%8F_%D1%80%D0%B0%D0%B1%D0%BE%D1%82%D0%B0%22.ipynb\" target=\"_parent\"><img src=\"https://colab.research.google.com/assets/colab-badge.svg\" alt=\"Open In Colab\"/></a>"
      ]
    },
    {
      "cell_type": "markdown",
      "source": [
        "**Навигация по уроку**\n",
        "\n",
        "1. [Введение в Data Science](https://colab.research.google.com/drive/1OzEE1Y-T_p8rqJHxAm7S8iO76Hx6Jox3)\n",
        "2. [Поиск, сбор и первичная обработка данных](https://colab.research.google.com/drive/1sPc9RcTh9oMzyLffhNorD-Hh2kQlMhCC)\n",
        "3. Домашняя работа"
      ],
      "metadata": {
        "id": "8LIWrmOPjBO6"
      }
    },
    {
      "cell_type": "markdown",
      "source": [
        "## Задача 1. Книги без буквы E."
      ],
      "metadata": {
        "id": "ZzjUAyrL6jgO"
      }
    },
    {
      "cell_type": "markdown",
      "source": [
        "**Условие.** В истории литературы известен случай написания романа объемом около\n",
        "50 тыс. слов, в котором ни разу не была употреблена самая популярная\n",
        "в английском алфавите буква E. Название его – «Gadsby».\n",
        "Напишите программу, которая будет считывать список слов из файла и собирать статистику о том, в каком проценте слов используется каждая буква алфавита. Выведите результат для всех 26 букв английского алфавита и отдельно отметьте букву, которая встречалась в словах наиболее редко. В  вашей программе должны игнорироваться знаки препинания и регистр символов.\n"
      ],
      "metadata": {
        "id": "M4OAOB6s6mU7"
      }
    },
    {
      "cell_type": "markdown",
      "source": [
        "**Подсказки.**\n",
        "1. Переведите все слова в верхний регистр:\n",
        "```\n",
        "word = word.upper().rstrip() # upper - переводит строку в верхний регистр\n",
        "```\n",
        "2. Создайте словарь со счетчиком слов, содержащий каждую букву\n",
        "```\n",
        "# Для каждой буквы инициализируем счетчик нулем\n",
        "counts = {}\n",
        "for ch in \"ABCDEFGHIJKLMNOPQRSTUVWXYZ\":\n",
        "       counts[ch] = 0\n",
        "```\n",
        "3. Наиболее редко используемые буквы можно найти следующим образом:\n",
        "```\n",
        "smallest_count = min(counts.values()) # min - возвращает наименьшее число в списке\n",
        "```"
      ],
      "metadata": {
        "id": "1X5QIF1nryYd"
      }
    },
    {
      "cell_type": "code",
      "source": [
        "import string\n",
        "with open(\"input.txt\", 'w') as file:  # Откроем файл в режиме записи\n",
        "    text = '''The Zen of Python, by Tim Peters\n",
        "    Beautiful is better than ugly.\n",
        "    Explicit is better than implicit.\n",
        "    Simple is better than complex.\n",
        "    Complex is better than complicated.\n",
        "    Flat is better than nested.\n",
        "    Sparse is better than dense.\n",
        "    Readability counts.\n",
        "    Special cases aren't special enough to break the rules.\n",
        "    Although practicality beats purity.\n",
        "    Errors should never pass silently.\n",
        "    Unless explicitly silenced.\n",
        "    In the face of ambiguity, refuse the temptation to guess.\n",
        "    There should be one-- and preferably only one --obvious way to do it.\n",
        "    Although that way may not be obvious at first unless you're Dutch.\n",
        "    Now is better than never.\n",
        "    Although never is often better than *right* now.\n",
        "    If the implementation is hard to explain, it's a bad idea.\n",
        "    If the implementation is easy to explain, it may be a good idea.\n",
        "    Namespaces are one honking great idea -- let's do more of those!'''\n",
        "\n",
        "    file.write(text)  # Записываем текст целиком в файл\n",
        "with open(\"input.txt\", \"r\") as file:  # Открываем файл для чтения\n",
        "    # Извлекаем целиком текст из файла как одну длинную строку\n",
        "    input_text = file.read()\n",
        "# Для каждой буквы инициализируем счетчик с нулем\n",
        "counts = {}\n",
        "for ch in \"ABCDEFGHIJKLMNOPQRSTUVWXYZ\":\n",
        "    counts[ch] = 0\n",
        "\n",
        "# удаляем знаки пунктуации\n",
        "for p in string.punctuation:\n",
        "    if p in input_text:\n",
        "        # замена символа в строке\n",
        "        input_text = input_text.replace(p, '')\n",
        "\n",
        "# создаем список из слов текста\n",
        "input_list = input_text.split()\n",
        "\n",
        "# проходим по каждому слову\n",
        "for word in input_list:\n",
        "    # приводим слово в верхний регистр\n",
        "    word = word.upper().rstrip()\n",
        "    # проходим по каждому символу из нашего счетчика\n",
        "    for ch in counts:\n",
        "        # если символ есть в слове увеличиваем счетчик\n",
        "        if ch in word:\n",
        "            counts[ch] += 1\n",
        "\n",
        "# переводим счетчик символов в процент от общего числа слов\n",
        "for ch in counts:\n",
        "    counts[ch] = round(counts[ch]*100/len(input_list), 2)\n",
        "\n",
        "print('В каком проценте слов используется каждая буква алфавита:')\n",
        "[print(f\"{key}: {value} %\") for key, value in counts.items()]\n",
        "\n",
        "print('Наиболее редко встречались символы:',\n",
        "      *[key for key, value in counts.items() if value == min(counts.values())])\n"
      ],
      "metadata": {
        "id": "C2W-ZDOF6mzF",
        "colab": {
          "base_uri": "https://localhost:8080/"
        },
        "outputId": "d1d9296a-bce1-4ebb-ced8-de0e66441c3f"
      },
      "execution_count": null,
      "outputs": [
        {
          "output_type": "stream",
          "name": "stdout",
          "text": [
            "В каком проценте слов используется каждая буква алфавита:\n",
            "A: 34.97 %\n",
            "B: 14.69 %\n",
            "C: 10.49 %\n",
            "D: 11.89 %\n",
            "E: 49.65 %\n",
            "F: 8.39 %\n",
            "G: 7.69 %\n",
            "H: 19.58 %\n",
            "I: 30.77 %\n",
            "J: 0.0 %\n",
            "K: 1.4 %\n",
            "L: 21.68 %\n",
            "M: 9.79 %\n",
            "N: 27.27 %\n",
            "O: 27.97 %\n",
            "P: 15.38 %\n",
            "Q: 0.0 %\n",
            "R: 20.98 %\n",
            "S: 27.27 %\n",
            "T: 45.45 %\n",
            "U: 13.99 %\n",
            "V: 3.5 %\n",
            "W: 2.8 %\n",
            "X: 4.2 %\n",
            "Y: 11.89 %\n",
            "Z: 0.7 %\n",
            "Наиболее редко встречались символы: J Q\n"
          ]
        }
      ]
    },
    {
      "cell_type": "markdown",
      "source": [
        "## Задание 2. Веб-скрейпинг ИИ новостей"
      ],
      "metadata": {
        "id": "m5K8F02cbJ3c"
      }
    },
    {
      "cell_type": "markdown",
      "source": [
        "**Описание задания.** Используя пример веб-скрейпинга практической части урока, проведите скрейпинг сайта с новостями из сферы ИИ (https://2051.vision/category/ii/), выведите на экран заголовки новостей."
      ],
      "metadata": {
        "id": "LPb3n5UqbRAD"
      }
    },
    {
      "cell_type": "code",
      "source": [
        "#!pip install beautifulsoup4 requests html5lib #установим недостающие библиотеки\n",
        "from bs4 import BeautifulSoup\n",
        "import requests\n",
        "\n",
        "# Получим с сайта топ свежих новостей\n",
        "\n",
        "# Зададим адрес новостного сайта для GET-запроса библиотеки requests\n",
        "url = (\"https://2051.vision/category/ii/\")\n",
        "# Извлекаем из тела ответа текстовые данные\n",
        "html = requests.get(url).text\n",
        "# Применяем к данным анализатор html5lib\n",
        "soup = BeautifulSoup(html, 'html5lib')\n",
        "# В дереве данных ищем все элементы 'div' с классом 'tdb_module_loop td_module_wrap td-animation-stack td-cpt-post'\n",
        "top_news = soup.find_all(\n",
        "    'div',\n",
        "    class_='tdb_module_loop td_module_wrap td-animation-stack td-cpt-post')\n",
        "filteredNews = []\n",
        "# Перебираем все найденные элементы с новостями\n",
        "for data in top_news:\n",
        "    # внутри элементов берем тег 'a' и получаем атрибут 'title'\n",
        "    filteredNews.append(data.a.get('title'))\n",
        "# enumerate - возвращает кортеж из индекса и самого значения: (index, filteredNews[index] )\n",
        "for i, news in enumerate(filteredNews):\n",
        "    print(i+1, news)\n"
      ],
      "metadata": {
        "id": "E2UFxRjFi_aW",
        "colab": {
          "base_uri": "https://localhost:8080/"
        },
        "outputId": "34ab8a0a-c728-49f4-a5db-eea80ec56fa1"
      },
      "execution_count": null,
      "outputs": [
        {
          "output_type": "stream",
          "name": "stdout",
          "text": [
            "1 ИИ приведет человечество к катастрофе? Дело в экологии, а не сверхразуме\n",
            "2 ИИ приведет человечество к процветанию?\n",
            "3 Врет и не краснеет: o1 от OpenAI поймали на лжи и манипуляциях\n",
            "4 OpenAI выпустила ИИ для решения действительно сложных проблем\n",
            "5 Adobe представила ИИ для генерации видео\n",
            "6 ИИскусство: новые возможности или хождение по кругу?\n",
            "7 Google научила ИИ диагностировать болезни по звукам дыхания\n",
            "8 Нейросеть восстановит второй том «Мертвых душ»\n",
            "9 В НИИ бетона разрабатывают нейросеть для обнаружения дефектов в строящихся зданиях.\n",
            "10 GPT-4o запретили петь и эротично стонать\n"
          ]
        }
      ]
    }
  ]
}