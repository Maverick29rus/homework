{
 "cells": [
  {
   "cell_type": "code",
   "execution_count": 1,
   "metadata": {},
   "outputs": [],
   "source": [
    "# Загрузим все необходимые библиотеки\n",
    "# import numpy as np\n",
    "import pandas as pd\n",
    "\n",
    "# import plotly as py\n",
    "# import plotly.io as pio\n",
    "import plotly.graph_objects as go\n",
    "import plotly.express as px\n",
    "from plotly.subplots import make_subplots\n",
    "# from plotly.offline import download_plotlyjs, init_notebook_mode, plot, iplot\n"
   ]
  },
  {
   "cell_type": "markdown",
   "metadata": {
    "id": "TsJZEHzE24mt"
   },
   "source": [
    "# Задача 1.\n",
    "\n",
    "Для выполнения задачи будет использован csv файл “**vgsales_1.csv**”, содержащий данные о видеоиграх, выпущенных с 1980 по 2020 гг. Каждое из наблюдений в файле имеет 10 характеристик:\n",
    "\n",
    "* Name – название игры,\n",
    "* Platform – игровая платформа (PC, PSP, X360 и др.),\n",
    "* Year – год выпуска игры,\n",
    "* Genre – жанр игры,\n",
    "* Publisher – издатель игры,\n",
    "* NA_Sales – продажи в Северной Америке (в миллионах),\n",
    "* EU_Sales – продажи в Европе (в миллионах),\n",
    "* JP_Sales – продажи в Японии (в миллионах),\n",
    "* Other_Sales – продажи в остальных странах мира (в миллионах),\n",
    "* Global_Sales – объем продаж по всему миру.\n",
    "\n",
    "Загрузите файл «vgsales_1.csv» в объект DataFrame, рассчитайте необходимые показатели и визуализируйте информацию, используя функции любой библиотеки для визуализации данных.\n",
    "\n",
    "**Задание:**\n",
    "\n",
    "1. Ответь на вопрос: игры каких жанров были наиболее популярны до 2000 года, а какие после?\n",
    "\n",
    "2. Оцени популярность жанров по количеству выпущенных игр и по объему продаж по всему миру. Для визуализации полученных результатов используй столбчатые диаграммы.\n",
    "\n",
    "**Примечание.** Одна и та же игра может встречаться в выборке несколько раз, т.к. она может быть выпущена на нескольких платформах.\n",
    "\n",
    "1. **Отобрази** на графике общее число видеоигр, выпущенных в каждом году.\n",
    "2. **Определи** трех издателей, выпустивших наибольшее количество видеоигр. Изобрази количество выпущенных издателями видеоигр для каждой платформы на столбчатой диаграмме (можно использовать диаграмму с накоплением).\n",
    "3. **Отобрази** на круговых диаграммах доли суммарного объема продаж с 1980 г. до 2000 г. и с 2000 г. до 2020 г. в Северной Америке, Европе, Японии (также для построения корректных диаграмм используйте столбец “Other Sales”) от объема продаж по всему миру.\n",
    "\n",
    "Файл «vgsales_1.csv» можно скачать по ссылке:\n",
    "\n",
    "https://drive.google.com/file/d/1XV9IZ8cGArgCO9VkGId_IW2fewhg_tLN/view"
   ]
  },
  {
   "cell_type": "code",
   "execution_count": 2,
   "metadata": {},
   "outputs": [
    {
     "ename": "KeyboardInterrupt",
     "evalue": "",
     "output_type": "error",
     "traceback": [
      "\u001b[0;31m---------------------------------------------------------------------------\u001b[0m",
      "\u001b[0;31mKeyboardInterrupt\u001b[0m                         Traceback (most recent call last)",
      "Cell \u001b[0;32mIn[2], line 3\u001b[0m\n\u001b[1;32m      1\u001b[0m url \u001b[38;5;241m=\u001b[39m \u001b[38;5;124m'\u001b[39m\u001b[38;5;124mhttps://drive.google.com/file/d/1XV9IZ8cGArgCO9VkGId_IW2fewhg_tLN/view\u001b[39m\u001b[38;5;124m'\u001b[39m\n\u001b[1;32m      2\u001b[0m url \u001b[38;5;241m=\u001b[39m \u001b[38;5;124m'\u001b[39m\u001b[38;5;124mhttps://drive.google.com/uc?id=\u001b[39m\u001b[38;5;124m'\u001b[39m \u001b[38;5;241m+\u001b[39m url\u001b[38;5;241m.\u001b[39msplit(\u001b[38;5;124m'\u001b[39m\u001b[38;5;124m/\u001b[39m\u001b[38;5;124m'\u001b[39m)[\u001b[38;5;241m-\u001b[39m\u001b[38;5;241m2\u001b[39m]\n\u001b[0;32m----> 3\u001b[0m df_game \u001b[38;5;241m=\u001b[39m pd\u001b[38;5;241m.\u001b[39mread_csv(url)\n\u001b[1;32m      4\u001b[0m display(df_game\u001b[38;5;241m.\u001b[39mhead(), df_game\u001b[38;5;241m.\u001b[39minfo())\n",
      "File \u001b[0;32m/opt/anaconda3/lib/python3.12/site-packages/pandas/io/parsers/readers.py:1026\u001b[0m, in \u001b[0;36mread_csv\u001b[0;34m(filepath_or_buffer, sep, delimiter, header, names, index_col, usecols, dtype, engine, converters, true_values, false_values, skipinitialspace, skiprows, skipfooter, nrows, na_values, keep_default_na, na_filter, verbose, skip_blank_lines, parse_dates, infer_datetime_format, keep_date_col, date_parser, date_format, dayfirst, cache_dates, iterator, chunksize, compression, thousands, decimal, lineterminator, quotechar, quoting, doublequote, escapechar, comment, encoding, encoding_errors, dialect, on_bad_lines, delim_whitespace, low_memory, memory_map, float_precision, storage_options, dtype_backend)\u001b[0m\n\u001b[1;32m   1013\u001b[0m kwds_defaults \u001b[38;5;241m=\u001b[39m _refine_defaults_read(\n\u001b[1;32m   1014\u001b[0m     dialect,\n\u001b[1;32m   1015\u001b[0m     delimiter,\n\u001b[0;32m   (...)\u001b[0m\n\u001b[1;32m   1022\u001b[0m     dtype_backend\u001b[38;5;241m=\u001b[39mdtype_backend,\n\u001b[1;32m   1023\u001b[0m )\n\u001b[1;32m   1024\u001b[0m kwds\u001b[38;5;241m.\u001b[39mupdate(kwds_defaults)\n\u001b[0;32m-> 1026\u001b[0m \u001b[38;5;28;01mreturn\u001b[39;00m _read(filepath_or_buffer, kwds)\n",
      "File \u001b[0;32m/opt/anaconda3/lib/python3.12/site-packages/pandas/io/parsers/readers.py:620\u001b[0m, in \u001b[0;36m_read\u001b[0;34m(filepath_or_buffer, kwds)\u001b[0m\n\u001b[1;32m    617\u001b[0m _validate_names(kwds\u001b[38;5;241m.\u001b[39mget(\u001b[38;5;124m\"\u001b[39m\u001b[38;5;124mnames\u001b[39m\u001b[38;5;124m\"\u001b[39m, \u001b[38;5;28;01mNone\u001b[39;00m))\n\u001b[1;32m    619\u001b[0m \u001b[38;5;66;03m# Create the parser.\u001b[39;00m\n\u001b[0;32m--> 620\u001b[0m parser \u001b[38;5;241m=\u001b[39m TextFileReader(filepath_or_buffer, \u001b[38;5;241m*\u001b[39m\u001b[38;5;241m*\u001b[39mkwds)\n\u001b[1;32m    622\u001b[0m \u001b[38;5;28;01mif\u001b[39;00m chunksize \u001b[38;5;129;01mor\u001b[39;00m iterator:\n\u001b[1;32m    623\u001b[0m     \u001b[38;5;28;01mreturn\u001b[39;00m parser\n",
      "File \u001b[0;32m/opt/anaconda3/lib/python3.12/site-packages/pandas/io/parsers/readers.py:1620\u001b[0m, in \u001b[0;36mTextFileReader.__init__\u001b[0;34m(self, f, engine, **kwds)\u001b[0m\n\u001b[1;32m   1617\u001b[0m     \u001b[38;5;28mself\u001b[39m\u001b[38;5;241m.\u001b[39moptions[\u001b[38;5;124m\"\u001b[39m\u001b[38;5;124mhas_index_names\u001b[39m\u001b[38;5;124m\"\u001b[39m] \u001b[38;5;241m=\u001b[39m kwds[\u001b[38;5;124m\"\u001b[39m\u001b[38;5;124mhas_index_names\u001b[39m\u001b[38;5;124m\"\u001b[39m]\n\u001b[1;32m   1619\u001b[0m \u001b[38;5;28mself\u001b[39m\u001b[38;5;241m.\u001b[39mhandles: IOHandles \u001b[38;5;241m|\u001b[39m \u001b[38;5;28;01mNone\u001b[39;00m \u001b[38;5;241m=\u001b[39m \u001b[38;5;28;01mNone\u001b[39;00m\n\u001b[0;32m-> 1620\u001b[0m \u001b[38;5;28mself\u001b[39m\u001b[38;5;241m.\u001b[39m_engine \u001b[38;5;241m=\u001b[39m \u001b[38;5;28mself\u001b[39m\u001b[38;5;241m.\u001b[39m_make_engine(f, \u001b[38;5;28mself\u001b[39m\u001b[38;5;241m.\u001b[39mengine)\n",
      "File \u001b[0;32m/opt/anaconda3/lib/python3.12/site-packages/pandas/io/parsers/readers.py:1880\u001b[0m, in \u001b[0;36mTextFileReader._make_engine\u001b[0;34m(self, f, engine)\u001b[0m\n\u001b[1;32m   1878\u001b[0m     \u001b[38;5;28;01mif\u001b[39;00m \u001b[38;5;124m\"\u001b[39m\u001b[38;5;124mb\u001b[39m\u001b[38;5;124m\"\u001b[39m \u001b[38;5;129;01mnot\u001b[39;00m \u001b[38;5;129;01min\u001b[39;00m mode:\n\u001b[1;32m   1879\u001b[0m         mode \u001b[38;5;241m+\u001b[39m\u001b[38;5;241m=\u001b[39m \u001b[38;5;124m\"\u001b[39m\u001b[38;5;124mb\u001b[39m\u001b[38;5;124m\"\u001b[39m\n\u001b[0;32m-> 1880\u001b[0m \u001b[38;5;28mself\u001b[39m\u001b[38;5;241m.\u001b[39mhandles \u001b[38;5;241m=\u001b[39m get_handle(\n\u001b[1;32m   1881\u001b[0m     f,\n\u001b[1;32m   1882\u001b[0m     mode,\n\u001b[1;32m   1883\u001b[0m     encoding\u001b[38;5;241m=\u001b[39m\u001b[38;5;28mself\u001b[39m\u001b[38;5;241m.\u001b[39moptions\u001b[38;5;241m.\u001b[39mget(\u001b[38;5;124m\"\u001b[39m\u001b[38;5;124mencoding\u001b[39m\u001b[38;5;124m\"\u001b[39m, \u001b[38;5;28;01mNone\u001b[39;00m),\n\u001b[1;32m   1884\u001b[0m     compression\u001b[38;5;241m=\u001b[39m\u001b[38;5;28mself\u001b[39m\u001b[38;5;241m.\u001b[39moptions\u001b[38;5;241m.\u001b[39mget(\u001b[38;5;124m\"\u001b[39m\u001b[38;5;124mcompression\u001b[39m\u001b[38;5;124m\"\u001b[39m, \u001b[38;5;28;01mNone\u001b[39;00m),\n\u001b[1;32m   1885\u001b[0m     memory_map\u001b[38;5;241m=\u001b[39m\u001b[38;5;28mself\u001b[39m\u001b[38;5;241m.\u001b[39moptions\u001b[38;5;241m.\u001b[39mget(\u001b[38;5;124m\"\u001b[39m\u001b[38;5;124mmemory_map\u001b[39m\u001b[38;5;124m\"\u001b[39m, \u001b[38;5;28;01mFalse\u001b[39;00m),\n\u001b[1;32m   1886\u001b[0m     is_text\u001b[38;5;241m=\u001b[39mis_text,\n\u001b[1;32m   1887\u001b[0m     errors\u001b[38;5;241m=\u001b[39m\u001b[38;5;28mself\u001b[39m\u001b[38;5;241m.\u001b[39moptions\u001b[38;5;241m.\u001b[39mget(\u001b[38;5;124m\"\u001b[39m\u001b[38;5;124mencoding_errors\u001b[39m\u001b[38;5;124m\"\u001b[39m, \u001b[38;5;124m\"\u001b[39m\u001b[38;5;124mstrict\u001b[39m\u001b[38;5;124m\"\u001b[39m),\n\u001b[1;32m   1888\u001b[0m     storage_options\u001b[38;5;241m=\u001b[39m\u001b[38;5;28mself\u001b[39m\u001b[38;5;241m.\u001b[39moptions\u001b[38;5;241m.\u001b[39mget(\u001b[38;5;124m\"\u001b[39m\u001b[38;5;124mstorage_options\u001b[39m\u001b[38;5;124m\"\u001b[39m, \u001b[38;5;28;01mNone\u001b[39;00m),\n\u001b[1;32m   1889\u001b[0m )\n\u001b[1;32m   1890\u001b[0m \u001b[38;5;28;01massert\u001b[39;00m \u001b[38;5;28mself\u001b[39m\u001b[38;5;241m.\u001b[39mhandles \u001b[38;5;129;01mis\u001b[39;00m \u001b[38;5;129;01mnot\u001b[39;00m \u001b[38;5;28;01mNone\u001b[39;00m\n\u001b[1;32m   1891\u001b[0m f \u001b[38;5;241m=\u001b[39m \u001b[38;5;28mself\u001b[39m\u001b[38;5;241m.\u001b[39mhandles\u001b[38;5;241m.\u001b[39mhandle\n",
      "File \u001b[0;32m/opt/anaconda3/lib/python3.12/site-packages/pandas/io/common.py:728\u001b[0m, in \u001b[0;36mget_handle\u001b[0;34m(path_or_buf, mode, encoding, compression, memory_map, is_text, errors, storage_options)\u001b[0m\n\u001b[1;32m    725\u001b[0m     codecs\u001b[38;5;241m.\u001b[39mlookup_error(errors)\n\u001b[1;32m    727\u001b[0m \u001b[38;5;66;03m# open URLs\u001b[39;00m\n\u001b[0;32m--> 728\u001b[0m ioargs \u001b[38;5;241m=\u001b[39m _get_filepath_or_buffer(\n\u001b[1;32m    729\u001b[0m     path_or_buf,\n\u001b[1;32m    730\u001b[0m     encoding\u001b[38;5;241m=\u001b[39mencoding,\n\u001b[1;32m    731\u001b[0m     compression\u001b[38;5;241m=\u001b[39mcompression,\n\u001b[1;32m    732\u001b[0m     mode\u001b[38;5;241m=\u001b[39mmode,\n\u001b[1;32m    733\u001b[0m     storage_options\u001b[38;5;241m=\u001b[39mstorage_options,\n\u001b[1;32m    734\u001b[0m )\n\u001b[1;32m    736\u001b[0m handle \u001b[38;5;241m=\u001b[39m ioargs\u001b[38;5;241m.\u001b[39mfilepath_or_buffer\n\u001b[1;32m    737\u001b[0m handles: \u001b[38;5;28mlist\u001b[39m[BaseBuffer]\n",
      "File \u001b[0;32m/opt/anaconda3/lib/python3.12/site-packages/pandas/io/common.py:384\u001b[0m, in \u001b[0;36m_get_filepath_or_buffer\u001b[0;34m(filepath_or_buffer, encoding, compression, mode, storage_options)\u001b[0m\n\u001b[1;32m    382\u001b[0m \u001b[38;5;66;03m# assuming storage_options is to be interpreted as headers\u001b[39;00m\n\u001b[1;32m    383\u001b[0m req_info \u001b[38;5;241m=\u001b[39m urllib\u001b[38;5;241m.\u001b[39mrequest\u001b[38;5;241m.\u001b[39mRequest(filepath_or_buffer, headers\u001b[38;5;241m=\u001b[39mstorage_options)\n\u001b[0;32m--> 384\u001b[0m \u001b[38;5;28;01mwith\u001b[39;00m urlopen(req_info) \u001b[38;5;28;01mas\u001b[39;00m req:\n\u001b[1;32m    385\u001b[0m     content_encoding \u001b[38;5;241m=\u001b[39m req\u001b[38;5;241m.\u001b[39mheaders\u001b[38;5;241m.\u001b[39mget(\u001b[38;5;124m\"\u001b[39m\u001b[38;5;124mContent-Encoding\u001b[39m\u001b[38;5;124m\"\u001b[39m, \u001b[38;5;28;01mNone\u001b[39;00m)\n\u001b[1;32m    386\u001b[0m     \u001b[38;5;28;01mif\u001b[39;00m content_encoding \u001b[38;5;241m==\u001b[39m \u001b[38;5;124m\"\u001b[39m\u001b[38;5;124mgzip\u001b[39m\u001b[38;5;124m\"\u001b[39m:\n\u001b[1;32m    387\u001b[0m         \u001b[38;5;66;03m# Override compression based on Content-Encoding header\u001b[39;00m\n",
      "File \u001b[0;32m/opt/anaconda3/lib/python3.12/site-packages/pandas/io/common.py:289\u001b[0m, in \u001b[0;36murlopen\u001b[0;34m(*args, **kwargs)\u001b[0m\n\u001b[1;32m    283\u001b[0m \u001b[38;5;250m\u001b[39m\u001b[38;5;124;03m\"\"\"\u001b[39;00m\n\u001b[1;32m    284\u001b[0m \u001b[38;5;124;03mLazy-import wrapper for stdlib urlopen, as that imports a big chunk of\u001b[39;00m\n\u001b[1;32m    285\u001b[0m \u001b[38;5;124;03mthe stdlib.\u001b[39;00m\n\u001b[1;32m    286\u001b[0m \u001b[38;5;124;03m\"\"\"\u001b[39;00m\n\u001b[1;32m    287\u001b[0m \u001b[38;5;28;01mimport\u001b[39;00m \u001b[38;5;21;01murllib\u001b[39;00m\u001b[38;5;21;01m.\u001b[39;00m\u001b[38;5;21;01mrequest\u001b[39;00m\n\u001b[0;32m--> 289\u001b[0m \u001b[38;5;28;01mreturn\u001b[39;00m urllib\u001b[38;5;241m.\u001b[39mrequest\u001b[38;5;241m.\u001b[39murlopen(\u001b[38;5;241m*\u001b[39margs, \u001b[38;5;241m*\u001b[39m\u001b[38;5;241m*\u001b[39mkwargs)\n",
      "File \u001b[0;32m/opt/anaconda3/lib/python3.12/urllib/request.py:215\u001b[0m, in \u001b[0;36murlopen\u001b[0;34m(url, data, timeout, cafile, capath, cadefault, context)\u001b[0m\n\u001b[1;32m    213\u001b[0m \u001b[38;5;28;01melse\u001b[39;00m:\n\u001b[1;32m    214\u001b[0m     opener \u001b[38;5;241m=\u001b[39m _opener\n\u001b[0;32m--> 215\u001b[0m \u001b[38;5;28;01mreturn\u001b[39;00m opener\u001b[38;5;241m.\u001b[39mopen(url, data, timeout)\n",
      "File \u001b[0;32m/opt/anaconda3/lib/python3.12/urllib/request.py:515\u001b[0m, in \u001b[0;36mOpenerDirector.open\u001b[0;34m(self, fullurl, data, timeout)\u001b[0m\n\u001b[1;32m    512\u001b[0m     req \u001b[38;5;241m=\u001b[39m meth(req)\n\u001b[1;32m    514\u001b[0m sys\u001b[38;5;241m.\u001b[39maudit(\u001b[38;5;124m'\u001b[39m\u001b[38;5;124murllib.Request\u001b[39m\u001b[38;5;124m'\u001b[39m, req\u001b[38;5;241m.\u001b[39mfull_url, req\u001b[38;5;241m.\u001b[39mdata, req\u001b[38;5;241m.\u001b[39mheaders, req\u001b[38;5;241m.\u001b[39mget_method())\n\u001b[0;32m--> 515\u001b[0m response \u001b[38;5;241m=\u001b[39m \u001b[38;5;28mself\u001b[39m\u001b[38;5;241m.\u001b[39m_open(req, data)\n\u001b[1;32m    517\u001b[0m \u001b[38;5;66;03m# post-process response\u001b[39;00m\n\u001b[1;32m    518\u001b[0m meth_name \u001b[38;5;241m=\u001b[39m protocol\u001b[38;5;241m+\u001b[39m\u001b[38;5;124m\"\u001b[39m\u001b[38;5;124m_response\u001b[39m\u001b[38;5;124m\"\u001b[39m\n",
      "File \u001b[0;32m/opt/anaconda3/lib/python3.12/urllib/request.py:532\u001b[0m, in \u001b[0;36mOpenerDirector._open\u001b[0;34m(self, req, data)\u001b[0m\n\u001b[1;32m    529\u001b[0m     \u001b[38;5;28;01mreturn\u001b[39;00m result\n\u001b[1;32m    531\u001b[0m protocol \u001b[38;5;241m=\u001b[39m req\u001b[38;5;241m.\u001b[39mtype\n\u001b[0;32m--> 532\u001b[0m result \u001b[38;5;241m=\u001b[39m \u001b[38;5;28mself\u001b[39m\u001b[38;5;241m.\u001b[39m_call_chain(\u001b[38;5;28mself\u001b[39m\u001b[38;5;241m.\u001b[39mhandle_open, protocol, protocol \u001b[38;5;241m+\u001b[39m\n\u001b[1;32m    533\u001b[0m                           \u001b[38;5;124m'\u001b[39m\u001b[38;5;124m_open\u001b[39m\u001b[38;5;124m'\u001b[39m, req)\n\u001b[1;32m    534\u001b[0m \u001b[38;5;28;01mif\u001b[39;00m result:\n\u001b[1;32m    535\u001b[0m     \u001b[38;5;28;01mreturn\u001b[39;00m result\n",
      "File \u001b[0;32m/opt/anaconda3/lib/python3.12/urllib/request.py:492\u001b[0m, in \u001b[0;36mOpenerDirector._call_chain\u001b[0;34m(self, chain, kind, meth_name, *args)\u001b[0m\n\u001b[1;32m    490\u001b[0m \u001b[38;5;28;01mfor\u001b[39;00m handler \u001b[38;5;129;01min\u001b[39;00m handlers:\n\u001b[1;32m    491\u001b[0m     func \u001b[38;5;241m=\u001b[39m \u001b[38;5;28mgetattr\u001b[39m(handler, meth_name)\n\u001b[0;32m--> 492\u001b[0m     result \u001b[38;5;241m=\u001b[39m func(\u001b[38;5;241m*\u001b[39margs)\n\u001b[1;32m    493\u001b[0m     \u001b[38;5;28;01mif\u001b[39;00m result \u001b[38;5;129;01mis\u001b[39;00m \u001b[38;5;129;01mnot\u001b[39;00m \u001b[38;5;28;01mNone\u001b[39;00m:\n\u001b[1;32m    494\u001b[0m         \u001b[38;5;28;01mreturn\u001b[39;00m result\n",
      "File \u001b[0;32m/opt/anaconda3/lib/python3.12/urllib/request.py:1392\u001b[0m, in \u001b[0;36mHTTPSHandler.https_open\u001b[0;34m(self, req)\u001b[0m\n\u001b[1;32m   1391\u001b[0m \u001b[38;5;28;01mdef\u001b[39;00m \u001b[38;5;21mhttps_open\u001b[39m(\u001b[38;5;28mself\u001b[39m, req):\n\u001b[0;32m-> 1392\u001b[0m     \u001b[38;5;28;01mreturn\u001b[39;00m \u001b[38;5;28mself\u001b[39m\u001b[38;5;241m.\u001b[39mdo_open(http\u001b[38;5;241m.\u001b[39mclient\u001b[38;5;241m.\u001b[39mHTTPSConnection, req,\n\u001b[1;32m   1393\u001b[0m                         context\u001b[38;5;241m=\u001b[39m\u001b[38;5;28mself\u001b[39m\u001b[38;5;241m.\u001b[39m_context)\n",
      "File \u001b[0;32m/opt/anaconda3/lib/python3.12/urllib/request.py:1344\u001b[0m, in \u001b[0;36mAbstractHTTPHandler.do_open\u001b[0;34m(self, http_class, req, **http_conn_args)\u001b[0m\n\u001b[1;32m   1342\u001b[0m \u001b[38;5;28;01mtry\u001b[39;00m:\n\u001b[1;32m   1343\u001b[0m     \u001b[38;5;28;01mtry\u001b[39;00m:\n\u001b[0;32m-> 1344\u001b[0m         h\u001b[38;5;241m.\u001b[39mrequest(req\u001b[38;5;241m.\u001b[39mget_method(), req\u001b[38;5;241m.\u001b[39mselector, req\u001b[38;5;241m.\u001b[39mdata, headers,\n\u001b[1;32m   1345\u001b[0m                   encode_chunked\u001b[38;5;241m=\u001b[39mreq\u001b[38;5;241m.\u001b[39mhas_header(\u001b[38;5;124m'\u001b[39m\u001b[38;5;124mTransfer-encoding\u001b[39m\u001b[38;5;124m'\u001b[39m))\n\u001b[1;32m   1346\u001b[0m     \u001b[38;5;28;01mexcept\u001b[39;00m \u001b[38;5;167;01mOSError\u001b[39;00m \u001b[38;5;28;01mas\u001b[39;00m err: \u001b[38;5;66;03m# timeout error\u001b[39;00m\n\u001b[1;32m   1347\u001b[0m         \u001b[38;5;28;01mraise\u001b[39;00m URLError(err)\n",
      "File \u001b[0;32m/opt/anaconda3/lib/python3.12/http/client.py:1331\u001b[0m, in \u001b[0;36mHTTPConnection.request\u001b[0;34m(self, method, url, body, headers, encode_chunked)\u001b[0m\n\u001b[1;32m   1328\u001b[0m \u001b[38;5;28;01mdef\u001b[39;00m \u001b[38;5;21mrequest\u001b[39m(\u001b[38;5;28mself\u001b[39m, method, url, body\u001b[38;5;241m=\u001b[39m\u001b[38;5;28;01mNone\u001b[39;00m, headers\u001b[38;5;241m=\u001b[39m{}, \u001b[38;5;241m*\u001b[39m,\n\u001b[1;32m   1329\u001b[0m             encode_chunked\u001b[38;5;241m=\u001b[39m\u001b[38;5;28;01mFalse\u001b[39;00m):\n\u001b[1;32m   1330\u001b[0m \u001b[38;5;250m    \u001b[39m\u001b[38;5;124;03m\"\"\"Send a complete request to the server.\"\"\"\u001b[39;00m\n\u001b[0;32m-> 1331\u001b[0m     \u001b[38;5;28mself\u001b[39m\u001b[38;5;241m.\u001b[39m_send_request(method, url, body, headers, encode_chunked)\n",
      "File \u001b[0;32m/opt/anaconda3/lib/python3.12/http/client.py:1377\u001b[0m, in \u001b[0;36mHTTPConnection._send_request\u001b[0;34m(self, method, url, body, headers, encode_chunked)\u001b[0m\n\u001b[1;32m   1373\u001b[0m \u001b[38;5;28;01mif\u001b[39;00m \u001b[38;5;28misinstance\u001b[39m(body, \u001b[38;5;28mstr\u001b[39m):\n\u001b[1;32m   1374\u001b[0m     \u001b[38;5;66;03m# RFC 2616 Section 3.7.1 says that text default has a\u001b[39;00m\n\u001b[1;32m   1375\u001b[0m     \u001b[38;5;66;03m# default charset of iso-8859-1.\u001b[39;00m\n\u001b[1;32m   1376\u001b[0m     body \u001b[38;5;241m=\u001b[39m _encode(body, \u001b[38;5;124m'\u001b[39m\u001b[38;5;124mbody\u001b[39m\u001b[38;5;124m'\u001b[39m)\n\u001b[0;32m-> 1377\u001b[0m \u001b[38;5;28mself\u001b[39m\u001b[38;5;241m.\u001b[39mendheaders(body, encode_chunked\u001b[38;5;241m=\u001b[39mencode_chunked)\n",
      "File \u001b[0;32m/opt/anaconda3/lib/python3.12/http/client.py:1326\u001b[0m, in \u001b[0;36mHTTPConnection.endheaders\u001b[0;34m(self, message_body, encode_chunked)\u001b[0m\n\u001b[1;32m   1324\u001b[0m \u001b[38;5;28;01melse\u001b[39;00m:\n\u001b[1;32m   1325\u001b[0m     \u001b[38;5;28;01mraise\u001b[39;00m CannotSendHeader()\n\u001b[0;32m-> 1326\u001b[0m \u001b[38;5;28mself\u001b[39m\u001b[38;5;241m.\u001b[39m_send_output(message_body, encode_chunked\u001b[38;5;241m=\u001b[39mencode_chunked)\n",
      "File \u001b[0;32m/opt/anaconda3/lib/python3.12/http/client.py:1085\u001b[0m, in \u001b[0;36mHTTPConnection._send_output\u001b[0;34m(self, message_body, encode_chunked)\u001b[0m\n\u001b[1;32m   1083\u001b[0m msg \u001b[38;5;241m=\u001b[39m \u001b[38;5;124mb\u001b[39m\u001b[38;5;124m\"\u001b[39m\u001b[38;5;130;01m\\r\u001b[39;00m\u001b[38;5;130;01m\\n\u001b[39;00m\u001b[38;5;124m\"\u001b[39m\u001b[38;5;241m.\u001b[39mjoin(\u001b[38;5;28mself\u001b[39m\u001b[38;5;241m.\u001b[39m_buffer)\n\u001b[1;32m   1084\u001b[0m \u001b[38;5;28;01mdel\u001b[39;00m \u001b[38;5;28mself\u001b[39m\u001b[38;5;241m.\u001b[39m_buffer[:]\n\u001b[0;32m-> 1085\u001b[0m \u001b[38;5;28mself\u001b[39m\u001b[38;5;241m.\u001b[39msend(msg)\n\u001b[1;32m   1087\u001b[0m \u001b[38;5;28;01mif\u001b[39;00m message_body \u001b[38;5;129;01mis\u001b[39;00m \u001b[38;5;129;01mnot\u001b[39;00m \u001b[38;5;28;01mNone\u001b[39;00m:\n\u001b[1;32m   1088\u001b[0m \n\u001b[1;32m   1089\u001b[0m     \u001b[38;5;66;03m# create a consistent interface to message_body\u001b[39;00m\n\u001b[1;32m   1090\u001b[0m     \u001b[38;5;28;01mif\u001b[39;00m \u001b[38;5;28mhasattr\u001b[39m(message_body, \u001b[38;5;124m'\u001b[39m\u001b[38;5;124mread\u001b[39m\u001b[38;5;124m'\u001b[39m):\n\u001b[1;32m   1091\u001b[0m         \u001b[38;5;66;03m# Let file-like take precedence over byte-like.  This\u001b[39;00m\n\u001b[1;32m   1092\u001b[0m         \u001b[38;5;66;03m# is needed to allow the current position of mmap'ed\u001b[39;00m\n\u001b[1;32m   1093\u001b[0m         \u001b[38;5;66;03m# files to be taken into account.\u001b[39;00m\n",
      "File \u001b[0;32m/opt/anaconda3/lib/python3.12/http/client.py:1029\u001b[0m, in \u001b[0;36mHTTPConnection.send\u001b[0;34m(self, data)\u001b[0m\n\u001b[1;32m   1027\u001b[0m \u001b[38;5;28;01mif\u001b[39;00m \u001b[38;5;28mself\u001b[39m\u001b[38;5;241m.\u001b[39msock \u001b[38;5;129;01mis\u001b[39;00m \u001b[38;5;28;01mNone\u001b[39;00m:\n\u001b[1;32m   1028\u001b[0m     \u001b[38;5;28;01mif\u001b[39;00m \u001b[38;5;28mself\u001b[39m\u001b[38;5;241m.\u001b[39mauto_open:\n\u001b[0;32m-> 1029\u001b[0m         \u001b[38;5;28mself\u001b[39m\u001b[38;5;241m.\u001b[39mconnect()\n\u001b[1;32m   1030\u001b[0m     \u001b[38;5;28;01melse\u001b[39;00m:\n\u001b[1;32m   1031\u001b[0m         \u001b[38;5;28;01mraise\u001b[39;00m NotConnected()\n",
      "File \u001b[0;32m/opt/anaconda3/lib/python3.12/http/client.py:1465\u001b[0m, in \u001b[0;36mHTTPSConnection.connect\u001b[0;34m(self)\u001b[0m\n\u001b[1;32m   1462\u001b[0m \u001b[38;5;28;01mdef\u001b[39;00m \u001b[38;5;21mconnect\u001b[39m(\u001b[38;5;28mself\u001b[39m):\n\u001b[1;32m   1463\u001b[0m     \u001b[38;5;124m\"\u001b[39m\u001b[38;5;124mConnect to a host on a given (SSL) port.\u001b[39m\u001b[38;5;124m\"\u001b[39m\n\u001b[0;32m-> 1465\u001b[0m     \u001b[38;5;28msuper\u001b[39m()\u001b[38;5;241m.\u001b[39mconnect()\n\u001b[1;32m   1467\u001b[0m     \u001b[38;5;28;01mif\u001b[39;00m \u001b[38;5;28mself\u001b[39m\u001b[38;5;241m.\u001b[39m_tunnel_host:\n\u001b[1;32m   1468\u001b[0m         server_hostname \u001b[38;5;241m=\u001b[39m \u001b[38;5;28mself\u001b[39m\u001b[38;5;241m.\u001b[39m_tunnel_host\n",
      "File \u001b[0;32m/opt/anaconda3/lib/python3.12/http/client.py:995\u001b[0m, in \u001b[0;36mHTTPConnection.connect\u001b[0;34m(self)\u001b[0m\n\u001b[1;32m    993\u001b[0m \u001b[38;5;250m\u001b[39m\u001b[38;5;124;03m\"\"\"Connect to the host and port specified in __init__.\"\"\"\u001b[39;00m\n\u001b[1;32m    994\u001b[0m sys\u001b[38;5;241m.\u001b[39maudit(\u001b[38;5;124m\"\u001b[39m\u001b[38;5;124mhttp.client.connect\u001b[39m\u001b[38;5;124m\"\u001b[39m, \u001b[38;5;28mself\u001b[39m, \u001b[38;5;28mself\u001b[39m\u001b[38;5;241m.\u001b[39mhost, \u001b[38;5;28mself\u001b[39m\u001b[38;5;241m.\u001b[39mport)\n\u001b[0;32m--> 995\u001b[0m \u001b[38;5;28mself\u001b[39m\u001b[38;5;241m.\u001b[39msock \u001b[38;5;241m=\u001b[39m \u001b[38;5;28mself\u001b[39m\u001b[38;5;241m.\u001b[39m_create_connection(\n\u001b[1;32m    996\u001b[0m     (\u001b[38;5;28mself\u001b[39m\u001b[38;5;241m.\u001b[39mhost,\u001b[38;5;28mself\u001b[39m\u001b[38;5;241m.\u001b[39mport), \u001b[38;5;28mself\u001b[39m\u001b[38;5;241m.\u001b[39mtimeout, \u001b[38;5;28mself\u001b[39m\u001b[38;5;241m.\u001b[39msource_address)\n\u001b[1;32m    997\u001b[0m \u001b[38;5;66;03m# Might fail in OSs that don't implement TCP_NODELAY\u001b[39;00m\n\u001b[1;32m    998\u001b[0m \u001b[38;5;28;01mtry\u001b[39;00m:\n",
      "File \u001b[0;32m/opt/anaconda3/lib/python3.12/socket.py:837\u001b[0m, in \u001b[0;36mcreate_connection\u001b[0;34m(address, timeout, source_address, all_errors)\u001b[0m\n\u001b[1;32m    835\u001b[0m \u001b[38;5;28;01mif\u001b[39;00m source_address:\n\u001b[1;32m    836\u001b[0m     sock\u001b[38;5;241m.\u001b[39mbind(source_address)\n\u001b[0;32m--> 837\u001b[0m sock\u001b[38;5;241m.\u001b[39mconnect(sa)\n\u001b[1;32m    838\u001b[0m \u001b[38;5;66;03m# Break explicitly a reference cycle\u001b[39;00m\n\u001b[1;32m    839\u001b[0m exceptions\u001b[38;5;241m.\u001b[39mclear()\n",
      "\u001b[0;31mKeyboardInterrupt\u001b[0m: "
     ]
    }
   ],
   "source": [
    "url = 'https://drive.google.com/file/d/1XV9IZ8cGArgCO9VkGId_IW2fewhg_tLN/view'\n",
    "url = 'https://drive.google.com/uc?id=' + url.split('/')[-2]\n",
    "df_game = pd.read_csv(url)\n",
    "display(df_game.head(), df_game.info())\n"
   ]
  },
  {
   "cell_type": "code",
   "execution_count": 3,
   "metadata": {},
   "outputs": [
    {
     "name": "stdout",
     "output_type": "stream",
     "text": [
      "<class 'pandas.core.frame.DataFrame'>\n",
      "Index: 11493 entries, 0 to 16596\n",
      "Data columns (total 10 columns):\n",
      " #   Column        Non-Null Count  Dtype  \n",
      "---  ------        --------------  -----  \n",
      " 0   Name          11493 non-null  object \n",
      " 1   Platform      11493 non-null  object \n",
      " 2   Year          11328 non-null  float64\n",
      " 3   Genre         11493 non-null  object \n",
      " 4   Publisher     11442 non-null  object \n",
      " 5   NA_Sales      11493 non-null  float64\n",
      " 6   EU_Sales      11493 non-null  float64\n",
      " 7   JP_Sales      11493 non-null  float64\n",
      " 8   Other_Sales   11493 non-null  float64\n",
      " 9   Global_Sales  11493 non-null  float64\n",
      "dtypes: float64(6), object(4)\n",
      "memory usage: 987.7+ KB\n"
     ]
    }
   ],
   "source": [
    "# Создаем новый DF без дубликатов игр\n",
    "df_double = df_game.drop_duplicates('Name')\n",
    "df_double.info()\n"
   ]
  },
  {
   "cell_type": "code",
   "execution_count": 4,
   "metadata": {},
   "outputs": [],
   "source": [
    "df_before_2000 = df_double[df_double.Year < 2000].value_counts('Genre')\n",
    "df_after_2000 = df_double[df_double.Year >= 2000].value_counts('Genre')\n"
   ]
  },
  {
   "cell_type": "code",
   "execution_count": null,
   "metadata": {},
   "outputs": [
    {
     "data": {
      "application/vnd.plotly.v1+json": {
       "config": {
        "plotlyServerURL": "https://plot.ly"
       },
       "data": [
        {
         "type": "bar",
         "x": [
          "Sports",
          "Action",
          "Racing",
          "Role-Playing",
          "Fighting",
          "Shooter",
          "Platform",
          "Misc",
          "Strategy",
          "Adventure",
          "Simulation",
          "Puzzle"
         ],
         "xaxis": "x",
         "y": [
          300,
          207,
          180,
          170,
          165,
          152,
          145,
          115,
          113,
          94,
          81,
          79
         ],
         "yaxis": "y"
        },
        {
         "type": "bar",
         "x": [
          "Action",
          "Misc",
          "Sports",
          "Role-Playing",
          "Adventure",
          "Shooter",
          "Simulation",
          "Racing",
          "Strategy",
          "Fighting",
          "Platform",
          "Puzzle"
         ],
         "xaxis": "x2",
         "y": [
          1683,
          1198,
          1059,
          1035,
          946,
          650,
          631,
          577,
          462,
          440,
          435,
          411
         ],
         "yaxis": "y2"
        }
       ],
       "layout": {
        "annotations": [
         {
          "font": {
           "size": 16
          },
          "showarrow": false,
          "text": "Игры выпущенные до 2000 года",
          "x": 0.225,
          "xanchor": "center",
          "xref": "paper",
          "y": 1,
          "yanchor": "bottom",
          "yref": "paper"
         },
         {
          "font": {
           "size": 16
          },
          "showarrow": false,
          "text": "Игры выпущенные после 2000 года",
          "x": 0.775,
          "xanchor": "center",
          "xref": "paper",
          "y": 1,
          "yanchor": "bottom",
          "yref": "paper"
         }
        ],
        "margin": {
         "b": 30,
         "l": 10,
         "r": 10,
         "t": 40
        },
        "showlegend": false,
        "template": {
         "data": {
          "bar": [
           {
            "error_x": {
             "color": "#2a3f5f"
            },
            "error_y": {
             "color": "#2a3f5f"
            },
            "marker": {
             "line": {
              "color": "#E5ECF6",
              "width": 0.5
             },
             "pattern": {
              "fillmode": "overlay",
              "size": 10,
              "solidity": 0.2
             }
            },
            "type": "bar"
           }
          ],
          "barpolar": [
           {
            "marker": {
             "line": {
              "color": "#E5ECF6",
              "width": 0.5
             },
             "pattern": {
              "fillmode": "overlay",
              "size": 10,
              "solidity": 0.2
             }
            },
            "type": "barpolar"
           }
          ],
          "carpet": [
           {
            "aaxis": {
             "endlinecolor": "#2a3f5f",
             "gridcolor": "white",
             "linecolor": "white",
             "minorgridcolor": "white",
             "startlinecolor": "#2a3f5f"
            },
            "baxis": {
             "endlinecolor": "#2a3f5f",
             "gridcolor": "white",
             "linecolor": "white",
             "minorgridcolor": "white",
             "startlinecolor": "#2a3f5f"
            },
            "type": "carpet"
           }
          ],
          "choropleth": [
           {
            "colorbar": {
             "outlinewidth": 0,
             "ticks": ""
            },
            "type": "choropleth"
           }
          ],
          "contour": [
           {
            "colorbar": {
             "outlinewidth": 0,
             "ticks": ""
            },
            "colorscale": [
             [
              0,
              "#0d0887"
             ],
             [
              0.1111111111111111,
              "#46039f"
             ],
             [
              0.2222222222222222,
              "#7201a8"
             ],
             [
              0.3333333333333333,
              "#9c179e"
             ],
             [
              0.4444444444444444,
              "#bd3786"
             ],
             [
              0.5555555555555556,
              "#d8576b"
             ],
             [
              0.6666666666666666,
              "#ed7953"
             ],
             [
              0.7777777777777778,
              "#fb9f3a"
             ],
             [
              0.8888888888888888,
              "#fdca26"
             ],
             [
              1,
              "#f0f921"
             ]
            ],
            "type": "contour"
           }
          ],
          "contourcarpet": [
           {
            "colorbar": {
             "outlinewidth": 0,
             "ticks": ""
            },
            "type": "contourcarpet"
           }
          ],
          "heatmap": [
           {
            "colorbar": {
             "outlinewidth": 0,
             "ticks": ""
            },
            "colorscale": [
             [
              0,
              "#0d0887"
             ],
             [
              0.1111111111111111,
              "#46039f"
             ],
             [
              0.2222222222222222,
              "#7201a8"
             ],
             [
              0.3333333333333333,
              "#9c179e"
             ],
             [
              0.4444444444444444,
              "#bd3786"
             ],
             [
              0.5555555555555556,
              "#d8576b"
             ],
             [
              0.6666666666666666,
              "#ed7953"
             ],
             [
              0.7777777777777778,
              "#fb9f3a"
             ],
             [
              0.8888888888888888,
              "#fdca26"
             ],
             [
              1,
              "#f0f921"
             ]
            ],
            "type": "heatmap"
           }
          ],
          "heatmapgl": [
           {
            "colorbar": {
             "outlinewidth": 0,
             "ticks": ""
            },
            "colorscale": [
             [
              0,
              "#0d0887"
             ],
             [
              0.1111111111111111,
              "#46039f"
             ],
             [
              0.2222222222222222,
              "#7201a8"
             ],
             [
              0.3333333333333333,
              "#9c179e"
             ],
             [
              0.4444444444444444,
              "#bd3786"
             ],
             [
              0.5555555555555556,
              "#d8576b"
             ],
             [
              0.6666666666666666,
              "#ed7953"
             ],
             [
              0.7777777777777778,
              "#fb9f3a"
             ],
             [
              0.8888888888888888,
              "#fdca26"
             ],
             [
              1,
              "#f0f921"
             ]
            ],
            "type": "heatmapgl"
           }
          ],
          "histogram": [
           {
            "marker": {
             "pattern": {
              "fillmode": "overlay",
              "size": 10,
              "solidity": 0.2
             }
            },
            "type": "histogram"
           }
          ],
          "histogram2d": [
           {
            "colorbar": {
             "outlinewidth": 0,
             "ticks": ""
            },
            "colorscale": [
             [
              0,
              "#0d0887"
             ],
             [
              0.1111111111111111,
              "#46039f"
             ],
             [
              0.2222222222222222,
              "#7201a8"
             ],
             [
              0.3333333333333333,
              "#9c179e"
             ],
             [
              0.4444444444444444,
              "#bd3786"
             ],
             [
              0.5555555555555556,
              "#d8576b"
             ],
             [
              0.6666666666666666,
              "#ed7953"
             ],
             [
              0.7777777777777778,
              "#fb9f3a"
             ],
             [
              0.8888888888888888,
              "#fdca26"
             ],
             [
              1,
              "#f0f921"
             ]
            ],
            "type": "histogram2d"
           }
          ],
          "histogram2dcontour": [
           {
            "colorbar": {
             "outlinewidth": 0,
             "ticks": ""
            },
            "colorscale": [
             [
              0,
              "#0d0887"
             ],
             [
              0.1111111111111111,
              "#46039f"
             ],
             [
              0.2222222222222222,
              "#7201a8"
             ],
             [
              0.3333333333333333,
              "#9c179e"
             ],
             [
              0.4444444444444444,
              "#bd3786"
             ],
             [
              0.5555555555555556,
              "#d8576b"
             ],
             [
              0.6666666666666666,
              "#ed7953"
             ],
             [
              0.7777777777777778,
              "#fb9f3a"
             ],
             [
              0.8888888888888888,
              "#fdca26"
             ],
             [
              1,
              "#f0f921"
             ]
            ],
            "type": "histogram2dcontour"
           }
          ],
          "mesh3d": [
           {
            "colorbar": {
             "outlinewidth": 0,
             "ticks": ""
            },
            "type": "mesh3d"
           }
          ],
          "parcoords": [
           {
            "line": {
             "colorbar": {
              "outlinewidth": 0,
              "ticks": ""
             }
            },
            "type": "parcoords"
           }
          ],
          "pie": [
           {
            "automargin": true,
            "type": "pie"
           }
          ],
          "scatter": [
           {
            "fillpattern": {
             "fillmode": "overlay",
             "size": 10,
             "solidity": 0.2
            },
            "type": "scatter"
           }
          ],
          "scatter3d": [
           {
            "line": {
             "colorbar": {
              "outlinewidth": 0,
              "ticks": ""
             }
            },
            "marker": {
             "colorbar": {
              "outlinewidth": 0,
              "ticks": ""
             }
            },
            "type": "scatter3d"
           }
          ],
          "scattercarpet": [
           {
            "marker": {
             "colorbar": {
              "outlinewidth": 0,
              "ticks": ""
             }
            },
            "type": "scattercarpet"
           }
          ],
          "scattergeo": [
           {
            "marker": {
             "colorbar": {
              "outlinewidth": 0,
              "ticks": ""
             }
            },
            "type": "scattergeo"
           }
          ],
          "scattergl": [
           {
            "marker": {
             "colorbar": {
              "outlinewidth": 0,
              "ticks": ""
             }
            },
            "type": "scattergl"
           }
          ],
          "scattermapbox": [
           {
            "marker": {
             "colorbar": {
              "outlinewidth": 0,
              "ticks": ""
             }
            },
            "type": "scattermapbox"
           }
          ],
          "scatterpolar": [
           {
            "marker": {
             "colorbar": {
              "outlinewidth": 0,
              "ticks": ""
             }
            },
            "type": "scatterpolar"
           }
          ],
          "scatterpolargl": [
           {
            "marker": {
             "colorbar": {
              "outlinewidth": 0,
              "ticks": ""
             }
            },
            "type": "scatterpolargl"
           }
          ],
          "scatterternary": [
           {
            "marker": {
             "colorbar": {
              "outlinewidth": 0,
              "ticks": ""
             }
            },
            "type": "scatterternary"
           }
          ],
          "surface": [
           {
            "colorbar": {
             "outlinewidth": 0,
             "ticks": ""
            },
            "colorscale": [
             [
              0,
              "#0d0887"
             ],
             [
              0.1111111111111111,
              "#46039f"
             ],
             [
              0.2222222222222222,
              "#7201a8"
             ],
             [
              0.3333333333333333,
              "#9c179e"
             ],
             [
              0.4444444444444444,
              "#bd3786"
             ],
             [
              0.5555555555555556,
              "#d8576b"
             ],
             [
              0.6666666666666666,
              "#ed7953"
             ],
             [
              0.7777777777777778,
              "#fb9f3a"
             ],
             [
              0.8888888888888888,
              "#fdca26"
             ],
             [
              1,
              "#f0f921"
             ]
            ],
            "type": "surface"
           }
          ],
          "table": [
           {
            "cells": {
             "fill": {
              "color": "#EBF0F8"
             },
             "line": {
              "color": "white"
             }
            },
            "header": {
             "fill": {
              "color": "#C8D4E3"
             },
             "line": {
              "color": "white"
             }
            },
            "type": "table"
           }
          ]
         },
         "layout": {
          "annotationdefaults": {
           "arrowcolor": "#2a3f5f",
           "arrowhead": 0,
           "arrowwidth": 1
          },
          "autotypenumbers": "strict",
          "coloraxis": {
           "colorbar": {
            "outlinewidth": 0,
            "ticks": ""
           }
          },
          "colorscale": {
           "diverging": [
            [
             0,
             "#8e0152"
            ],
            [
             0.1,
             "#c51b7d"
            ],
            [
             0.2,
             "#de77ae"
            ],
            [
             0.3,
             "#f1b6da"
            ],
            [
             0.4,
             "#fde0ef"
            ],
            [
             0.5,
             "#f7f7f7"
            ],
            [
             0.6,
             "#e6f5d0"
            ],
            [
             0.7,
             "#b8e186"
            ],
            [
             0.8,
             "#7fbc41"
            ],
            [
             0.9,
             "#4d9221"
            ],
            [
             1,
             "#276419"
            ]
           ],
           "sequential": [
            [
             0,
             "#0d0887"
            ],
            [
             0.1111111111111111,
             "#46039f"
            ],
            [
             0.2222222222222222,
             "#7201a8"
            ],
            [
             0.3333333333333333,
             "#9c179e"
            ],
            [
             0.4444444444444444,
             "#bd3786"
            ],
            [
             0.5555555555555556,
             "#d8576b"
            ],
            [
             0.6666666666666666,
             "#ed7953"
            ],
            [
             0.7777777777777778,
             "#fb9f3a"
            ],
            [
             0.8888888888888888,
             "#fdca26"
            ],
            [
             1,
             "#f0f921"
            ]
           ],
           "sequentialminus": [
            [
             0,
             "#0d0887"
            ],
            [
             0.1111111111111111,
             "#46039f"
            ],
            [
             0.2222222222222222,
             "#7201a8"
            ],
            [
             0.3333333333333333,
             "#9c179e"
            ],
            [
             0.4444444444444444,
             "#bd3786"
            ],
            [
             0.5555555555555556,
             "#d8576b"
            ],
            [
             0.6666666666666666,
             "#ed7953"
            ],
            [
             0.7777777777777778,
             "#fb9f3a"
            ],
            [
             0.8888888888888888,
             "#fdca26"
            ],
            [
             1,
             "#f0f921"
            ]
           ]
          },
          "colorway": [
           "#636efa",
           "#EF553B",
           "#00cc96",
           "#ab63fa",
           "#FFA15A",
           "#19d3f3",
           "#FF6692",
           "#B6E880",
           "#FF97FF",
           "#FECB52"
          ],
          "font": {
           "color": "#2a3f5f"
          },
          "geo": {
           "bgcolor": "white",
           "lakecolor": "white",
           "landcolor": "#E5ECF6",
           "showlakes": true,
           "showland": true,
           "subunitcolor": "white"
          },
          "hoverlabel": {
           "align": "left"
          },
          "hovermode": "closest",
          "mapbox": {
           "style": "light"
          },
          "paper_bgcolor": "white",
          "plot_bgcolor": "#E5ECF6",
          "polar": {
           "angularaxis": {
            "gridcolor": "white",
            "linecolor": "white",
            "ticks": ""
           },
           "bgcolor": "#E5ECF6",
           "radialaxis": {
            "gridcolor": "white",
            "linecolor": "white",
            "ticks": ""
           }
          },
          "scene": {
           "xaxis": {
            "backgroundcolor": "#E5ECF6",
            "gridcolor": "white",
            "gridwidth": 2,
            "linecolor": "white",
            "showbackground": true,
            "ticks": "",
            "zerolinecolor": "white"
           },
           "yaxis": {
            "backgroundcolor": "#E5ECF6",
            "gridcolor": "white",
            "gridwidth": 2,
            "linecolor": "white",
            "showbackground": true,
            "ticks": "",
            "zerolinecolor": "white"
           },
           "zaxis": {
            "backgroundcolor": "#E5ECF6",
            "gridcolor": "white",
            "gridwidth": 2,
            "linecolor": "white",
            "showbackground": true,
            "ticks": "",
            "zerolinecolor": "white"
           }
          },
          "shapedefaults": {
           "line": {
            "color": "#2a3f5f"
           }
          },
          "ternary": {
           "aaxis": {
            "gridcolor": "white",
            "linecolor": "white",
            "ticks": ""
           },
           "baxis": {
            "gridcolor": "white",
            "linecolor": "white",
            "ticks": ""
           },
           "bgcolor": "#E5ECF6",
           "caxis": {
            "gridcolor": "white",
            "linecolor": "white",
            "ticks": ""
           }
          },
          "title": {
           "x": 0.05
          },
          "xaxis": {
           "automargin": true,
           "gridcolor": "white",
           "linecolor": "white",
           "ticks": "",
           "title": {
            "standoff": 15
           },
           "zerolinecolor": "white",
           "zerolinewidth": 2
          },
          "yaxis": {
           "automargin": true,
           "gridcolor": "white",
           "linecolor": "white",
           "ticks": "",
           "title": {
            "standoff": 15
           },
           "zerolinecolor": "white",
           "zerolinewidth": 2
          }
         }
        },
        "xaxis": {
         "anchor": "y",
         "domain": [
          0,
          0.45
         ]
        },
        "xaxis2": {
         "anchor": "y2",
         "domain": [
          0.55,
          1
         ]
        },
        "yaxis": {
         "anchor": "x",
         "domain": [
          0,
          1
         ]
        },
        "yaxis2": {
         "anchor": "x2",
         "domain": [
          0,
          1
         ]
        }
       }
      }
     },
     "metadata": {},
     "output_type": "display_data"
    }
   ],
   "source": [
    "fig = go.Figure()\n",
    "fig = make_subplots(rows=1, cols=2, subplot_titles=('Игры выпущенные до 2000 года',\n",
    "                                                    'Игры выпущенные после 2000 года')\n",
    "                    )\n",
    "fig.add_trace(go.Bar(x=df_before_2000.index,\n",
    "                     y=df_before_2000.values),\n",
    "              1, 1)\n",
    "fig.add_trace(go.Bar(x=df_after_2000.index,\n",
    "                     y=df_after_2000.values),\n",
    "              1, 2)\n",
    "fig.update_layout(showlegend=False,\n",
    "                  margin=dict(l=10, r=10, t=40, b=30)\n",
    "                  )\n",
    "fig.show()\n"
   ]
  },
  {
   "cell_type": "markdown",
   "metadata": {},
   "source": [
    "Вывод: До 2000 года наиболее популярны были игры жанров - **Спорт**, **Экшен**, **Гонки**, **Ролевые** и **Файтинги**. При этом самыми популярными с большим отрывом были **спортивные** игры. А после 2000 года они заняли четвертое место уступив первенство играм в жанре **Экшен**. Игры **прочих** жанров и **ролевые** игры заняли второе и третье мето соответственно. Так же интересно то, что **приключенческие** игры поднялись с 10 до 5 места, а **Файтинги** наоборот опустились с 5 на 10 место."
   ]
  },
  {
   "cell_type": "code",
   "execution_count": 6,
   "metadata": {},
   "outputs": [
    {
     "data": {
      "text/html": [
       "<div>\n",
       "<style scoped>\n",
       "    .dataframe tbody tr th:only-of-type {\n",
       "        vertical-align: middle;\n",
       "    }\n",
       "\n",
       "    .dataframe tbody tr th {\n",
       "        vertical-align: top;\n",
       "    }\n",
       "\n",
       "    .dataframe thead th {\n",
       "        text-align: right;\n",
       "    }\n",
       "</style>\n",
       "<table border=\"1\" class=\"dataframe\">\n",
       "  <thead>\n",
       "    <tr style=\"text-align: right;\">\n",
       "      <th></th>\n",
       "      <th>amount</th>\n",
       "      <th>sales</th>\n",
       "      <th>avg_sales</th>\n",
       "    </tr>\n",
       "    <tr>\n",
       "      <th>Genre</th>\n",
       "      <th></th>\n",
       "      <th></th>\n",
       "      <th></th>\n",
       "    </tr>\n",
       "  </thead>\n",
       "  <tbody>\n",
       "    <tr>\n",
       "      <th>Action</th>\n",
       "      <td>1923</td>\n",
       "      <td>1751.18</td>\n",
       "      <td>0.910650</td>\n",
       "    </tr>\n",
       "    <tr>\n",
       "      <th>Sports</th>\n",
       "      <td>1379</td>\n",
       "      <td>1330.93</td>\n",
       "      <td>0.965141</td>\n",
       "    </tr>\n",
       "    <tr>\n",
       "      <th>Misc</th>\n",
       "      <td>1327</td>\n",
       "      <td>809.96</td>\n",
       "      <td>0.610369</td>\n",
       "    </tr>\n",
       "    <tr>\n",
       "      <th>Role-Playing</th>\n",
       "      <td>1219</td>\n",
       "      <td>927.37</td>\n",
       "      <td>0.760763</td>\n",
       "    </tr>\n",
       "    <tr>\n",
       "      <th>Adventure</th>\n",
       "      <td>1048</td>\n",
       "      <td>239.04</td>\n",
       "      <td>0.228092</td>\n",
       "    </tr>\n",
       "  </tbody>\n",
       "</table>\n",
       "</div>"
      ],
      "text/plain": [
       "              amount    sales  avg_sales\n",
       "Genre                                   \n",
       "Action          1923  1751.18   0.910650\n",
       "Sports          1379  1330.93   0.965141\n",
       "Misc            1327   809.96   0.610369\n",
       "Role-Playing    1219   927.37   0.760763\n",
       "Adventure       1048   239.04   0.228092"
      ]
     },
     "execution_count": 6,
     "metadata": {},
     "output_type": "execute_result"
    }
   ],
   "source": [
    "# Создаем новый DF по жанрам\n",
    "df_genre = pd.DataFrame()\n",
    "df_genre['amount'] = df_double.value_counts('Genre')\n",
    "df_genre['sales'] = df_game.groupby('Genre')['Global_Sales'].sum()\n",
    "df_genre['avg_sales'] = df_genre.sales / df_genre.amount\n",
    "df_genre.head()\n"
   ]
  },
  {
   "cell_type": "code",
   "execution_count": null,
   "metadata": {},
   "outputs": [
    {
     "data": {
      "application/vnd.plotly.v1+json": {
       "config": {
        "plotlyServerURL": "https://plot.ly"
       },
       "data": [
        {
         "type": "bar",
         "x": [
          "Action",
          "Sports",
          "Misc",
          "Role-Playing",
          "Adventure",
          "Shooter",
          "Racing",
          "Simulation",
          "Fighting",
          "Platform",
          "Strategy",
          "Puzzle"
         ],
         "xaxis": "x",
         "y": [
          1923,
          1379,
          1327,
          1219,
          1048,
          817,
          772,
          726,
          612,
          589,
          582,
          499
         ],
         "yaxis": "y"
        },
        {
         "type": "bar",
         "x": [
          "Action",
          "Sports",
          "Misc",
          "Role-Playing",
          "Adventure",
          "Shooter",
          "Racing",
          "Simulation",
          "Fighting",
          "Platform",
          "Strategy",
          "Puzzle"
         ],
         "xaxis": "x2",
         "y": [
          1751.18,
          1330.93,
          809.96,
          927.37,
          239.04,
          1037.37,
          732.04,
          392.2,
          448.91,
          831.37,
          175.12,
          244.95
         ],
         "yaxis": "y2"
        }
       ],
       "layout": {
        "annotations": [
         {
          "font": {
           "size": 16
          },
          "showarrow": false,
          "text": "Количество выпущенных игр",
          "x": 0.225,
          "xanchor": "center",
          "xref": "paper",
          "y": 1,
          "yanchor": "bottom",
          "yref": "paper"
         },
         {
          "font": {
           "size": 16
          },
          "showarrow": false,
          "text": "Объем продаж (млн)",
          "x": 0.775,
          "xanchor": "center",
          "xref": "paper",
          "y": 1,
          "yanchor": "bottom",
          "yref": "paper"
         }
        ],
        "margin": {
         "b": 30,
         "l": 10,
         "r": 10,
         "t": 40
        },
        "showlegend": false,
        "template": {
         "data": {
          "bar": [
           {
            "error_x": {
             "color": "#2a3f5f"
            },
            "error_y": {
             "color": "#2a3f5f"
            },
            "marker": {
             "line": {
              "color": "#E5ECF6",
              "width": 0.5
             },
             "pattern": {
              "fillmode": "overlay",
              "size": 10,
              "solidity": 0.2
             }
            },
            "type": "bar"
           }
          ],
          "barpolar": [
           {
            "marker": {
             "line": {
              "color": "#E5ECF6",
              "width": 0.5
             },
             "pattern": {
              "fillmode": "overlay",
              "size": 10,
              "solidity": 0.2
             }
            },
            "type": "barpolar"
           }
          ],
          "carpet": [
           {
            "aaxis": {
             "endlinecolor": "#2a3f5f",
             "gridcolor": "white",
             "linecolor": "white",
             "minorgridcolor": "white",
             "startlinecolor": "#2a3f5f"
            },
            "baxis": {
             "endlinecolor": "#2a3f5f",
             "gridcolor": "white",
             "linecolor": "white",
             "minorgridcolor": "white",
             "startlinecolor": "#2a3f5f"
            },
            "type": "carpet"
           }
          ],
          "choropleth": [
           {
            "colorbar": {
             "outlinewidth": 0,
             "ticks": ""
            },
            "type": "choropleth"
           }
          ],
          "contour": [
           {
            "colorbar": {
             "outlinewidth": 0,
             "ticks": ""
            },
            "colorscale": [
             [
              0,
              "#0d0887"
             ],
             [
              0.1111111111111111,
              "#46039f"
             ],
             [
              0.2222222222222222,
              "#7201a8"
             ],
             [
              0.3333333333333333,
              "#9c179e"
             ],
             [
              0.4444444444444444,
              "#bd3786"
             ],
             [
              0.5555555555555556,
              "#d8576b"
             ],
             [
              0.6666666666666666,
              "#ed7953"
             ],
             [
              0.7777777777777778,
              "#fb9f3a"
             ],
             [
              0.8888888888888888,
              "#fdca26"
             ],
             [
              1,
              "#f0f921"
             ]
            ],
            "type": "contour"
           }
          ],
          "contourcarpet": [
           {
            "colorbar": {
             "outlinewidth": 0,
             "ticks": ""
            },
            "type": "contourcarpet"
           }
          ],
          "heatmap": [
           {
            "colorbar": {
             "outlinewidth": 0,
             "ticks": ""
            },
            "colorscale": [
             [
              0,
              "#0d0887"
             ],
             [
              0.1111111111111111,
              "#46039f"
             ],
             [
              0.2222222222222222,
              "#7201a8"
             ],
             [
              0.3333333333333333,
              "#9c179e"
             ],
             [
              0.4444444444444444,
              "#bd3786"
             ],
             [
              0.5555555555555556,
              "#d8576b"
             ],
             [
              0.6666666666666666,
              "#ed7953"
             ],
             [
              0.7777777777777778,
              "#fb9f3a"
             ],
             [
              0.8888888888888888,
              "#fdca26"
             ],
             [
              1,
              "#f0f921"
             ]
            ],
            "type": "heatmap"
           }
          ],
          "heatmapgl": [
           {
            "colorbar": {
             "outlinewidth": 0,
             "ticks": ""
            },
            "colorscale": [
             [
              0,
              "#0d0887"
             ],
             [
              0.1111111111111111,
              "#46039f"
             ],
             [
              0.2222222222222222,
              "#7201a8"
             ],
             [
              0.3333333333333333,
              "#9c179e"
             ],
             [
              0.4444444444444444,
              "#bd3786"
             ],
             [
              0.5555555555555556,
              "#d8576b"
             ],
             [
              0.6666666666666666,
              "#ed7953"
             ],
             [
              0.7777777777777778,
              "#fb9f3a"
             ],
             [
              0.8888888888888888,
              "#fdca26"
             ],
             [
              1,
              "#f0f921"
             ]
            ],
            "type": "heatmapgl"
           }
          ],
          "histogram": [
           {
            "marker": {
             "pattern": {
              "fillmode": "overlay",
              "size": 10,
              "solidity": 0.2
             }
            },
            "type": "histogram"
           }
          ],
          "histogram2d": [
           {
            "colorbar": {
             "outlinewidth": 0,
             "ticks": ""
            },
            "colorscale": [
             [
              0,
              "#0d0887"
             ],
             [
              0.1111111111111111,
              "#46039f"
             ],
             [
              0.2222222222222222,
              "#7201a8"
             ],
             [
              0.3333333333333333,
              "#9c179e"
             ],
             [
              0.4444444444444444,
              "#bd3786"
             ],
             [
              0.5555555555555556,
              "#d8576b"
             ],
             [
              0.6666666666666666,
              "#ed7953"
             ],
             [
              0.7777777777777778,
              "#fb9f3a"
             ],
             [
              0.8888888888888888,
              "#fdca26"
             ],
             [
              1,
              "#f0f921"
             ]
            ],
            "type": "histogram2d"
           }
          ],
          "histogram2dcontour": [
           {
            "colorbar": {
             "outlinewidth": 0,
             "ticks": ""
            },
            "colorscale": [
             [
              0,
              "#0d0887"
             ],
             [
              0.1111111111111111,
              "#46039f"
             ],
             [
              0.2222222222222222,
              "#7201a8"
             ],
             [
              0.3333333333333333,
              "#9c179e"
             ],
             [
              0.4444444444444444,
              "#bd3786"
             ],
             [
              0.5555555555555556,
              "#d8576b"
             ],
             [
              0.6666666666666666,
              "#ed7953"
             ],
             [
              0.7777777777777778,
              "#fb9f3a"
             ],
             [
              0.8888888888888888,
              "#fdca26"
             ],
             [
              1,
              "#f0f921"
             ]
            ],
            "type": "histogram2dcontour"
           }
          ],
          "mesh3d": [
           {
            "colorbar": {
             "outlinewidth": 0,
             "ticks": ""
            },
            "type": "mesh3d"
           }
          ],
          "parcoords": [
           {
            "line": {
             "colorbar": {
              "outlinewidth": 0,
              "ticks": ""
             }
            },
            "type": "parcoords"
           }
          ],
          "pie": [
           {
            "automargin": true,
            "type": "pie"
           }
          ],
          "scatter": [
           {
            "fillpattern": {
             "fillmode": "overlay",
             "size": 10,
             "solidity": 0.2
            },
            "type": "scatter"
           }
          ],
          "scatter3d": [
           {
            "line": {
             "colorbar": {
              "outlinewidth": 0,
              "ticks": ""
             }
            },
            "marker": {
             "colorbar": {
              "outlinewidth": 0,
              "ticks": ""
             }
            },
            "type": "scatter3d"
           }
          ],
          "scattercarpet": [
           {
            "marker": {
             "colorbar": {
              "outlinewidth": 0,
              "ticks": ""
             }
            },
            "type": "scattercarpet"
           }
          ],
          "scattergeo": [
           {
            "marker": {
             "colorbar": {
              "outlinewidth": 0,
              "ticks": ""
             }
            },
            "type": "scattergeo"
           }
          ],
          "scattergl": [
           {
            "marker": {
             "colorbar": {
              "outlinewidth": 0,
              "ticks": ""
             }
            },
            "type": "scattergl"
           }
          ],
          "scattermapbox": [
           {
            "marker": {
             "colorbar": {
              "outlinewidth": 0,
              "ticks": ""
             }
            },
            "type": "scattermapbox"
           }
          ],
          "scatterpolar": [
           {
            "marker": {
             "colorbar": {
              "outlinewidth": 0,
              "ticks": ""
             }
            },
            "type": "scatterpolar"
           }
          ],
          "scatterpolargl": [
           {
            "marker": {
             "colorbar": {
              "outlinewidth": 0,
              "ticks": ""
             }
            },
            "type": "scatterpolargl"
           }
          ],
          "scatterternary": [
           {
            "marker": {
             "colorbar": {
              "outlinewidth": 0,
              "ticks": ""
             }
            },
            "type": "scatterternary"
           }
          ],
          "surface": [
           {
            "colorbar": {
             "outlinewidth": 0,
             "ticks": ""
            },
            "colorscale": [
             [
              0,
              "#0d0887"
             ],
             [
              0.1111111111111111,
              "#46039f"
             ],
             [
              0.2222222222222222,
              "#7201a8"
             ],
             [
              0.3333333333333333,
              "#9c179e"
             ],
             [
              0.4444444444444444,
              "#bd3786"
             ],
             [
              0.5555555555555556,
              "#d8576b"
             ],
             [
              0.6666666666666666,
              "#ed7953"
             ],
             [
              0.7777777777777778,
              "#fb9f3a"
             ],
             [
              0.8888888888888888,
              "#fdca26"
             ],
             [
              1,
              "#f0f921"
             ]
            ],
            "type": "surface"
           }
          ],
          "table": [
           {
            "cells": {
             "fill": {
              "color": "#EBF0F8"
             },
             "line": {
              "color": "white"
             }
            },
            "header": {
             "fill": {
              "color": "#C8D4E3"
             },
             "line": {
              "color": "white"
             }
            },
            "type": "table"
           }
          ]
         },
         "layout": {
          "annotationdefaults": {
           "arrowcolor": "#2a3f5f",
           "arrowhead": 0,
           "arrowwidth": 1
          },
          "autotypenumbers": "strict",
          "coloraxis": {
           "colorbar": {
            "outlinewidth": 0,
            "ticks": ""
           }
          },
          "colorscale": {
           "diverging": [
            [
             0,
             "#8e0152"
            ],
            [
             0.1,
             "#c51b7d"
            ],
            [
             0.2,
             "#de77ae"
            ],
            [
             0.3,
             "#f1b6da"
            ],
            [
             0.4,
             "#fde0ef"
            ],
            [
             0.5,
             "#f7f7f7"
            ],
            [
             0.6,
             "#e6f5d0"
            ],
            [
             0.7,
             "#b8e186"
            ],
            [
             0.8,
             "#7fbc41"
            ],
            [
             0.9,
             "#4d9221"
            ],
            [
             1,
             "#276419"
            ]
           ],
           "sequential": [
            [
             0,
             "#0d0887"
            ],
            [
             0.1111111111111111,
             "#46039f"
            ],
            [
             0.2222222222222222,
             "#7201a8"
            ],
            [
             0.3333333333333333,
             "#9c179e"
            ],
            [
             0.4444444444444444,
             "#bd3786"
            ],
            [
             0.5555555555555556,
             "#d8576b"
            ],
            [
             0.6666666666666666,
             "#ed7953"
            ],
            [
             0.7777777777777778,
             "#fb9f3a"
            ],
            [
             0.8888888888888888,
             "#fdca26"
            ],
            [
             1,
             "#f0f921"
            ]
           ],
           "sequentialminus": [
            [
             0,
             "#0d0887"
            ],
            [
             0.1111111111111111,
             "#46039f"
            ],
            [
             0.2222222222222222,
             "#7201a8"
            ],
            [
             0.3333333333333333,
             "#9c179e"
            ],
            [
             0.4444444444444444,
             "#bd3786"
            ],
            [
             0.5555555555555556,
             "#d8576b"
            ],
            [
             0.6666666666666666,
             "#ed7953"
            ],
            [
             0.7777777777777778,
             "#fb9f3a"
            ],
            [
             0.8888888888888888,
             "#fdca26"
            ],
            [
             1,
             "#f0f921"
            ]
           ]
          },
          "colorway": [
           "#636efa",
           "#EF553B",
           "#00cc96",
           "#ab63fa",
           "#FFA15A",
           "#19d3f3",
           "#FF6692",
           "#B6E880",
           "#FF97FF",
           "#FECB52"
          ],
          "font": {
           "color": "#2a3f5f"
          },
          "geo": {
           "bgcolor": "white",
           "lakecolor": "white",
           "landcolor": "#E5ECF6",
           "showlakes": true,
           "showland": true,
           "subunitcolor": "white"
          },
          "hoverlabel": {
           "align": "left"
          },
          "hovermode": "closest",
          "mapbox": {
           "style": "light"
          },
          "paper_bgcolor": "white",
          "plot_bgcolor": "#E5ECF6",
          "polar": {
           "angularaxis": {
            "gridcolor": "white",
            "linecolor": "white",
            "ticks": ""
           },
           "bgcolor": "#E5ECF6",
           "radialaxis": {
            "gridcolor": "white",
            "linecolor": "white",
            "ticks": ""
           }
          },
          "scene": {
           "xaxis": {
            "backgroundcolor": "#E5ECF6",
            "gridcolor": "white",
            "gridwidth": 2,
            "linecolor": "white",
            "showbackground": true,
            "ticks": "",
            "zerolinecolor": "white"
           },
           "yaxis": {
            "backgroundcolor": "#E5ECF6",
            "gridcolor": "white",
            "gridwidth": 2,
            "linecolor": "white",
            "showbackground": true,
            "ticks": "",
            "zerolinecolor": "white"
           },
           "zaxis": {
            "backgroundcolor": "#E5ECF6",
            "gridcolor": "white",
            "gridwidth": 2,
            "linecolor": "white",
            "showbackground": true,
            "ticks": "",
            "zerolinecolor": "white"
           }
          },
          "shapedefaults": {
           "line": {
            "color": "#2a3f5f"
           }
          },
          "ternary": {
           "aaxis": {
            "gridcolor": "white",
            "linecolor": "white",
            "ticks": ""
           },
           "baxis": {
            "gridcolor": "white",
            "linecolor": "white",
            "ticks": ""
           },
           "bgcolor": "#E5ECF6",
           "caxis": {
            "gridcolor": "white",
            "linecolor": "white",
            "ticks": ""
           }
          },
          "title": {
           "x": 0.05
          },
          "xaxis": {
           "automargin": true,
           "gridcolor": "white",
           "linecolor": "white",
           "ticks": "",
           "title": {
            "standoff": 15
           },
           "zerolinecolor": "white",
           "zerolinewidth": 2
          },
          "yaxis": {
           "automargin": true,
           "gridcolor": "white",
           "linecolor": "white",
           "ticks": "",
           "title": {
            "standoff": 15
           },
           "zerolinecolor": "white",
           "zerolinewidth": 2
          }
         }
        },
        "xaxis": {
         "anchor": "y",
         "domain": [
          0,
          0.45
         ]
        },
        "xaxis2": {
         "anchor": "y2",
         "domain": [
          0.55,
          1
         ]
        },
        "yaxis": {
         "anchor": "x",
         "domain": [
          0,
          1
         ]
        },
        "yaxis2": {
         "anchor": "x2",
         "domain": [
          0,
          1
         ]
        }
       }
      }
     },
     "metadata": {},
     "output_type": "display_data"
    }
   ],
   "source": [
    "fig = go.Figure()\n",
    "fig = make_subplots(rows=1, cols=2, subplot_titles=('Количество выпущенных игр',\n",
    "                                                    'Объем продаж (млн)'))\n",
    "fig.add_trace(go.Bar(x=df_genre.index,\n",
    "                     y=df_genre.amount),\n",
    "              1, 1)\n",
    "fig.add_trace(go.Bar(x=df_genre.index,\n",
    "                     y=df_genre.sales),\n",
    "              1, 2)\n",
    "fig.update_layout(showlegend=False,\n",
    "                  margin=dict(l=10, r=10, t=40, b=30)\n",
    "                  )\n",
    "fig.show()\n"
   ]
  },
  {
   "cell_type": "code",
   "execution_count": null,
   "metadata": {},
   "outputs": [
    {
     "data": {
      "application/vnd.plotly.v1+json": {
       "config": {
        "plotlyServerURL": "https://plot.ly"
       },
       "data": [
        {
         "name": "Количество выпущенных игр",
         "type": "bar",
         "x": [
          "Action",
          "Sports",
          "Misc",
          "Role-Playing",
          "Adventure",
          "Shooter",
          "Racing",
          "Simulation",
          "Fighting",
          "Platform",
          "Strategy",
          "Puzzle"
         ],
         "y": [
          1923,
          1379,
          1327,
          1219,
          1048,
          817,
          772,
          726,
          612,
          589,
          582,
          499
         ]
        },
        {
         "name": "Объем продаж (млн)",
         "type": "bar",
         "x": [
          "Action",
          "Sports",
          "Misc",
          "Role-Playing",
          "Adventure",
          "Shooter",
          "Racing",
          "Simulation",
          "Fighting",
          "Platform",
          "Strategy",
          "Puzzle"
         ],
         "y": [
          1751.18,
          1330.93,
          809.96,
          927.37,
          239.04,
          1037.37,
          732.04,
          392.2,
          448.91,
          831.37,
          175.12,
          244.95
         ]
        },
        {
         "marker": {
          "color": "coral"
         },
         "name": "Средние продажи 1 игры (млн)",
         "type": "scatter",
         "x": [
          "Action",
          "Sports",
          "Misc",
          "Role-Playing",
          "Adventure",
          "Shooter",
          "Racing",
          "Simulation",
          "Fighting",
          "Platform",
          "Strategy",
          "Puzzle"
         ],
         "y": [
          0.9106500260010401,
          0.9651414068165338,
          0.6103692539562924,
          0.7607629204265791,
          0.2280916030534351,
          1.2697307221542227,
          0.9482383419689119,
          0.5402203856749311,
          0.7335130718954249,
          1.4114940577249575,
          0.30089347079037804,
          0.4908817635270541
         ],
         "yaxis": "y2"
        }
       ],
       "layout": {
        "barmode": "group",
        "height": 600,
        "legend": {
         "x": 0.65,
         "xanchor": "right",
         "y": 0.97,
         "yanchor": "top"
        },
        "margin": {
         "b": 30,
         "l": 10,
         "r": 10,
         "t": 50
        },
        "template": {
         "data": {
          "bar": [
           {
            "error_x": {
             "color": "#2a3f5f"
            },
            "error_y": {
             "color": "#2a3f5f"
            },
            "marker": {
             "line": {
              "color": "#E5ECF6",
              "width": 0.5
             },
             "pattern": {
              "fillmode": "overlay",
              "size": 10,
              "solidity": 0.2
             }
            },
            "type": "bar"
           }
          ],
          "barpolar": [
           {
            "marker": {
             "line": {
              "color": "#E5ECF6",
              "width": 0.5
             },
             "pattern": {
              "fillmode": "overlay",
              "size": 10,
              "solidity": 0.2
             }
            },
            "type": "barpolar"
           }
          ],
          "carpet": [
           {
            "aaxis": {
             "endlinecolor": "#2a3f5f",
             "gridcolor": "white",
             "linecolor": "white",
             "minorgridcolor": "white",
             "startlinecolor": "#2a3f5f"
            },
            "baxis": {
             "endlinecolor": "#2a3f5f",
             "gridcolor": "white",
             "linecolor": "white",
             "minorgridcolor": "white",
             "startlinecolor": "#2a3f5f"
            },
            "type": "carpet"
           }
          ],
          "choropleth": [
           {
            "colorbar": {
             "outlinewidth": 0,
             "ticks": ""
            },
            "type": "choropleth"
           }
          ],
          "contour": [
           {
            "colorbar": {
             "outlinewidth": 0,
             "ticks": ""
            },
            "colorscale": [
             [
              0,
              "#0d0887"
             ],
             [
              0.1111111111111111,
              "#46039f"
             ],
             [
              0.2222222222222222,
              "#7201a8"
             ],
             [
              0.3333333333333333,
              "#9c179e"
             ],
             [
              0.4444444444444444,
              "#bd3786"
             ],
             [
              0.5555555555555556,
              "#d8576b"
             ],
             [
              0.6666666666666666,
              "#ed7953"
             ],
             [
              0.7777777777777778,
              "#fb9f3a"
             ],
             [
              0.8888888888888888,
              "#fdca26"
             ],
             [
              1,
              "#f0f921"
             ]
            ],
            "type": "contour"
           }
          ],
          "contourcarpet": [
           {
            "colorbar": {
             "outlinewidth": 0,
             "ticks": ""
            },
            "type": "contourcarpet"
           }
          ],
          "heatmap": [
           {
            "colorbar": {
             "outlinewidth": 0,
             "ticks": ""
            },
            "colorscale": [
             [
              0,
              "#0d0887"
             ],
             [
              0.1111111111111111,
              "#46039f"
             ],
             [
              0.2222222222222222,
              "#7201a8"
             ],
             [
              0.3333333333333333,
              "#9c179e"
             ],
             [
              0.4444444444444444,
              "#bd3786"
             ],
             [
              0.5555555555555556,
              "#d8576b"
             ],
             [
              0.6666666666666666,
              "#ed7953"
             ],
             [
              0.7777777777777778,
              "#fb9f3a"
             ],
             [
              0.8888888888888888,
              "#fdca26"
             ],
             [
              1,
              "#f0f921"
             ]
            ],
            "type": "heatmap"
           }
          ],
          "heatmapgl": [
           {
            "colorbar": {
             "outlinewidth": 0,
             "ticks": ""
            },
            "colorscale": [
             [
              0,
              "#0d0887"
             ],
             [
              0.1111111111111111,
              "#46039f"
             ],
             [
              0.2222222222222222,
              "#7201a8"
             ],
             [
              0.3333333333333333,
              "#9c179e"
             ],
             [
              0.4444444444444444,
              "#bd3786"
             ],
             [
              0.5555555555555556,
              "#d8576b"
             ],
             [
              0.6666666666666666,
              "#ed7953"
             ],
             [
              0.7777777777777778,
              "#fb9f3a"
             ],
             [
              0.8888888888888888,
              "#fdca26"
             ],
             [
              1,
              "#f0f921"
             ]
            ],
            "type": "heatmapgl"
           }
          ],
          "histogram": [
           {
            "marker": {
             "pattern": {
              "fillmode": "overlay",
              "size": 10,
              "solidity": 0.2
             }
            },
            "type": "histogram"
           }
          ],
          "histogram2d": [
           {
            "colorbar": {
             "outlinewidth": 0,
             "ticks": ""
            },
            "colorscale": [
             [
              0,
              "#0d0887"
             ],
             [
              0.1111111111111111,
              "#46039f"
             ],
             [
              0.2222222222222222,
              "#7201a8"
             ],
             [
              0.3333333333333333,
              "#9c179e"
             ],
             [
              0.4444444444444444,
              "#bd3786"
             ],
             [
              0.5555555555555556,
              "#d8576b"
             ],
             [
              0.6666666666666666,
              "#ed7953"
             ],
             [
              0.7777777777777778,
              "#fb9f3a"
             ],
             [
              0.8888888888888888,
              "#fdca26"
             ],
             [
              1,
              "#f0f921"
             ]
            ],
            "type": "histogram2d"
           }
          ],
          "histogram2dcontour": [
           {
            "colorbar": {
             "outlinewidth": 0,
             "ticks": ""
            },
            "colorscale": [
             [
              0,
              "#0d0887"
             ],
             [
              0.1111111111111111,
              "#46039f"
             ],
             [
              0.2222222222222222,
              "#7201a8"
             ],
             [
              0.3333333333333333,
              "#9c179e"
             ],
             [
              0.4444444444444444,
              "#bd3786"
             ],
             [
              0.5555555555555556,
              "#d8576b"
             ],
             [
              0.6666666666666666,
              "#ed7953"
             ],
             [
              0.7777777777777778,
              "#fb9f3a"
             ],
             [
              0.8888888888888888,
              "#fdca26"
             ],
             [
              1,
              "#f0f921"
             ]
            ],
            "type": "histogram2dcontour"
           }
          ],
          "mesh3d": [
           {
            "colorbar": {
             "outlinewidth": 0,
             "ticks": ""
            },
            "type": "mesh3d"
           }
          ],
          "parcoords": [
           {
            "line": {
             "colorbar": {
              "outlinewidth": 0,
              "ticks": ""
             }
            },
            "type": "parcoords"
           }
          ],
          "pie": [
           {
            "automargin": true,
            "type": "pie"
           }
          ],
          "scatter": [
           {
            "fillpattern": {
             "fillmode": "overlay",
             "size": 10,
             "solidity": 0.2
            },
            "type": "scatter"
           }
          ],
          "scatter3d": [
           {
            "line": {
             "colorbar": {
              "outlinewidth": 0,
              "ticks": ""
             }
            },
            "marker": {
             "colorbar": {
              "outlinewidth": 0,
              "ticks": ""
             }
            },
            "type": "scatter3d"
           }
          ],
          "scattercarpet": [
           {
            "marker": {
             "colorbar": {
              "outlinewidth": 0,
              "ticks": ""
             }
            },
            "type": "scattercarpet"
           }
          ],
          "scattergeo": [
           {
            "marker": {
             "colorbar": {
              "outlinewidth": 0,
              "ticks": ""
             }
            },
            "type": "scattergeo"
           }
          ],
          "scattergl": [
           {
            "marker": {
             "colorbar": {
              "outlinewidth": 0,
              "ticks": ""
             }
            },
            "type": "scattergl"
           }
          ],
          "scattermapbox": [
           {
            "marker": {
             "colorbar": {
              "outlinewidth": 0,
              "ticks": ""
             }
            },
            "type": "scattermapbox"
           }
          ],
          "scatterpolar": [
           {
            "marker": {
             "colorbar": {
              "outlinewidth": 0,
              "ticks": ""
             }
            },
            "type": "scatterpolar"
           }
          ],
          "scatterpolargl": [
           {
            "marker": {
             "colorbar": {
              "outlinewidth": 0,
              "ticks": ""
             }
            },
            "type": "scatterpolargl"
           }
          ],
          "scatterternary": [
           {
            "marker": {
             "colorbar": {
              "outlinewidth": 0,
              "ticks": ""
             }
            },
            "type": "scatterternary"
           }
          ],
          "surface": [
           {
            "colorbar": {
             "outlinewidth": 0,
             "ticks": ""
            },
            "colorscale": [
             [
              0,
              "#0d0887"
             ],
             [
              0.1111111111111111,
              "#46039f"
             ],
             [
              0.2222222222222222,
              "#7201a8"
             ],
             [
              0.3333333333333333,
              "#9c179e"
             ],
             [
              0.4444444444444444,
              "#bd3786"
             ],
             [
              0.5555555555555556,
              "#d8576b"
             ],
             [
              0.6666666666666666,
              "#ed7953"
             ],
             [
              0.7777777777777778,
              "#fb9f3a"
             ],
             [
              0.8888888888888888,
              "#fdca26"
             ],
             [
              1,
              "#f0f921"
             ]
            ],
            "type": "surface"
           }
          ],
          "table": [
           {
            "cells": {
             "fill": {
              "color": "#EBF0F8"
             },
             "line": {
              "color": "white"
             }
            },
            "header": {
             "fill": {
              "color": "#C8D4E3"
             },
             "line": {
              "color": "white"
             }
            },
            "type": "table"
           }
          ]
         },
         "layout": {
          "annotationdefaults": {
           "arrowcolor": "#2a3f5f",
           "arrowhead": 0,
           "arrowwidth": 1
          },
          "autotypenumbers": "strict",
          "coloraxis": {
           "colorbar": {
            "outlinewidth": 0,
            "ticks": ""
           }
          },
          "colorscale": {
           "diverging": [
            [
             0,
             "#8e0152"
            ],
            [
             0.1,
             "#c51b7d"
            ],
            [
             0.2,
             "#de77ae"
            ],
            [
             0.3,
             "#f1b6da"
            ],
            [
             0.4,
             "#fde0ef"
            ],
            [
             0.5,
             "#f7f7f7"
            ],
            [
             0.6,
             "#e6f5d0"
            ],
            [
             0.7,
             "#b8e186"
            ],
            [
             0.8,
             "#7fbc41"
            ],
            [
             0.9,
             "#4d9221"
            ],
            [
             1,
             "#276419"
            ]
           ],
           "sequential": [
            [
             0,
             "#0d0887"
            ],
            [
             0.1111111111111111,
             "#46039f"
            ],
            [
             0.2222222222222222,
             "#7201a8"
            ],
            [
             0.3333333333333333,
             "#9c179e"
            ],
            [
             0.4444444444444444,
             "#bd3786"
            ],
            [
             0.5555555555555556,
             "#d8576b"
            ],
            [
             0.6666666666666666,
             "#ed7953"
            ],
            [
             0.7777777777777778,
             "#fb9f3a"
            ],
            [
             0.8888888888888888,
             "#fdca26"
            ],
            [
             1,
             "#f0f921"
            ]
           ],
           "sequentialminus": [
            [
             0,
             "#0d0887"
            ],
            [
             0.1111111111111111,
             "#46039f"
            ],
            [
             0.2222222222222222,
             "#7201a8"
            ],
            [
             0.3333333333333333,
             "#9c179e"
            ],
            [
             0.4444444444444444,
             "#bd3786"
            ],
            [
             0.5555555555555556,
             "#d8576b"
            ],
            [
             0.6666666666666666,
             "#ed7953"
            ],
            [
             0.7777777777777778,
             "#fb9f3a"
            ],
            [
             0.8888888888888888,
             "#fdca26"
            ],
            [
             1,
             "#f0f921"
            ]
           ]
          },
          "colorway": [
           "#636efa",
           "#EF553B",
           "#00cc96",
           "#ab63fa",
           "#FFA15A",
           "#19d3f3",
           "#FF6692",
           "#B6E880",
           "#FF97FF",
           "#FECB52"
          ],
          "font": {
           "color": "#2a3f5f"
          },
          "geo": {
           "bgcolor": "white",
           "lakecolor": "white",
           "landcolor": "#E5ECF6",
           "showlakes": true,
           "showland": true,
           "subunitcolor": "white"
          },
          "hoverlabel": {
           "align": "left"
          },
          "hovermode": "closest",
          "mapbox": {
           "style": "light"
          },
          "paper_bgcolor": "white",
          "plot_bgcolor": "#E5ECF6",
          "polar": {
           "angularaxis": {
            "gridcolor": "white",
            "linecolor": "white",
            "ticks": ""
           },
           "bgcolor": "#E5ECF6",
           "radialaxis": {
            "gridcolor": "white",
            "linecolor": "white",
            "ticks": ""
           }
          },
          "scene": {
           "xaxis": {
            "backgroundcolor": "#E5ECF6",
            "gridcolor": "white",
            "gridwidth": 2,
            "linecolor": "white",
            "showbackground": true,
            "ticks": "",
            "zerolinecolor": "white"
           },
           "yaxis": {
            "backgroundcolor": "#E5ECF6",
            "gridcolor": "white",
            "gridwidth": 2,
            "linecolor": "white",
            "showbackground": true,
            "ticks": "",
            "zerolinecolor": "white"
           },
           "zaxis": {
            "backgroundcolor": "#E5ECF6",
            "gridcolor": "white",
            "gridwidth": 2,
            "linecolor": "white",
            "showbackground": true,
            "ticks": "",
            "zerolinecolor": "white"
           }
          },
          "shapedefaults": {
           "line": {
            "color": "#2a3f5f"
           }
          },
          "ternary": {
           "aaxis": {
            "gridcolor": "white",
            "linecolor": "white",
            "ticks": ""
           },
           "baxis": {
            "gridcolor": "white",
            "linecolor": "white",
            "ticks": ""
           },
           "bgcolor": "#E5ECF6",
           "caxis": {
            "gridcolor": "white",
            "linecolor": "white",
            "ticks": ""
           }
          },
          "title": {
           "x": 0.05
          },
          "xaxis": {
           "automargin": true,
           "gridcolor": "white",
           "linecolor": "white",
           "ticks": "",
           "title": {
            "standoff": 15
           },
           "zerolinecolor": "white",
           "zerolinewidth": 2
          },
          "yaxis": {
           "automargin": true,
           "gridcolor": "white",
           "linecolor": "white",
           "ticks": "",
           "title": {
            "standoff": 15
           },
           "zerolinecolor": "white",
           "zerolinewidth": 2
          }
         }
        },
        "title": {
         "text": "Популярность игр по жанрам",
         "x": 0.5
        },
        "width": 1000,
        "yaxis": {
         "range": [
          0,
          2000
         ]
        },
        "yaxis2": {
         "overlaying": "y",
         "range": [
          0,
          1.6
         ],
         "side": "right",
         "tickmode": "sync"
        }
       }
      }
     },
     "metadata": {},
     "output_type": "display_data"
    }
   ],
   "source": [
    "fig = go.Figure()\n",
    "fig.add_trace(go.Bar(name='Количество выпущенных игр',\n",
    "                     x=df_genre.index,\n",
    "                     y=df_genre.amount)\n",
    "              )\n",
    "fig.add_trace(go.Bar(name='Объем продаж (млн)',\n",
    "                     x=df_genre.index,\n",
    "                     y=df_genre.sales)\n",
    "              )\n",
    "fig.add_trace(go.Scatter(name='Средние продажи 1 игры (млн)',\n",
    "                         x=df_genre.index,\n",
    "                         y=df_genre.avg_sales,\n",
    "                         yaxis=\"y2\",\n",
    "                         marker_color=\"coral\")\n",
    "              )\n",
    "fig.update_layout(title_text='Популярность игр по жанрам',\n",
    "                  title_x=0.5,\n",
    "                  height=600,\n",
    "                  width=1000,\n",
    "                  margin=dict(l=10, r=10, t=50, b=30),\n",
    "                  barmode='group',\n",
    "                  yaxis1_range=[0, 2000],\n",
    "                  yaxis2=dict(side=\"right\",\n",
    "                              range=[0, 1.6],\n",
    "                              overlaying=\"y\",\n",
    "                              tickmode=\"sync\"),\n",
    "                  legend=dict(yanchor=\"top\",\n",
    "                              y=0.97,\n",
    "                              xanchor=\"right\",\n",
    "                              x=0.65)\n",
    "                  )\n",
    "fig.show()\n"
   ]
  },
  {
   "cell_type": "markdown",
   "metadata": {},
   "source": [
    "Вывод: В целом, тенденции популярности жанров по количеству выпущенных игр и по объему продаж совпадают - чем больше выпущено игр, тем больше продажи. Однако наблюдаются интересные аномалии: при довольно высоком количестве выпущенных игр, **приключенческие** игры показали очень низкие продажи, немногим превосходя аутсайдера этого списка - **Стратегии**, а **платформеры** наоборот имеют довольно хорошие продажи, при том, что выпущено их было не так уж и много."
   ]
  },
  {
   "cell_type": "code",
   "execution_count": 9,
   "metadata": {},
   "outputs": [
    {
     "data": {
      "application/vnd.plotly.v1+json": {
       "config": {
        "plotlyServerURL": "https://plot.ly"
       },
       "data": [
        {
         "alignmentgroup": "True",
         "hovertemplate": "variable=count<br>Year=%{x}<br>value=%{y}<extra></extra>",
         "legendgroup": "count",
         "marker": {
          "color": "#636efa",
          "pattern": {
           "shape": ""
          }
         },
         "name": "count",
         "offsetgroup": "count",
         "orientation": "v",
         "showlegend": true,
         "textposition": "auto",
         "type": "bar",
         "x": [
          2008,
          2009,
          2010,
          2007,
          2011,
          2006,
          2005,
          2002,
          2004,
          2003,
          2001,
          2012,
          1998,
          2015,
          2000,
          2013,
          1999,
          2014,
          1997,
          1996,
          1995,
          2016,
          1994,
          1993,
          1981,
          1991,
          1992,
          1982,
          1986,
          1983,
          1987,
          1990,
          1989,
          1985,
          1984,
          1988,
          1980,
          2017,
          2020
         ],
         "xaxis": "x",
         "y": [
          988,
          959,
          860,
          838,
          747,
          724,
          617,
          565,
          521,
          487,
          410,
          407,
          347,
          333,
          299,
          296,
          292,
          279,
          268,
          247,
          200,
          194,
          111,
          58,
          43,
          40,
          37,
          33,
          21,
          16,
          15,
          14,
          14,
          13,
          13,
          11,
          8,
          2,
          1
         ],
         "yaxis": "y"
        }
       ],
       "layout": {
        "barmode": "relative",
        "legend": {
         "title": {
          "text": "variable"
         },
         "tracegroupgap": 0
        },
        "margin": {
         "b": 30,
         "l": 10,
         "r": 10,
         "t": 50
        },
        "showlegend": false,
        "template": {
         "data": {
          "bar": [
           {
            "error_x": {
             "color": "#2a3f5f"
            },
            "error_y": {
             "color": "#2a3f5f"
            },
            "marker": {
             "line": {
              "color": "#E5ECF6",
              "width": 0.5
             },
             "pattern": {
              "fillmode": "overlay",
              "size": 10,
              "solidity": 0.2
             }
            },
            "type": "bar"
           }
          ],
          "barpolar": [
           {
            "marker": {
             "line": {
              "color": "#E5ECF6",
              "width": 0.5
             },
             "pattern": {
              "fillmode": "overlay",
              "size": 10,
              "solidity": 0.2
             }
            },
            "type": "barpolar"
           }
          ],
          "carpet": [
           {
            "aaxis": {
             "endlinecolor": "#2a3f5f",
             "gridcolor": "white",
             "linecolor": "white",
             "minorgridcolor": "white",
             "startlinecolor": "#2a3f5f"
            },
            "baxis": {
             "endlinecolor": "#2a3f5f",
             "gridcolor": "white",
             "linecolor": "white",
             "minorgridcolor": "white",
             "startlinecolor": "#2a3f5f"
            },
            "type": "carpet"
           }
          ],
          "choropleth": [
           {
            "colorbar": {
             "outlinewidth": 0,
             "ticks": ""
            },
            "type": "choropleth"
           }
          ],
          "contour": [
           {
            "colorbar": {
             "outlinewidth": 0,
             "ticks": ""
            },
            "colorscale": [
             [
              0,
              "#0d0887"
             ],
             [
              0.1111111111111111,
              "#46039f"
             ],
             [
              0.2222222222222222,
              "#7201a8"
             ],
             [
              0.3333333333333333,
              "#9c179e"
             ],
             [
              0.4444444444444444,
              "#bd3786"
             ],
             [
              0.5555555555555556,
              "#d8576b"
             ],
             [
              0.6666666666666666,
              "#ed7953"
             ],
             [
              0.7777777777777778,
              "#fb9f3a"
             ],
             [
              0.8888888888888888,
              "#fdca26"
             ],
             [
              1,
              "#f0f921"
             ]
            ],
            "type": "contour"
           }
          ],
          "contourcarpet": [
           {
            "colorbar": {
             "outlinewidth": 0,
             "ticks": ""
            },
            "type": "contourcarpet"
           }
          ],
          "heatmap": [
           {
            "colorbar": {
             "outlinewidth": 0,
             "ticks": ""
            },
            "colorscale": [
             [
              0,
              "#0d0887"
             ],
             [
              0.1111111111111111,
              "#46039f"
             ],
             [
              0.2222222222222222,
              "#7201a8"
             ],
             [
              0.3333333333333333,
              "#9c179e"
             ],
             [
              0.4444444444444444,
              "#bd3786"
             ],
             [
              0.5555555555555556,
              "#d8576b"
             ],
             [
              0.6666666666666666,
              "#ed7953"
             ],
             [
              0.7777777777777778,
              "#fb9f3a"
             ],
             [
              0.8888888888888888,
              "#fdca26"
             ],
             [
              1,
              "#f0f921"
             ]
            ],
            "type": "heatmap"
           }
          ],
          "heatmapgl": [
           {
            "colorbar": {
             "outlinewidth": 0,
             "ticks": ""
            },
            "colorscale": [
             [
              0,
              "#0d0887"
             ],
             [
              0.1111111111111111,
              "#46039f"
             ],
             [
              0.2222222222222222,
              "#7201a8"
             ],
             [
              0.3333333333333333,
              "#9c179e"
             ],
             [
              0.4444444444444444,
              "#bd3786"
             ],
             [
              0.5555555555555556,
              "#d8576b"
             ],
             [
              0.6666666666666666,
              "#ed7953"
             ],
             [
              0.7777777777777778,
              "#fb9f3a"
             ],
             [
              0.8888888888888888,
              "#fdca26"
             ],
             [
              1,
              "#f0f921"
             ]
            ],
            "type": "heatmapgl"
           }
          ],
          "histogram": [
           {
            "marker": {
             "pattern": {
              "fillmode": "overlay",
              "size": 10,
              "solidity": 0.2
             }
            },
            "type": "histogram"
           }
          ],
          "histogram2d": [
           {
            "colorbar": {
             "outlinewidth": 0,
             "ticks": ""
            },
            "colorscale": [
             [
              0,
              "#0d0887"
             ],
             [
              0.1111111111111111,
              "#46039f"
             ],
             [
              0.2222222222222222,
              "#7201a8"
             ],
             [
              0.3333333333333333,
              "#9c179e"
             ],
             [
              0.4444444444444444,
              "#bd3786"
             ],
             [
              0.5555555555555556,
              "#d8576b"
             ],
             [
              0.6666666666666666,
              "#ed7953"
             ],
             [
              0.7777777777777778,
              "#fb9f3a"
             ],
             [
              0.8888888888888888,
              "#fdca26"
             ],
             [
              1,
              "#f0f921"
             ]
            ],
            "type": "histogram2d"
           }
          ],
          "histogram2dcontour": [
           {
            "colorbar": {
             "outlinewidth": 0,
             "ticks": ""
            },
            "colorscale": [
             [
              0,
              "#0d0887"
             ],
             [
              0.1111111111111111,
              "#46039f"
             ],
             [
              0.2222222222222222,
              "#7201a8"
             ],
             [
              0.3333333333333333,
              "#9c179e"
             ],
             [
              0.4444444444444444,
              "#bd3786"
             ],
             [
              0.5555555555555556,
              "#d8576b"
             ],
             [
              0.6666666666666666,
              "#ed7953"
             ],
             [
              0.7777777777777778,
              "#fb9f3a"
             ],
             [
              0.8888888888888888,
              "#fdca26"
             ],
             [
              1,
              "#f0f921"
             ]
            ],
            "type": "histogram2dcontour"
           }
          ],
          "mesh3d": [
           {
            "colorbar": {
             "outlinewidth": 0,
             "ticks": ""
            },
            "type": "mesh3d"
           }
          ],
          "parcoords": [
           {
            "line": {
             "colorbar": {
              "outlinewidth": 0,
              "ticks": ""
             }
            },
            "type": "parcoords"
           }
          ],
          "pie": [
           {
            "automargin": true,
            "type": "pie"
           }
          ],
          "scatter": [
           {
            "fillpattern": {
             "fillmode": "overlay",
             "size": 10,
             "solidity": 0.2
            },
            "type": "scatter"
           }
          ],
          "scatter3d": [
           {
            "line": {
             "colorbar": {
              "outlinewidth": 0,
              "ticks": ""
             }
            },
            "marker": {
             "colorbar": {
              "outlinewidth": 0,
              "ticks": ""
             }
            },
            "type": "scatter3d"
           }
          ],
          "scattercarpet": [
           {
            "marker": {
             "colorbar": {
              "outlinewidth": 0,
              "ticks": ""
             }
            },
            "type": "scattercarpet"
           }
          ],
          "scattergeo": [
           {
            "marker": {
             "colorbar": {
              "outlinewidth": 0,
              "ticks": ""
             }
            },
            "type": "scattergeo"
           }
          ],
          "scattergl": [
           {
            "marker": {
             "colorbar": {
              "outlinewidth": 0,
              "ticks": ""
             }
            },
            "type": "scattergl"
           }
          ],
          "scattermapbox": [
           {
            "marker": {
             "colorbar": {
              "outlinewidth": 0,
              "ticks": ""
             }
            },
            "type": "scattermapbox"
           }
          ],
          "scatterpolar": [
           {
            "marker": {
             "colorbar": {
              "outlinewidth": 0,
              "ticks": ""
             }
            },
            "type": "scatterpolar"
           }
          ],
          "scatterpolargl": [
           {
            "marker": {
             "colorbar": {
              "outlinewidth": 0,
              "ticks": ""
             }
            },
            "type": "scatterpolargl"
           }
          ],
          "scatterternary": [
           {
            "marker": {
             "colorbar": {
              "outlinewidth": 0,
              "ticks": ""
             }
            },
            "type": "scatterternary"
           }
          ],
          "surface": [
           {
            "colorbar": {
             "outlinewidth": 0,
             "ticks": ""
            },
            "colorscale": [
             [
              0,
              "#0d0887"
             ],
             [
              0.1111111111111111,
              "#46039f"
             ],
             [
              0.2222222222222222,
              "#7201a8"
             ],
             [
              0.3333333333333333,
              "#9c179e"
             ],
             [
              0.4444444444444444,
              "#bd3786"
             ],
             [
              0.5555555555555556,
              "#d8576b"
             ],
             [
              0.6666666666666666,
              "#ed7953"
             ],
             [
              0.7777777777777778,
              "#fb9f3a"
             ],
             [
              0.8888888888888888,
              "#fdca26"
             ],
             [
              1,
              "#f0f921"
             ]
            ],
            "type": "surface"
           }
          ],
          "table": [
           {
            "cells": {
             "fill": {
              "color": "#EBF0F8"
             },
             "line": {
              "color": "white"
             }
            },
            "header": {
             "fill": {
              "color": "#C8D4E3"
             },
             "line": {
              "color": "white"
             }
            },
            "type": "table"
           }
          ]
         },
         "layout": {
          "annotationdefaults": {
           "arrowcolor": "#2a3f5f",
           "arrowhead": 0,
           "arrowwidth": 1
          },
          "autotypenumbers": "strict",
          "coloraxis": {
           "colorbar": {
            "outlinewidth": 0,
            "ticks": ""
           }
          },
          "colorscale": {
           "diverging": [
            [
             0,
             "#8e0152"
            ],
            [
             0.1,
             "#c51b7d"
            ],
            [
             0.2,
             "#de77ae"
            ],
            [
             0.3,
             "#f1b6da"
            ],
            [
             0.4,
             "#fde0ef"
            ],
            [
             0.5,
             "#f7f7f7"
            ],
            [
             0.6,
             "#e6f5d0"
            ],
            [
             0.7,
             "#b8e186"
            ],
            [
             0.8,
             "#7fbc41"
            ],
            [
             0.9,
             "#4d9221"
            ],
            [
             1,
             "#276419"
            ]
           ],
           "sequential": [
            [
             0,
             "#0d0887"
            ],
            [
             0.1111111111111111,
             "#46039f"
            ],
            [
             0.2222222222222222,
             "#7201a8"
            ],
            [
             0.3333333333333333,
             "#9c179e"
            ],
            [
             0.4444444444444444,
             "#bd3786"
            ],
            [
             0.5555555555555556,
             "#d8576b"
            ],
            [
             0.6666666666666666,
             "#ed7953"
            ],
            [
             0.7777777777777778,
             "#fb9f3a"
            ],
            [
             0.8888888888888888,
             "#fdca26"
            ],
            [
             1,
             "#f0f921"
            ]
           ],
           "sequentialminus": [
            [
             0,
             "#0d0887"
            ],
            [
             0.1111111111111111,
             "#46039f"
            ],
            [
             0.2222222222222222,
             "#7201a8"
            ],
            [
             0.3333333333333333,
             "#9c179e"
            ],
            [
             0.4444444444444444,
             "#bd3786"
            ],
            [
             0.5555555555555556,
             "#d8576b"
            ],
            [
             0.6666666666666666,
             "#ed7953"
            ],
            [
             0.7777777777777778,
             "#fb9f3a"
            ],
            [
             0.8888888888888888,
             "#fdca26"
            ],
            [
             1,
             "#f0f921"
            ]
           ]
          },
          "colorway": [
           "#636efa",
           "#EF553B",
           "#00cc96",
           "#ab63fa",
           "#FFA15A",
           "#19d3f3",
           "#FF6692",
           "#B6E880",
           "#FF97FF",
           "#FECB52"
          ],
          "font": {
           "color": "#2a3f5f"
          },
          "geo": {
           "bgcolor": "white",
           "lakecolor": "white",
           "landcolor": "#E5ECF6",
           "showlakes": true,
           "showland": true,
           "subunitcolor": "white"
          },
          "hoverlabel": {
           "align": "left"
          },
          "hovermode": "closest",
          "mapbox": {
           "style": "light"
          },
          "paper_bgcolor": "white",
          "plot_bgcolor": "#E5ECF6",
          "polar": {
           "angularaxis": {
            "gridcolor": "white",
            "linecolor": "white",
            "ticks": ""
           },
           "bgcolor": "#E5ECF6",
           "radialaxis": {
            "gridcolor": "white",
            "linecolor": "white",
            "ticks": ""
           }
          },
          "scene": {
           "xaxis": {
            "backgroundcolor": "#E5ECF6",
            "gridcolor": "white",
            "gridwidth": 2,
            "linecolor": "white",
            "showbackground": true,
            "ticks": "",
            "zerolinecolor": "white"
           },
           "yaxis": {
            "backgroundcolor": "#E5ECF6",
            "gridcolor": "white",
            "gridwidth": 2,
            "linecolor": "white",
            "showbackground": true,
            "ticks": "",
            "zerolinecolor": "white"
           },
           "zaxis": {
            "backgroundcolor": "#E5ECF6",
            "gridcolor": "white",
            "gridwidth": 2,
            "linecolor": "white",
            "showbackground": true,
            "ticks": "",
            "zerolinecolor": "white"
           }
          },
          "shapedefaults": {
           "line": {
            "color": "#2a3f5f"
           }
          },
          "ternary": {
           "aaxis": {
            "gridcolor": "white",
            "linecolor": "white",
            "ticks": ""
           },
           "baxis": {
            "gridcolor": "white",
            "linecolor": "white",
            "ticks": ""
           },
           "bgcolor": "#E5ECF6",
           "caxis": {
            "gridcolor": "white",
            "linecolor": "white",
            "ticks": ""
           }
          },
          "title": {
           "x": 0.05
          },
          "xaxis": {
           "automargin": true,
           "gridcolor": "white",
           "linecolor": "white",
           "ticks": "",
           "title": {
            "standoff": 15
           },
           "zerolinecolor": "white",
           "zerolinewidth": 2
          },
          "yaxis": {
           "automargin": true,
           "gridcolor": "white",
           "linecolor": "white",
           "ticks": "",
           "title": {
            "standoff": 15
           },
           "zerolinecolor": "white",
           "zerolinewidth": 2
          }
         }
        },
        "title": {
         "text": "Общее число видеоигр выпущенных по годам",
         "x": 0.5
        },
        "xaxis": {
         "anchor": "y",
         "domain": [
          0,
          1
         ],
         "title": {
          "text": "Год"
         }
        },
        "yaxis": {
         "anchor": "x",
         "domain": [
          0,
          1
         ],
         "title": {
          "text": "Количество"
         }
        }
       }
      }
     },
     "metadata": {},
     "output_type": "display_data"
    }
   ],
   "source": [
    "fig = px.bar(df_double.Year.value_counts(),\n",
    "             title='Общее число видеоигр выпущенных по годам')\n",
    "fig.update_layout(showlegend=False,\n",
    "                  title_x=0.5,\n",
    "                  xaxis_title=\"Год\",\n",
    "                  yaxis_title=\"Количество\",\n",
    "                  margin=dict(l=10, r=10, t=50, b=30),\n",
    "                  )\n",
    "fig.show()\n"
   ]
  },
  {
   "cell_type": "code",
   "execution_count": 10,
   "metadata": {},
   "outputs": [
    {
     "data": {
      "application/vnd.plotly.v1+json": {
       "config": {
        "plotlyServerURL": "https://plot.ly"
       },
       "data": [
        {
         "alignmentgroup": "True",
         "hovertemplate": "variable=count<br>Publisher=%{x}<br>value=%{y}<extra></extra>",
         "legendgroup": "count",
         "marker": {
          "color": "#636efa",
          "pattern": {
           "shape": ""
          }
         },
         "name": "count",
         "offsetgroup": "count",
         "orientation": "v",
         "showlegend": true,
         "textposition": "auto",
         "type": "bar",
         "x": [
          "Namco Bandai Games",
          "Nintendo",
          "Konami Digital Entertainment",
          "Sony Computer Entertainment",
          "Electronic Arts",
          "Ubisoft",
          "Sega",
          "Activision",
          "THQ",
          "Atari"
         ],
         "xaxis": "x",
         "y": [
          758,
          661,
          636,
          612,
          596,
          560,
          469,
          397,
          394,
          275
         ],
         "yaxis": "y"
        }
       ],
       "layout": {
        "barmode": "relative",
        "legend": {
         "title": {
          "text": "variable"
         },
         "tracegroupgap": 0
        },
        "margin": {
         "b": 30,
         "l": 10,
         "r": 10,
         "t": 50
        },
        "showlegend": false,
        "template": {
         "data": {
          "bar": [
           {
            "error_x": {
             "color": "#2a3f5f"
            },
            "error_y": {
             "color": "#2a3f5f"
            },
            "marker": {
             "line": {
              "color": "#E5ECF6",
              "width": 0.5
             },
             "pattern": {
              "fillmode": "overlay",
              "size": 10,
              "solidity": 0.2
             }
            },
            "type": "bar"
           }
          ],
          "barpolar": [
           {
            "marker": {
             "line": {
              "color": "#E5ECF6",
              "width": 0.5
             },
             "pattern": {
              "fillmode": "overlay",
              "size": 10,
              "solidity": 0.2
             }
            },
            "type": "barpolar"
           }
          ],
          "carpet": [
           {
            "aaxis": {
             "endlinecolor": "#2a3f5f",
             "gridcolor": "white",
             "linecolor": "white",
             "minorgridcolor": "white",
             "startlinecolor": "#2a3f5f"
            },
            "baxis": {
             "endlinecolor": "#2a3f5f",
             "gridcolor": "white",
             "linecolor": "white",
             "minorgridcolor": "white",
             "startlinecolor": "#2a3f5f"
            },
            "type": "carpet"
           }
          ],
          "choropleth": [
           {
            "colorbar": {
             "outlinewidth": 0,
             "ticks": ""
            },
            "type": "choropleth"
           }
          ],
          "contour": [
           {
            "colorbar": {
             "outlinewidth": 0,
             "ticks": ""
            },
            "colorscale": [
             [
              0,
              "#0d0887"
             ],
             [
              0.1111111111111111,
              "#46039f"
             ],
             [
              0.2222222222222222,
              "#7201a8"
             ],
             [
              0.3333333333333333,
              "#9c179e"
             ],
             [
              0.4444444444444444,
              "#bd3786"
             ],
             [
              0.5555555555555556,
              "#d8576b"
             ],
             [
              0.6666666666666666,
              "#ed7953"
             ],
             [
              0.7777777777777778,
              "#fb9f3a"
             ],
             [
              0.8888888888888888,
              "#fdca26"
             ],
             [
              1,
              "#f0f921"
             ]
            ],
            "type": "contour"
           }
          ],
          "contourcarpet": [
           {
            "colorbar": {
             "outlinewidth": 0,
             "ticks": ""
            },
            "type": "contourcarpet"
           }
          ],
          "heatmap": [
           {
            "colorbar": {
             "outlinewidth": 0,
             "ticks": ""
            },
            "colorscale": [
             [
              0,
              "#0d0887"
             ],
             [
              0.1111111111111111,
              "#46039f"
             ],
             [
              0.2222222222222222,
              "#7201a8"
             ],
             [
              0.3333333333333333,
              "#9c179e"
             ],
             [
              0.4444444444444444,
              "#bd3786"
             ],
             [
              0.5555555555555556,
              "#d8576b"
             ],
             [
              0.6666666666666666,
              "#ed7953"
             ],
             [
              0.7777777777777778,
              "#fb9f3a"
             ],
             [
              0.8888888888888888,
              "#fdca26"
             ],
             [
              1,
              "#f0f921"
             ]
            ],
            "type": "heatmap"
           }
          ],
          "heatmapgl": [
           {
            "colorbar": {
             "outlinewidth": 0,
             "ticks": ""
            },
            "colorscale": [
             [
              0,
              "#0d0887"
             ],
             [
              0.1111111111111111,
              "#46039f"
             ],
             [
              0.2222222222222222,
              "#7201a8"
             ],
             [
              0.3333333333333333,
              "#9c179e"
             ],
             [
              0.4444444444444444,
              "#bd3786"
             ],
             [
              0.5555555555555556,
              "#d8576b"
             ],
             [
              0.6666666666666666,
              "#ed7953"
             ],
             [
              0.7777777777777778,
              "#fb9f3a"
             ],
             [
              0.8888888888888888,
              "#fdca26"
             ],
             [
              1,
              "#f0f921"
             ]
            ],
            "type": "heatmapgl"
           }
          ],
          "histogram": [
           {
            "marker": {
             "pattern": {
              "fillmode": "overlay",
              "size": 10,
              "solidity": 0.2
             }
            },
            "type": "histogram"
           }
          ],
          "histogram2d": [
           {
            "colorbar": {
             "outlinewidth": 0,
             "ticks": ""
            },
            "colorscale": [
             [
              0,
              "#0d0887"
             ],
             [
              0.1111111111111111,
              "#46039f"
             ],
             [
              0.2222222222222222,
              "#7201a8"
             ],
             [
              0.3333333333333333,
              "#9c179e"
             ],
             [
              0.4444444444444444,
              "#bd3786"
             ],
             [
              0.5555555555555556,
              "#d8576b"
             ],
             [
              0.6666666666666666,
              "#ed7953"
             ],
             [
              0.7777777777777778,
              "#fb9f3a"
             ],
             [
              0.8888888888888888,
              "#fdca26"
             ],
             [
              1,
              "#f0f921"
             ]
            ],
            "type": "histogram2d"
           }
          ],
          "histogram2dcontour": [
           {
            "colorbar": {
             "outlinewidth": 0,
             "ticks": ""
            },
            "colorscale": [
             [
              0,
              "#0d0887"
             ],
             [
              0.1111111111111111,
              "#46039f"
             ],
             [
              0.2222222222222222,
              "#7201a8"
             ],
             [
              0.3333333333333333,
              "#9c179e"
             ],
             [
              0.4444444444444444,
              "#bd3786"
             ],
             [
              0.5555555555555556,
              "#d8576b"
             ],
             [
              0.6666666666666666,
              "#ed7953"
             ],
             [
              0.7777777777777778,
              "#fb9f3a"
             ],
             [
              0.8888888888888888,
              "#fdca26"
             ],
             [
              1,
              "#f0f921"
             ]
            ],
            "type": "histogram2dcontour"
           }
          ],
          "mesh3d": [
           {
            "colorbar": {
             "outlinewidth": 0,
             "ticks": ""
            },
            "type": "mesh3d"
           }
          ],
          "parcoords": [
           {
            "line": {
             "colorbar": {
              "outlinewidth": 0,
              "ticks": ""
             }
            },
            "type": "parcoords"
           }
          ],
          "pie": [
           {
            "automargin": true,
            "type": "pie"
           }
          ],
          "scatter": [
           {
            "fillpattern": {
             "fillmode": "overlay",
             "size": 10,
             "solidity": 0.2
            },
            "type": "scatter"
           }
          ],
          "scatter3d": [
           {
            "line": {
             "colorbar": {
              "outlinewidth": 0,
              "ticks": ""
             }
            },
            "marker": {
             "colorbar": {
              "outlinewidth": 0,
              "ticks": ""
             }
            },
            "type": "scatter3d"
           }
          ],
          "scattercarpet": [
           {
            "marker": {
             "colorbar": {
              "outlinewidth": 0,
              "ticks": ""
             }
            },
            "type": "scattercarpet"
           }
          ],
          "scattergeo": [
           {
            "marker": {
             "colorbar": {
              "outlinewidth": 0,
              "ticks": ""
             }
            },
            "type": "scattergeo"
           }
          ],
          "scattergl": [
           {
            "marker": {
             "colorbar": {
              "outlinewidth": 0,
              "ticks": ""
             }
            },
            "type": "scattergl"
           }
          ],
          "scattermapbox": [
           {
            "marker": {
             "colorbar": {
              "outlinewidth": 0,
              "ticks": ""
             }
            },
            "type": "scattermapbox"
           }
          ],
          "scatterpolar": [
           {
            "marker": {
             "colorbar": {
              "outlinewidth": 0,
              "ticks": ""
             }
            },
            "type": "scatterpolar"
           }
          ],
          "scatterpolargl": [
           {
            "marker": {
             "colorbar": {
              "outlinewidth": 0,
              "ticks": ""
             }
            },
            "type": "scatterpolargl"
           }
          ],
          "scatterternary": [
           {
            "marker": {
             "colorbar": {
              "outlinewidth": 0,
              "ticks": ""
             }
            },
            "type": "scatterternary"
           }
          ],
          "surface": [
           {
            "colorbar": {
             "outlinewidth": 0,
             "ticks": ""
            },
            "colorscale": [
             [
              0,
              "#0d0887"
             ],
             [
              0.1111111111111111,
              "#46039f"
             ],
             [
              0.2222222222222222,
              "#7201a8"
             ],
             [
              0.3333333333333333,
              "#9c179e"
             ],
             [
              0.4444444444444444,
              "#bd3786"
             ],
             [
              0.5555555555555556,
              "#d8576b"
             ],
             [
              0.6666666666666666,
              "#ed7953"
             ],
             [
              0.7777777777777778,
              "#fb9f3a"
             ],
             [
              0.8888888888888888,
              "#fdca26"
             ],
             [
              1,
              "#f0f921"
             ]
            ],
            "type": "surface"
           }
          ],
          "table": [
           {
            "cells": {
             "fill": {
              "color": "#EBF0F8"
             },
             "line": {
              "color": "white"
             }
            },
            "header": {
             "fill": {
              "color": "#C8D4E3"
             },
             "line": {
              "color": "white"
             }
            },
            "type": "table"
           }
          ]
         },
         "layout": {
          "annotationdefaults": {
           "arrowcolor": "#2a3f5f",
           "arrowhead": 0,
           "arrowwidth": 1
          },
          "autotypenumbers": "strict",
          "coloraxis": {
           "colorbar": {
            "outlinewidth": 0,
            "ticks": ""
           }
          },
          "colorscale": {
           "diverging": [
            [
             0,
             "#8e0152"
            ],
            [
             0.1,
             "#c51b7d"
            ],
            [
             0.2,
             "#de77ae"
            ],
            [
             0.3,
             "#f1b6da"
            ],
            [
             0.4,
             "#fde0ef"
            ],
            [
             0.5,
             "#f7f7f7"
            ],
            [
             0.6,
             "#e6f5d0"
            ],
            [
             0.7,
             "#b8e186"
            ],
            [
             0.8,
             "#7fbc41"
            ],
            [
             0.9,
             "#4d9221"
            ],
            [
             1,
             "#276419"
            ]
           ],
           "sequential": [
            [
             0,
             "#0d0887"
            ],
            [
             0.1111111111111111,
             "#46039f"
            ],
            [
             0.2222222222222222,
             "#7201a8"
            ],
            [
             0.3333333333333333,
             "#9c179e"
            ],
            [
             0.4444444444444444,
             "#bd3786"
            ],
            [
             0.5555555555555556,
             "#d8576b"
            ],
            [
             0.6666666666666666,
             "#ed7953"
            ],
            [
             0.7777777777777778,
             "#fb9f3a"
            ],
            [
             0.8888888888888888,
             "#fdca26"
            ],
            [
             1,
             "#f0f921"
            ]
           ],
           "sequentialminus": [
            [
             0,
             "#0d0887"
            ],
            [
             0.1111111111111111,
             "#46039f"
            ],
            [
             0.2222222222222222,
             "#7201a8"
            ],
            [
             0.3333333333333333,
             "#9c179e"
            ],
            [
             0.4444444444444444,
             "#bd3786"
            ],
            [
             0.5555555555555556,
             "#d8576b"
            ],
            [
             0.6666666666666666,
             "#ed7953"
            ],
            [
             0.7777777777777778,
             "#fb9f3a"
            ],
            [
             0.8888888888888888,
             "#fdca26"
            ],
            [
             1,
             "#f0f921"
            ]
           ]
          },
          "colorway": [
           "#636efa",
           "#EF553B",
           "#00cc96",
           "#ab63fa",
           "#FFA15A",
           "#19d3f3",
           "#FF6692",
           "#B6E880",
           "#FF97FF",
           "#FECB52"
          ],
          "font": {
           "color": "#2a3f5f"
          },
          "geo": {
           "bgcolor": "white",
           "lakecolor": "white",
           "landcolor": "#E5ECF6",
           "showlakes": true,
           "showland": true,
           "subunitcolor": "white"
          },
          "hoverlabel": {
           "align": "left"
          },
          "hovermode": "closest",
          "mapbox": {
           "style": "light"
          },
          "paper_bgcolor": "white",
          "plot_bgcolor": "#E5ECF6",
          "polar": {
           "angularaxis": {
            "gridcolor": "white",
            "linecolor": "white",
            "ticks": ""
           },
           "bgcolor": "#E5ECF6",
           "radialaxis": {
            "gridcolor": "white",
            "linecolor": "white",
            "ticks": ""
           }
          },
          "scene": {
           "xaxis": {
            "backgroundcolor": "#E5ECF6",
            "gridcolor": "white",
            "gridwidth": 2,
            "linecolor": "white",
            "showbackground": true,
            "ticks": "",
            "zerolinecolor": "white"
           },
           "yaxis": {
            "backgroundcolor": "#E5ECF6",
            "gridcolor": "white",
            "gridwidth": 2,
            "linecolor": "white",
            "showbackground": true,
            "ticks": "",
            "zerolinecolor": "white"
           },
           "zaxis": {
            "backgroundcolor": "#E5ECF6",
            "gridcolor": "white",
            "gridwidth": 2,
            "linecolor": "white",
            "showbackground": true,
            "ticks": "",
            "zerolinecolor": "white"
           }
          },
          "shapedefaults": {
           "line": {
            "color": "#2a3f5f"
           }
          },
          "ternary": {
           "aaxis": {
            "gridcolor": "white",
            "linecolor": "white",
            "ticks": ""
           },
           "baxis": {
            "gridcolor": "white",
            "linecolor": "white",
            "ticks": ""
           },
           "bgcolor": "#E5ECF6",
           "caxis": {
            "gridcolor": "white",
            "linecolor": "white",
            "ticks": ""
           }
          },
          "title": {
           "x": 0.05
          },
          "xaxis": {
           "automargin": true,
           "gridcolor": "white",
           "linecolor": "white",
           "ticks": "",
           "title": {
            "standoff": 15
           },
           "zerolinecolor": "white",
           "zerolinewidth": 2
          },
          "yaxis": {
           "automargin": true,
           "gridcolor": "white",
           "linecolor": "white",
           "ticks": "",
           "title": {
            "standoff": 15
           },
           "zerolinecolor": "white",
           "zerolinewidth": 2
          }
         }
        },
        "title": {
         "text": "Топ 10 издателей по количеству выпущенных игр",
         "x": 0.5
        },
        "xaxis": {
         "anchor": "y",
         "domain": [
          0,
          1
         ],
         "title": {
          "text": "Издатель"
         }
        },
        "yaxis": {
         "anchor": "x",
         "domain": [
          0,
          1
         ],
         "title": {
          "text": "Количество"
         }
        }
       }
      }
     },
     "metadata": {},
     "output_type": "display_data"
    }
   ],
   "source": [
    "fig = px.bar(df_double.Publisher.value_counts().head(10),\n",
    "             title='Топ 10 издателей по количеству выпущенных игр')\n",
    "fig.update_layout(showlegend=False,\n",
    "                  title_x=0.5,\n",
    "                  xaxis_title=\"Издатель\",\n",
    "                  yaxis_title=\"Количество\",\n",
    "                  margin=dict(l=10, r=10, t=50, b=30),\n",
    "                  )\n",
    "fig.show()\n"
   ]
  },
  {
   "cell_type": "code",
   "execution_count": 11,
   "metadata": {},
   "outputs": [
    {
     "data": {
      "text/html": [
       "<div>\n",
       "<style scoped>\n",
       "    .dataframe tbody tr th:only-of-type {\n",
       "        vertical-align: middle;\n",
       "    }\n",
       "\n",
       "    .dataframe tbody tr th {\n",
       "        vertical-align: top;\n",
       "    }\n",
       "\n",
       "    .dataframe thead th {\n",
       "        text-align: right;\n",
       "    }\n",
       "</style>\n",
       "<table border=\"1\" class=\"dataframe\">\n",
       "  <thead>\n",
       "    <tr style=\"text-align: right;\">\n",
       "      <th></th>\n",
       "      <th>Publisher</th>\n",
       "      <th>Platform</th>\n",
       "      <th>count</th>\n",
       "    </tr>\n",
       "  </thead>\n",
       "  <tbody>\n",
       "    <tr>\n",
       "      <th>0</th>\n",
       "      <td>Sony Computer Entertainment</td>\n",
       "      <td>PS2</td>\n",
       "      <td>204</td>\n",
       "    </tr>\n",
       "    <tr>\n",
       "      <th>1</th>\n",
       "      <td>Electronic Arts</td>\n",
       "      <td>PS2</td>\n",
       "      <td>199</td>\n",
       "    </tr>\n",
       "    <tr>\n",
       "      <th>2</th>\n",
       "      <td>Sony Computer Entertainment</td>\n",
       "      <td>PS</td>\n",
       "      <td>188</td>\n",
       "    </tr>\n",
       "    <tr>\n",
       "      <th>3</th>\n",
       "      <td>Ubisoft</td>\n",
       "      <td>DS</td>\n",
       "      <td>181</td>\n",
       "    </tr>\n",
       "    <tr>\n",
       "      <th>4</th>\n",
       "      <td>Electronic Arts</td>\n",
       "      <td>X360</td>\n",
       "      <td>167</td>\n",
       "    </tr>\n",
       "    <tr>\n",
       "      <th>...</th>\n",
       "      <td>...</td>\n",
       "      <td>...</td>\n",
       "      <td>...</td>\n",
       "    </tr>\n",
       "    <tr>\n",
       "      <th>1796</th>\n",
       "      <td>Mad Catz</td>\n",
       "      <td>XB</td>\n",
       "      <td>1</td>\n",
       "    </tr>\n",
       "    <tr>\n",
       "      <th>1797</th>\n",
       "      <td>Magical Company</td>\n",
       "      <td>PS</td>\n",
       "      <td>1</td>\n",
       "    </tr>\n",
       "    <tr>\n",
       "      <th>1798</th>\n",
       "      <td>Majesco Entertainment</td>\n",
       "      <td>PS2</td>\n",
       "      <td>1</td>\n",
       "    </tr>\n",
       "    <tr>\n",
       "      <th>1799</th>\n",
       "      <td>Majesco Entertainment</td>\n",
       "      <td>PS3</td>\n",
       "      <td>1</td>\n",
       "    </tr>\n",
       "    <tr>\n",
       "      <th>1800</th>\n",
       "      <td>responDESIGN</td>\n",
       "      <td>XB</td>\n",
       "      <td>1</td>\n",
       "    </tr>\n",
       "  </tbody>\n",
       "</table>\n",
       "<p>1801 rows × 3 columns</p>\n",
       "</div>"
      ],
      "text/plain": [
       "                        Publisher Platform  count\n",
       "0     Sony Computer Entertainment      PS2    204\n",
       "1                 Electronic Arts      PS2    199\n",
       "2     Sony Computer Entertainment       PS    188\n",
       "3                         Ubisoft       DS    181\n",
       "4                 Electronic Arts     X360    167\n",
       "...                           ...      ...    ...\n",
       "1796                     Mad Catz       XB      1\n",
       "1797              Magical Company       PS      1\n",
       "1798        Majesco Entertainment      PS2      1\n",
       "1799        Majesco Entertainment      PS3      1\n",
       "1800                 responDESIGN       XB      1\n",
       "\n",
       "[1801 rows x 3 columns]"
      ]
     },
     "metadata": {},
     "output_type": "display_data"
    }
   ],
   "source": [
    "df_platform = df_game[['Publisher', 'Platform']].value_counts().reset_index()\n",
    "display(df_platform)\n"
   ]
  },
  {
   "cell_type": "code",
   "execution_count": 12,
   "metadata": {},
   "outputs": [
    {
     "data": {
      "application/vnd.plotly.v1+json": {
       "config": {
        "plotlyServerURL": "https://plot.ly"
       },
       "data": [
        {
         "alignmentgroup": "True",
         "hovertemplate": "Publisher=Sony Computer Entertainment<br>Platform=%{x}<br>count=%{y}<extra></extra>",
         "legendgroup": "Sony Computer Entertainment",
         "marker": {
          "color": "#636efa",
          "pattern": {
           "shape": ""
          }
         },
         "name": "Sony Computer Entertainment",
         "offsetgroup": "Sony Computer Entertainment",
         "orientation": "v",
         "showlegend": true,
         "textposition": "auto",
         "type": "bar",
         "x": [
          "PS2",
          "PS",
          "PS3",
          "PSP",
          "PSV",
          "PS4"
         ],
         "xaxis": "x",
         "y": [
          204,
          188,
          129,
          117,
          28,
          17
         ],
         "yaxis": "y"
        },
        {
         "alignmentgroup": "True",
         "hovertemplate": "Publisher=Electronic Arts<br>Platform=%{x}<br>count=%{y}<extra></extra>",
         "legendgroup": "Electronic Arts",
         "marker": {
          "color": "#EF553B",
          "pattern": {
           "shape": ""
          }
         },
         "name": "Electronic Arts",
         "offsetgroup": "Electronic Arts",
         "orientation": "v",
         "showlegend": true,
         "textposition": "auto",
         "type": "bar",
         "x": [
          "PS2",
          "X360",
          "PC",
          "PS3",
          "XB",
          "PS",
          "Wii",
          "GC",
          "DS",
          "PSP",
          "GBA",
          "XOne",
          "PS4",
          "N64",
          "3DS",
          "PSV",
          "WiiU",
          "GB",
          "SAT"
         ],
         "xaxis": "x",
         "y": [
          199,
          167,
          148,
          142,
          123,
          106,
          90,
          90,
          79,
          72,
          40,
          27,
          26,
          23,
          7,
          6,
          4,
          1,
          1
         ],
         "yaxis": "y"
        },
        {
         "alignmentgroup": "True",
         "hovertemplate": "Publisher=Ubisoft<br>Platform=%{x}<br>count=%{y}<extra></extra>",
         "legendgroup": "Ubisoft",
         "marker": {
          "color": "#00cc96",
          "pattern": {
           "shape": ""
          }
         },
         "name": "Ubisoft",
         "offsetgroup": "Ubisoft",
         "orientation": "v",
         "showlegend": true,
         "textposition": "auto",
         "type": "bar",
         "x": [
          "DS",
          "Wii",
          "X360",
          "PC",
          "PS3",
          "PS2",
          "GBA",
          "XB",
          "PSP",
          "GC",
          "XOne",
          "PS4",
          "PS",
          "3DS",
          "WiiU",
          "N64",
          "PSV",
          "DC",
          "GB"
         ],
         "xaxis": "x",
         "y": [
          181,
          115,
          99,
          76,
          73,
          70,
          53,
          45,
          38,
          36,
          25,
          24,
          24,
          21,
          16,
          12,
          11,
          1,
          1
         ],
         "yaxis": "y"
        },
        {
         "alignmentgroup": "True",
         "hovertemplate": "Publisher=Konami Digital Entertainment<br>Platform=%{x}<br>count=%{y}<extra></extra>",
         "legendgroup": "Konami Digital Entertainment",
         "marker": {
          "color": "#ab63fa",
          "pattern": {
           "shape": ""
          }
         },
         "name": "Konami Digital Entertainment",
         "offsetgroup": "Konami Digital Entertainment",
         "orientation": "v",
         "showlegend": true,
         "textposition": "auto",
         "type": "bar",
         "x": [
          "PS2",
          "DS",
          "PS",
          "PSP",
          "PS3",
          "GBA",
          "Wii",
          "X360",
          "XB",
          "N64",
          "GC",
          "SNES",
          "PSV",
          "PC",
          "3DS",
          "GB",
          "NES",
          "PS4",
          "XOne",
          "SAT",
          "3DO",
          "DC",
          "GEN"
         ],
         "xaxis": "x",
         "y": [
          163,
          112,
          80,
          79,
          61,
          60,
          55,
          49,
          31,
          25,
          24,
          19,
          12,
          12,
          12,
          10,
          9,
          7,
          5,
          4,
          1,
          1,
          1
         ],
         "yaxis": "y"
        },
        {
         "alignmentgroup": "True",
         "hovertemplate": "Publisher=Nintendo<br>Platform=%{x}<br>count=%{y}<extra></extra>",
         "legendgroup": "Nintendo",
         "marker": {
          "color": "#FFA15A",
          "pattern": {
           "shape": ""
          }
         },
         "name": "Nintendo",
         "offsetgroup": "Nintendo",
         "orientation": "v",
         "showlegend": true,
         "textposition": "auto",
         "type": "bar",
         "x": [
          "DS",
          "GBA",
          "Wii",
          "3DS",
          "GB",
          "N64",
          "GC",
          "NES",
          "WiiU",
          "SNES"
         ],
         "xaxis": "x",
         "y": [
          151,
          91,
          84,
          82,
          61,
          60,
          53,
          45,
          40,
          36
         ],
         "yaxis": "y"
        },
        {
         "alignmentgroup": "True",
         "hovertemplate": "Publisher=Namco Bandai Games<br>Platform=%{x}<br>count=%{y}<extra></extra>",
         "legendgroup": "Namco Bandai Games",
         "marker": {
          "color": "#19d3f3",
          "pattern": {
           "shape": ""
          }
         },
         "name": "Namco Bandai Games",
         "offsetgroup": "Namco Bandai Games",
         "orientation": "v",
         "showlegend": true,
         "textposition": "auto",
         "type": "bar",
         "x": [
          "DS",
          "PSP",
          "PS3",
          "PS2",
          "3DS",
          "Wii",
          "PS",
          "PSV",
          "X360",
          "PS4",
          "SNES",
          "GC",
          "GBA",
          "NES",
          "WiiU",
          "PC",
          "XB",
          "SAT",
          "XOne",
          "N64",
          "WS",
          "GB",
          "DC"
         ],
         "xaxis": "x",
         "y": [
          135,
          121,
          116,
          107,
          87,
          56,
          48,
          45,
          44,
          30,
          26,
          22,
          16,
          14,
          13,
          12,
          10,
          8,
          7,
          6,
          4,
          3,
          2
         ],
         "yaxis": "y"
        },
        {
         "alignmentgroup": "True",
         "hovertemplate": "Publisher=Activision<br>Platform=%{x}<br>count=%{y}<extra></extra>",
         "legendgroup": "Activision",
         "marker": {
          "color": "#FF6692",
          "pattern": {
           "shape": ""
          }
         },
         "name": "Activision",
         "offsetgroup": "Activision",
         "orientation": "v",
         "showlegend": true,
         "textposition": "auto",
         "type": "bar",
         "x": [
          "X360",
          "Wii",
          "DS",
          "PS3",
          "PS2",
          "XB",
          "PC",
          "GBA",
          "GC",
          "PSP",
          "PS",
          "2600",
          "3DS",
          "PS4",
          "XOne",
          "WiiU",
          "N64",
          "PSV",
          "GB",
          "DC"
         ],
         "xaxis": "x",
         "y": [
          134,
          111,
          111,
          108,
          103,
          61,
          56,
          49,
          44,
          34,
          32,
          28,
          27,
          21,
          20,
          18,
          13,
          3,
          1,
          1
         ],
         "yaxis": "y"
        },
        {
         "alignmentgroup": "True",
         "hovertemplate": "Publisher=THQ<br>Platform=%{x}<br>count=%{y}<extra></extra>",
         "legendgroup": "THQ",
         "marker": {
          "color": "#B6E880",
          "pattern": {
           "shape": ""
          }
         },
         "name": "THQ",
         "offsetgroup": "THQ",
         "orientation": "v",
         "showlegend": true,
         "textposition": "auto",
         "type": "bar",
         "x": [
          "DS",
          "GBA",
          "PS2",
          "Wii",
          "X360",
          "XB",
          "GC",
          "PS3",
          "PSP",
          "PC",
          "PS",
          "N64",
          "3DS",
          "SNES",
          "WiiU"
         ],
         "xaxis": "x",
         "y": [
          115,
          110,
          100,
          76,
          64,
          48,
          47,
          46,
          30,
          29,
          27,
          18,
          3,
          1,
          1
         ],
         "yaxis": "y"
        },
        {
         "alignmentgroup": "True",
         "hovertemplate": "Publisher=Tecmo Koei<br>Platform=%{x}<br>count=%{y}<extra></extra>",
         "legendgroup": "Tecmo Koei",
         "marker": {
          "color": "#FF97FF",
          "pattern": {
           "shape": ""
          }
         },
         "name": "Tecmo Koei",
         "offsetgroup": "Tecmo Koei",
         "orientation": "v",
         "showlegend": true,
         "textposition": "auto",
         "type": "bar",
         "x": [
          "PS2",
          "PS3",
          "PSP",
          "PSV",
          "DS",
          "X360",
          "PS4",
          "PS",
          "3DS",
          "SNES",
          "XOne",
          "XB",
          "Wii",
          "WiiU",
          "SAT",
          "GBA",
          "GC"
         ],
         "xaxis": "x",
         "y": [
          85,
          56,
          33,
          32,
          26,
          23,
          22,
          18,
          9,
          8,
          6,
          6,
          6,
          3,
          3,
          1,
          1
         ],
         "yaxis": "y"
        },
        {
         "alignmentgroup": "True",
         "hovertemplate": "Publisher=Sega<br>Platform=%{x}<br>count=%{y}<extra></extra>",
         "legendgroup": "Sega",
         "marker": {
          "color": "#FECB52",
          "pattern": {
           "shape": ""
          }
         },
         "name": "Sega",
         "offsetgroup": "Sega",
         "orientation": "v",
         "showlegend": true,
         "textposition": "auto",
         "type": "bar",
         "x": [
          "PS2",
          "SAT",
          "DS",
          "PS3",
          "PSP",
          "X360",
          "Wii",
          "XB",
          "PC",
          "DC",
          "GC",
          "3DS",
          "GEN",
          "PSV",
          "GBA",
          "PS4",
          "SCD",
          "WiiU",
          "XOne",
          "GG",
          "2600"
         ],
         "xaxis": "x",
         "y": [
          83,
          77,
          64,
          61,
          51,
          47,
          44,
          38,
          33,
          30,
          25,
          21,
          18,
          16,
          10,
          8,
          6,
          4,
          1,
          1,
          1
         ],
         "yaxis": "y"
        },
        {
         "alignmentgroup": "True",
         "hovertemplate": "Publisher=Microsoft Game Studios<br>Platform=%{x}<br>count=%{y}<extra></extra>",
         "legendgroup": "Microsoft Game Studios",
         "marker": {
          "color": "#636efa",
          "pattern": {
           "shape": ""
          }
         },
         "name": "Microsoft Game Studios",
         "offsetgroup": "Microsoft Game Studios",
         "orientation": "v",
         "showlegend": true,
         "textposition": "auto",
         "type": "bar",
         "x": [
          "X360",
          "XB",
          "PC",
          "XOne",
          "WiiU"
         ],
         "xaxis": "x",
         "y": [
          71,
          68,
          29,
          20,
          1
         ],
         "yaxis": "y"
        },
        {
         "alignmentgroup": "True",
         "hovertemplate": "Publisher=Take-Two Interactive<br>Platform=%{x}<br>count=%{y}<extra></extra>",
         "legendgroup": "Take-Two Interactive",
         "marker": {
          "color": "#EF553B",
          "pattern": {
           "shape": ""
          }
         },
         "name": "Take-Two Interactive",
         "offsetgroup": "Take-Two Interactive",
         "orientation": "v",
         "showlegend": true,
         "textposition": "auto",
         "type": "bar",
         "x": [
          "X360",
          "PS2",
          "PS3",
          "PC",
          "Wii",
          "XB",
          "DS",
          "PSP",
          "PS",
          "XOne",
          "PS4",
          "N64",
          "GC",
          "GBA",
          "3DS",
          "PSV",
          "WiiU"
         ],
         "xaxis": "x",
         "y": [
          70,
          60,
          53,
          45,
          38,
          36,
          29,
          23,
          18,
          12,
          12,
          4,
          4,
          4,
          2,
          2,
          1
         ],
         "yaxis": "y"
        },
        {
         "alignmentgroup": "True",
         "hovertemplate": "Publisher=Atari<br>Platform=%{x}<br>count=%{y}<extra></extra>",
         "legendgroup": "Atari",
         "marker": {
          "color": "#00cc96",
          "pattern": {
           "shape": ""
          }
         },
         "name": "Atari",
         "offsetgroup": "Atari",
         "orientation": "v",
         "showlegend": true,
         "textposition": "auto",
         "type": "bar",
         "x": [
          "PS2",
          "2600",
          "GBA",
          "XB",
          "DS",
          "PC",
          "Wii",
          "X360",
          "GC",
          "PSP",
          "PS",
          "PS3",
          "3DS"
         ],
         "xaxis": "x",
         "y": [
          70,
          54,
          44,
          37,
          36,
          25,
          24,
          20,
          18,
          17,
          11,
          6,
          1
         ],
         "yaxis": "y"
        },
        {
         "alignmentgroup": "True",
         "hovertemplate": "Publisher=Idea Factory<br>Platform=%{x}<br>count=%{y}<extra></extra>",
         "legendgroup": "Idea Factory",
         "marker": {
          "color": "#ab63fa",
          "pattern": {
           "shape": ""
          }
         },
         "name": "Idea Factory",
         "offsetgroup": "Idea Factory",
         "orientation": "v",
         "showlegend": true,
         "textposition": "auto",
         "type": "bar",
         "x": [
          "PSP",
          "PSV",
          "PS2",
          "DS",
          "X360",
          "PS3",
          "PS4"
         ],
         "xaxis": "x",
         "y": [
          69,
          32,
          17,
          6,
          2,
          2,
          1
         ],
         "yaxis": "y"
        },
        {
         "alignmentgroup": "True",
         "hovertemplate": "Publisher=505 Games<br>Platform=%{x}<br>count=%{y}<extra></extra>",
         "legendgroup": "505 Games",
         "marker": {
          "color": "#FFA15A",
          "pattern": {
           "shape": ""
          }
         },
         "name": "505 Games",
         "offsetgroup": "505 Games",
         "orientation": "v",
         "showlegend": true,
         "textposition": "auto",
         "type": "bar",
         "x": [
          "DS",
          "Wii",
          "X360",
          "PS2",
          "PS3",
          "PSP",
          "XOne",
          "PS4",
          "PC",
          "3DS",
          "WiiU",
          "PSV",
          "XB"
         ],
         "xaxis": "x",
         "y": [
          65,
          30,
          27,
          22,
          15,
          10,
          6,
          6,
          4,
          3,
          2,
          1,
          1
         ],
         "yaxis": "y"
        },
        {
         "alignmentgroup": "True",
         "hovertemplate": "Publisher=Capcom<br>Platform=%{x}<br>count=%{y}<extra></extra>",
         "legendgroup": "Capcom",
         "marker": {
          "color": "#19d3f3",
          "pattern": {
           "shape": ""
          }
         },
         "name": "Capcom",
         "offsetgroup": "Capcom",
         "orientation": "v",
         "showlegend": true,
         "textposition": "auto",
         "type": "bar",
         "x": [
          "PS2",
          "PS3",
          "X360",
          "PSP",
          "DS",
          "GBA",
          "GC",
          "PS",
          "Wii",
          "XB",
          "PC",
          "PS4",
          "3DS",
          "SNES",
          "NES",
          "SAT",
          "XOne",
          "PSV",
          "DC",
          "GB",
          "GEN",
          "WiiU",
          "N64"
         ],
         "xaxis": "x",
         "y": [
          61,
          42,
          35,
          26,
          25,
          22,
          19,
          18,
          18,
          16,
          16,
          16,
          15,
          12,
          12,
          9,
          5,
          3,
          3,
          3,
          2,
          2,
          1
         ],
         "yaxis": "y"
        },
        {
         "alignmentgroup": "True",
         "hovertemplate": "Publisher=Disney Interactive Studios<br>Platform=%{x}<br>count=%{y}<extra></extra>",
         "legendgroup": "Disney Interactive Studios",
         "marker": {
          "color": "#FF6692",
          "pattern": {
           "shape": ""
          }
         },
         "name": "Disney Interactive Studios",
         "offsetgroup": "Disney Interactive Studios",
         "orientation": "v",
         "showlegend": true,
         "textposition": "auto",
         "type": "bar",
         "x": [
          "DS",
          "Wii",
          "PS3",
          "X360",
          "GBA",
          "PS2",
          "PSP",
          "3DS",
          "WiiU",
          "XB",
          "PC",
          "XOne",
          "GC",
          "PSV",
          "PS4"
         ],
         "xaxis": "x",
         "y": [
          59,
          39,
          22,
          21,
          19,
          17,
          10,
          7,
          6,
          4,
          4,
          3,
          3,
          2,
          2
         ],
         "yaxis": "y"
        },
        {
         "alignmentgroup": "True",
         "hovertemplate": "Publisher=Acclaim Entertainment<br>Platform=%{x}<br>count=%{y}<extra></extra>",
         "legendgroup": "Acclaim Entertainment",
         "marker": {
          "color": "#B6E880",
          "pattern": {
           "shape": ""
          }
         },
         "name": "Acclaim Entertainment",
         "offsetgroup": "Acclaim Entertainment",
         "orientation": "v",
         "showlegend": true,
         "textposition": "auto",
         "type": "bar",
         "x": [
          "PS",
          "PS2",
          "N64",
          "GC",
          "XB",
          "GBA",
          "SNES",
          "SAT",
          "GEN",
          "DC",
          "PC"
         ],
         "xaxis": "x",
         "y": [
          54,
          33,
          31,
          24,
          21,
          10,
          4,
          3,
          2,
          1,
          1
         ],
         "yaxis": "y"
        },
        {
         "alignmentgroup": "True",
         "hovertemplate": "Publisher=Midway Games<br>Platform=%{x}<br>count=%{y}<extra></extra>",
         "legendgroup": "Midway Games",
         "marker": {
          "color": "#FF97FF",
          "pattern": {
           "shape": ""
          }
         },
         "name": "Midway Games",
         "offsetgroup": "Midway Games",
         "orientation": "v",
         "showlegend": true,
         "textposition": "auto",
         "type": "bar",
         "x": [
          "PS2",
          "XB",
          "GC",
          "N64",
          "PS",
          "Wii",
          "X360",
          "DS",
          "PSP",
          "PS3",
          "GBA",
          "PC"
         ],
         "xaxis": "x",
         "y": [
          50,
          39,
          25,
          20,
          14,
          10,
          9,
          8,
          7,
          7,
          7,
          2
         ],
         "yaxis": "y"
        },
        {
         "alignmentgroup": "True",
         "hovertemplate": "Publisher=D3Publisher<br>Platform=%{x}<br>count=%{y}<extra></extra>",
         "legendgroup": "D3Publisher",
         "marker": {
          "color": "#FECB52",
          "pattern": {
           "shape": ""
          }
         },
         "name": "D3Publisher",
         "offsetgroup": "D3Publisher",
         "orientation": "v",
         "showlegend": true,
         "textposition": "auto",
         "type": "bar",
         "x": [
          "DS",
          "PSP",
          "PS2",
          "Wii",
          "X360",
          "PS3",
          "PSV",
          "3DS",
          "PS",
          "WiiU",
          "PS4",
          "GBA",
          "GC"
         ],
         "xaxis": "x",
         "y": [
          48,
          32,
          24,
          22,
          16,
          14,
          9,
          7,
          4,
          3,
          2,
          2,
          1
         ],
         "yaxis": "y"
        },
        {
         "alignmentgroup": "True",
         "hovertemplate": "Publisher=Square Enix<br>Platform=%{x}<br>count=%{y}<extra></extra>",
         "legendgroup": "Square Enix",
         "marker": {
          "color": "#636efa",
          "pattern": {
           "shape": ""
          }
         },
         "name": "Square Enix",
         "offsetgroup": "Square Enix",
         "orientation": "v",
         "showlegend": true,
         "textposition": "auto",
         "type": "bar",
         "x": [
          "DS",
          "PS3",
          "PS2",
          "X360",
          "PC",
          "PSP",
          "PS4",
          "3DS",
          "XOne",
          "Wii",
          "PSV",
          "WiiU",
          "GBA"
         ],
         "xaxis": "x",
         "y": [
          45,
          29,
          26,
          26,
          21,
          20,
          19,
          14,
          11,
          9,
          8,
          3,
          2
         ],
         "yaxis": "y"
        },
        {
         "alignmentgroup": "True",
         "hovertemplate": "Publisher=Eidos Interactive<br>Platform=%{x}<br>count=%{y}<extra></extra>",
         "legendgroup": "Eidos Interactive",
         "marker": {
          "color": "#EF553B",
          "pattern": {
           "shape": ""
          }
         },
         "name": "Eidos Interactive",
         "offsetgroup": "Eidos Interactive",
         "orientation": "v",
         "showlegend": true,
         "textposition": "auto",
         "type": "bar",
         "x": [
          "PS2",
          "PS",
          "PC",
          "XB",
          "DS",
          "X360",
          "Wii",
          "GC",
          "PSP",
          "PS3",
          "GBA",
          "DC",
          "GB"
         ],
         "xaxis": "x",
         "y": [
          44,
          28,
          28,
          24,
          21,
          14,
          12,
          8,
          7,
          7,
          2,
          2,
          1
         ],
         "yaxis": "y"
        },
        {
         "alignmentgroup": "True",
         "hovertemplate": "Publisher=Rising Star Games<br>Platform=%{x}<br>count=%{y}<extra></extra>",
         "legendgroup": "Rising Star Games",
         "marker": {
          "color": "#00cc96",
          "pattern": {
           "shape": ""
          }
         },
         "name": "Rising Star Games",
         "offsetgroup": "Rising Star Games",
         "orientation": "v",
         "showlegend": true,
         "textposition": "auto",
         "type": "bar",
         "x": [
          "DS",
          "Wii",
          "PSP",
          "X360",
          "3DS",
          "PS2",
          "PS3",
          "PC",
          "PS4",
          "PSV"
         ],
         "xaxis": "x",
         "y": [
          40,
          17,
          12,
          5,
          4,
          3,
          2,
          1,
          1,
          1
         ],
         "yaxis": "y"
        },
        {
         "alignmentgroup": "True",
         "hovertemplate": "Publisher=Majesco Entertainment<br>Platform=%{x}<br>count=%{y}<extra></extra>",
         "legendgroup": "Majesco Entertainment",
         "marker": {
          "color": "#ab63fa",
          "pattern": {
           "shape": ""
          }
         },
         "name": "Majesco Entertainment",
         "offsetgroup": "Majesco Entertainment",
         "orientation": "v",
         "showlegend": true,
         "textposition": "auto",
         "type": "bar",
         "x": [
          "DS",
          "Wii",
          "GBA",
          "X360",
          "3DS",
          "PSP",
          "XOne",
          "XB",
          "PS2",
          "PS3"
         ],
         "xaxis": "x",
         "y": [
          39,
          24,
          15,
          4,
          4,
          2,
          1,
          1,
          1,
          1
         ],
         "yaxis": "y"
        },
        {
         "alignmentgroup": "True",
         "hovertemplate": "Publisher=Virgin Interactive<br>Platform=%{x}<br>count=%{y}<extra></extra>",
         "legendgroup": "Virgin Interactive",
         "marker": {
          "color": "#FFA15A",
          "pattern": {
           "shape": ""
          }
         },
         "name": "Virgin Interactive",
         "offsetgroup": "Virgin Interactive",
         "orientation": "v",
         "showlegend": true,
         "textposition": "auto",
         "type": "bar",
         "x": [
          "PS",
          "PS2",
          "PC",
          "N64",
          "SAT",
          "GC",
          "DC",
          "GEN",
          "SNES",
          "XB"
         ],
         "xaxis": "x",
         "y": [
          39,
          6,
          4,
          4,
          2,
          2,
          2,
          1,
          1,
          1
         ],
         "yaxis": "y"
        },
        {
         "alignmentgroup": "True",
         "hovertemplate": "Publisher=Zoo Digital Publishing<br>Platform=%{x}<br>count=%{y}<extra></extra>",
         "legendgroup": "Zoo Digital Publishing",
         "marker": {
          "color": "#19d3f3",
          "pattern": {
           "shape": ""
          }
         },
         "name": "Zoo Digital Publishing",
         "offsetgroup": "Zoo Digital Publishing",
         "orientation": "v",
         "showlegend": true,
         "textposition": "auto",
         "type": "bar",
         "x": [
          "GBA",
          "DS",
          "Wii",
          "PS2",
          "XB",
          "GC"
         ],
         "xaxis": "x",
         "y": [
          38,
          26,
          18,
          11,
          10,
          1
         ],
         "yaxis": "y"
        },
        {
         "alignmentgroup": "True",
         "hovertemplate": "Publisher=Warner Bros. Interactive Entertainment<br>Platform=%{x}<br>count=%{y}<extra></extra>",
         "legendgroup": "Warner Bros. Interactive Entertainment",
         "marker": {
          "color": "#FF6692",
          "pattern": {
           "shape": ""
          }
         },
         "name": "Warner Bros. Interactive Entertainment",
         "offsetgroup": "Warner Bros. Interactive Entertainment",
         "orientation": "v",
         "showlegend": true,
         "textposition": "auto",
         "type": "bar",
         "x": [
          "X360",
          "PS3",
          "DS",
          "Wii",
          "PC",
          "3DS",
          "PSV",
          "WiiU",
          "PS4",
          "XOne",
          "PS2",
          "PSP",
          "GC"
         ],
         "xaxis": "x",
         "y": [
          34,
          32,
          32,
          24,
          20,
          18,
          16,
          15,
          14,
          13,
          8,
          5,
          1
         ],
         "yaxis": "y"
        },
        {
         "alignmentgroup": "True",
         "hovertemplate": "Publisher=Unknown<br>Platform=%{x}<br>count=%{y}<extra></extra>",
         "legendgroup": "Unknown",
         "marker": {
          "color": "#B6E880",
          "pattern": {
           "shape": ""
          }
         },
         "name": "Unknown",
         "offsetgroup": "Unknown",
         "orientation": "v",
         "showlegend": true,
         "textposition": "auto",
         "type": "bar",
         "x": [
          "DS",
          "Wii",
          "PS2",
          "PC",
          "PS3",
          "PSP",
          "X360",
          "GC",
          "XB",
          "GBA",
          "3DS",
          "PSV",
          "PS",
          "2600",
          "N64",
          "PS4",
          "XOne"
         ],
         "xaxis": "x",
         "y": [
          33,
          26,
          24,
          22,
          15,
          13,
          12,
          12,
          12,
          11,
          9,
          6,
          4,
          1,
          1,
          1,
          1
         ],
         "yaxis": "y"
        },
        {
         "alignmentgroup": "True",
         "hovertemplate": "Publisher=Nippon Ichi Software<br>Platform=%{x}<br>count=%{y}<extra></extra>",
         "legendgroup": "Nippon Ichi Software",
         "marker": {
          "color": "#FF97FF",
          "pattern": {
           "shape": ""
          }
         },
         "name": "Nippon Ichi Software",
         "offsetgroup": "Nippon Ichi Software",
         "orientation": "v",
         "showlegend": true,
         "textposition": "auto",
         "type": "bar",
         "x": [
          "PS3",
          "PSV",
          "PSP",
          "PS4",
          "3DS",
          "PS2",
          "DS",
          "PS",
          "Wii",
          "WiiU"
         ],
         "xaxis": "x",
         "y": [
          33,
          31,
          17,
          9,
          5,
          5,
          2,
          1,
          1,
          1
         ],
         "yaxis": "y"
        },
        {
         "alignmentgroup": "True",
         "hovertemplate": "Publisher=Psygnosis<br>Platform=%{x}<br>count=%{y}<extra></extra>",
         "legendgroup": "Psygnosis",
         "marker": {
          "color": "#FECB52",
          "pattern": {
           "shape": ""
          }
         },
         "name": "Psygnosis",
         "offsetgroup": "Psygnosis",
         "orientation": "v",
         "showlegend": true,
         "textposition": "auto",
         "type": "bar",
         "x": [
          "PS"
         ],
         "xaxis": "x",
         "y": [
          32
         ],
         "yaxis": "y"
        },
        {
         "alignmentgroup": "True",
         "hovertemplate": "Publisher=Vivendi Games<br>Platform=%{x}<br>count=%{y}<extra></extra>",
         "legendgroup": "Vivendi Games",
         "marker": {
          "color": "#636efa",
          "pattern": {
           "shape": ""
          }
         },
         "name": "Vivendi Games",
         "offsetgroup": "Vivendi Games",
         "orientation": "v",
         "showlegend": true,
         "textposition": "auto",
         "type": "bar",
         "x": [
          "PS2",
          "XB",
          "GBA",
          "PC",
          "GC",
          "DS",
          "X360",
          "Wii",
          "PSP",
          "PS3",
          "PS"
         ],
         "xaxis": "x",
         "y": [
          31,
          26,
          23,
          23,
          15,
          13,
          9,
          9,
          8,
          5,
          2
         ],
         "yaxis": "y"
        },
        {
         "alignmentgroup": "True",
         "hovertemplate": "Publisher=Focus Home Interactive<br>Platform=%{x}<br>count=%{y}<extra></extra>",
         "legendgroup": "Focus Home Interactive",
         "marker": {
          "color": "#EF553B",
          "pattern": {
           "shape": ""
          }
         },
         "name": "Focus Home Interactive",
         "offsetgroup": "Focus Home Interactive",
         "orientation": "v",
         "showlegend": true,
         "textposition": "auto",
         "type": "bar",
         "x": [
          "PC",
          "X360",
          "PS4",
          "PS3",
          "DS",
          "XOne",
          "Wii",
          "PSV"
         ],
         "xaxis": "x",
         "y": [
          28,
          8,
          6,
          5,
          5,
          3,
          2,
          1
         ],
         "yaxis": "y"
        },
        {
         "alignmentgroup": "True",
         "hovertemplate": "Publisher=Codemasters<br>Platform=%{x}<br>count=%{y}<extra></extra>",
         "legendgroup": "Codemasters",
         "marker": {
          "color": "#00cc96",
          "pattern": {
           "shape": ""
          }
         },
         "name": "Codemasters",
         "offsetgroup": "Codemasters",
         "orientation": "v",
         "showlegend": true,
         "textposition": "auto",
         "type": "bar",
         "x": [
          "X360",
          "PC",
          "PS3",
          "PS2",
          "XB",
          "PS",
          "DS",
          "Wii",
          "PSP",
          "PS4",
          "XOne",
          "GBA",
          "3DS",
          "GC",
          "N64",
          "PSV"
         ],
         "xaxis": "x",
         "y": [
          27,
          27,
          26,
          17,
          15,
          9,
          7,
          6,
          6,
          3,
          3,
          2,
          1,
          1,
          1,
          1
         ],
         "yaxis": "y"
        },
        {
         "alignmentgroup": "True",
         "hovertemplate": "Publisher=GT Interactive<br>Platform=%{x}<br>count=%{y}<extra></extra>",
         "legendgroup": "GT Interactive",
         "marker": {
          "color": "#ab63fa",
          "pattern": {
           "shape": ""
          }
         },
         "name": "GT Interactive",
         "offsetgroup": "GT Interactive",
         "orientation": "v",
         "showlegend": true,
         "textposition": "auto",
         "type": "bar",
         "x": [
          "PS",
          "N64"
         ],
         "xaxis": "x",
         "y": [
          27,
          18
         ],
         "yaxis": "y"
        },
        {
         "alignmentgroup": "True",
         "hovertemplate": "Publisher=SquareSoft<br>Platform=%{x}<br>count=%{y}<extra></extra>",
         "legendgroup": "SquareSoft",
         "marker": {
          "color": "#FFA15A",
          "pattern": {
           "shape": ""
          }
         },
         "name": "SquareSoft",
         "offsetgroup": "SquareSoft",
         "orientation": "v",
         "showlegend": true,
         "textposition": "auto",
         "type": "bar",
         "x": [
          "PS",
          "SNES",
          "PS2",
          "GB",
          "NES",
          "WS",
          "GBA"
         ],
         "xaxis": "x",
         "y": [
          25,
          14,
          4,
          3,
          3,
          2,
          1
         ],
         "yaxis": "y"
        },
        {
         "alignmentgroup": "True",
         "hovertemplate": "Publisher=Infogrames<br>Platform=%{x}<br>count=%{y}<extra></extra>",
         "legendgroup": "Infogrames",
         "marker": {
          "color": "#19d3f3",
          "pattern": {
           "shape": ""
          }
         },
         "name": "Infogrames",
         "offsetgroup": "Infogrames",
         "orientation": "v",
         "showlegend": true,
         "textposition": "auto",
         "type": "bar",
         "x": [
          "PS",
          "N64",
          "GC",
          "GBA",
          "PS2",
          "XB",
          "DC",
          "PC"
         ],
         "xaxis": "x",
         "y": [
          23,
          8,
          8,
          8,
          7,
          6,
          1,
          1
         ],
         "yaxis": "y"
        },
        {
         "alignmentgroup": "True",
         "hovertemplate": "Publisher=Paradox Interactive<br>Platform=%{x}<br>count=%{y}<extra></extra>",
         "legendgroup": "Paradox Interactive",
         "marker": {
          "color": "#FF6692",
          "pattern": {
           "shape": ""
          }
         },
         "name": "Paradox Interactive",
         "offsetgroup": "Paradox Interactive",
         "orientation": "v",
         "showlegend": true,
         "textposition": "auto",
         "type": "bar",
         "x": [
          "PC"
         ],
         "xaxis": "x",
         "y": [
          23
         ],
         "yaxis": "y"
        },
        {
         "alignmentgroup": "True",
         "hovertemplate": "Publisher=Deep Silver<br>Platform=%{x}<br>count=%{y}<extra></extra>",
         "legendgroup": "Deep Silver",
         "marker": {
          "color": "#B6E880",
          "pattern": {
           "shape": ""
          }
         },
         "name": "Deep Silver",
         "offsetgroup": "Deep Silver",
         "orientation": "v",
         "showlegend": true,
         "textposition": "auto",
         "type": "bar",
         "x": [
          "X360",
          "DS",
          "PC",
          "PS3",
          "Wii",
          "PS4",
          "XOne",
          "PSP",
          "XB",
          "3DS",
          "WiiU"
         ],
         "xaxis": "x",
         "y": [
          22,
          21,
          21,
          20,
          13,
          10,
          6,
          3,
          3,
          2,
          1
         ],
         "yaxis": "y"
        },
        {
         "alignmentgroup": "True",
         "hovertemplate": "Publisher=Destineer<br>Platform=%{x}<br>count=%{y}<extra></extra>",
         "legendgroup": "Destineer",
         "marker": {
          "color": "#FF97FF",
          "pattern": {
           "shape": ""
          }
         },
         "name": "Destineer",
         "offsetgroup": "Destineer",
         "orientation": "v",
         "showlegend": true,
         "textposition": "auto",
         "type": "bar",
         "x": [
          "DS",
          "Wii",
          "PSP",
          "PC",
          "PS2"
         ],
         "xaxis": "x",
         "y": [
          22,
          19,
          2,
          1,
          1
         ],
         "yaxis": "y"
        },
        {
         "alignmentgroup": "True",
         "hovertemplate": "Publisher=Takara Tomy<br>Platform=%{x}<br>count=%{y}<extra></extra>",
         "legendgroup": "Takara Tomy",
         "marker": {
          "color": "#FECB52",
          "pattern": {
           "shape": ""
          }
         },
         "name": "Takara Tomy",
         "offsetgroup": "Takara Tomy",
         "orientation": "v",
         "showlegend": true,
         "textposition": "auto",
         "type": "bar",
         "x": [
          "DS",
          "Wii",
          "3DS",
          "PSP",
          "X360"
         ],
         "xaxis": "x",
         "y": [
          22,
          8,
          3,
          3,
          1
         ],
         "yaxis": "y"
        },
        {
         "alignmentgroup": "True",
         "hovertemplate": "Publisher=Zoo Games<br>Platform=%{x}<br>count=%{y}<extra></extra>",
         "legendgroup": "Zoo Games",
         "marker": {
          "color": "#636efa",
          "pattern": {
           "shape": ""
          }
         },
         "name": "Zoo Games",
         "offsetgroup": "Zoo Games",
         "orientation": "v",
         "showlegend": true,
         "textposition": "auto",
         "type": "bar",
         "x": [
          "Wii",
          "DS",
          "X360"
         ],
         "xaxis": "x",
         "y": [
          22,
          10,
          1
         ],
         "yaxis": "y"
        },
        {
         "alignmentgroup": "True",
         "hovertemplate": "Publisher=Banpresto<br>Platform=%{x}<br>count=%{y}<extra></extra>",
         "legendgroup": "Banpresto",
         "marker": {
          "color": "#EF553B",
          "pattern": {
           "shape": ""
          }
         },
         "name": "Banpresto",
         "offsetgroup": "Banpresto",
         "orientation": "v",
         "showlegend": true,
         "textposition": "auto",
         "type": "bar",
         "x": [
          "PS2",
          "SNES",
          "GBA",
          "PS",
          "DS",
          "PSP",
          "SAT",
          "N64",
          "X360",
          "GB"
         ],
         "xaxis": "x",
         "y": [
          21,
          13,
          11,
          10,
          6,
          5,
          2,
          2,
          2,
          1
         ],
         "yaxis": "y"
        },
        {
         "alignmentgroup": "True",
         "hovertemplate": "Publisher=Kalypso Media<br>Platform=%{x}<br>count=%{y}<extra></extra>",
         "legendgroup": "Kalypso Media",
         "marker": {
          "color": "#00cc96",
          "pattern": {
           "shape": ""
          }
         },
         "name": "Kalypso Media",
         "offsetgroup": "Kalypso Media",
         "orientation": "v",
         "showlegend": true,
         "textposition": "auto",
         "type": "bar",
         "x": [
          "PC",
          "X360",
          "PS4",
          "PS3"
         ],
         "xaxis": "x",
         "y": [
          20,
          6,
          2,
          1
         ],
         "yaxis": "y"
        },
        {
         "alignmentgroup": "True",
         "hovertemplate": "Publisher=Kadokawa Shoten<br>Platform=%{x}<br>count=%{y}<extra></extra>",
         "legendgroup": "Kadokawa Shoten",
         "marker": {
          "color": "#ab63fa",
          "pattern": {
           "shape": ""
          }
         },
         "name": "Kadokawa Shoten",
         "offsetgroup": "Kadokawa Shoten",
         "orientation": "v",
         "showlegend": true,
         "textposition": "auto",
         "type": "bar",
         "x": [
          "PSP",
          "PS2",
          "DS",
          "SAT",
          "PS",
          "PSV",
          "Wii",
          "3DS"
         ],
         "xaxis": "x",
         "y": [
          19,
          12,
          5,
          4,
          3,
          3,
          2,
          2
         ],
         "yaxis": "y"
        },
        {
         "alignmentgroup": "True",
         "hovertemplate": "Publisher=Game Factory<br>Platform=%{x}<br>count=%{y}<extra></extra>",
         "legendgroup": "Game Factory",
         "marker": {
          "color": "#FFA15A",
          "pattern": {
           "shape": ""
          }
         },
         "name": "Game Factory",
         "offsetgroup": "Game Factory",
         "orientation": "v",
         "showlegend": true,
         "textposition": "auto",
         "type": "bar",
         "x": [
          "DS",
          "GBA",
          "Wii",
          "PSP",
          "PS2"
         ],
         "xaxis": "x",
         "y": [
          18,
          5,
          5,
          2,
          2
         ],
         "yaxis": "y"
        },
        {
         "alignmentgroup": "True",
         "hovertemplate": "Publisher=Hudson Soft<br>Platform=%{x}<br>count=%{y}<extra></extra>",
         "legendgroup": "Hudson Soft",
         "marker": {
          "color": "#19d3f3",
          "pattern": {
           "shape": ""
          }
         },
         "name": "Hudson Soft",
         "offsetgroup": "Hudson Soft",
         "orientation": "v",
         "showlegend": true,
         "textposition": "auto",
         "type": "bar",
         "x": [
          "SNES",
          "DS",
          "Wii",
          "NES",
          "PS2",
          "PSP",
          "SAT",
          "N64",
          "GC",
          "3DS",
          "GBA",
          "PS",
          "NG",
          "PS3",
          "TG16",
          "X360",
          "XB"
         ],
         "xaxis": "x",
         "y": [
          18,
          15,
          12,
          7,
          6,
          4,
          3,
          3,
          2,
          2,
          2,
          2,
          1,
          1,
          1,
          1,
          1
         ],
         "yaxis": "y"
        },
        {
         "alignmentgroup": "True",
         "hovertemplate": "Publisher=LucasArts<br>Platform=%{x}<br>count=%{y}<extra></extra>",
         "legendgroup": "LucasArts",
         "marker": {
          "color": "#FF6692",
          "pattern": {
           "shape": ""
          }
         },
         "name": "LucasArts",
         "offsetgroup": "LucasArts",
         "orientation": "v",
         "showlegend": true,
         "textposition": "auto",
         "type": "bar",
         "x": [
          "PS2",
          "PC",
          "PSP",
          "DS",
          "Wii",
          "X360",
          "XB",
          "PS3",
          "PS",
          "GC",
          "3DS",
          "GBA",
          "N64"
         ],
         "xaxis": "x",
         "y": [
          17,
          14,
          9,
          9,
          8,
          8,
          8,
          6,
          4,
          4,
          1,
          1,
          1
         ],
         "yaxis": "y"
        },
        {
         "alignmentgroup": "True",
         "hovertemplate": "Publisher=Ignition Entertainment<br>Platform=%{x}<br>count=%{y}<extra></extra>",
         "legendgroup": "Ignition Entertainment",
         "marker": {
          "color": "#B6E880",
          "pattern": {
           "shape": ""
          }
         },
         "name": "Ignition Entertainment",
         "offsetgroup": "Ignition Entertainment",
         "orientation": "v",
         "showlegend": true,
         "textposition": "auto",
         "type": "bar",
         "x": [
          "PS2",
          "DS",
          "PSP",
          "Wii",
          "GBA",
          "XB",
          "GC",
          "PS3",
          "X360"
         ],
         "xaxis": "x",
         "y": [
          17,
          13,
          8,
          6,
          6,
          3,
          3,
          3,
          2
         ],
         "yaxis": "y"
        },
        {
         "alignmentgroup": "True",
         "hovertemplate": "Publisher=Empire Interactive<br>Platform=%{x}<br>count=%{y}<extra></extra>",
         "legendgroup": "Empire Interactive",
         "marker": {
          "color": "#FF97FF",
          "pattern": {
           "shape": ""
          }
         },
         "name": "Empire Interactive",
         "offsetgroup": "Empire Interactive",
         "orientation": "v",
         "showlegend": true,
         "textposition": "auto",
         "type": "bar",
         "x": [
          "PS2",
          "XB",
          "PS",
          "DS",
          "PC",
          "PSP",
          "GC",
          "GBA",
          "X360"
         ],
         "xaxis": "x",
         "y": [
          16,
          11,
          6,
          6,
          4,
          3,
          3,
          2,
          1
         ],
         "yaxis": "y"
        },
        {
         "alignmentgroup": "True",
         "hovertemplate": "Publisher=Global Star<br>Platform=%{x}<br>count=%{y}<extra></extra>",
         "legendgroup": "Global Star",
         "marker": {
          "color": "#FECB52",
          "pattern": {
           "shape": ""
          }
         },
         "name": "Global Star",
         "offsetgroup": "Global Star",
         "orientation": "v",
         "showlegend": true,
         "textposition": "auto",
         "type": "bar",
         "x": [
          "XB",
          "PS2",
          "GC",
          "GBA"
         ],
         "xaxis": "x",
         "y": [
          16,
          14,
          6,
          3
         ],
         "yaxis": "y"
        },
        {
         "alignmentgroup": "True",
         "hovertemplate": "Publisher=3DO<br>Platform=%{x}<br>count=%{y}<extra></extra>",
         "legendgroup": "3DO",
         "marker": {
          "color": "#636efa",
          "pattern": {
           "shape": ""
          }
         },
         "name": "3DO",
         "offsetgroup": "3DO",
         "orientation": "v",
         "showlegend": true,
         "textposition": "auto",
         "type": "bar",
         "x": [
          "PS",
          "PS2",
          "N64",
          "GC",
          "XB"
         ],
         "xaxis": "x",
         "y": [
          16,
          13,
          5,
          1,
          1
         ],
         "yaxis": "y"
        },
        {
         "alignmentgroup": "True",
         "hovertemplate": "Publisher=Avanquest<br>Platform=%{x}<br>count=%{y}<extra></extra>",
         "legendgroup": "Avanquest",
         "marker": {
          "color": "#EF553B",
          "pattern": {
           "shape": ""
          }
         },
         "name": "Avanquest",
         "offsetgroup": "Avanquest",
         "orientation": "v",
         "showlegend": true,
         "textposition": "auto",
         "type": "bar",
         "x": [
          "DS",
          "Wii",
          "PC",
          "PS4"
         ],
         "xaxis": "x",
         "y": [
          16,
          4,
          4,
          2
         ],
         "yaxis": "y"
        },
        {
         "alignmentgroup": "True",
         "hovertemplate": "Publisher=Interplay<br>Platform=%{x}<br>count=%{y}<extra></extra>",
         "legendgroup": "Interplay",
         "marker": {
          "color": "#00cc96",
          "pattern": {
           "shape": ""
          }
         },
         "name": "Interplay",
         "offsetgroup": "Interplay",
         "orientation": "v",
         "showlegend": true,
         "textposition": "auto",
         "type": "bar",
         "x": [
          "PS",
          "PS2",
          "N64",
          "PC",
          "XB",
          "GBA",
          "SNES"
         ],
         "xaxis": "x",
         "y": [
          15,
          4,
          3,
          3,
          2,
          2,
          1
         ],
         "yaxis": "y"
        },
        {
         "alignmentgroup": "True",
         "hovertemplate": "Publisher=Nordic Games<br>Platform=%{x}<br>count=%{y}<extra></extra>",
         "legendgroup": "Nordic Games",
         "marker": {
          "color": "#ab63fa",
          "pattern": {
           "shape": ""
          }
         },
         "name": "Nordic Games",
         "offsetgroup": "Nordic Games",
         "orientation": "v",
         "showlegend": true,
         "textposition": "auto",
         "type": "bar",
         "x": [
          "Wii",
          "PS4",
          "PC",
          "WiiU",
          "XOne",
          "PS3",
          "X360",
          "DS"
         ],
         "xaxis": "x",
         "y": [
          15,
          6,
          4,
          3,
          2,
          2,
          2,
          1
         ],
         "yaxis": "y"
        },
        {
         "alignmentgroup": "True",
         "hovertemplate": "Publisher=Alchemist<br>Platform=%{x}<br>count=%{y}<extra></extra>",
         "legendgroup": "Alchemist",
         "marker": {
          "color": "#FFA15A",
          "pattern": {
           "shape": ""
          }
         },
         "name": "Alchemist",
         "offsetgroup": "Alchemist",
         "orientation": "v",
         "showlegend": true,
         "textposition": "auto",
         "type": "bar",
         "x": [
          "PSP",
          "PS2",
          "DS",
          "3DS",
          "X360",
          "PS3"
         ],
         "xaxis": "x",
         "y": [
          15,
          13,
          6,
          5,
          2,
          2
         ],
         "yaxis": "y"
        },
        {
         "alignmentgroup": "True",
         "hovertemplate": "Publisher=Bethesda Softworks<br>Platform=%{x}<br>count=%{y}<extra></extra>",
         "legendgroup": "Bethesda Softworks",
         "marker": {
          "color": "#19d3f3",
          "pattern": {
           "shape": ""
          }
         },
         "name": "Bethesda Softworks",
         "offsetgroup": "Bethesda Softworks",
         "orientation": "v",
         "showlegend": true,
         "textposition": "auto",
         "type": "bar",
         "x": [
          "X360",
          "PC",
          "PS3",
          "XOne",
          "PS4",
          "PS2",
          "XB",
          "Wii"
         ],
         "xaxis": "x",
         "y": [
          15,
          15,
          13,
          7,
          7,
          6,
          4,
          4
         ],
         "yaxis": "y"
        },
        {
         "alignmentgroup": "True",
         "hovertemplate": "Publisher=5pb<br>Platform=%{x}<br>count=%{y}<extra></extra>",
         "legendgroup": "5pb",
         "marker": {
          "color": "#FF6692",
          "pattern": {
           "shape": ""
          }
         },
         "name": "5pb",
         "offsetgroup": "5pb",
         "orientation": "v",
         "showlegend": true,
         "textposition": "auto",
         "type": "bar",
         "x": [
          "X360",
          "PSV",
          "PSP",
          "PS3",
          "PS2",
          "3DS",
          "PS4",
          "XOne"
         ],
         "xaxis": "x",
         "y": [
          15,
          14,
          12,
          10,
          7,
          1,
          1,
          1
         ],
         "yaxis": "y"
        },
        {
         "alignmentgroup": "True",
         "hovertemplate": "Publisher=989 Studios<br>Platform=%{x}<br>count=%{y}<extra></extra>",
         "legendgroup": "989 Studios",
         "marker": {
          "color": "#B6E880",
          "pattern": {
           "shape": ""
          }
         },
         "name": "989 Studios",
         "offsetgroup": "989 Studios",
         "orientation": "v",
         "showlegend": true,
         "textposition": "auto",
         "type": "bar",
         "x": [
          "PS"
         ],
         "xaxis": "x",
         "y": [
          14
         ],
         "yaxis": "y"
        },
        {
         "alignmentgroup": "True",
         "hovertemplate": "Publisher=BAM! Entertainment<br>Platform=%{x}<br>count=%{y}<extra></extra>",
         "legendgroup": "BAM! Entertainment",
         "marker": {
          "color": "#FF97FF",
          "pattern": {
           "shape": ""
          }
         },
         "name": "BAM! Entertainment",
         "offsetgroup": "BAM! Entertainment",
         "orientation": "v",
         "showlegend": true,
         "textposition": "auto",
         "type": "bar",
         "x": [
          "GBA",
          "PS2",
          "GC",
          "XB",
          "PS",
          "N64"
         ],
         "xaxis": "x",
         "y": [
          14,
          8,
          6,
          4,
          2,
          1
         ],
         "yaxis": "y"
        },
        {
         "alignmentgroup": "True",
         "hovertemplate": "Publisher=FuRyu<br>Platform=%{x}<br>count=%{y}<extra></extra>",
         "legendgroup": "FuRyu",
         "marker": {
          "color": "#FECB52",
          "pattern": {
           "shape": ""
          }
         },
         "name": "FuRyu",
         "offsetgroup": "FuRyu",
         "orientation": "v",
         "showlegend": true,
         "textposition": "auto",
         "type": "bar",
         "x": [
          "3DS",
          "PSP",
          "PSV",
          "DS"
         ],
         "xaxis": "x",
         "y": [
          14,
          6,
          6,
          1
         ],
         "yaxis": "y"
        },
        {
         "alignmentgroup": "True",
         "hovertemplate": "Publisher=Quinrose<br>Platform=%{x}<br>count=%{y}<extra></extra>",
         "legendgroup": "Quinrose",
         "marker": {
          "color": "#636efa",
          "pattern": {
           "shape": ""
          }
         },
         "name": "Quinrose",
         "offsetgroup": "Quinrose",
         "orientation": "v",
         "showlegend": true,
         "textposition": "auto",
         "type": "bar",
         "x": [
          "PSP"
         ],
         "xaxis": "x",
         "y": [
          14
         ],
         "yaxis": "y"
        },
        {
         "alignmentgroup": "True",
         "hovertemplate": "Publisher=Spike<br>Platform=%{x}<br>count=%{y}<extra></extra>",
         "legendgroup": "Spike",
         "marker": {
          "color": "#EF553B",
          "pattern": {
           "shape": ""
          }
         },
         "name": "Spike",
         "offsetgroup": "Spike",
         "orientation": "v",
         "showlegend": true,
         "textposition": "auto",
         "type": "bar",
         "x": [
          "PSP",
          "DS",
          "PS2",
          "PS3",
          "X360",
          "GBA"
         ],
         "xaxis": "x",
         "y": [
          14,
          8,
          7,
          4,
          3,
          1
         ],
         "yaxis": "y"
        },
        {
         "alignmentgroup": "True",
         "hovertemplate": "Publisher=GSP<br>Platform=%{x}<br>count=%{y}<extra></extra>",
         "legendgroup": "GSP",
         "marker": {
          "color": "#00cc96",
          "pattern": {
           "shape": ""
          }
         },
         "name": "GSP",
         "offsetgroup": "GSP",
         "orientation": "v",
         "showlegend": true,
         "textposition": "auto",
         "type": "bar",
         "x": [
          "DS",
          "PC",
          "Wii"
         ],
         "xaxis": "x",
         "y": [
          14,
          1,
          1
         ],
         "yaxis": "y"
        },
        {
         "alignmentgroup": "True",
         "hovertemplate": "Publisher=Marvelous Interactive<br>Platform=%{x}<br>count=%{y}<extra></extra>",
         "legendgroup": "Marvelous Interactive",
         "marker": {
          "color": "#ab63fa",
          "pattern": {
           "shape": ""
          }
         },
         "name": "Marvelous Interactive",
         "offsetgroup": "Marvelous Interactive",
         "orientation": "v",
         "showlegend": true,
         "textposition": "auto",
         "type": "bar",
         "x": [
          "DS",
          "PS2",
          "PSP",
          "Wii",
          "PSV",
          "GBA",
          "3DS",
          "PS3",
          "PS4",
          "GC",
          "X360"
         ],
         "xaxis": "x",
         "y": [
          13,
          12,
          11,
          5,
          3,
          3,
          3,
          2,
          2,
          1,
          1
         ],
         "yaxis": "y"
        },
        {
         "alignmentgroup": "True",
         "hovertemplate": "Publisher=Crave Entertainment<br>Platform=%{x}<br>count=%{y}<extra></extra>",
         "legendgroup": "Crave Entertainment",
         "marker": {
          "color": "#FFA15A",
          "pattern": {
           "shape": ""
          }
         },
         "name": "Crave Entertainment",
         "offsetgroup": "Crave Entertainment",
         "orientation": "v",
         "showlegend": true,
         "textposition": "auto",
         "type": "bar",
         "x": [
          "Wii",
          "XB",
          "PS2",
          "GBA",
          "N64",
          "PS",
          "DS",
          "PSP",
          "3DS",
          "GC",
          "X360",
          "PS3"
         ],
         "xaxis": "x",
         "y": [
          13,
          9,
          8,
          7,
          5,
          5,
          5,
          4,
          4,
          4,
          4,
          3
         ],
         "yaxis": "y"
        },
        {
         "alignmentgroup": "True",
         "hovertemplate": "Publisher=Storm City Games<br>Platform=%{x}<br>count=%{y}<extra></extra>",
         "legendgroup": "Storm City Games",
         "marker": {
          "color": "#19d3f3",
          "pattern": {
           "shape": ""
          }
         },
         "name": "Storm City Games",
         "offsetgroup": "Storm City Games",
         "orientation": "v",
         "showlegend": true,
         "textposition": "auto",
         "type": "bar",
         "x": [
          "DS",
          "Wii"
         ],
         "xaxis": "x",
         "y": [
          13,
          6
         ],
         "yaxis": "y"
        },
        {
         "alignmentgroup": "True",
         "hovertemplate": "Publisher=Broccoli<br>Platform=%{x}<br>count=%{y}<extra></extra>",
         "legendgroup": "Broccoli",
         "marker": {
          "color": "#FF6692",
          "pattern": {
           "shape": ""
          }
         },
         "name": "Broccoli",
         "offsetgroup": "Broccoli",
         "orientation": "v",
         "showlegend": true,
         "textposition": "auto",
         "type": "bar",
         "x": [
          "PSP",
          "PS2",
          "DS",
          "PSV"
         ],
         "xaxis": "x",
         "y": [
          13,
          5,
          2,
          2
         ],
         "yaxis": "y"
        },
        {
         "alignmentgroup": "True",
         "hovertemplate": "Publisher=DTP Entertainment<br>Platform=%{x}<br>count=%{y}<extra></extra>",
         "legendgroup": "DTP Entertainment",
         "marker": {
          "color": "#B6E880",
          "pattern": {
           "shape": ""
          }
         },
         "name": "DTP Entertainment",
         "offsetgroup": "DTP Entertainment",
         "orientation": "v",
         "showlegend": true,
         "textposition": "auto",
         "type": "bar",
         "x": [
          "PC",
          "DS",
          "Wii",
          "X360",
          "PS3",
          "3DS",
          "GBA",
          "PS2"
         ],
         "xaxis": "x",
         "y": [
          13,
          9,
          7,
          7,
          4,
          2,
          2,
          1
         ],
         "yaxis": "y"
        },
        {
         "alignmentgroup": "True",
         "hovertemplate": "Publisher=SouthPeak Games<br>Platform=%{x}<br>count=%{y}<extra></extra>",
         "legendgroup": "SouthPeak Games",
         "marker": {
          "color": "#FF97FF",
          "pattern": {
           "shape": ""
          }
         },
         "name": "SouthPeak Games",
         "offsetgroup": "SouthPeak Games",
         "orientation": "v",
         "showlegend": true,
         "textposition": "auto",
         "type": "bar",
         "x": [
          "DS",
          "Wii",
          "X360",
          "PS3",
          "PS2",
          "PSP",
          "PS",
          "PC"
         ],
         "xaxis": "x",
         "y": [
          13,
          9,
          5,
          3,
          3,
          2,
          1,
          1
         ],
         "yaxis": "y"
        },
        {
         "alignmentgroup": "True",
         "hovertemplate": "Publisher=Hasbro Interactive<br>Platform=%{x}<br>count=%{y}<extra></extra>",
         "legendgroup": "Hasbro Interactive",
         "marker": {
          "color": "#FECB52",
          "pattern": {
           "shape": ""
          }
         },
         "name": "Hasbro Interactive",
         "offsetgroup": "Hasbro Interactive",
         "orientation": "v",
         "showlegend": true,
         "textposition": "auto",
         "type": "bar",
         "x": [
          "PS",
          "N64",
          "GBA",
          "PC"
         ],
         "xaxis": "x",
         "y": [
          12,
          2,
          1,
          1
         ],
         "yaxis": "y"
        },
        {
         "alignmentgroup": "True",
         "hovertemplate": "Publisher=Falcom Corporation<br>Platform=%{x}<br>count=%{y}<extra></extra>",
         "legendgroup": "Falcom Corporation",
         "marker": {
          "color": "#636efa",
          "pattern": {
           "shape": ""
          }
         },
         "name": "Falcom Corporation",
         "offsetgroup": "Falcom Corporation",
         "orientation": "v",
         "showlegend": true,
         "textposition": "auto",
         "type": "bar",
         "x": [
          "PSP",
          "PS3",
          "PSV"
         ],
         "xaxis": "x",
         "y": [
          12,
          3,
          1
         ],
         "yaxis": "y"
        },
        {
         "alignmentgroup": "True",
         "hovertemplate": "Publisher=MTV Games<br>Platform=%{x}<br>count=%{y}<extra></extra>",
         "legendgroup": "MTV Games",
         "marker": {
          "color": "#EF553B",
          "pattern": {
           "shape": ""
          }
         },
         "name": "MTV Games",
         "offsetgroup": "MTV Games",
         "orientation": "v",
         "showlegend": true,
         "textposition": "auto",
         "type": "bar",
         "x": [
          "Wii",
          "X360",
          "PS3",
          "PS2",
          "DS",
          "PSP"
         ],
         "xaxis": "x",
         "y": [
          12,
          10,
          10,
          7,
          1,
          1
         ],
         "yaxis": "y"
        },
        {
         "alignmentgroup": "True",
         "hovertemplate": "Publisher=Play It<br>Platform=%{x}<br>count=%{y}<extra></extra>",
         "legendgroup": "Play It",
         "marker": {
          "color": "#00cc96",
          "pattern": {
           "shape": ""
          }
         },
         "name": "Play It",
         "offsetgroup": "Play It",
         "orientation": "v",
         "showlegend": true,
         "textposition": "auto",
         "type": "bar",
         "x": [
          "PS2",
          "GBA",
          "PSP"
         ],
         "xaxis": "x",
         "y": [
          12,
          1,
          1
         ],
         "yaxis": "y"
        },
        {
         "alignmentgroup": "True",
         "hovertemplate": "Publisher=Prototype<br>Platform=%{x}<br>count=%{y}<extra></extra>",
         "legendgroup": "Prototype",
         "marker": {
          "color": "#ab63fa",
          "pattern": {
           "shape": ""
          }
         },
         "name": "Prototype",
         "offsetgroup": "Prototype",
         "orientation": "v",
         "showlegend": true,
         "textposition": "auto",
         "type": "bar",
         "x": [
          "PSP",
          "PS2",
          "PSV",
          "X360",
          "PS3"
         ],
         "xaxis": "x",
         "y": [
          11,
          7,
          6,
          2,
          1
         ],
         "yaxis": "y"
        },
        {
         "alignmentgroup": "True",
         "hovertemplate": "Publisher=TDK Mediactive<br>Platform=%{x}<br>count=%{y}<extra></extra>",
         "legendgroup": "TDK Mediactive",
         "marker": {
          "color": "#FFA15A",
          "pattern": {
           "shape": ""
          }
         },
         "name": "TDK Mediactive",
         "offsetgroup": "TDK Mediactive",
         "orientation": "v",
         "showlegend": true,
         "textposition": "auto",
         "type": "bar",
         "x": [
          "GBA",
          "GC",
          "XB",
          "PS2",
          "PS"
         ],
         "xaxis": "x",
         "y": [
          11,
          9,
          8,
          6,
          2
         ],
         "yaxis": "y"
        },
        {
         "alignmentgroup": "True",
         "hovertemplate": "Publisher=Level 5<br>Platform=%{x}<br>count=%{y}<extra></extra>",
         "legendgroup": "Level 5",
         "marker": {
          "color": "#19d3f3",
          "pattern": {
           "shape": ""
          }
         },
         "name": "Level 5",
         "offsetgroup": "Level 5",
         "orientation": "v",
         "showlegend": true,
         "textposition": "auto",
         "type": "bar",
         "x": [
          "3DS",
          "DS",
          "PSP",
          "Wii",
          "PSV",
          "WiiU"
         ],
         "xaxis": "x",
         "y": [
          11,
          7,
          4,
          2,
          2,
          1
         ],
         "yaxis": "y"
        },
        {
         "alignmentgroup": "True",
         "hovertemplate": "Publisher=Mindscape<br>Platform=%{x}<br>count=%{y}<extra></extra>",
         "legendgroup": "Mindscape",
         "marker": {
          "color": "#FF6692",
          "pattern": {
           "shape": ""
          }
         },
         "name": "Mindscape",
         "offsetgroup": "Mindscape",
         "orientation": "v",
         "showlegend": true,
         "textposition": "auto",
         "type": "bar",
         "x": [
          "DS",
          "Wii",
          "PS",
          "N64",
          "PS2",
          "X360",
          "XB"
         ],
         "xaxis": "x",
         "y": [
          11,
          10,
          7,
          1,
          1,
          1,
          1
         ],
         "yaxis": "y"
        },
        {
         "alignmentgroup": "True",
         "hovertemplate": "Publisher=Popcorn Arcade<br>Platform=%{x}<br>count=%{y}<extra></extra>",
         "legendgroup": "Popcorn Arcade",
         "marker": {
          "color": "#B6E880",
          "pattern": {
           "shape": ""
          }
         },
         "name": "Popcorn Arcade",
         "offsetgroup": "Popcorn Arcade",
         "orientation": "v",
         "showlegend": true,
         "textposition": "auto",
         "type": "bar",
         "x": [
          "Wii"
         ],
         "xaxis": "x",
         "y": [
          10
         ],
         "yaxis": "y"
        },
        {
         "alignmentgroup": "True",
         "hovertemplate": "Publisher=DreamCatcher Interactive<br>Platform=%{x}<br>count=%{y}<extra></extra>",
         "legendgroup": "DreamCatcher Interactive",
         "marker": {
          "color": "#FF97FF",
          "pattern": {
           "shape": ""
          }
         },
         "name": "DreamCatcher Interactive",
         "offsetgroup": "DreamCatcher Interactive",
         "orientation": "v",
         "showlegend": true,
         "textposition": "auto",
         "type": "bar",
         "x": [
          "DS",
          "XB",
          "PS2",
          "PC"
         ],
         "xaxis": "x",
         "y": [
          10,
          3,
          2,
          2
         ],
         "yaxis": "y"
        },
        {
         "alignmentgroup": "True",
         "hovertemplate": "Publisher=Atlus<br>Platform=%{x}<br>count=%{y}<extra></extra>",
         "legendgroup": "Atlus",
         "marker": {
          "color": "#FECB52",
          "pattern": {
           "shape": ""
          }
         },
         "name": "Atlus",
         "offsetgroup": "Atlus",
         "orientation": "v",
         "showlegend": true,
         "textposition": "auto",
         "type": "bar",
         "x": [
          "3DS",
          "PSP",
          "DS",
          "PS",
          "PS2",
          "SAT",
          "GBA",
          "SNES",
          "X360",
          "XB",
          "N64",
          "PS3",
          "PSV",
          "GC",
          "PS4",
          "WiiU"
         ],
         "xaxis": "x",
         "y": [
          10,
          10,
          9,
          8,
          6,
          5,
          4,
          2,
          2,
          2,
          2,
          2,
          2,
          1,
          1,
          1
         ],
         "yaxis": "y"
        },
        {
         "alignmentgroup": "True",
         "hovertemplate": "Publisher=UFO Interactive<br>Platform=%{x}<br>count=%{y}<extra></extra>",
         "legendgroup": "UFO Interactive",
         "marker": {
          "color": "#636efa",
          "pattern": {
           "shape": ""
          }
         },
         "name": "UFO Interactive",
         "offsetgroup": "UFO Interactive",
         "orientation": "v",
         "showlegend": true,
         "textposition": "auto",
         "type": "bar",
         "x": [
          "DS",
          "Wii",
          "3DS"
         ],
         "xaxis": "x",
         "y": [
          10,
          5,
          1
         ],
         "yaxis": "y"
        },
        {
         "alignmentgroup": "True",
         "hovertemplate": "Publisher=Black Bean Games<br>Platform=%{x}<br>count=%{y}<extra></extra>",
         "legendgroup": "Black Bean Games",
         "marker": {
          "color": "#EF553B",
          "pattern": {
           "shape": ""
          }
         },
         "name": "Black Bean Games",
         "offsetgroup": "Black Bean Games",
         "orientation": "v",
         "showlegend": true,
         "textposition": "auto",
         "type": "bar",
         "x": [
          "PS3",
          "X360",
          "Wii",
          "PS2",
          "DS",
          "PSP",
          "PC"
         ],
         "xaxis": "x",
         "y": [
          10,
          9,
          6,
          3,
          2,
          2,
          2
         ],
         "yaxis": "y"
        },
        {
         "alignmentgroup": "True",
         "hovertemplate": "Publisher=Nobilis<br>Platform=%{x}<br>count=%{y}<extra></extra>",
         "legendgroup": "Nobilis",
         "marker": {
          "color": "#00cc96",
          "pattern": {
           "shape": ""
          }
         },
         "name": "Nobilis",
         "offsetgroup": "Nobilis",
         "orientation": "v",
         "showlegend": true,
         "textposition": "auto",
         "type": "bar",
         "x": [
          "DS",
          "Wii",
          "PC"
         ],
         "xaxis": "x",
         "y": [
          10,
          2,
          1
         ],
         "yaxis": "y"
        },
        {
         "alignmentgroup": "True",
         "hovertemplate": "Publisher=SNK<br>Platform=%{x}<br>count=%{y}<extra></extra>",
         "legendgroup": "SNK",
         "marker": {
          "color": "#ab63fa",
          "pattern": {
           "shape": ""
          }
         },
         "name": "SNK",
         "offsetgroup": "SNK",
         "orientation": "v",
         "showlegend": true,
         "textposition": "auto",
         "type": "bar",
         "x": [
          "NG",
          "PS",
          "SAT",
          "DC",
          "PS2"
         ],
         "xaxis": "x",
         "y": [
          10,
          5,
          4,
          2,
          1
         ],
         "yaxis": "y"
        },
        {
         "alignmentgroup": "True",
         "hovertemplate": "Publisher=Kadokawa Games<br>Platform=%{x}<br>count=%{y}<extra></extra>",
         "legendgroup": "Kadokawa Games",
         "marker": {
          "color": "#FFA15A",
          "pattern": {
           "shape": ""
          }
         },
         "name": "Kadokawa Games",
         "offsetgroup": "Kadokawa Games",
         "orientation": "v",
         "showlegend": true,
         "textposition": "auto",
         "type": "bar",
         "x": [
          "PSV",
          "PSP",
          "3DS",
          "PS3"
         ],
         "xaxis": "x",
         "y": [
          10,
          3,
          1,
          1
         ],
         "yaxis": "y"
        },
        {
         "alignmentgroup": "True",
         "hovertemplate": "Publisher=PQube<br>Platform=%{x}<br>count=%{y}<extra></extra>",
         "legendgroup": "PQube",
         "marker": {
          "color": "#19d3f3",
          "pattern": {
           "shape": ""
          }
         },
         "name": "PQube",
         "offsetgroup": "PQube",
         "orientation": "v",
         "showlegend": true,
         "textposition": "auto",
         "type": "bar",
         "x": [
          "PS3",
          "PSV",
          "PS4",
          "PSP",
          "Wii",
          "DS",
          "X360",
          "3DS",
          "PC",
          "PS2",
          "XOne"
         ],
         "xaxis": "x",
         "y": [
          10,
          7,
          4,
          4,
          4,
          3,
          3,
          1,
          1,
          1,
          1
         ],
         "yaxis": "y"
        },
        {
         "alignmentgroup": "True",
         "hovertemplate": "Publisher=Midas Interactive Entertainment<br>Platform=%{x}<br>count=%{y}<extra></extra>",
         "legendgroup": "Midas Interactive Entertainment",
         "marker": {
          "color": "#FF6692",
          "pattern": {
           "shape": ""
          }
         },
         "name": "Midas Interactive Entertainment",
         "offsetgroup": "Midas Interactive Entertainment",
         "orientation": "v",
         "showlegend": true,
         "textposition": "auto",
         "type": "bar",
         "x": [
          "PS2",
          "PS",
          "DS",
          "Wii",
          "PSP"
         ],
         "xaxis": "x",
         "y": [
          10,
          6,
          5,
          2,
          1
         ],
         "yaxis": "y"
        },
        {
         "alignmentgroup": "True",
         "hovertemplate": "Publisher=Arc System Works<br>Platform=%{x}<br>count=%{y}<extra></extra>",
         "legendgroup": "Arc System Works",
         "marker": {
          "color": "#B6E880",
          "pattern": {
           "shape": ""
          }
         },
         "name": "Arc System Works",
         "offsetgroup": "Arc System Works",
         "orientation": "v",
         "showlegend": true,
         "textposition": "auto",
         "type": "bar",
         "x": [
          "DS",
          "PS3",
          "PSV",
          "3DS",
          "PSP",
          "PS4"
         ],
         "xaxis": "x",
         "y": [
          9,
          5,
          5,
          4,
          2,
          1
         ],
         "yaxis": "y"
        },
        {
         "alignmentgroup": "True",
         "hovertemplate": "Publisher=Rocket Company<br>Platform=%{x}<br>count=%{y}<extra></extra>",
         "legendgroup": "Rocket Company",
         "marker": {
          "color": "#FF97FF",
          "pattern": {
           "shape": ""
          }
         },
         "name": "Rocket Company",
         "offsetgroup": "Rocket Company",
         "orientation": "v",
         "showlegend": true,
         "textposition": "auto",
         "type": "bar",
         "x": [
          "DS",
          "3DS",
          "Wii"
         ],
         "xaxis": "x",
         "y": [
          9,
          7,
          1
         ],
         "yaxis": "y"
        },
        {
         "alignmentgroup": "True",
         "hovertemplate": "Publisher=Sammy Corporation<br>Platform=%{x}<br>count=%{y}<extra></extra>",
         "legendgroup": "Sammy Corporation",
         "marker": {
          "color": "#FECB52",
          "pattern": {
           "shape": ""
          }
         },
         "name": "Sammy Corporation",
         "offsetgroup": "Sammy Corporation",
         "orientation": "v",
         "showlegend": true,
         "textposition": "auto",
         "type": "bar",
         "x": [
          "PS2",
          "GBA",
          "SNES"
         ],
         "xaxis": "x",
         "y": [
          9,
          1,
          1
         ],
         "yaxis": "y"
        },
        {
         "alignmentgroup": "True",
         "hovertemplate": "Publisher=Cave<br>Platform=%{x}<br>count=%{y}<extra></extra>",
         "legendgroup": "Cave",
         "marker": {
          "color": "#636efa",
          "pattern": {
           "shape": ""
          }
         },
         "name": "Cave",
         "offsetgroup": "Cave",
         "orientation": "v",
         "showlegend": true,
         "textposition": "auto",
         "type": "bar",
         "x": [
          "X360",
          "DS"
         ],
         "xaxis": "x",
         "y": [
          9,
          1
         ],
         "yaxis": "y"
        },
        {
         "alignmentgroup": "True",
         "hovertemplate": "Publisher=Oxygen Interactive<br>Platform=%{x}<br>count=%{y}<extra></extra>",
         "legendgroup": "Oxygen Interactive",
         "marker": {
          "color": "#EF553B",
          "pattern": {
           "shape": ""
          }
         },
         "name": "Oxygen Interactive",
         "offsetgroup": "Oxygen Interactive",
         "orientation": "v",
         "showlegend": true,
         "textposition": "auto",
         "type": "bar",
         "x": [
          "DS",
          "Wii",
          "PSP",
          "PS2",
          "X360"
         ],
         "xaxis": "x",
         "y": [
          9,
          6,
          4,
          2,
          1
         ],
         "yaxis": "y"
        },
        {
         "alignmentgroup": "True",
         "hovertemplate": "Publisher=Foreign Media Games<br>Platform=%{x}<br>count=%{y}<extra></extra>",
         "legendgroup": "Foreign Media Games",
         "marker": {
          "color": "#00cc96",
          "pattern": {
           "shape": ""
          }
         },
         "name": "Foreign Media Games",
         "offsetgroup": "Foreign Media Games",
         "orientation": "v",
         "showlegend": true,
         "textposition": "auto",
         "type": "bar",
         "x": [
          "DS"
         ],
         "xaxis": "x",
         "y": [
          9
         ],
         "yaxis": "y"
        },
        {
         "alignmentgroup": "True",
         "hovertemplate": "Publisher=Enterbrain<br>Platform=%{x}<br>count=%{y}<extra></extra>",
         "legendgroup": "Enterbrain",
         "marker": {
          "color": "#ab63fa",
          "pattern": {
           "shape": ""
          }
         },
         "name": "Enterbrain",
         "offsetgroup": "Enterbrain",
         "orientation": "v",
         "showlegend": true,
         "textposition": "auto",
         "type": "bar",
         "x": [
          "PS2",
          "DS",
          "GBA",
          "PS",
          "PSP"
         ],
         "xaxis": "x",
         "y": [
          9,
          3,
          1,
          1,
          1
         ],
         "yaxis": "y"
        },
        {
         "alignmentgroup": "True",
         "hovertemplate": "Publisher=Enix Corporation<br>Platform=%{x}<br>count=%{y}<extra></extra>",
         "legendgroup": "Enix Corporation",
         "marker": {
          "color": "#FFA15A",
          "pattern": {
           "shape": ""
          }
         },
         "name": "Enix Corporation",
         "offsetgroup": "Enix Corporation",
         "orientation": "v",
         "showlegend": true,
         "textposition": "auto",
         "type": "bar",
         "x": [
          "SNES",
          "PS2",
          "PS",
          "GB",
          "NES",
          "GBA",
          "N64"
         ],
         "xaxis": "x",
         "y": [
          9,
          6,
          6,
          4,
          3,
          1,
          1
         ],
         "yaxis": "y"
        },
        {
         "alignmentgroup": "True",
         "hovertemplate": "Publisher=City Interactive<br>Platform=%{x}<br>count=%{y}<extra></extra>",
         "legendgroup": "City Interactive",
         "marker": {
          "color": "#19d3f3",
          "pattern": {
           "shape": ""
          }
         },
         "name": "City Interactive",
         "offsetgroup": "City Interactive",
         "orientation": "v",
         "showlegend": true,
         "textposition": "auto",
         "type": "bar",
         "x": [
          "DS",
          "PC",
          "PS3",
          "X360",
          "Wii"
         ],
         "xaxis": "x",
         "y": [
          9,
          3,
          3,
          2,
          2
         ],
         "yaxis": "y"
        },
        {
         "alignmentgroup": "True",
         "hovertemplate": "Publisher=Success<br>Platform=%{x}<br>count=%{y}<extra></extra>",
         "legendgroup": "Success",
         "marker": {
          "color": "#FF6692",
          "pattern": {
           "shape": ""
          }
         },
         "name": "Success",
         "offsetgroup": "Success",
         "orientation": "v",
         "showlegend": true,
         "textposition": "auto",
         "type": "bar",
         "x": [
          "DS",
          "PS",
          "PS2",
          "3DS",
          "PSP",
          "X360"
         ],
         "xaxis": "x",
         "y": [
          8,
          4,
          3,
          2,
          1,
          1
         ],
         "yaxis": "y"
        },
        {
         "alignmentgroup": "True",
         "hovertemplate": "Publisher=ASCII Entertainment<br>Platform=%{x}<br>count=%{y}<extra></extra>",
         "legendgroup": "ASCII Entertainment",
         "marker": {
          "color": "#B6E880",
          "pattern": {
           "shape": ""
          }
         },
         "name": "ASCII Entertainment",
         "offsetgroup": "ASCII Entertainment",
         "orientation": "v",
         "showlegend": true,
         "textposition": "auto",
         "type": "bar",
         "x": [
          "SNES",
          "PS",
          "N64",
          "GB",
          "PS2",
          "SAT"
         ],
         "xaxis": "x",
         "y": [
          8,
          8,
          1,
          1,
          1,
          1
         ],
         "yaxis": "y"
        },
        {
         "alignmentgroup": "True",
         "hovertemplate": "Publisher=Zushi Games<br>Platform=%{x}<br>count=%{y}<extra></extra>",
         "legendgroup": "Zushi Games",
         "marker": {
          "color": "#FF97FF",
          "pattern": {
           "shape": ""
          }
         },
         "name": "Zushi Games",
         "offsetgroup": "Zushi Games",
         "orientation": "v",
         "showlegend": true,
         "textposition": "auto",
         "type": "bar",
         "x": [
          "Wii",
          "DS",
          "X360",
          "PSP"
         ],
         "xaxis": "x",
         "y": [
          8,
          7,
          2,
          1
         ],
         "yaxis": "y"
        },
        {
         "alignmentgroup": "True",
         "hovertemplate": "Publisher=Universal Interactive<br>Platform=%{x}<br>count=%{y}<extra></extra>",
         "legendgroup": "Universal Interactive",
         "marker": {
          "color": "#FECB52",
          "pattern": {
           "shape": ""
          }
         },
         "name": "Universal Interactive",
         "offsetgroup": "Universal Interactive",
         "orientation": "v",
         "showlegend": true,
         "textposition": "auto",
         "type": "bar",
         "x": [
          "PS2",
          "XB",
          "GBA",
          "GC"
         ],
         "xaxis": "x",
         "y": [
          8,
          5,
          5,
          5
         ],
         "yaxis": "y"
        },
        {
         "alignmentgroup": "True",
         "hovertemplate": "Publisher=SCi<br>Platform=%{x}<br>count=%{y}<extra></extra>",
         "legendgroup": "SCi",
         "marker": {
          "color": "#636efa",
          "pattern": {
           "shape": ""
          }
         },
         "name": "SCi",
         "offsetgroup": "SCi",
         "orientation": "v",
         "showlegend": true,
         "textposition": "auto",
         "type": "bar",
         "x": [
          "XB",
          "PS2",
          "GC",
          "PC"
         ],
         "xaxis": "x",
         "y": [
          8,
          5,
          3,
          1
         ],
         "yaxis": "y"
        },
        {
         "alignmentgroup": "True",
         "hovertemplate": "Publisher=Human Entertainment<br>Platform=%{x}<br>count=%{y}<extra></extra>",
         "legendgroup": "Human Entertainment",
         "marker": {
          "color": "#EF553B",
          "pattern": {
           "shape": ""
          }
         },
         "name": "Human Entertainment",
         "offsetgroup": "Human Entertainment",
         "orientation": "v",
         "showlegend": true,
         "textposition": "auto",
         "type": "bar",
         "x": [
          "PS",
          "SNES",
          "SAT"
         ],
         "xaxis": "x",
         "y": [
          8,
          4,
          1
         ],
         "yaxis": "y"
        },
        {
         "alignmentgroup": "True",
         "hovertemplate": "Publisher=CyberFront<br>Platform=%{x}<br>count=%{y}<extra></extra>",
         "legendgroup": "CyberFront",
         "marker": {
          "color": "#00cc96",
          "pattern": {
           "shape": ""
          }
         },
         "name": "CyberFront",
         "offsetgroup": "CyberFront",
         "orientation": "v",
         "showlegend": true,
         "textposition": "auto",
         "type": "bar",
         "x": [
          "PSP",
          "X360",
          "PSV",
          "PS2"
         ],
         "xaxis": "x",
         "y": [
          8,
          2,
          2,
          2
         ],
         "yaxis": "y"
        },
        {
         "alignmentgroup": "True",
         "hovertemplate": "Publisher=Gremlin Interactive Ltd<br>Platform=%{x}<br>count=%{y}<extra></extra>",
         "legendgroup": "Gremlin Interactive Ltd",
         "marker": {
          "color": "#ab63fa",
          "pattern": {
           "shape": ""
          }
         },
         "name": "Gremlin Interactive Ltd",
         "offsetgroup": "Gremlin Interactive Ltd",
         "orientation": "v",
         "showlegend": true,
         "textposition": "auto",
         "type": "bar",
         "x": [
          "PS",
          "N64"
         ],
         "xaxis": "x",
         "y": [
          8,
          1
         ],
         "yaxis": "y"
        },
        {
         "alignmentgroup": "True",
         "hovertemplate": "Publisher=Mattel Interactive<br>Platform=%{x}<br>count=%{y}<extra></extra>",
         "legendgroup": "Mattel Interactive",
         "marker": {
          "color": "#FFA15A",
          "pattern": {
           "shape": ""
          }
         },
         "name": "Mattel Interactive",
         "offsetgroup": "Mattel Interactive",
         "orientation": "v",
         "showlegend": true,
         "textposition": "auto",
         "type": "bar",
         "x": [
          "2600",
          "PS"
         ],
         "xaxis": "x",
         "y": [
          8,
          4
         ],
         "yaxis": "y"
        },
        {
         "alignmentgroup": "True",
         "hovertemplate": "Publisher=Compile Heart<br>Platform=%{x}<br>count=%{y}<extra></extra>",
         "legendgroup": "Compile Heart",
         "marker": {
          "color": "#19d3f3",
          "pattern": {
           "shape": ""
          }
         },
         "name": "Compile Heart",
         "offsetgroup": "Compile Heart",
         "orientation": "v",
         "showlegend": true,
         "textposition": "auto",
         "type": "bar",
         "x": [
          "PSV",
          "PS3",
          "X360",
          "PSP",
          "PS4"
         ],
         "xaxis": "x",
         "y": [
          8,
          6,
          3,
          2,
          1
         ],
         "yaxis": "y"
        },
        {
         "alignmentgroup": "True",
         "hovertemplate": "Publisher=Aqua Plus<br>Platform=%{x}<br>count=%{y}<extra></extra>",
         "legendgroup": "Aqua Plus",
         "marker": {
          "color": "#FF6692",
          "pattern": {
           "shape": ""
          }
         },
         "name": "Aqua Plus",
         "offsetgroup": "Aqua Plus",
         "orientation": "v",
         "showlegend": true,
         "textposition": "auto",
         "type": "bar",
         "x": [
          "PS3",
          "PSP",
          "PSV",
          "PS2",
          "PS4",
          "PS"
         ],
         "xaxis": "x",
         "y": [
          8,
          6,
          4,
          2,
          2,
          1
         ],
         "yaxis": "y"
        },
        {
         "alignmentgroup": "True",
         "hovertemplate": "Publisher=Telltale Games<br>Platform=%{x}<br>count=%{y}<extra></extra>",
         "legendgroup": "Telltale Games",
         "marker": {
          "color": "#B6E880",
          "pattern": {
           "shape": ""
          }
         },
         "name": "Telltale Games",
         "offsetgroup": "Telltale Games",
         "orientation": "v",
         "showlegend": true,
         "textposition": "auto",
         "type": "bar",
         "x": [
          "PS4",
          "XOne",
          "PS3",
          "X360",
          "PSV",
          "Wii"
         ],
         "xaxis": "x",
         "y": [
          7,
          6,
          5,
          4,
          2,
          1
         ],
         "yaxis": "y"
        },
        {
         "alignmentgroup": "True",
         "hovertemplate": "Publisher=Destination Software, Inc<br>Platform=%{x}<br>count=%{y}<extra></extra>",
         "legendgroup": "Destination Software, Inc",
         "marker": {
          "color": "#FF97FF",
          "pattern": {
           "shape": ""
          }
         },
         "name": "Destination Software, Inc",
         "offsetgroup": "Destination Software, Inc",
         "orientation": "v",
         "showlegend": true,
         "textposition": "auto",
         "type": "bar",
         "x": [
          "GBA",
          "DS"
         ],
         "xaxis": "x",
         "y": [
          7,
          5
         ],
         "yaxis": "y"
        },
        {
         "alignmentgroup": "True",
         "hovertemplate": "Publisher=Rondomedia<br>Platform=%{x}<br>count=%{y}<extra></extra>",
         "legendgroup": "Rondomedia",
         "marker": {
          "color": "#FECB52",
          "pattern": {
           "shape": ""
          }
         },
         "name": "Rondomedia",
         "offsetgroup": "Rondomedia",
         "orientation": "v",
         "showlegend": true,
         "textposition": "auto",
         "type": "bar",
         "x": [
          "PC",
          "DS",
          "Wii"
         ],
         "xaxis": "x",
         "y": [
          7,
          5,
          2
         ],
         "yaxis": "y"
        },
        {
         "alignmentgroup": "True",
         "hovertemplate": "Publisher=Ocean<br>Platform=%{x}<br>count=%{y}<extra></extra>",
         "legendgroup": "Ocean",
         "marker": {
          "color": "#636efa",
          "pattern": {
           "shape": ""
          }
         },
         "name": "Ocean",
         "offsetgroup": "Ocean",
         "orientation": "v",
         "showlegend": true,
         "textposition": "auto",
         "type": "bar",
         "x": [
          "PS",
          "N64",
          "NES",
          "SNES"
         ],
         "xaxis": "x",
         "y": [
          7,
          5,
          1,
          1
         ],
         "yaxis": "y"
        },
        {
         "alignmentgroup": "True",
         "hovertemplate": "Publisher=Mastiff<br>Platform=%{x}<br>count=%{y}<extra></extra>",
         "legendgroup": "Mastiff",
         "marker": {
          "color": "#EF553B",
          "pattern": {
           "shape": ""
          }
         },
         "name": "Mastiff",
         "offsetgroup": "Mastiff",
         "orientation": "v",
         "showlegend": true,
         "textposition": "auto",
         "type": "bar",
         "x": [
          "Wii",
          "3DS",
          "DS",
          "GBA",
          "PC",
          "PS2",
          "XB"
         ],
         "xaxis": "x",
         "y": [
          7,
          3,
          2,
          1,
          1,
          1,
          1
         ],
         "yaxis": "y"
        },
        {
         "alignmentgroup": "True",
         "hovertemplate": "Publisher=JVC<br>Platform=%{x}<br>count=%{y}<extra></extra>",
         "legendgroup": "JVC",
         "marker": {
          "color": "#00cc96",
          "pattern": {
           "shape": ""
          }
         },
         "name": "JVC",
         "offsetgroup": "JVC",
         "orientation": "v",
         "showlegend": true,
         "textposition": "auto",
         "type": "bar",
         "x": [
          "PS",
          "SAT"
         ],
         "xaxis": "x",
         "y": [
          7,
          1
         ],
         "yaxis": "y"
        },
        {
         "alignmentgroup": "True",
         "hovertemplate": "Publisher=Hackberry<br>Platform=%{x}<br>count=%{y}<extra></extra>",
         "legendgroup": "Hackberry",
         "marker": {
          "color": "#ab63fa",
          "pattern": {
           "shape": ""
          }
         },
         "name": "Hackberry",
         "offsetgroup": "Hackberry",
         "orientation": "v",
         "showlegend": true,
         "textposition": "auto",
         "type": "bar",
         "x": [
          "PS2"
         ],
         "xaxis": "x",
         "y": [
          7
         ],
         "yaxis": "y"
        },
        {
         "alignmentgroup": "True",
         "hovertemplate": "Publisher=Little Orbit<br>Platform=%{x}<br>count=%{y}<extra></extra>",
         "legendgroup": "Little Orbit",
         "marker": {
          "color": "#FFA15A",
          "pattern": {
           "shape": ""
          }
         },
         "name": "Little Orbit",
         "offsetgroup": "Little Orbit",
         "orientation": "v",
         "showlegend": true,
         "textposition": "auto",
         "type": "bar",
         "x": [
          "3DS",
          "X360",
          "PS3",
          "WiiU",
          "Wii",
          "DS",
          "PS4",
          "XOne"
         ],
         "xaxis": "x",
         "y": [
          7,
          6,
          4,
          3,
          3,
          1,
          1,
          1
         ],
         "yaxis": "y"
        },
        {
         "alignmentgroup": "True",
         "hovertemplate": "Publisher=MTO<br>Platform=%{x}<br>count=%{y}<extra></extra>",
         "legendgroup": "MTO",
         "marker": {
          "color": "#19d3f3",
          "pattern": {
           "shape": ""
          }
         },
         "name": "MTO",
         "offsetgroup": "MTO",
         "orientation": "v",
         "showlegend": true,
         "textposition": "auto",
         "type": "bar",
         "x": [
          "DS",
          "PS"
         ],
         "xaxis": "x",
         "y": [
          7,
          1
         ],
         "yaxis": "y"
        },
        {
         "alignmentgroup": "True",
         "hovertemplate": "Publisher=Metro 3D<br>Platform=%{x}<br>count=%{y}<extra></extra>",
         "legendgroup": "Metro 3D",
         "marker": {
          "color": "#FF6692",
          "pattern": {
           "shape": ""
          }
         },
         "name": "Metro 3D",
         "offsetgroup": "Metro 3D",
         "orientation": "v",
         "showlegend": true,
         "textposition": "auto",
         "type": "bar",
         "x": [
          "PS2",
          "Wii",
          "XB"
         ],
         "xaxis": "x",
         "y": [
          7,
          4,
          1
         ],
         "yaxis": "y"
        },
        {
         "alignmentgroup": "True",
         "hovertemplate": "Publisher=Fox Interactive<br>Platform=%{x}<br>count=%{y}<extra></extra>",
         "legendgroup": "Fox Interactive",
         "marker": {
          "color": "#B6E880",
          "pattern": {
           "shape": ""
          }
         },
         "name": "Fox Interactive",
         "offsetgroup": "Fox Interactive",
         "orientation": "v",
         "showlegend": true,
         "textposition": "auto",
         "type": "bar",
         "x": [
          "PS",
          "N64"
         ],
         "xaxis": "x",
         "y": [
          7,
          1
         ],
         "yaxis": "y"
        },
        {
         "alignmentgroup": "True",
         "hovertemplate": "Publisher=Parker Bros.<br>Platform=%{x}<br>count=%{y}<extra></extra>",
         "legendgroup": "Parker Bros.",
         "marker": {
          "color": "#FF97FF",
          "pattern": {
           "shape": ""
          }
         },
         "name": "Parker Bros.",
         "offsetgroup": "Parker Bros.",
         "orientation": "v",
         "showlegend": true,
         "textposition": "auto",
         "type": "bar",
         "x": [
          "2600"
         ],
         "xaxis": "x",
         "y": [
          7
         ],
         "yaxis": "y"
        },
        {
         "alignmentgroup": "True",
         "hovertemplate": "Publisher=Kemco<br>Platform=%{x}<br>count=%{y}<extra></extra>",
         "legendgroup": "Kemco",
         "marker": {
          "color": "#FECB52",
          "pattern": {
           "shape": ""
          }
         },
         "name": "Kemco",
         "offsetgroup": "Kemco",
         "orientation": "v",
         "showlegend": true,
         "textposition": "auto",
         "type": "bar",
         "x": [
          "N64",
          "GC",
          "XB",
          "GBA",
          "PS2",
          "PS",
          "SNES"
         ],
         "xaxis": "x",
         "y": [
          7,
          4,
          4,
          2,
          2,
          1,
          1
         ],
         "yaxis": "y"
        },
        {
         "alignmentgroup": "True",
         "hovertemplate": "Publisher=BMG Interactive Entertainment<br>Platform=%{x}<br>count=%{y}<extra></extra>",
         "legendgroup": "BMG Interactive Entertainment",
         "marker": {
          "color": "#636efa",
          "pattern": {
           "shape": ""
          }
         },
         "name": "BMG Interactive Entertainment",
         "offsetgroup": "BMG Interactive Entertainment",
         "orientation": "v",
         "showlegend": true,
         "textposition": "auto",
         "type": "bar",
         "x": [
          "PS"
         ],
         "xaxis": "x",
         "y": [
          7
         ],
         "yaxis": "y"
        },
        {
         "alignmentgroup": "True",
         "hovertemplate": "Publisher=Nippon Columbia<br>Platform=%{x}<br>count=%{y}<extra></extra>",
         "legendgroup": "Nippon Columbia",
         "marker": {
          "color": "#EF553B",
          "pattern": {
           "shape": ""
          }
         },
         "name": "Nippon Columbia",
         "offsetgroup": "Nippon Columbia",
         "orientation": "v",
         "showlegend": true,
         "textposition": "auto",
         "type": "bar",
         "x": [
          "3DS"
         ],
         "xaxis": "x",
         "y": [
          7
         ],
         "yaxis": "y"
        },
        {
         "alignmentgroup": "True",
         "hovertemplate": "Publisher=Scholastic Inc.<br>Platform=%{x}<br>count=%{y}<extra></extra>",
         "legendgroup": "Scholastic Inc.",
         "marker": {
          "color": "#00cc96",
          "pattern": {
           "shape": ""
          }
         },
         "name": "Scholastic Inc.",
         "offsetgroup": "Scholastic Inc.",
         "orientation": "v",
         "showlegend": true,
         "textposition": "auto",
         "type": "bar",
         "x": [
          "DS",
          "Wii",
          "PS2"
         ],
         "xaxis": "x",
         "y": [
          7,
          2,
          1
         ],
         "yaxis": "y"
        },
        {
         "alignmentgroup": "True",
         "hovertemplate": "Publisher=JoWood Productions<br>Platform=%{x}<br>count=%{y}<extra></extra>",
         "legendgroup": "JoWood Productions",
         "marker": {
          "color": "#ab63fa",
          "pattern": {
           "shape": ""
          }
         },
         "name": "JoWood Productions",
         "offsetgroup": "JoWood Productions",
         "orientation": "v",
         "showlegend": true,
         "textposition": "auto",
         "type": "bar",
         "x": [
          "PC",
          "DS",
          "Wii",
          "PS2",
          "GC",
          "X360",
          "XB"
         ],
         "xaxis": "x",
         "y": [
          7,
          6,
          3,
          2,
          2,
          1,
          1
         ],
         "yaxis": "y"
        },
        {
         "alignmentgroup": "True",
         "hovertemplate": "Publisher=Acquire<br>Platform=%{x}<br>count=%{y}<extra></extra>",
         "legendgroup": "Acquire",
         "marker": {
          "color": "#FFA15A",
          "pattern": {
           "shape": ""
          }
         },
         "name": "Acquire",
         "offsetgroup": "Acquire",
         "orientation": "v",
         "showlegend": true,
         "textposition": "auto",
         "type": "bar",
         "x": [
          "PSP",
          "PS3",
          "3DS",
          "PS2",
          "PS4"
         ],
         "xaxis": "x",
         "y": [
          7,
          3,
          1,
          1,
          1
         ],
         "yaxis": "y"
        },
        {
         "alignmentgroup": "True",
         "hovertemplate": "Publisher=Asgard<br>Platform=%{x}<br>count=%{y}<extra></extra>",
         "legendgroup": "Asgard",
         "marker": {
          "color": "#19d3f3",
          "pattern": {
           "shape": ""
          }
         },
         "name": "Asgard",
         "offsetgroup": "Asgard",
         "orientation": "v",
         "showlegend": true,
         "textposition": "auto",
         "type": "bar",
         "x": [
          "PSP",
          "PSV"
         ],
         "xaxis": "x",
         "y": [
          7,
          1
         ],
         "yaxis": "y"
        },
        {
         "alignmentgroup": "True",
         "hovertemplate": "Publisher=Activision Value<br>Platform=%{x}<br>count=%{y}<extra></extra>",
         "legendgroup": "Activision Value",
         "marker": {
          "color": "#FF6692",
          "pattern": {
           "shape": ""
          }
         },
         "name": "Activision Value",
         "offsetgroup": "Activision Value",
         "orientation": "v",
         "showlegend": true,
         "textposition": "auto",
         "type": "bar",
         "x": [
          "X360",
          "PS2",
          "Wii",
          "PS3",
          "XB",
          "PSP",
          "GC",
          "PS",
          "GBA"
         ],
         "xaxis": "x",
         "y": [
          7,
          6,
          5,
          4,
          2,
          2,
          1,
          1,
          1
         ],
         "yaxis": "y"
        },
        {
         "alignmentgroup": "True",
         "hovertemplate": "Publisher=From Software<br>Platform=%{x}<br>count=%{y}<extra></extra>",
         "legendgroup": "From Software",
         "marker": {
          "color": "#B6E880",
          "pattern": {
           "shape": ""
          }
         },
         "name": "From Software",
         "offsetgroup": "From Software",
         "orientation": "v",
         "showlegend": true,
         "textposition": "auto",
         "type": "bar",
         "x": [
          "PS",
          "PSP",
          "DS",
          "PS2",
          "PS3",
          "XB"
         ],
         "xaxis": "x",
         "y": [
          6,
          5,
          1,
          1,
          1,
          1
         ],
         "yaxis": "y"
        },
        {
         "alignmentgroup": "True",
         "hovertemplate": "Publisher=Epoch<br>Platform=%{x}<br>count=%{y}<extra></extra>",
         "legendgroup": "Epoch",
         "marker": {
          "color": "#FF97FF",
          "pattern": {
           "shape": ""
          }
         },
         "name": "Epoch",
         "offsetgroup": "Epoch",
         "orientation": "v",
         "showlegend": true,
         "textposition": "auto",
         "type": "bar",
         "x": [
          "SNES",
          "N64"
         ],
         "xaxis": "x",
         "y": [
          6,
          1
         ],
         "yaxis": "y"
        },
        {
         "alignmentgroup": "True",
         "hovertemplate": "Publisher=Titus<br>Platform=%{x}<br>count=%{y}<extra></extra>",
         "legendgroup": "Titus",
         "marker": {
          "color": "#FECB52",
          "pattern": {
           "shape": ""
          }
         },
         "name": "Titus",
         "offsetgroup": "Titus",
         "orientation": "v",
         "showlegend": true,
         "textposition": "auto",
         "type": "bar",
         "x": [
          "N64",
          "GBA",
          "PS2",
          "PS",
          "SNES",
          "XB",
          "GC"
         ],
         "xaxis": "x",
         "y": [
          6,
          4,
          3,
          3,
          1,
          1,
          1
         ],
         "yaxis": "y"
        },
        {
         "alignmentgroup": "True",
         "hovertemplate": "Publisher=NCSoft<br>Platform=%{x}<br>count=%{y}<extra></extra>",
         "legendgroup": "NCSoft",
         "marker": {
          "color": "#636efa",
          "pattern": {
           "shape": ""
          }
         },
         "name": "NCSoft",
         "offsetgroup": "NCSoft",
         "orientation": "v",
         "showlegend": true,
         "textposition": "auto",
         "type": "bar",
         "x": [
          "PC"
         ],
         "xaxis": "x",
         "y": [
          6
         ],
         "yaxis": "y"
        },
        {
         "alignmentgroup": "True",
         "hovertemplate": "Publisher=Benesse<br>Platform=%{x}<br>count=%{y}<extra></extra>",
         "legendgroup": "Benesse",
         "marker": {
          "color": "#EF553B",
          "pattern": {
           "shape": ""
          }
         },
         "name": "Benesse",
         "offsetgroup": "Benesse",
         "orientation": "v",
         "showlegend": true,
         "textposition": "auto",
         "type": "bar",
         "x": [
          "DS"
         ],
         "xaxis": "x",
         "y": [
          6
         ],
         "yaxis": "y"
        },
        {
         "alignmentgroup": "True",
         "hovertemplate": "Publisher=Jaleco<br>Platform=%{x}<br>count=%{y}<extra></extra>",
         "legendgroup": "Jaleco",
         "marker": {
          "color": "#00cc96",
          "pattern": {
           "shape": ""
          }
         },
         "name": "Jaleco",
         "offsetgroup": "Jaleco",
         "orientation": "v",
         "showlegend": true,
         "textposition": "auto",
         "type": "bar",
         "x": [
          "XB",
          "PS",
          "PS2",
          "DS",
          "GC",
          "GBA",
          "SAT",
          "Wii"
         ],
         "xaxis": "x",
         "y": [
          6,
          6,
          3,
          3,
          2,
          1,
          1,
          1
         ],
         "yaxis": "y"
        },
        {
         "alignmentgroup": "True",
         "hovertemplate": "Publisher=Takara<br>Platform=%{x}<br>count=%{y}<extra></extra>",
         "legendgroup": "Takara",
         "marker": {
          "color": "#ab63fa",
          "pattern": {
           "shape": ""
          }
         },
         "name": "Takara",
         "offsetgroup": "Takara",
         "orientation": "v",
         "showlegend": true,
         "textposition": "auto",
         "type": "bar",
         "x": [
          "PS",
          "SNES",
          "PS2",
          "GBA",
          "N64"
         ],
         "xaxis": "x",
         "y": [
          6,
          5,
          3,
          1,
          1
         ],
         "yaxis": "y"
        },
        {
         "alignmentgroup": "True",
         "hovertemplate": "Publisher=Irem Software Engineering<br>Platform=%{x}<br>count=%{y}<extra></extra>",
         "legendgroup": "Irem Software Engineering",
         "marker": {
          "color": "#FFA15A",
          "pattern": {
           "shape": ""
          }
         },
         "name": "Irem Software Engineering",
         "offsetgroup": "Irem Software Engineering",
         "orientation": "v",
         "showlegend": true,
         "textposition": "auto",
         "type": "bar",
         "x": [
          "PSP",
          "PS2",
          "3DS",
          "PS3",
          "PS"
         ],
         "xaxis": "x",
         "y": [
          6,
          2,
          2,
          1,
          1
         ],
         "yaxis": "y"
        },
        {
         "alignmentgroup": "True",
         "hovertemplate": "Publisher=O-Games<br>Platform=%{x}<br>count=%{y}<extra></extra>",
         "legendgroup": "O-Games",
         "marker": {
          "color": "#19d3f3",
          "pattern": {
           "shape": ""
          }
         },
         "name": "O-Games",
         "offsetgroup": "O-Games",
         "orientation": "v",
         "showlegend": true,
         "textposition": "auto",
         "type": "bar",
         "x": [
          "Wii",
          "DS",
          "PS3",
          "X360"
         ],
         "xaxis": "x",
         "y": [
          6,
          6,
          3,
          2
         ],
         "yaxis": "y"
        },
        {
         "alignmentgroup": "True",
         "hovertemplate": "Publisher=PopCap Games<br>Platform=%{x}<br>count=%{y}<extra></extra>",
         "legendgroup": "PopCap Games",
         "marker": {
          "color": "#FF6692",
          "pattern": {
           "shape": ""
          }
         },
         "name": "PopCap Games",
         "offsetgroup": "PopCap Games",
         "orientation": "v",
         "showlegend": true,
         "textposition": "auto",
         "type": "bar",
         "x": [
          "PC",
          "DS",
          "X360",
          "PS3"
         ],
         "xaxis": "x",
         "y": [
          6,
          4,
          4,
          1
         ],
         "yaxis": "y"
        },
        {
         "alignmentgroup": "True",
         "hovertemplate": "Publisher=SNK Playmore<br>Platform=%{x}<br>count=%{y}<extra></extra>",
         "legendgroup": "SNK Playmore",
         "marker": {
          "color": "#B6E880",
          "pattern": {
           "shape": ""
          }
         },
         "name": "SNK Playmore",
         "offsetgroup": "SNK Playmore",
         "orientation": "v",
         "showlegend": true,
         "textposition": "auto",
         "type": "bar",
         "x": [
          "PS2",
          "DS",
          "XB",
          "PS",
          "SAT",
          "PSP"
         ],
         "xaxis": "x",
         "y": [
          6,
          4,
          3,
          3,
          1,
          1
         ],
         "yaxis": "y"
        },
        {
         "alignmentgroup": "True",
         "hovertemplate": "Publisher=System 3 Arcade Software<br>Platform=%{x}<br>count=%{y}<extra></extra>",
         "legendgroup": "System 3 Arcade Software",
         "marker": {
          "color": "#FF97FF",
          "pattern": {
           "shape": ""
          }
         },
         "name": "System 3 Arcade Software",
         "offsetgroup": "System 3 Arcade Software",
         "orientation": "v",
         "showlegend": true,
         "textposition": "auto",
         "type": "bar",
         "x": [
          "Wii",
          "DS",
          "PS3",
          "PSP",
          "PS2"
         ],
         "xaxis": "x",
         "y": [
          6,
          3,
          2,
          2,
          1
         ],
         "yaxis": "y"
        },
        {
         "alignmentgroup": "True",
         "hovertemplate": "Publisher=dramatic create<br>Platform=%{x}<br>count=%{y}<extra></extra>",
         "legendgroup": "dramatic create",
         "marker": {
          "color": "#FECB52",
          "pattern": {
           "shape": ""
          }
         },
         "name": "dramatic create",
         "offsetgroup": "dramatic create",
         "orientation": "v",
         "showlegend": true,
         "textposition": "auto",
         "type": "bar",
         "x": [
          "PSV"
         ],
         "xaxis": "x",
         "y": [
          5
         ],
         "yaxis": "y"
        },
        {
         "alignmentgroup": "True",
         "hovertemplate": "Publisher=Marvelous Entertainment<br>Platform=%{x}<br>count=%{y}<extra></extra>",
         "legendgroup": "Marvelous Entertainment",
         "marker": {
          "color": "#636efa",
          "pattern": {
           "shape": ""
          }
         },
         "name": "Marvelous Entertainment",
         "offsetgroup": "Marvelous Entertainment",
         "orientation": "v",
         "showlegend": true,
         "textposition": "auto",
         "type": "bar",
         "x": [
          "PSV",
          "3DS",
          "PSP"
         ],
         "xaxis": "x",
         "y": [
          5,
          5,
          2
         ],
         "yaxis": "y"
        },
        {
         "alignmentgroup": "True",
         "hovertemplate": "Publisher=Taito<br>Platform=%{x}<br>count=%{y}<extra></extra>",
         "legendgroup": "Taito",
         "marker": {
          "color": "#EF553B",
          "pattern": {
           "shape": ""
          }
         },
         "name": "Taito",
         "offsetgroup": "Taito",
         "orientation": "v",
         "showlegend": true,
         "textposition": "auto",
         "type": "bar",
         "x": [
          "PS2",
          "DS",
          "PS",
          "SNES",
          "Wii",
          "2600",
          "GBA",
          "GC",
          "N64",
          "SAT"
         ],
         "xaxis": "x",
         "y": [
          5,
          3,
          2,
          2,
          2,
          1,
          1,
          1,
          1,
          1
         ],
         "yaxis": "y"
        },
        {
         "alignmentgroup": "True",
         "hovertemplate": "Publisher=Nihon Falcom Corporation<br>Platform=%{x}<br>count=%{y}<extra></extra>",
         "legendgroup": "Nihon Falcom Corporation",
         "marker": {
          "color": "#00cc96",
          "pattern": {
           "shape": ""
          }
         },
         "name": "Nihon Falcom Corporation",
         "offsetgroup": "Nihon Falcom Corporation",
         "orientation": "v",
         "showlegend": true,
         "textposition": "auto",
         "type": "bar",
         "x": [
          "PSV",
          "PS4",
          "PSP"
         ],
         "xaxis": "x",
         "y": [
          5,
          1,
          1
         ],
         "yaxis": "y"
        },
        {
         "alignmentgroup": "True",
         "hovertemplate": "Publisher=Coleco<br>Platform=%{x}<br>count=%{y}<extra></extra>",
         "legendgroup": "Coleco",
         "marker": {
          "color": "#ab63fa",
          "pattern": {
           "shape": ""
          }
         },
         "name": "Coleco",
         "offsetgroup": "Coleco",
         "orientation": "v",
         "showlegend": true,
         "textposition": "auto",
         "type": "bar",
         "x": [
          "2600"
         ],
         "xaxis": "x",
         "y": [
          5
         ],
         "yaxis": "y"
        },
        {
         "alignmentgroup": "True",
         "hovertemplate": "Publisher=Mentor Interactive<br>Platform=%{x}<br>count=%{y}<extra></extra>",
         "legendgroup": "Mentor Interactive",
         "marker": {
          "color": "#FFA15A",
          "pattern": {
           "shape": ""
          }
         },
         "name": "Mentor Interactive",
         "offsetgroup": "Mentor Interactive",
         "orientation": "v",
         "showlegend": true,
         "textposition": "auto",
         "type": "bar",
         "x": [
          "DS"
         ],
         "xaxis": "x",
         "y": [
          5
         ],
         "yaxis": "y"
        },
        {
         "alignmentgroup": "True",
         "hovertemplate": "Publisher=Yeti<br>Platform=%{x}<br>count=%{y}<extra></extra>",
         "legendgroup": "Yeti",
         "marker": {
          "color": "#19d3f3",
          "pattern": {
           "shape": ""
          }
         },
         "name": "Yeti",
         "offsetgroup": "Yeti",
         "orientation": "v",
         "showlegend": true,
         "textposition": "auto",
         "type": "bar",
         "x": [
          "PSP",
          "PS2",
          "PS4",
          "X360"
         ],
         "xaxis": "x",
         "y": [
          5,
          4,
          1,
          1
         ],
         "yaxis": "y"
        },
        {
         "alignmentgroup": "True",
         "hovertemplate": "Publisher=Playlogic Game Factory<br>Platform=%{x}<br>count=%{y}<extra></extra>",
         "legendgroup": "Playlogic Game Factory",
         "marker": {
          "color": "#FF6692",
          "pattern": {
           "shape": ""
          }
         },
         "name": "Playlogic Game Factory",
         "offsetgroup": "Playlogic Game Factory",
         "orientation": "v",
         "showlegend": true,
         "textposition": "auto",
         "type": "bar",
         "x": [
          "Wii",
          "DS",
          "X360",
          "PSP",
          "PS3",
          "PC",
          "PS2"
         ],
         "xaxis": "x",
         "y": [
          5,
          3,
          2,
          1,
          1,
          1,
          1
         ],
         "yaxis": "y"
        },
        {
         "alignmentgroup": "True",
         "hovertemplate": "Publisher=Time Warner Interactive<br>Platform=%{x}<br>count=%{y}<extra></extra>",
         "legendgroup": "Time Warner Interactive",
         "marker": {
          "color": "#B6E880",
          "pattern": {
           "shape": ""
          }
         },
         "name": "Time Warner Interactive",
         "offsetgroup": "Time Warner Interactive",
         "orientation": "v",
         "showlegend": true,
         "textposition": "auto",
         "type": "bar",
         "x": [
          "PS"
         ],
         "xaxis": "x",
         "y": [
          5
         ],
         "yaxis": "y"
        },
        {
         "alignmentgroup": "True",
         "hovertemplate": "Publisher=DSI Games<br>Platform=%{x}<br>count=%{y}<extra></extra>",
         "legendgroup": "DSI Games",
         "marker": {
          "color": "#FF97FF",
          "pattern": {
           "shape": ""
          }
         },
         "name": "DSI Games",
         "offsetgroup": "DSI Games",
         "orientation": "v",
         "showlegend": true,
         "textposition": "auto",
         "type": "bar",
         "x": [
          "DS",
          "GBA"
         ],
         "xaxis": "x",
         "y": [
          5,
          1
         ],
         "yaxis": "y"
        },
        {
         "alignmentgroup": "True",
         "hovertemplate": "Publisher=Crystal Dynamics<br>Platform=%{x}<br>count=%{y}<extra></extra>",
         "legendgroup": "Crystal Dynamics",
         "marker": {
          "color": "#FECB52",
          "pattern": {
           "shape": ""
          }
         },
         "name": "Crystal Dynamics",
         "offsetgroup": "Crystal Dynamics",
         "orientation": "v",
         "showlegend": true,
         "textposition": "auto",
         "type": "bar",
         "x": [
          "PS"
         ],
         "xaxis": "x",
         "y": [
          5
         ],
         "yaxis": "y"
        },
        {
         "alignmentgroup": "True",
         "hovertemplate": "Publisher=Tomy Corporation<br>Platform=%{x}<br>count=%{y}<extra></extra>",
         "legendgroup": "Tomy Corporation",
         "marker": {
          "color": "#636efa",
          "pattern": {
           "shape": ""
          }
         },
         "name": "Tomy Corporation",
         "offsetgroup": "Tomy Corporation",
         "orientation": "v",
         "showlegend": true,
         "textposition": "auto",
         "type": "bar",
         "x": [
          "DS",
          "GC",
          "PS",
          "GBA",
          "Wii"
         ],
         "xaxis": "x",
         "y": [
          5,
          5,
          4,
          2,
          2
         ],
         "yaxis": "y"
        },
        {
         "alignmentgroup": "True",
         "hovertemplate": "Publisher=Ubisoft Annecy<br>Platform=%{x}<br>count=%{y}<extra></extra>",
         "legendgroup": "Ubisoft Annecy",
         "marker": {
          "color": "#EF553B",
          "pattern": {
           "shape": ""
          }
         },
         "name": "Ubisoft Annecy",
         "offsetgroup": "Ubisoft Annecy",
         "orientation": "v",
         "showlegend": true,
         "textposition": "auto",
         "type": "bar",
         "x": [
          "PS3",
          "PSP",
          "X360",
          "3DS"
         ],
         "xaxis": "x",
         "y": [
          5,
          4,
          3,
          2
         ],
         "yaxis": "y"
        },
        {
         "alignmentgroup": "True",
         "hovertemplate": "Publisher=Sony Computer Entertainment Europe<br>Platform=%{x}<br>count=%{y}<extra></extra>",
         "legendgroup": "Sony Computer Entertainment Europe",
         "marker": {
          "color": "#00cc96",
          "pattern": {
           "shape": ""
          }
         },
         "name": "Sony Computer Entertainment Europe",
         "offsetgroup": "Sony Computer Entertainment Europe",
         "orientation": "v",
         "showlegend": true,
         "textposition": "auto",
         "type": "bar",
         "x": [
          "PS3",
          "PS4",
          "PSV",
          "PS2"
         ],
         "xaxis": "x",
         "y": [
          5,
          4,
          4,
          2
         ],
         "yaxis": "y"
        },
        {
         "alignmentgroup": "True",
         "hovertemplate": "Publisher=Imagineer<br>Platform=%{x}<br>count=%{y}<extra></extra>",
         "legendgroup": "Imagineer",
         "marker": {
          "color": "#ab63fa",
          "pattern": {
           "shape": ""
          }
         },
         "name": "Imagineer",
         "offsetgroup": "Imagineer",
         "orientation": "v",
         "showlegend": true,
         "textposition": "auto",
         "type": "bar",
         "x": [
          "N64",
          "GB",
          "SAT",
          "SNES",
          "PS"
         ],
         "xaxis": "x",
         "y": [
          5,
          4,
          3,
          3,
          1
         ],
         "yaxis": "y"
        },
        {
         "alignmentgroup": "True",
         "hovertemplate": "Publisher=Ghostlight<br>Platform=%{x}<br>count=%{y}<extra></extra>",
         "legendgroup": "Ghostlight",
         "marker": {
          "color": "#FFA15A",
          "pattern": {
           "shape": ""
          }
         },
         "name": "Ghostlight",
         "offsetgroup": "Ghostlight",
         "orientation": "v",
         "showlegend": true,
         "textposition": "auto",
         "type": "bar",
         "x": [
          "DS",
          "PS2",
          "PSP",
          "PS3",
          "Wii",
          "3DS"
         ],
         "xaxis": "x",
         "y": [
          5,
          4,
          2,
          2,
          1,
          1
         ],
         "yaxis": "y"
        },
        {
         "alignmentgroup": "True",
         "hovertemplate": "Publisher=Happinet<br>Platform=%{x}<br>count=%{y}<extra></extra>",
         "legendgroup": "Happinet",
         "marker": {
          "color": "#19d3f3",
          "pattern": {
           "shape": ""
          }
         },
         "name": "Happinet",
         "offsetgroup": "Happinet",
         "orientation": "v",
         "showlegend": true,
         "textposition": "auto",
         "type": "bar",
         "x": [
          "3DS"
         ],
         "xaxis": "x",
         "y": [
          5
         ],
         "yaxis": "y"
        },
        {
         "alignmentgroup": "True",
         "hovertemplate": "Publisher=20th Century Fox Video Games<br>Platform=%{x}<br>count=%{y}<extra></extra>",
         "legendgroup": "20th Century Fox Video Games",
         "marker": {
          "color": "#FF6692",
          "pattern": {
           "shape": ""
          }
         },
         "name": "20th Century Fox Video Games",
         "offsetgroup": "20th Century Fox Video Games",
         "orientation": "v",
         "showlegend": true,
         "textposition": "auto",
         "type": "bar",
         "x": [
          "2600"
         ],
         "xaxis": "x",
         "y": [
          5
         ],
         "yaxis": "y"
        },
        {
         "alignmentgroup": "True",
         "hovertemplate": "Publisher=NEC Interchannel<br>Platform=%{x}<br>count=%{y}<extra></extra>",
         "legendgroup": "NEC Interchannel",
         "marker": {
          "color": "#B6E880",
          "pattern": {
           "shape": ""
          }
         },
         "name": "NEC Interchannel",
         "offsetgroup": "NEC Interchannel",
         "orientation": "v",
         "showlegend": true,
         "textposition": "auto",
         "type": "bar",
         "x": [
          "SAT",
          "DC"
         ],
         "xaxis": "x",
         "y": [
          5,
          3
         ],
         "yaxis": "y"
        },
        {
         "alignmentgroup": "True",
         "hovertemplate": "Publisher=GameMill Entertainment<br>Platform=%{x}<br>count=%{y}<extra></extra>",
         "legendgroup": "GameMill Entertainment",
         "marker": {
          "color": "#FF97FF",
          "pattern": {
           "shape": ""
          }
         },
         "name": "GameMill Entertainment",
         "offsetgroup": "GameMill Entertainment",
         "orientation": "v",
         "showlegend": true,
         "textposition": "auto",
         "type": "bar",
         "x": [
          "DS",
          "Wii",
          "X360"
         ],
         "xaxis": "x",
         "y": [
          5,
          2,
          1
         ],
         "yaxis": "y"
        },
        {
         "alignmentgroup": "True",
         "hovertemplate": "Publisher=Natsume<br>Platform=%{x}<br>count=%{y}<extra></extra>",
         "legendgroup": "Natsume",
         "marker": {
          "color": "#FECB52",
          "pattern": {
           "shape": ""
          }
         },
         "name": "Natsume",
         "offsetgroup": "Natsume",
         "orientation": "v",
         "showlegend": true,
         "textposition": "auto",
         "type": "bar",
         "x": [
          "DS",
          "PS2",
          "GBA",
          "PS",
          "N64",
          "PSP",
          "Wii",
          "3DS"
         ],
         "xaxis": "x",
         "y": [
          5,
          4,
          2,
          2,
          1,
          1,
          1,
          1
         ],
         "yaxis": "y"
        },
        {
         "alignmentgroup": "True",
         "hovertemplate": "Publisher=Laguna<br>Platform=%{x}<br>count=%{y}<extra></extra>",
         "legendgroup": "Laguna",
         "marker": {
          "color": "#636efa",
          "pattern": {
           "shape": ""
          }
         },
         "name": "Laguna",
         "offsetgroup": "Laguna",
         "orientation": "v",
         "showlegend": true,
         "textposition": "auto",
         "type": "bar",
         "x": [
          "SNES"
         ],
         "xaxis": "x",
         "y": [
          4
         ],
         "yaxis": "y"
        },
        {
         "alignmentgroup": "True",
         "hovertemplate": "Publisher=System Soft<br>Platform=%{x}<br>count=%{y}<extra></extra>",
         "legendgroup": "System Soft",
         "marker": {
          "color": "#EF553B",
          "pattern": {
           "shape": ""
          }
         },
         "name": "System Soft",
         "offsetgroup": "System Soft",
         "orientation": "v",
         "showlegend": true,
         "textposition": "auto",
         "type": "bar",
         "x": [
          "PSP"
         ],
         "xaxis": "x",
         "y": [
          4
         ],
         "yaxis": "y"
        },
        {
         "alignmentgroup": "True",
         "hovertemplate": "Publisher=Hudson Entertainment<br>Platform=%{x}<br>count=%{y}<extra></extra>",
         "legendgroup": "Hudson Entertainment",
         "marker": {
          "color": "#00cc96",
          "pattern": {
           "shape": ""
          }
         },
         "name": "Hudson Entertainment",
         "offsetgroup": "Hudson Entertainment",
         "orientation": "v",
         "showlegend": true,
         "textposition": "auto",
         "type": "bar",
         "x": [
          "GBA",
          "Wii",
          "PS",
          "N64",
          "DS",
          "PSP"
         ],
         "xaxis": "x",
         "y": [
          4,
          2,
          2,
          1,
          1,
          1
         ],
         "yaxis": "y"
        },
        {
         "alignmentgroup": "True",
         "hovertemplate": "Publisher=Microids<br>Platform=%{x}<br>count=%{y}<extra></extra>",
         "legendgroup": "Microids",
         "marker": {
          "color": "#ab63fa",
          "pattern": {
           "shape": ""
          }
         },
         "name": "Microids",
         "offsetgroup": "Microids",
         "orientation": "v",
         "showlegend": true,
         "textposition": "auto",
         "type": "bar",
         "x": [
          "XB",
          "PC",
          "GBA",
          "PS2",
          "PS4"
         ],
         "xaxis": "x",
         "y": [
          4,
          3,
          1,
          1,
          1
         ],
         "yaxis": "y"
        },
        {
         "alignmentgroup": "True",
         "hovertemplate": "Publisher=Kaga Create<br>Platform=%{x}<br>count=%{y}<extra></extra>",
         "legendgroup": "Kaga Create",
         "marker": {
          "color": "#FFA15A",
          "pattern": {
           "shape": ""
          }
         },
         "name": "Kaga Create",
         "offsetgroup": "Kaga Create",
         "orientation": "v",
         "showlegend": true,
         "textposition": "auto",
         "type": "bar",
         "x": [
          "PSV",
          "PS3",
          "PSP"
         ],
         "xaxis": "x",
         "y": [
          4,
          1,
          1
         ],
         "yaxis": "y"
        },
        {
         "alignmentgroup": "True",
         "hovertemplate": "Publisher=Starfish<br>Platform=%{x}<br>count=%{y}<extra></extra>",
         "legendgroup": "Starfish",
         "marker": {
          "color": "#19d3f3",
          "pattern": {
           "shape": ""
          }
         },
         "name": "Starfish",
         "offsetgroup": "Starfish",
         "orientation": "v",
         "showlegend": true,
         "textposition": "auto",
         "type": "bar",
         "x": [
          "PSP",
          "DS",
          "PS",
          "Wii",
          "GBA"
         ],
         "xaxis": "x",
         "y": [
          4,
          2,
          2,
          1,
          1
         ],
         "yaxis": "y"
        },
        {
         "alignmentgroup": "True",
         "hovertemplate": "Publisher=Telegames<br>Platform=%{x}<br>count=%{y}<extra></extra>",
         "legendgroup": "Telegames",
         "marker": {
          "color": "#FF6692",
          "pattern": {
           "shape": ""
          }
         },
         "name": "Telegames",
         "offsetgroup": "Telegames",
         "orientation": "v",
         "showlegend": true,
         "textposition": "auto",
         "type": "bar",
         "x": [
          "DS",
          "GBA",
          "PS"
         ],
         "xaxis": "x",
         "y": [
          4,
          3,
          1
         ],
         "yaxis": "y"
        },
        {
         "alignmentgroup": "True",
         "hovertemplate": "Publisher=Interchannel<br>Platform=%{x}<br>count=%{y}<extra></extra>",
         "legendgroup": "Interchannel",
         "marker": {
          "color": "#B6E880",
          "pattern": {
           "shape": ""
          }
         },
         "name": "Interchannel",
         "offsetgroup": "Interchannel",
         "orientation": "v",
         "showlegend": true,
         "textposition": "auto",
         "type": "bar",
         "x": [
          "PS2"
         ],
         "xaxis": "x",
         "y": [
          4
         ],
         "yaxis": "y"
        },
        {
         "alignmentgroup": "True",
         "hovertemplate": "Publisher=Microprose<br>Platform=%{x}<br>count=%{y}<extra></extra>",
         "legendgroup": "Microprose",
         "marker": {
          "color": "#FF97FF",
          "pattern": {
           "shape": ""
          }
         },
         "name": "Microprose",
         "offsetgroup": "Microprose",
         "orientation": "v",
         "showlegend": true,
         "textposition": "auto",
         "type": "bar",
         "x": [
          "PS",
          "PC"
         ],
         "xaxis": "x",
         "y": [
          4,
          2
         ],
         "yaxis": "y"
        },
        {
         "alignmentgroup": "True",
         "hovertemplate": "Publisher=Sunrise Interactive<br>Platform=%{x}<br>count=%{y}<extra></extra>",
         "legendgroup": "Sunrise Interactive",
         "marker": {
          "color": "#FECB52",
          "pattern": {
           "shape": ""
          }
         },
         "name": "Sunrise Interactive",
         "offsetgroup": "Sunrise Interactive",
         "orientation": "v",
         "showlegend": true,
         "textposition": "auto",
         "type": "bar",
         "x": [
          "PS2"
         ],
         "xaxis": "x",
         "y": [
          4
         ],
         "yaxis": "y"
        },
        {
         "alignmentgroup": "True",
         "hovertemplate": "Publisher=Mastertronic<br>Platform=%{x}<br>count=%{y}<extra></extra>",
         "legendgroup": "Mastertronic",
         "marker": {
          "color": "#636efa",
          "pattern": {
           "shape": ""
          }
         },
         "name": "Mastertronic",
         "offsetgroup": "Mastertronic",
         "orientation": "v",
         "showlegend": true,
         "textposition": "auto",
         "type": "bar",
         "x": [
          "PC",
          "DS",
          "X360",
          "PS2",
          "Wii"
         ],
         "xaxis": "x",
         "y": [
          4,
          4,
          3,
          1,
          1
         ],
         "yaxis": "y"
        },
        {
         "alignmentgroup": "True",
         "hovertemplate": "Publisher=Idea Factory International<br>Platform=%{x}<br>count=%{y}<extra></extra>",
         "legendgroup": "Idea Factory International",
         "marker": {
          "color": "#EF553B",
          "pattern": {
           "shape": ""
          }
         },
         "name": "Idea Factory International",
         "offsetgroup": "Idea Factory International",
         "orientation": "v",
         "showlegend": true,
         "textposition": "auto",
         "type": "bar",
         "x": [
          "PSV",
          "PS4"
         ],
         "xaxis": "x",
         "y": [
          4,
          2
         ],
         "yaxis": "y"
        },
        {
         "alignmentgroup": "True",
         "hovertemplate": "Publisher=GungHo<br>Platform=%{x}<br>count=%{y}<extra></extra>",
         "legendgroup": "GungHo",
         "marker": {
          "color": "#00cc96",
          "pattern": {
           "shape": ""
          }
         },
         "name": "GungHo",
         "offsetgroup": "GungHo",
         "orientation": "v",
         "showlegend": true,
         "textposition": "auto",
         "type": "bar",
         "x": [
          "DS",
          "PSP",
          "PSV",
          "3DS",
          "PS3"
         ],
         "xaxis": "x",
         "y": [
          4,
          3,
          3,
          2,
          1
         ],
         "yaxis": "y"
        },
        {
         "alignmentgroup": "True",
         "hovertemplate": "Publisher=Sunsoft<br>Platform=%{x}<br>count=%{y}<extra></extra>",
         "legendgroup": "Sunsoft",
         "marker": {
          "color": "#ab63fa",
          "pattern": {
           "shape": ""
          }
         },
         "name": "Sunsoft",
         "offsetgroup": "Sunsoft",
         "orientation": "v",
         "showlegend": true,
         "textposition": "auto",
         "type": "bar",
         "x": [
          "PS",
          "SNES",
          "SAT",
          "N64",
          "3DS"
         ],
         "xaxis": "x",
         "y": [
          4,
          2,
          2,
          1,
          1
         ],
         "yaxis": "y"
        },
        {
         "alignmentgroup": "True",
         "hovertemplate": "Publisher=IE Institute<br>Platform=%{x}<br>count=%{y}<extra></extra>",
         "legendgroup": "IE Institute",
         "marker": {
          "color": "#FFA15A",
          "pattern": {
           "shape": ""
          }
         },
         "name": "IE Institute",
         "offsetgroup": "IE Institute",
         "orientation": "v",
         "showlegend": true,
         "textposition": "auto",
         "type": "bar",
         "x": [
          "DS",
          "3DS"
         ],
         "xaxis": "x",
         "y": [
          4,
          1
         ],
         "yaxis": "y"
        },
        {
         "alignmentgroup": "True",
         "hovertemplate": "Publisher=The Adventure Company<br>Platform=%{x}<br>count=%{y}<extra></extra>",
         "legendgroup": "The Adventure Company",
         "marker": {
          "color": "#19d3f3",
          "pattern": {
           "shape": ""
          }
         },
         "name": "The Adventure Company",
         "offsetgroup": "The Adventure Company",
         "orientation": "v",
         "showlegend": true,
         "textposition": "auto",
         "type": "bar",
         "x": [
          "Wii",
          "DS"
         ],
         "xaxis": "x",
         "y": [
          4,
          1
         ],
         "yaxis": "y"
        },
        {
         "alignmentgroup": "True",
         "hovertemplate": "Publisher=Imagic<br>Platform=%{x}<br>count=%{y}<extra></extra>",
         "legendgroup": "Imagic",
         "marker": {
          "color": "#FF6692",
          "pattern": {
           "shape": ""
          }
         },
         "name": "Imagic",
         "offsetgroup": "Imagic",
         "orientation": "v",
         "showlegend": true,
         "textposition": "auto",
         "type": "bar",
         "x": [
          "2600"
         ],
         "xaxis": "x",
         "y": [
          4
         ],
         "yaxis": "y"
        },
        {
         "alignmentgroup": "True",
         "hovertemplate": "Publisher=Koch Media<br>Platform=%{x}<br>count=%{y}<extra></extra>",
         "legendgroup": "Koch Media",
         "marker": {
          "color": "#B6E880",
          "pattern": {
           "shape": ""
          }
         },
         "name": "Koch Media",
         "offsetgroup": "Koch Media",
         "orientation": "v",
         "showlegend": true,
         "textposition": "auto",
         "type": "bar",
         "x": [
          "PC",
          "XOne",
          "X360",
          "Wii",
          "PS3",
          "3DS",
          "DS",
          "PS2",
          "PS4",
          "PSP"
         ],
         "xaxis": "x",
         "y": [
          4,
          2,
          2,
          2,
          2,
          1,
          1,
          1,
          1,
          1
         ],
         "yaxis": "y"
        },
        {
         "alignmentgroup": "True",
         "hovertemplate": "Publisher=Aspyr<br>Platform=%{x}<br>count=%{y}<extra></extra>",
         "legendgroup": "Aspyr",
         "marker": {
          "color": "#FF97FF",
          "pattern": {
           "shape": ""
          }
         },
         "name": "Aspyr",
         "offsetgroup": "Aspyr",
         "orientation": "v",
         "showlegend": true,
         "textposition": "auto",
         "type": "bar",
         "x": [
          "DS",
          "PC",
          "GBA",
          "X360"
         ],
         "xaxis": "x",
         "y": [
          4,
          2,
          1,
          1
         ],
         "yaxis": "y"
        },
        {
         "alignmentgroup": "True",
         "hovertemplate": "Publisher=Xplosiv<br>Platform=%{x}<br>count=%{y}<extra></extra>",
         "legendgroup": "Xplosiv",
         "marker": {
          "color": "#FECB52",
          "pattern": {
           "shape": ""
          }
         },
         "name": "Xplosiv",
         "offsetgroup": "Xplosiv",
         "orientation": "v",
         "showlegend": true,
         "textposition": "auto",
         "type": "bar",
         "x": [
          "PS2",
          "PSP",
          "Wii"
         ],
         "xaxis": "x",
         "y": [
          4,
          4,
          2
         ],
         "yaxis": "y"
        },
        {
         "alignmentgroup": "True",
         "hovertemplate": "Publisher=Phenomedia<br>Platform=%{x}<br>count=%{y}<extra></extra>",
         "legendgroup": "Phenomedia",
         "marker": {
          "color": "#636efa",
          "pattern": {
           "shape": ""
          }
         },
         "name": "Phenomedia",
         "offsetgroup": "Phenomedia",
         "orientation": "v",
         "showlegend": true,
         "textposition": "auto",
         "type": "bar",
         "x": [
          "DS"
         ],
         "xaxis": "x",
         "y": [
          4
         ],
         "yaxis": "y"
        },
        {
         "alignmentgroup": "True",
         "hovertemplate": "Publisher=Astragon<br>Platform=%{x}<br>count=%{y}<extra></extra>",
         "legendgroup": "Astragon",
         "marker": {
          "color": "#EF553B",
          "pattern": {
           "shape": ""
          }
         },
         "name": "Astragon",
         "offsetgroup": "Astragon",
         "orientation": "v",
         "showlegend": true,
         "textposition": "auto",
         "type": "bar",
         "x": [
          "DS",
          "PC"
         ],
         "xaxis": "x",
         "y": [
          4,
          2
         ],
         "yaxis": "y"
        },
        {
         "alignmentgroup": "True",
         "hovertemplate": "Publisher=Pioneer LDC<br>Platform=%{x}<br>count=%{y}<extra></extra>",
         "legendgroup": "Pioneer LDC",
         "marker": {
          "color": "#00cc96",
          "pattern": {
           "shape": ""
          }
         },
         "name": "Pioneer LDC",
         "offsetgroup": "Pioneer LDC",
         "orientation": "v",
         "showlegend": true,
         "textposition": "auto",
         "type": "bar",
         "x": [
          "PS"
         ],
         "xaxis": "x",
         "y": [
          4
         ],
         "yaxis": "y"
        },
        {
         "alignmentgroup": "True",
         "hovertemplate": "Publisher=PlayV<br>Platform=%{x}<br>count=%{y}<extra></extra>",
         "legendgroup": "PlayV",
         "marker": {
          "color": "#ab63fa",
          "pattern": {
           "shape": ""
          }
         },
         "name": "PlayV",
         "offsetgroup": "PlayV",
         "orientation": "v",
         "showlegend": true,
         "textposition": "auto",
         "type": "bar",
         "x": [
          "DS"
         ],
         "xaxis": "x",
         "y": [
          4
         ],
         "yaxis": "y"
        },
        {
         "alignmentgroup": "True",
         "hovertemplate": "Publisher=ArtDink<br>Platform=%{x}<br>count=%{y}<extra></extra>",
         "legendgroup": "ArtDink",
         "marker": {
          "color": "#FFA15A",
          "pattern": {
           "shape": ""
          }
         },
         "name": "ArtDink",
         "offsetgroup": "ArtDink",
         "orientation": "v",
         "showlegend": true,
         "textposition": "auto",
         "type": "bar",
         "x": [
          "PS",
          "PS2",
          "3DS",
          "DS",
          "PSP"
         ],
         "xaxis": "x",
         "y": [
          4,
          2,
          1,
          1,
          1
         ],
         "yaxis": "y"
        },
        {
         "alignmentgroup": "True",
         "hovertemplate": "Publisher=XS Games<br>Platform=%{x}<br>count=%{y}<extra></extra>",
         "legendgroup": "XS Games",
         "marker": {
          "color": "#19d3f3",
          "pattern": {
           "shape": ""
          }
         },
         "name": "XS Games",
         "offsetgroup": "XS Games",
         "orientation": "v",
         "showlegend": true,
         "textposition": "auto",
         "type": "bar",
         "x": [
          "Wii",
          "PS2",
          "GBA",
          "PS",
          "X360",
          "XB"
         ],
         "xaxis": "x",
         "y": [
          4,
          3,
          2,
          1,
          1,
          1
         ],
         "yaxis": "y"
        },
        {
         "alignmentgroup": "True",
         "hovertemplate": "Publisher=Neko Entertainment<br>Platform=%{x}<br>count=%{y}<extra></extra>",
         "legendgroup": "Neko Entertainment",
         "marker": {
          "color": "#FF6692",
          "pattern": {
           "shape": ""
          }
         },
         "name": "Neko Entertainment",
         "offsetgroup": "Neko Entertainment",
         "orientation": "v",
         "showlegend": true,
         "textposition": "auto",
         "type": "bar",
         "x": [
          "Wii",
          "DS"
         ],
         "xaxis": "x",
         "y": [
          4,
          3
         ],
         "yaxis": "y"
        },
        {
         "alignmentgroup": "True",
         "hovertemplate": "Publisher=ChunSoft<br>Platform=%{x}<br>count=%{y}<extra></extra>",
         "legendgroup": "ChunSoft",
         "marker": {
          "color": "#B6E880",
          "pattern": {
           "shape": ""
          }
         },
         "name": "ChunSoft",
         "offsetgroup": "ChunSoft",
         "orientation": "v",
         "showlegend": true,
         "textposition": "auto",
         "type": "bar",
         "x": [
          "SNES",
          "DS",
          "PSP",
          "PSV",
          "3DS",
          "GB",
          "N64",
          "PS",
          "PS2",
          "SAT",
          "X360"
         ],
         "xaxis": "x",
         "y": [
          4,
          3,
          2,
          2,
          1,
          1,
          1,
          1,
          1,
          1,
          1
         ],
         "yaxis": "y"
        },
        {
         "alignmentgroup": "True",
         "hovertemplate": "Publisher=Brash Entertainment<br>Platform=%{x}<br>count=%{y}<extra></extra>",
         "legendgroup": "Brash Entertainment",
         "marker": {
          "color": "#FF97FF",
          "pattern": {
           "shape": ""
          }
         },
         "name": "Brash Entertainment",
         "offsetgroup": "Brash Entertainment",
         "orientation": "v",
         "showlegend": true,
         "textposition": "auto",
         "type": "bar",
         "x": [
          "DS",
          "PS2",
          "Wii",
          "X360"
         ],
         "xaxis": "x",
         "y": [
          4,
          3,
          2,
          1
         ],
         "yaxis": "y"
        },
        {
         "alignmentgroup": "True",
         "hovertemplate": "Publisher=Comfort<br>Platform=%{x}<br>count=%{y}<extra></extra>",
         "legendgroup": "Comfort",
         "marker": {
          "color": "#FECB52",
          "pattern": {
           "shape": ""
          }
         },
         "name": "Comfort",
         "offsetgroup": "Comfort",
         "orientation": "v",
         "showlegend": true,
         "textposition": "auto",
         "type": "bar",
         "x": [
          "PSP",
          "PS2"
         ],
         "xaxis": "x",
         "y": [
          4,
          2
         ],
         "yaxis": "y"
        },
        {
         "alignmentgroup": "True",
         "hovertemplate": "Publisher=Conspiracy Entertainment<br>Platform=%{x}<br>count=%{y}<extra></extra>",
         "legendgroup": "Conspiracy Entertainment",
         "marker": {
          "color": "#636efa",
          "pattern": {
           "shape": ""
          }
         },
         "name": "Conspiracy Entertainment",
         "offsetgroup": "Conspiracy Entertainment",
         "orientation": "v",
         "showlegend": true,
         "textposition": "auto",
         "type": "bar",
         "x": [
          "Wii",
          "DS",
          "GBA",
          "X360",
          "PSP",
          "PS",
          "PS2",
          "PS3"
         ],
         "xaxis": "x",
         "y": [
          4,
          3,
          2,
          1,
          1,
          1,
          1,
          1
         ],
         "yaxis": "y"
        },
        {
         "alignmentgroup": "True",
         "hovertemplate": "Publisher=Sony Online Entertainment<br>Platform=%{x}<br>count=%{y}<extra></extra>",
         "legendgroup": "Sony Online Entertainment",
         "marker": {
          "color": "#EF553B",
          "pattern": {
           "shape": ""
          }
         },
         "name": "Sony Online Entertainment",
         "offsetgroup": "Sony Online Entertainment",
         "orientation": "v",
         "showlegend": true,
         "textposition": "auto",
         "type": "bar",
         "x": [
          "PS2",
          "PC",
          "PSP",
          "PS3"
         ],
         "xaxis": "x",
         "y": [
          4,
          2,
          1,
          1
         ],
         "yaxis": "y"
        },
        {
         "alignmentgroup": "True",
         "hovertemplate": "Publisher=NewKidCo<br>Platform=%{x}<br>count=%{y}<extra></extra>",
         "legendgroup": "NewKidCo",
         "marker": {
          "color": "#00cc96",
          "pattern": {
           "shape": ""
          }
         },
         "name": "NewKidCo",
         "offsetgroup": "NewKidCo",
         "orientation": "v",
         "showlegend": true,
         "textposition": "auto",
         "type": "bar",
         "x": [
          "GBA",
          "PS",
          "N64",
          "GC"
         ],
         "xaxis": "x",
         "y": [
          4,
          2,
          2,
          1
         ],
         "yaxis": "y"
        },
        {
         "alignmentgroup": "True",
         "hovertemplate": "Publisher=U.S. Gold<br>Platform=%{x}<br>count=%{y}<extra></extra>",
         "legendgroup": "U.S. Gold",
         "marker": {
          "color": "#ab63fa",
          "pattern": {
           "shape": ""
          }
         },
         "name": "U.S. Gold",
         "offsetgroup": "U.S. Gold",
         "orientation": "v",
         "showlegend": true,
         "textposition": "auto",
         "type": "bar",
         "x": [
          "PS"
         ],
         "xaxis": "x",
         "y": [
          4
         ],
         "yaxis": "y"
        },
        {
         "alignmentgroup": "True",
         "hovertemplate": "Publisher=Reef Entertainment<br>Platform=%{x}<br>count=%{y}<extra></extra>",
         "legendgroup": "Reef Entertainment",
         "marker": {
          "color": "#FFA15A",
          "pattern": {
           "shape": ""
          }
         },
         "name": "Reef Entertainment",
         "offsetgroup": "Reef Entertainment",
         "orientation": "v",
         "showlegend": true,
         "textposition": "auto",
         "type": "bar",
         "x": [
          "Wii",
          "DS",
          "PC",
          "PS3"
         ],
         "xaxis": "x",
         "y": [
          4,
          1,
          1,
          1
         ],
         "yaxis": "y"
        },
        {
         "alignmentgroup": "True",
         "hovertemplate": "Publisher=Milestone S.r.l.<br>Platform=%{x}<br>count=%{y}<extra></extra>",
         "legendgroup": "Milestone S.r.l.",
         "marker": {
          "color": "#19d3f3",
          "pattern": {
           "shape": ""
          }
         },
         "name": "Milestone S.r.l.",
         "offsetgroup": "Milestone S.r.l.",
         "orientation": "v",
         "showlegend": true,
         "textposition": "auto",
         "type": "bar",
         "x": [
          "PS4",
          "XOne",
          "PS3",
          "X360",
          "PC",
          "PSV"
         ],
         "xaxis": "x",
         "y": [
          4,
          3,
          3,
          3,
          2,
          1
         ],
         "yaxis": "y"
        },
        {
         "alignmentgroup": "True",
         "hovertemplate": "Publisher=Square<br>Platform=%{x}<br>count=%{y}<extra></extra>",
         "legendgroup": "Square",
         "marker": {
          "color": "#FF6692",
          "pattern": {
           "shape": ""
          }
         },
         "name": "Square",
         "offsetgroup": "Square",
         "orientation": "v",
         "showlegend": true,
         "textposition": "auto",
         "type": "bar",
         "x": [
          "PS",
          "SNES",
          "NES"
         ],
         "xaxis": "x",
         "y": [
          4,
          1,
          1
         ],
         "yaxis": "y"
        },
        {
         "alignmentgroup": "True",
         "hovertemplate": "Publisher=RedOctane<br>Platform=%{x}<br>count=%{y}<extra></extra>",
         "legendgroup": "RedOctane",
         "marker": {
          "color": "#B6E880",
          "pattern": {
           "shape": ""
          }
         },
         "name": "RedOctane",
         "offsetgroup": "RedOctane",
         "orientation": "v",
         "showlegend": true,
         "textposition": "auto",
         "type": "bar",
         "x": [
          "PS2"
         ],
         "xaxis": "x",
         "y": [
          4
         ],
         "yaxis": "y"
        },
        {
         "alignmentgroup": "True",
         "hovertemplate": "Publisher=ASCII Media Works<br>Platform=%{x}<br>count=%{y}<extra></extra>",
         "legendgroup": "ASCII Media Works",
         "marker": {
          "color": "#FF97FF",
          "pattern": {
           "shape": ""
          }
         },
         "name": "ASCII Media Works",
         "offsetgroup": "ASCII Media Works",
         "orientation": "v",
         "showlegend": true,
         "textposition": "auto",
         "type": "bar",
         "x": [
          "DS",
          "PSP",
          "PS2",
          "PSV"
         ],
         "xaxis": "x",
         "y": [
          4,
          3,
          1,
          1
         ],
         "yaxis": "y"
        },
        {
         "alignmentgroup": "True",
         "hovertemplate": "Publisher=Aksys Games<br>Platform=%{x}<br>count=%{y}<extra></extra>",
         "legendgroup": "Aksys Games",
         "marker": {
          "color": "#FECB52",
          "pattern": {
           "shape": ""
          }
         },
         "name": "Aksys Games",
         "offsetgroup": "Aksys Games",
         "orientation": "v",
         "showlegend": true,
         "textposition": "auto",
         "type": "bar",
         "x": [
          "PSV",
          "3DS",
          "DS",
          "PS3",
          "PS4"
         ],
         "xaxis": "x",
         "y": [
          4,
          1,
          1,
          1,
          1
         ],
         "yaxis": "y"
        },
        {
         "alignmentgroup": "True",
         "hovertemplate": "Publisher=Agetec<br>Platform=%{x}<br>count=%{y}<extra></extra>",
         "legendgroup": "Agetec",
         "marker": {
          "color": "#636efa",
          "pattern": {
           "shape": ""
          }
         },
         "name": "Agetec",
         "offsetgroup": "Agetec",
         "orientation": "v",
         "showlegend": true,
         "textposition": "auto",
         "type": "bar",
         "x": [
          "PS2",
          "PS",
          "PSP"
         ],
         "xaxis": "x",
         "y": [
          4,
          3,
          1
         ],
         "yaxis": "y"
        },
        {
         "alignmentgroup": "True",
         "hovertemplate": "Publisher=Big Ben Interactive<br>Platform=%{x}<br>count=%{y}<extra></extra>",
         "legendgroup": "Big Ben Interactive",
         "marker": {
          "color": "#EF553B",
          "pattern": {
           "shape": ""
          }
         },
         "name": "Big Ben Interactive",
         "offsetgroup": "Big Ben Interactive",
         "orientation": "v",
         "showlegend": true,
         "textposition": "auto",
         "type": "bar",
         "x": [
          "Wii",
          "DS",
          "3DS",
          "PS2"
         ],
         "xaxis": "x",
         "y": [
          3,
          2,
          1,
          1
         ],
         "yaxis": "y"
        },
        {
         "alignmentgroup": "True",
         "hovertemplate": "Publisher=Bigben Interactive<br>Platform=%{x}<br>count=%{y}<extra></extra>",
         "legendgroup": "Bigben Interactive",
         "marker": {
          "color": "#00cc96",
          "pattern": {
           "shape": ""
          }
         },
         "name": "Bigben Interactive",
         "offsetgroup": "Bigben Interactive",
         "orientation": "v",
         "showlegend": true,
         "textposition": "auto",
         "type": "bar",
         "x": [
          "X360",
          "PS4",
          "PS3",
          "PSV",
          "XOne"
         ],
         "xaxis": "x",
         "y": [
          3,
          3,
          3,
          2,
          2
         ],
         "yaxis": "y"
        },
        {
         "alignmentgroup": "True",
         "hovertemplate": "Publisher=TDK Core<br>Platform=%{x}<br>count=%{y}<extra></extra>",
         "legendgroup": "TDK Core",
         "marker": {
          "color": "#ab63fa",
          "pattern": {
           "shape": ""
          }
         },
         "name": "TDK Core",
         "offsetgroup": "TDK Core",
         "orientation": "v",
         "showlegend": true,
         "textposition": "auto",
         "type": "bar",
         "x": [
          "DS",
          "PS",
          "GBA"
         ],
         "xaxis": "x",
         "y": [
          3,
          1,
          1
         ],
         "yaxis": "y"
        },
        {
         "alignmentgroup": "True",
         "hovertemplate": "Publisher=Jester Interactive<br>Platform=%{x}<br>count=%{y}<extra></extra>",
         "legendgroup": "Jester Interactive",
         "marker": {
          "color": "#FFA15A",
          "pattern": {
           "shape": ""
          }
         },
         "name": "Jester Interactive",
         "offsetgroup": "Jester Interactive",
         "orientation": "v",
         "showlegend": true,
         "textposition": "auto",
         "type": "bar",
         "x": [
          "PS2"
         ],
         "xaxis": "x",
         "y": [
          3
         ],
         "yaxis": "y"
        },
        {
         "alignmentgroup": "True",
         "hovertemplate": "Publisher=bitComposer Games<br>Platform=%{x}<br>count=%{y}<extra></extra>",
         "legendgroup": "bitComposer Games",
         "marker": {
          "color": "#19d3f3",
          "pattern": {
           "shape": ""
          }
         },
         "name": "bitComposer Games",
         "offsetgroup": "bitComposer Games",
         "orientation": "v",
         "showlegend": true,
         "textposition": "auto",
         "type": "bar",
         "x": [
          "PC",
          "PS3",
          "X360"
         ],
         "xaxis": "x",
         "y": [
          3,
          1,
          1
         ],
         "yaxis": "y"
        },
        {
         "alignmentgroup": "True",
         "hovertemplate": "Publisher=ASC Games<br>Platform=%{x}<br>count=%{y}<extra></extra>",
         "legendgroup": "ASC Games",
         "marker": {
          "color": "#FF6692",
          "pattern": {
           "shape": ""
          }
         },
         "name": "ASC Games",
         "offsetgroup": "ASC Games",
         "orientation": "v",
         "showlegend": true,
         "textposition": "auto",
         "type": "bar",
         "x": [
          "PS"
         ],
         "xaxis": "x",
         "y": [
          3
         ],
         "yaxis": "y"
        },
        {
         "alignmentgroup": "True",
         "hovertemplate": "Publisher=1C Company<br>Platform=%{x}<br>count=%{y}<extra></extra>",
         "legendgroup": "1C Company",
         "marker": {
          "color": "#B6E880",
          "pattern": {
           "shape": ""
          }
         },
         "name": "1C Company",
         "offsetgroup": "1C Company",
         "orientation": "v",
         "showlegend": true,
         "textposition": "auto",
         "type": "bar",
         "x": [
          "PC"
         ],
         "xaxis": "x",
         "y": [
          3
         ],
         "yaxis": "y"
        },
        {
         "alignmentgroup": "True",
         "hovertemplate": "Publisher=Gathering of Developers<br>Platform=%{x}<br>count=%{y}<extra></extra>",
         "legendgroup": "Gathering of Developers",
         "marker": {
          "color": "#FF97FF",
          "pattern": {
           "shape": ""
          }
         },
         "name": "Gathering of Developers",
         "offsetgroup": "Gathering of Developers",
         "orientation": "v",
         "showlegend": true,
         "textposition": "auto",
         "type": "bar",
         "x": [
          "PS2",
          "XB",
          "PC"
         ],
         "xaxis": "x",
         "y": [
          3,
          3,
          3
         ],
         "yaxis": "y"
        },
        {
         "alignmentgroup": "True",
         "hovertemplate": "Publisher=CDV Software Entertainment<br>Platform=%{x}<br>count=%{y}<extra></extra>",
         "legendgroup": "CDV Software Entertainment",
         "marker": {
          "color": "#FECB52",
          "pattern": {
           "shape": ""
          }
         },
         "name": "CDV Software Entertainment",
         "offsetgroup": "CDV Software Entertainment",
         "orientation": "v",
         "showlegend": true,
         "textposition": "auto",
         "type": "bar",
         "x": [
          "DS",
          "PC",
          "Wii"
         ],
         "xaxis": "x",
         "y": [
          3,
          2,
          1
         ],
         "yaxis": "y"
        },
        {
         "alignmentgroup": "True",
         "hovertemplate": "Publisher=Blast! Entertainment Ltd<br>Platform=%{x}<br>count=%{y}<extra></extra>",
         "legendgroup": "Blast! Entertainment Ltd",
         "marker": {
          "color": "#636efa",
          "pattern": {
           "shape": ""
          }
         },
         "name": "Blast! Entertainment Ltd",
         "offsetgroup": "Blast! Entertainment Ltd",
         "orientation": "v",
         "showlegend": true,
         "textposition": "auto",
         "type": "bar",
         "x": [
          "DS",
          "Wii",
          "PS2"
         ],
         "xaxis": "x",
         "y": [
          3,
          2,
          1
         ],
         "yaxis": "y"
        },
        {
         "alignmentgroup": "True",
         "hovertemplate": "Publisher=Princess Soft<br>Platform=%{x}<br>count=%{y}<extra></extra>",
         "legendgroup": "Princess Soft",
         "marker": {
          "color": "#EF553B",
          "pattern": {
           "shape": ""
          }
         },
         "name": "Princess Soft",
         "offsetgroup": "Princess Soft",
         "orientation": "v",
         "showlegend": true,
         "textposition": "auto",
         "type": "bar",
         "x": [
          "PS2"
         ],
         "xaxis": "x",
         "y": [
          3
         ],
         "yaxis": "y"
        },
        {
         "alignmentgroup": "True",
         "hovertemplate": "Publisher=LSP Games<br>Platform=%{x}<br>count=%{y}<extra></extra>",
         "legendgroup": "LSP Games",
         "marker": {
          "color": "#00cc96",
          "pattern": {
           "shape": ""
          }
         },
         "name": "LSP Games",
         "offsetgroup": "LSP Games",
         "orientation": "v",
         "showlegend": true,
         "textposition": "auto",
         "type": "bar",
         "x": [
          "GBA",
          "PS2"
         ],
         "xaxis": "x",
         "y": [
          3,
          1
         ],
         "yaxis": "y"
        },
        {
         "alignmentgroup": "True",
         "hovertemplate": "Publisher=Ascaron Entertainment GmbH<br>Platform=%{x}<br>count=%{y}<extra></extra>",
         "legendgroup": "Ascaron Entertainment GmbH",
         "marker": {
          "color": "#ab63fa",
          "pattern": {
           "shape": ""
          }
         },
         "name": "Ascaron Entertainment GmbH",
         "offsetgroup": "Ascaron Entertainment GmbH",
         "orientation": "v",
         "showlegend": true,
         "textposition": "auto",
         "type": "bar",
         "x": [
          "PC"
         ],
         "xaxis": "x",
         "y": [
          3
         ],
         "yaxis": "y"
        },
        {
         "alignmentgroup": "True",
         "hovertemplate": "Publisher=Swing! Entertainment<br>Platform=%{x}<br>count=%{y}<extra></extra>",
         "legendgroup": "Swing! Entertainment",
         "marker": {
          "color": "#FFA15A",
          "pattern": {
           "shape": ""
          }
         },
         "name": "Swing! Entertainment",
         "offsetgroup": "Swing! Entertainment",
         "orientation": "v",
         "showlegend": true,
         "textposition": "auto",
         "type": "bar",
         "x": [
          "PS2",
          "XB",
          "PS",
          "GBA"
         ],
         "xaxis": "x",
         "y": [
          3,
          1,
          1,
          1
         ],
         "yaxis": "y"
        },
        {
         "alignmentgroup": "True",
         "hovertemplate": "Publisher=Aruze Corp<br>Platform=%{x}<br>count=%{y}<extra></extra>",
         "legendgroup": "Aruze Corp",
         "marker": {
          "color": "#19d3f3",
          "pattern": {
           "shape": ""
          }
         },
         "name": "Aruze Corp",
         "offsetgroup": "Aruze Corp",
         "orientation": "v",
         "showlegend": true,
         "textposition": "auto",
         "type": "bar",
         "x": [
          "PS"
         ],
         "xaxis": "x",
         "y": [
          3
         ],
         "yaxis": "y"
        },
        {
         "alignmentgroup": "True",
         "hovertemplate": "Publisher=TGL<br>Platform=%{x}<br>count=%{y}<extra></extra>",
         "legendgroup": "TGL",
         "marker": {
          "color": "#FF6692",
          "pattern": {
           "shape": ""
          }
         },
         "name": "TGL",
         "offsetgroup": "TGL",
         "orientation": "v",
         "showlegend": true,
         "textposition": "auto",
         "type": "bar",
         "x": [
          "PSV",
          "PSP"
         ],
         "xaxis": "x",
         "y": [
          3,
          1
         ],
         "yaxis": "y"
        },
        {
         "alignmentgroup": "True",
         "hovertemplate": "Publisher=Rage Software<br>Platform=%{x}<br>count=%{y}<extra></extra>",
         "legendgroup": "Rage Software",
         "marker": {
          "color": "#B6E880",
          "pattern": {
           "shape": ""
          }
         },
         "name": "Rage Software",
         "offsetgroup": "Rage Software",
         "orientation": "v",
         "showlegend": true,
         "textposition": "auto",
         "type": "bar",
         "x": [
          "XB",
          "PS2",
          "GBA",
          "GC"
         ],
         "xaxis": "x",
         "y": [
          3,
          2,
          1,
          1
         ],
         "yaxis": "y"
        },
        {
         "alignmentgroup": "True",
         "hovertemplate": "Publisher=Screenlife<br>Platform=%{x}<br>count=%{y}<extra></extra>",
         "legendgroup": "Screenlife",
         "marker": {
          "color": "#FF97FF",
          "pattern": {
           "shape": ""
          }
         },
         "name": "Screenlife",
         "offsetgroup": "Screenlife",
         "orientation": "v",
         "showlegend": true,
         "textposition": "auto",
         "type": "bar",
         "x": [
          "PSV",
          "3DS"
         ],
         "xaxis": "x",
         "y": [
          3,
          3
         ],
         "yaxis": "y"
        },
        {
         "alignmentgroup": "True",
         "hovertemplate": "Publisher=RTL<br>Platform=%{x}<br>count=%{y}<extra></extra>",
         "legendgroup": "RTL",
         "marker": {
          "color": "#FECB52",
          "pattern": {
           "shape": ""
          }
         },
         "name": "RTL",
         "offsetgroup": "RTL",
         "orientation": "v",
         "showlegend": true,
         "textposition": "auto",
         "type": "bar",
         "x": [
          "Wii",
          "DS",
          "X360"
         ],
         "xaxis": "x",
         "y": [
          3,
          3,
          2
         ],
         "yaxis": "y"
        },
        {
         "alignmentgroup": "True",
         "hovertemplate": "Publisher=Angel Studios<br>Platform=%{x}<br>count=%{y}<extra></extra>",
         "legendgroup": "Angel Studios",
         "marker": {
          "color": "#636efa",
          "pattern": {
           "shape": ""
          }
         },
         "name": "Angel Studios",
         "offsetgroup": "Angel Studios",
         "orientation": "v",
         "showlegend": true,
         "textposition": "auto",
         "type": "bar",
         "x": [
          "SNES"
         ],
         "xaxis": "x",
         "y": [
          3
         ],
         "yaxis": "y"
        },
        {
         "alignmentgroup": "True",
         "hovertemplate": "Publisher=LEGO Media<br>Platform=%{x}<br>count=%{y}<extra></extra>",
         "legendgroup": "LEGO Media",
         "marker": {
          "color": "#EF553B",
          "pattern": {
           "shape": ""
          }
         },
         "name": "LEGO Media",
         "offsetgroup": "LEGO Media",
         "orientation": "v",
         "showlegend": true,
         "textposition": "auto",
         "type": "bar",
         "x": [
          "PS",
          "GBA",
          "N64",
          "PC"
         ],
         "xaxis": "x",
         "y": [
          3,
          2,
          1,
          1
         ],
         "yaxis": "y"
        },
        {
         "alignmentgroup": "True",
         "hovertemplate": "Publisher=Asylum Entertainment<br>Platform=%{x}<br>count=%{y}<extra></extra>",
         "legendgroup": "Asylum Entertainment",
         "marker": {
          "color": "#00cc96",
          "pattern": {
           "shape": ""
          }
         },
         "name": "Asylum Entertainment",
         "offsetgroup": "Asylum Entertainment",
         "orientation": "v",
         "showlegend": true,
         "textposition": "auto",
         "type": "bar",
         "x": [
          "DS",
          "Wii",
          "3DS"
         ],
         "xaxis": "x",
         "y": [
          3,
          2,
          1
         ],
         "yaxis": "y"
        },
        {
         "alignmentgroup": "True",
         "hovertemplate": "Publisher=KID<br>Platform=%{x}<br>count=%{y}<extra></extra>",
         "legendgroup": "KID",
         "marker": {
          "color": "#ab63fa",
          "pattern": {
           "shape": ""
          }
         },
         "name": "KID",
         "offsetgroup": "KID",
         "orientation": "v",
         "showlegend": true,
         "textposition": "auto",
         "type": "bar",
         "x": [
          "PS2",
          "SAT"
         ],
         "xaxis": "x",
         "y": [
          3,
          1
         ],
         "yaxis": "y"
        },
        {
         "alignmentgroup": "True",
         "hovertemplate": "Publisher=Yuke's<br>Platform=%{x}<br>count=%{y}<extra></extra>",
         "legendgroup": "Yuke's",
         "marker": {
          "color": "#FFA15A",
          "pattern": {
           "shape": ""
          }
         },
         "name": "Yuke's",
         "offsetgroup": "Yuke's",
         "orientation": "v",
         "showlegend": true,
         "textposition": "auto",
         "type": "bar",
         "x": [
          "PS2"
         ],
         "xaxis": "x",
         "y": [
          3
         ],
         "yaxis": "y"
        },
        {
         "alignmentgroup": "True",
         "hovertemplate": "Publisher=Accolade<br>Platform=%{x}<br>count=%{y}<extra></extra>",
         "legendgroup": "Accolade",
         "marker": {
          "color": "#19d3f3",
          "pattern": {
           "shape": ""
          }
         },
         "name": "Accolade",
         "offsetgroup": "Accolade",
         "orientation": "v",
         "showlegend": true,
         "textposition": "auto",
         "type": "bar",
         "x": [
          "PS"
         ],
         "xaxis": "x",
         "y": [
          3
         ],
         "yaxis": "y"
        },
        {
         "alignmentgroup": "True",
         "hovertemplate": "Publisher=Ackkstudios<br>Platform=%{x}<br>count=%{y}<extra></extra>",
         "legendgroup": "Ackkstudios",
         "marker": {
          "color": "#FF6692",
          "pattern": {
           "shape": ""
          }
         },
         "name": "Ackkstudios",
         "offsetgroup": "Ackkstudios",
         "orientation": "v",
         "showlegend": true,
         "textposition": "auto",
         "type": "bar",
         "x": [
          "PS3",
          "PSP",
          "Wii",
          "3DS",
          "DS"
         ],
         "xaxis": "x",
         "y": [
          3,
          3,
          2,
          1,
          1
         ],
         "yaxis": "y"
        },
        {
         "alignmentgroup": "True",
         "hovertemplate": "Publisher=Seta Corporation<br>Platform=%{x}<br>count=%{y}<extra></extra>",
         "legendgroup": "Seta Corporation",
         "marker": {
          "color": "#B6E880",
          "pattern": {
           "shape": ""
          }
         },
         "name": "Seta Corporation",
         "offsetgroup": "Seta Corporation",
         "orientation": "v",
         "showlegend": true,
         "textposition": "auto",
         "type": "bar",
         "x": [
          "PS",
          "SAT",
          "N64"
         ],
         "xaxis": "x",
         "y": [
          3,
          2,
          1
         ],
         "yaxis": "y"
        },
        {
         "alignmentgroup": "True",
         "hovertemplate": "Publisher=Paon<br>Platform=%{x}<br>count=%{y}<extra></extra>",
         "legendgroup": "Paon",
         "marker": {
          "color": "#FF97FF",
          "pattern": {
           "shape": ""
          }
         },
         "name": "Paon",
         "offsetgroup": "Paon",
         "orientation": "v",
         "showlegend": true,
         "textposition": "auto",
         "type": "bar",
         "x": [
          "PS2",
          "PSP",
          "DS"
         ],
         "xaxis": "x",
         "y": [
          3,
          2,
          1
         ],
         "yaxis": "y"
        },
        {
         "alignmentgroup": "True",
         "hovertemplate": "Publisher=Avanquest Software<br>Platform=%{x}<br>count=%{y}<extra></extra>",
         "legendgroup": "Avanquest Software",
         "marker": {
          "color": "#FECB52",
          "pattern": {
           "shape": ""
          }
         },
         "name": "Avanquest Software",
         "offsetgroup": "Avanquest Software",
         "orientation": "v",
         "showlegend": true,
         "textposition": "auto",
         "type": "bar",
         "x": [
          "DS",
          "3DS",
          "PC",
          "PS3",
          "X360"
         ],
         "xaxis": "x",
         "y": [
          3,
          2,
          2,
          1,
          1
         ],
         "yaxis": "y"
        },
        {
         "alignmentgroup": "True",
         "hovertemplate": "Publisher=Pinnacle<br>Platform=%{x}<br>count=%{y}<extra></extra>",
         "legendgroup": "Pinnacle",
         "marker": {
          "color": "#636efa",
          "pattern": {
           "shape": ""
          }
         },
         "name": "Pinnacle",
         "offsetgroup": "Pinnacle",
         "orientation": "v",
         "showlegend": true,
         "textposition": "auto",
         "type": "bar",
         "x": [
          "DS",
          "PC",
          "Wii"
         ],
         "xaxis": "x",
         "y": [
          3,
          1,
          1
         ],
         "yaxis": "y"
        },
        {
         "alignmentgroup": "True",
         "hovertemplate": "Publisher=Data Design Interactive<br>Platform=%{x}<br>count=%{y}<extra></extra>",
         "legendgroup": "Data Design Interactive",
         "marker": {
          "color": "#EF553B",
          "pattern": {
           "shape": ""
          }
         },
         "name": "Data Design Interactive",
         "offsetgroup": "Data Design Interactive",
         "orientation": "v",
         "showlegend": true,
         "textposition": "auto",
         "type": "bar",
         "x": [
          "Wii"
         ],
         "xaxis": "x",
         "y": [
          3
         ],
         "yaxis": "y"
        },
        {
         "alignmentgroup": "True",
         "hovertemplate": "Publisher=Excalibur Publishing<br>Platform=%{x}<br>count=%{y}<extra></extra>",
         "legendgroup": "Excalibur Publishing",
         "marker": {
          "color": "#00cc96",
          "pattern": {
           "shape": ""
          }
         },
         "name": "Excalibur Publishing",
         "offsetgroup": "Excalibur Publishing",
         "orientation": "v",
         "showlegend": true,
         "textposition": "auto",
         "type": "bar",
         "x": [
          "PC",
          "3DS"
         ],
         "xaxis": "x",
         "y": [
          3,
          1
         ],
         "yaxis": "y"
        },
        {
         "alignmentgroup": "True",
         "hovertemplate": "Publisher=Experience Inc.<br>Platform=%{x}<br>count=%{y}<extra></extra>",
         "legendgroup": "Experience Inc.",
         "marker": {
          "color": "#ab63fa",
          "pattern": {
           "shape": ""
          }
         },
         "name": "Experience Inc.",
         "offsetgroup": "Experience Inc.",
         "orientation": "v",
         "showlegend": true,
         "textposition": "auto",
         "type": "bar",
         "x": [
          "PSV"
         ],
         "xaxis": "x",
         "y": [
          3
         ],
         "yaxis": "y"
        },
        {
         "alignmentgroup": "True",
         "hovertemplate": "Publisher=Daedalic Entertainment<br>Platform=%{x}<br>count=%{y}<extra></extra>",
         "legendgroup": "Daedalic Entertainment",
         "marker": {
          "color": "#FFA15A",
          "pattern": {
           "shape": ""
          }
         },
         "name": "Daedalic Entertainment",
         "offsetgroup": "Daedalic Entertainment",
         "orientation": "v",
         "showlegend": true,
         "textposition": "auto",
         "type": "bar",
         "x": [
          "PC"
         ],
         "xaxis": "x",
         "y": [
          3
         ],
         "yaxis": "y"
        },
        {
         "alignmentgroup": "True",
         "hovertemplate": "Publisher=Daedalic<br>Platform=%{x}<br>count=%{y}<extra></extra>",
         "legendgroup": "Daedalic",
         "marker": {
          "color": "#19d3f3",
          "pattern": {
           "shape": ""
          }
         },
         "name": "Daedalic",
         "offsetgroup": "Daedalic",
         "orientation": "v",
         "showlegend": true,
         "textposition": "auto",
         "type": "bar",
         "x": [
          "PC"
         ],
         "xaxis": "x",
         "y": [
          3
         ],
         "yaxis": "y"
        },
        {
         "alignmentgroup": "True",
         "hovertemplate": "Publisher=Telstar<br>Platform=%{x}<br>count=%{y}<extra></extra>",
         "legendgroup": "Telstar",
         "marker": {
          "color": "#FF6692",
          "pattern": {
           "shape": ""
          }
         },
         "name": "Telstar",
         "offsetgroup": "Telstar",
         "orientation": "v",
         "showlegend": true,
         "textposition": "auto",
         "type": "bar",
         "x": [
          "PS"
         ],
         "xaxis": "x",
         "y": [
          3
         ],
         "yaxis": "y"
        },
        {
         "alignmentgroup": "True",
         "hovertemplate": "Publisher=Sting<br>Platform=%{x}<br>count=%{y}<extra></extra>",
         "legendgroup": "Sting",
         "marker": {
          "color": "#B6E880",
          "pattern": {
           "shape": ""
          }
         },
         "name": "Sting",
         "offsetgroup": "Sting",
         "orientation": "v",
         "showlegend": true,
         "textposition": "auto",
         "type": "bar",
         "x": [
          "DS",
          "PSP",
          "GBA",
          "Wii",
          "PS2"
         ],
         "xaxis": "x",
         "y": [
          3,
          2,
          2,
          1,
          1
         ],
         "yaxis": "y"
        },
        {
         "alignmentgroup": "True",
         "hovertemplate": "Publisher=Focus Multimedia<br>Platform=%{x}<br>count=%{y}<extra></extra>",
         "legendgroup": "Focus Multimedia",
         "marker": {
          "color": "#FF97FF",
          "pattern": {
           "shape": ""
          }
         },
         "name": "Focus Multimedia",
         "offsetgroup": "Focus Multimedia",
         "orientation": "v",
         "showlegend": true,
         "textposition": "auto",
         "type": "bar",
         "x": [
          "PC"
         ],
         "xaxis": "x",
         "y": [
          3
         ],
         "yaxis": "y"
        },
        {
         "alignmentgroup": "True",
         "hovertemplate": "Publisher=NCS<br>Platform=%{x}<br>count=%{y}<extra></extra>",
         "legendgroup": "NCS",
         "marker": {
          "color": "#FECB52",
          "pattern": {
           "shape": ""
          }
         },
         "name": "NCS",
         "offsetgroup": "NCS",
         "orientation": "v",
         "showlegend": true,
         "textposition": "auto",
         "type": "bar",
         "x": [
          "SAT"
         ],
         "xaxis": "x",
         "y": [
          3
         ],
         "yaxis": "y"
        },
        {
         "alignmentgroup": "True",
         "hovertemplate": "Publisher=Valcon Games<br>Platform=%{x}<br>count=%{y}<extra></extra>",
         "legendgroup": "Valcon Games",
         "marker": {
          "color": "#636efa",
          "pattern": {
           "shape": ""
          }
         },
         "name": "Valcon Games",
         "offsetgroup": "Valcon Games",
         "orientation": "v",
         "showlegend": true,
         "textposition": "auto",
         "type": "bar",
         "x": [
          "Wii",
          "X360",
          "PS2",
          "DS"
         ],
         "xaxis": "x",
         "y": [
          3,
          2,
          2,
          1
         ],
         "yaxis": "y"
        },
        {
         "alignmentgroup": "True",
         "hovertemplate": "Publisher=Graffiti<br>Platform=%{x}<br>count=%{y}<extra></extra>",
         "legendgroup": "Graffiti",
         "marker": {
          "color": "#EF553B",
          "pattern": {
           "shape": ""
          }
         },
         "name": "Graffiti",
         "offsetgroup": "Graffiti",
         "orientation": "v",
         "showlegend": true,
         "textposition": "auto",
         "type": "bar",
         "x": [
          "DS",
          "Wii",
          "PSP"
         ],
         "xaxis": "x",
         "y": [
          3,
          2,
          1
         ],
         "yaxis": "y"
        },
        {
         "alignmentgroup": "True",
         "hovertemplate": "Publisher=Tigervision<br>Platform=%{x}<br>count=%{y}<extra></extra>",
         "legendgroup": "Tigervision",
         "marker": {
          "color": "#00cc96",
          "pattern": {
           "shape": ""
          }
         },
         "name": "Tigervision",
         "offsetgroup": "Tigervision",
         "orientation": "v",
         "showlegend": true,
         "textposition": "auto",
         "type": "bar",
         "x": [
          "2600"
         ],
         "xaxis": "x",
         "y": [
          3
         ],
         "yaxis": "y"
        },
        {
         "alignmentgroup": "True",
         "hovertemplate": "Publisher=ESP<br>Platform=%{x}<br>count=%{y}<extra></extra>",
         "legendgroup": "ESP",
         "marker": {
          "color": "#ab63fa",
          "pattern": {
           "shape": ""
          }
         },
         "name": "ESP",
         "offsetgroup": "ESP",
         "orientation": "v",
         "showlegend": true,
         "textposition": "auto",
         "type": "bar",
         "x": [
          "SAT",
          "GBA",
          "PS"
         ],
         "xaxis": "x",
         "y": [
          3,
          1,
          1
         ],
         "yaxis": "y"
        },
        {
         "alignmentgroup": "True",
         "hovertemplate": "Publisher=Gust<br>Platform=%{x}<br>count=%{y}<extra></extra>",
         "legendgroup": "Gust",
         "marker": {
          "color": "#FFA15A",
          "pattern": {
           "shape": ""
          }
         },
         "name": "Gust",
         "offsetgroup": "Gust",
         "orientation": "v",
         "showlegend": true,
         "textposition": "auto",
         "type": "bar",
         "x": [
          "PSP",
          "PS2",
          "PSV",
          "PS",
          "DS"
         ],
         "xaxis": "x",
         "y": [
          3,
          3,
          3,
          2,
          2
         ],
         "yaxis": "y"
        },
        {
         "alignmentgroup": "True",
         "hovertemplate": "Publisher=Essential Games<br>Platform=%{x}<br>count=%{y}<extra></extra>",
         "legendgroup": "Essential Games",
         "marker": {
          "color": "#19d3f3",
          "pattern": {
           "shape": ""
          }
         },
         "name": "Essential Games",
         "offsetgroup": "Essential Games",
         "orientation": "v",
         "showlegend": true,
         "textposition": "auto",
         "type": "bar",
         "x": [
          "PS2"
         ],
         "xaxis": "x",
         "y": [
          3
         ],
         "yaxis": "y"
        },
        {
         "alignmentgroup": "True",
         "hovertemplate": "Publisher=Gotham Games<br>Platform=%{x}<br>count=%{y}<extra></extra>",
         "legendgroup": "Gotham Games",
         "marker": {
          "color": "#FF6692",
          "pattern": {
           "shape": ""
          }
         },
         "name": "Gotham Games",
         "offsetgroup": "Gotham Games",
         "orientation": "v",
         "showlegend": true,
         "textposition": "auto",
         "type": "bar",
         "x": [
          "PS2",
          "GBA",
          "GC",
          "PS",
          "XB"
         ],
         "xaxis": "x",
         "y": [
          3,
          1,
          1,
          1,
          1
         ],
         "yaxis": "y"
        },
        {
         "alignmentgroup": "True",
         "hovertemplate": "Publisher=Victor Interactive<br>Platform=%{x}<br>count=%{y}<extra></extra>",
         "legendgroup": "Victor Interactive",
         "marker": {
          "color": "#B6E880",
          "pattern": {
           "shape": ""
          }
         },
         "name": "Victor Interactive",
         "offsetgroup": "Victor Interactive",
         "orientation": "v",
         "showlegend": true,
         "textposition": "auto",
         "type": "bar",
         "x": [
          "PS",
          "PS2",
          "GB",
          "GBA",
          "SAT",
          "SNES"
         ],
         "xaxis": "x",
         "y": [
          3,
          2,
          1,
          1,
          1,
          1
         ],
         "yaxis": "y"
        },
        {
         "alignmentgroup": "True",
         "hovertemplate": "Publisher=Tivola<br>Platform=%{x}<br>count=%{y}<extra></extra>",
         "legendgroup": "Tivola",
         "marker": {
          "color": "#FF97FF",
          "pattern": {
           "shape": ""
          }
         },
         "name": "Tivola",
         "offsetgroup": "Tivola",
         "orientation": "v",
         "showlegend": true,
         "textposition": "auto",
         "type": "bar",
         "x": [
          "DS"
         ],
         "xaxis": "x",
         "y": [
          3
         ],
         "yaxis": "y"
        },
        {
         "alignmentgroup": "True",
         "hovertemplate": "Publisher=Tommo<br>Platform=%{x}<br>count=%{y}<extra></extra>",
         "legendgroup": "Tommo",
         "marker": {
          "color": "#FECB52",
          "pattern": {
           "shape": ""
          }
         },
         "name": "Tommo",
         "offsetgroup": "Tommo",
         "orientation": "v",
         "showlegend": true,
         "textposition": "auto",
         "type": "bar",
         "x": [
          "DS",
          "Wii"
         ],
         "xaxis": "x",
         "y": [
          3,
          2
         ],
         "yaxis": "y"
        },
        {
         "alignmentgroup": "True",
         "hovertemplate": "Publisher=Iceberg Interactive<br>Platform=%{x}<br>count=%{y}<extra></extra>",
         "legendgroup": "Iceberg Interactive",
         "marker": {
          "color": "#636efa",
          "pattern": {
           "shape": ""
          }
         },
         "name": "Iceberg Interactive",
         "offsetgroup": "Iceberg Interactive",
         "orientation": "v",
         "showlegend": true,
         "textposition": "auto",
         "type": "bar",
         "x": [
          "PC"
         ],
         "xaxis": "x",
         "y": [
          3
         ],
         "yaxis": "y"
        },
        {
         "alignmentgroup": "True",
         "hovertemplate": "Publisher=Nordcurrent<br>Platform=%{x}<br>count=%{y}<extra></extra>",
         "legendgroup": "Nordcurrent",
         "marker": {
          "color": "#EF553B",
          "pattern": {
           "shape": ""
          }
         },
         "name": "Nordcurrent",
         "offsetgroup": "Nordcurrent",
         "orientation": "v",
         "showlegend": true,
         "textposition": "auto",
         "type": "bar",
         "x": [
          "Wii",
          "DS"
         ],
         "xaxis": "x",
         "y": [
          3,
          2
         ],
         "yaxis": "y"
        },
        {
         "alignmentgroup": "True",
         "hovertemplate": "Publisher=Indie Games<br>Platform=%{x}<br>count=%{y}<extra></extra>",
         "legendgroup": "Indie Games",
         "marker": {
          "color": "#00cc96",
          "pattern": {
           "shape": ""
          }
         },
         "name": "Indie Games",
         "offsetgroup": "Indie Games",
         "orientation": "v",
         "showlegend": true,
         "textposition": "auto",
         "type": "bar",
         "x": [
          "PS2"
         ],
         "xaxis": "x",
         "y": [
          3
         ],
         "yaxis": "y"
        },
        {
         "alignmentgroup": "True",
         "hovertemplate": "Publisher=Creative Core<br>Platform=%{x}<br>count=%{y}<extra></extra>",
         "legendgroup": "Creative Core",
         "marker": {
          "color": "#ab63fa",
          "pattern": {
           "shape": ""
          }
         },
         "name": "Creative Core",
         "offsetgroup": "Creative Core",
         "orientation": "v",
         "showlegend": true,
         "textposition": "auto",
         "type": "bar",
         "x": [
          "DS"
         ],
         "xaxis": "x",
         "y": [
          3
         ],
         "yaxis": "y"
        },
        {
         "alignmentgroup": "True",
         "hovertemplate": "Publisher=Mumbo Jumbo<br>Platform=%{x}<br>count=%{y}<extra></extra>",
         "legendgroup": "Mumbo Jumbo",
         "marker": {
          "color": "#FFA15A",
          "pattern": {
           "shape": ""
          }
         },
         "name": "Mumbo Jumbo",
         "offsetgroup": "Mumbo Jumbo",
         "orientation": "v",
         "showlegend": true,
         "textposition": "auto",
         "type": "bar",
         "x": [
          "PSP",
          "DS",
          "PC",
          "Wii"
         ],
         "xaxis": "x",
         "y": [
          2,
          2,
          1,
          1
         ],
         "yaxis": "y"
        },
        {
         "alignmentgroup": "True",
         "hovertemplate": "Publisher=MC2 Entertainment<br>Platform=%{x}<br>count=%{y}<extra></extra>",
         "legendgroup": "MC2 Entertainment",
         "marker": {
          "color": "#19d3f3",
          "pattern": {
           "shape": ""
          }
         },
         "name": "MC2 Entertainment",
         "offsetgroup": "MC2 Entertainment",
         "orientation": "v",
         "showlegend": true,
         "textposition": "auto",
         "type": "bar",
         "x": [
          "PC",
          "XB"
         ],
         "xaxis": "x",
         "y": [
          2,
          1
         ],
         "yaxis": "y"
        },
        {
         "alignmentgroup": "True",
         "hovertemplate": "Publisher=Mud Duck Productions<br>Platform=%{x}<br>count=%{y}<extra></extra>",
         "legendgroup": "Mud Duck Productions",
         "marker": {
          "color": "#FF6692",
          "pattern": {
           "shape": ""
          }
         },
         "name": "Mud Duck Productions",
         "offsetgroup": "Mud Duck Productions",
         "orientation": "v",
         "showlegend": true,
         "textposition": "auto",
         "type": "bar",
         "x": [
          "XB",
          "PS2"
         ],
         "xaxis": "x",
         "y": [
          2,
          1
         ],
         "yaxis": "y"
        },
        {
         "alignmentgroup": "True",
         "hovertemplate": "Publisher=Moss<br>Platform=%{x}<br>count=%{y}<extra></extra>",
         "legendgroup": "Moss",
         "marker": {
          "color": "#B6E880",
          "pattern": {
           "shape": ""
          }
         },
         "name": "Moss",
         "offsetgroup": "Moss",
         "orientation": "v",
         "showlegend": true,
         "textposition": "auto",
         "type": "bar",
         "x": [
          "X360"
         ],
         "xaxis": "x",
         "y": [
          2
         ],
         "yaxis": "y"
        },
        {
         "alignmentgroup": "True",
         "hovertemplate": "Publisher=Rebellion<br>Platform=%{x}<br>count=%{y}<extra></extra>",
         "legendgroup": "Rebellion",
         "marker": {
          "color": "#FF97FF",
          "pattern": {
           "shape": ""
          }
         },
         "name": "Rebellion",
         "offsetgroup": "Rebellion",
         "orientation": "v",
         "showlegend": true,
         "textposition": "auto",
         "type": "bar",
         "x": [
          "GBA"
         ],
         "xaxis": "x",
         "y": [
          2
         ],
         "yaxis": "y"
        },
        {
         "alignmentgroup": "True",
         "hovertemplate": "Publisher=Red Storm Entertainment<br>Platform=%{x}<br>count=%{y}<extra></extra>",
         "legendgroup": "Red Storm Entertainment",
         "marker": {
          "color": "#FECB52",
          "pattern": {
           "shape": ""
          }
         },
         "name": "Red Storm Entertainment",
         "offsetgroup": "Red Storm Entertainment",
         "orientation": "v",
         "showlegend": true,
         "textposition": "auto",
         "type": "bar",
         "x": [
          "PS",
          "N64"
         ],
         "xaxis": "x",
         "y": [
          2,
          1
         ],
         "yaxis": "y"
        },
        {
         "alignmentgroup": "True",
         "hovertemplate": "Publisher=Misawa<br>Platform=%{x}<br>count=%{y}<extra></extra>",
         "legendgroup": "Misawa",
         "marker": {
          "color": "#636efa",
          "pattern": {
           "shape": ""
          }
         },
         "name": "Misawa",
         "offsetgroup": "Misawa",
         "orientation": "v",
         "showlegend": true,
         "textposition": "auto",
         "type": "bar",
         "x": [
          "SNES"
         ],
         "xaxis": "x",
         "y": [
          2
         ],
         "yaxis": "y"
        },
        {
         "alignmentgroup": "True",
         "hovertemplate": "Publisher=Red Orb<br>Platform=%{x}<br>count=%{y}<extra></extra>",
         "legendgroup": "Red Orb",
         "marker": {
          "color": "#EF553B",
          "pattern": {
           "shape": ""
          }
         },
         "name": "Red Orb",
         "offsetgroup": "Red Orb",
         "orientation": "v",
         "showlegend": true,
         "textposition": "auto",
         "type": "bar",
         "x": [
          "PC"
         ],
         "xaxis": "x",
         "y": [
          2
         ],
         "yaxis": "y"
        },
        {
         "alignmentgroup": "True",
         "hovertemplate": "Publisher=Media Works<br>Platform=%{x}<br>count=%{y}<extra></extra>",
         "legendgroup": "Media Works",
         "marker": {
          "color": "#00cc96",
          "pattern": {
           "shape": ""
          }
         },
         "name": "Media Works",
         "offsetgroup": "Media Works",
         "orientation": "v",
         "showlegend": true,
         "textposition": "auto",
         "type": "bar",
         "x": [
          "PS",
          "PS2",
          "SAT"
         ],
         "xaxis": "x",
         "y": [
          2,
          2,
          1
         ],
         "yaxis": "y"
        },
        {
         "alignmentgroup": "True",
         "hovertemplate": "Publisher=Media Rings<br>Platform=%{x}<br>count=%{y}<extra></extra>",
         "legendgroup": "Media Rings",
         "marker": {
          "color": "#ab63fa",
          "pattern": {
           "shape": ""
          }
         },
         "name": "Media Rings",
         "offsetgroup": "Media Rings",
         "orientation": "v",
         "showlegend": true,
         "textposition": "auto",
         "type": "bar",
         "x": [
          "SNES",
          "GBA"
         ],
         "xaxis": "x",
         "y": [
          2,
          1
         ],
         "yaxis": "y"
        },
        {
         "alignmentgroup": "True",
         "hovertemplate": "Publisher=Shogakukan<br>Platform=%{x}<br>count=%{y}<extra></extra>",
         "legendgroup": "Shogakukan",
         "marker": {
          "color": "#FFA15A",
          "pattern": {
           "shape": ""
          }
         },
         "name": "Shogakukan",
         "offsetgroup": "Shogakukan",
         "orientation": "v",
         "showlegend": true,
         "textposition": "auto",
         "type": "bar",
         "x": [
          "DS",
          "SAT",
          "3DS"
         ],
         "xaxis": "x",
         "y": [
          2,
          2,
          1
         ],
         "yaxis": "y"
        },
        {
         "alignmentgroup": "True",
         "hovertemplate": "Publisher=Maxis<br>Platform=%{x}<br>count=%{y}<extra></extra>",
         "legendgroup": "Maxis",
         "marker": {
          "color": "#19d3f3",
          "pattern": {
           "shape": ""
          }
         },
         "name": "Maxis",
         "offsetgroup": "Maxis",
         "orientation": "v",
         "showlegend": true,
         "textposition": "auto",
         "type": "bar",
         "x": [
          "PC",
          "PS"
         ],
         "xaxis": "x",
         "y": [
          2,
          1
         ],
         "yaxis": "y"
        },
        {
         "alignmentgroup": "True",
         "hovertemplate": "Publisher=P2 Games<br>Platform=%{x}<br>count=%{y}<extra></extra>",
         "legendgroup": "P2 Games",
         "marker": {
          "color": "#FF6692",
          "pattern": {
           "shape": ""
          }
         },
         "name": "P2 Games",
         "offsetgroup": "P2 Games",
         "orientation": "v",
         "showlegend": true,
         "textposition": "auto",
         "type": "bar",
         "x": [
          "DS",
          "Wii"
         ],
         "xaxis": "x",
         "y": [
          2,
          1
         ],
         "yaxis": "y"
        },
        {
         "alignmentgroup": "True",
         "hovertemplate": "Publisher=Nippon Telenet<br>Platform=%{x}<br>count=%{y}<extra></extra>",
         "legendgroup": "Nippon Telenet",
         "marker": {
          "color": "#B6E880",
          "pattern": {
           "shape": ""
          }
         },
         "name": "Nippon Telenet",
         "offsetgroup": "Nippon Telenet",
         "orientation": "v",
         "showlegend": true,
         "textposition": "auto",
         "type": "bar",
         "x": [
          "SNES"
         ],
         "xaxis": "x",
         "y": [
          2
         ],
         "yaxis": "y"
        },
        {
         "alignmentgroup": "True",
         "hovertemplate": "Publisher=Office Create<br>Platform=%{x}<br>count=%{y}<extra></extra>",
         "legendgroup": "Office Create",
         "marker": {
          "color": "#FF97FF",
          "pattern": {
           "shape": ""
          }
         },
         "name": "Office Create",
         "offsetgroup": "Office Create",
         "orientation": "v",
         "showlegend": true,
         "textposition": "auto",
         "type": "bar",
         "x": [
          "3DS"
         ],
         "xaxis": "x",
         "y": [
          2
         ],
         "yaxis": "y"
        },
        {
         "alignmentgroup": "True",
         "hovertemplate": "Publisher=O3 Entertainment<br>Platform=%{x}<br>count=%{y}<extra></extra>",
         "legendgroup": "O3 Entertainment",
         "marker": {
          "color": "#FECB52",
          "pattern": {
           "shape": ""
          }
         },
         "name": "O3 Entertainment",
         "offsetgroup": "O3 Entertainment",
         "orientation": "v",
         "showlegend": true,
         "textposition": "auto",
         "type": "bar",
         "x": [
          "DS",
          "GC"
         ],
         "xaxis": "x",
         "y": [
          2,
          1
         ],
         "yaxis": "y"
        },
        {
         "alignmentgroup": "True",
         "hovertemplate": "Publisher=Sonnet<br>Platform=%{x}<br>count=%{y}<extra></extra>",
         "legendgroup": "Sonnet",
         "marker": {
          "color": "#636efa",
          "pattern": {
           "shape": ""
          }
         },
         "name": "Sonnet",
         "offsetgroup": "Sonnet",
         "orientation": "v",
         "showlegend": true,
         "textposition": "auto",
         "type": "bar",
         "x": [
          "SAT"
         ],
         "xaxis": "x",
         "y": [
          2
         ],
         "yaxis": "y"
        },
        {
         "alignmentgroup": "True",
         "hovertemplate": "Publisher=Sweets<br>Platform=%{x}<br>count=%{y}<extra></extra>",
         "legendgroup": "Sweets",
         "marker": {
          "color": "#EF553B",
          "pattern": {
           "shape": ""
          }
         },
         "name": "Sweets",
         "offsetgroup": "Sweets",
         "orientation": "v",
         "showlegend": true,
         "textposition": "auto",
         "type": "bar",
         "x": [
          "PS2"
         ],
         "xaxis": "x",
         "y": [
          2
         ],
         "yaxis": "y"
        },
        {
         "alignmentgroup": "True",
         "hovertemplate": "Publisher=Syscom<br>Platform=%{x}<br>count=%{y}<extra></extra>",
         "legendgroup": "Syscom",
         "marker": {
          "color": "#00cc96",
          "pattern": {
           "shape": ""
          }
         },
         "name": "Syscom",
         "offsetgroup": "Syscom",
         "orientation": "v",
         "showlegend": true,
         "textposition": "auto",
         "type": "bar",
         "x": [
          "PS"
         ],
         "xaxis": "x",
         "y": [
          2
         ],
         "yaxis": "y"
        },
        {
         "alignmentgroup": "True",
         "hovertemplate": "Publisher=Magix<br>Platform=%{x}<br>count=%{y}<extra></extra>",
         "legendgroup": "Magix",
         "marker": {
          "color": "#ab63fa",
          "pattern": {
           "shape": ""
          }
         },
         "name": "Magix",
         "offsetgroup": "Magix",
         "orientation": "v",
         "showlegend": true,
         "textposition": "auto",
         "type": "bar",
         "x": [
          "PS2"
         ],
         "xaxis": "x",
         "y": [
          2
         ],
         "yaxis": "y"
        },
        {
         "alignmentgroup": "True",
         "hovertemplate": "Publisher=Micro Cabin<br>Platform=%{x}<br>count=%{y}<extra></extra>",
         "legendgroup": "Micro Cabin",
         "marker": {
          "color": "#FFA15A",
          "pattern": {
           "shape": ""
          }
         },
         "name": "Micro Cabin",
         "offsetgroup": "Micro Cabin",
         "orientation": "v",
         "showlegend": true,
         "textposition": "auto",
         "type": "bar",
         "x": [
          "SAT",
          "3DO"
         ],
         "xaxis": "x",
         "y": [
          2,
          1
         ],
         "yaxis": "y"
        },
        {
         "alignmentgroup": "True",
         "hovertemplate": "Publisher=Mamba Games<br>Platform=%{x}<br>count=%{y}<extra></extra>",
         "legendgroup": "Mamba Games",
         "marker": {
          "color": "#19d3f3",
          "pattern": {
           "shape": ""
          }
         },
         "name": "Mamba Games",
         "offsetgroup": "Mamba Games",
         "orientation": "v",
         "showlegend": true,
         "textposition": "auto",
         "type": "bar",
         "x": [
          "PC"
         ],
         "xaxis": "x",
         "y": [
          2
         ],
         "yaxis": "y"
        },
        {
         "alignmentgroup": "True",
         "hovertemplate": "Publisher=Mercury Games<br>Platform=%{x}<br>count=%{y}<extra></extra>",
         "legendgroup": "Mercury Games",
         "marker": {
          "color": "#FF6692",
          "pattern": {
           "shape": ""
          }
         },
         "name": "Mercury Games",
         "offsetgroup": "Mercury Games",
         "orientation": "v",
         "showlegend": true,
         "textposition": "auto",
         "type": "bar",
         "x": [
          "PSP",
          "DS"
         ],
         "xaxis": "x",
         "y": [
          2,
          2
         ],
         "yaxis": "y"
        },
        {
         "alignmentgroup": "True",
         "hovertemplate": "Publisher=Pack-In-Video<br>Platform=%{x}<br>count=%{y}<extra></extra>",
         "legendgroup": "Pack-In-Video",
         "marker": {
          "color": "#B6E880",
          "pattern": {
           "shape": ""
          }
         },
         "name": "Pack-In-Video",
         "offsetgroup": "Pack-In-Video",
         "orientation": "v",
         "showlegend": true,
         "textposition": "auto",
         "type": "bar",
         "x": [
          "SNES"
         ],
         "xaxis": "x",
         "y": [
          2
         ],
         "yaxis": "y"
        },
        {
         "alignmentgroup": "True",
         "hovertemplate": "Publisher=NetRevo<br>Platform=%{x}<br>count=%{y}<extra></extra>",
         "legendgroup": "NetRevo",
         "marker": {
          "color": "#FF97FF",
          "pattern": {
           "shape": ""
          }
         },
         "name": "NetRevo",
         "offsetgroup": "NetRevo",
         "orientation": "v",
         "showlegend": true,
         "textposition": "auto",
         "type": "bar",
         "x": [
          "PSP"
         ],
         "xaxis": "x",
         "y": [
          2
         ],
         "yaxis": "y"
        },
        {
         "alignmentgroup": "True",
         "hovertemplate": "Publisher=10TACLE Studios<br>Platform=%{x}<br>count=%{y}<extra></extra>",
         "legendgroup": "10TACLE Studios",
         "marker": {
          "color": "#FECB52",
          "pattern": {
           "shape": ""
          }
         },
         "name": "10TACLE Studios",
         "offsetgroup": "10TACLE Studios",
         "orientation": "v",
         "showlegend": true,
         "textposition": "auto",
         "type": "bar",
         "x": [
          "DS",
          "PS2"
         ],
         "xaxis": "x",
         "y": [
          2,
          1
         ],
         "yaxis": "y"
        },
        {
         "alignmentgroup": "True",
         "hovertemplate": "Publisher=Russel<br>Platform=%{x}<br>count=%{y}<extra></extra>",
         "legendgroup": "Russel",
         "marker": {
          "color": "#636efa",
          "pattern": {
           "shape": ""
          }
         },
         "name": "Russel",
         "offsetgroup": "Russel",
         "orientation": "v",
         "showlegend": true,
         "textposition": "auto",
         "type": "bar",
         "x": [
          "PS2",
          "PSP",
          "PC",
          "DS"
         ],
         "xaxis": "x",
         "y": [
          2,
          2,
          1,
          1
         ],
         "yaxis": "y"
        },
        {
         "alignmentgroup": "True",
         "hovertemplate": "Publisher=Blue Byte<br>Platform=%{x}<br>count=%{y}<extra></extra>",
         "legendgroup": "Blue Byte",
         "marker": {
          "color": "#EF553B",
          "pattern": {
           "shape": ""
          }
         },
         "name": "Blue Byte",
         "offsetgroup": "Blue Byte",
         "orientation": "v",
         "showlegend": true,
         "textposition": "auto",
         "type": "bar",
         "x": [
          "PC"
         ],
         "xaxis": "x",
         "y": [
          2
         ],
         "yaxis": "y"
        },
        {
         "alignmentgroup": "True",
         "hovertemplate": "Publisher=GN Software<br>Platform=%{x}<br>count=%{y}<extra></extra>",
         "legendgroup": "GN Software",
         "marker": {
          "color": "#00cc96",
          "pattern": {
           "shape": ""
          }
         },
         "name": "GN Software",
         "offsetgroup": "GN Software",
         "orientation": "v",
         "showlegend": true,
         "textposition": "auto",
         "type": "bar",
         "x": [
          "PS2",
          "PSP"
         ],
         "xaxis": "x",
         "y": [
          2,
          1
         ],
         "yaxis": "y"
        },
        {
         "alignmentgroup": "True",
         "hovertemplate": "Publisher=G.Rev<br>Platform=%{x}<br>count=%{y}<extra></extra>",
         "legendgroup": "G.Rev",
         "marker": {
          "color": "#ab63fa",
          "pattern": {
           "shape": ""
          }
         },
         "name": "G.Rev",
         "offsetgroup": "G.Rev",
         "orientation": "v",
         "showlegend": true,
         "textposition": "auto",
         "type": "bar",
         "x": [
          "X360"
         ],
         "xaxis": "x",
         "y": [
          2
         ],
         "yaxis": "y"
        },
        {
         "alignmentgroup": "True",
         "hovertemplate": "Publisher=Tru Blu Entertainment<br>Platform=%{x}<br>count=%{y}<extra></extra>",
         "legendgroup": "Tru Blu Entertainment",
         "marker": {
          "color": "#FFA15A",
          "pattern": {
           "shape": ""
          }
         },
         "name": "Tru Blu Entertainment",
         "offsetgroup": "Tru Blu Entertainment",
         "orientation": "v",
         "showlegend": true,
         "textposition": "auto",
         "type": "bar",
         "x": [
          "PS3",
          "PS4",
          "X360",
          "XOne"
         ],
         "xaxis": "x",
         "y": [
          2,
          2,
          2,
          2
         ],
         "yaxis": "y"
        },
        {
         "alignmentgroup": "True",
         "hovertemplate": "Publisher=Funsta<br>Platform=%{x}<br>count=%{y}<extra></extra>",
         "legendgroup": "Funsta",
         "marker": {
          "color": "#19d3f3",
          "pattern": {
           "shape": ""
          }
         },
         "name": "Funsta",
         "offsetgroup": "Funsta",
         "orientation": "v",
         "showlegend": true,
         "textposition": "auto",
         "type": "bar",
         "x": [
          "DS",
          "PSP",
          "Wii"
         ],
         "xaxis": "x",
         "y": [
          2,
          1,
          1
         ],
         "yaxis": "y"
        },
        {
         "alignmentgroup": "True",
         "hovertemplate": "Publisher=Funcom<br>Platform=%{x}<br>count=%{y}<extra></extra>",
         "legendgroup": "Funcom",
         "marker": {
          "color": "#FF6692",
          "pattern": {
           "shape": ""
          }
         },
         "name": "Funcom",
         "offsetgroup": "Funcom",
         "orientation": "v",
         "showlegend": true,
         "textposition": "auto",
         "type": "bar",
         "x": [
          "PC"
         ],
         "xaxis": "x",
         "y": [
          2
         ],
         "yaxis": "y"
        },
        {
         "alignmentgroup": "True",
         "hovertemplate": "Publisher=Arena Entertainment<br>Platform=%{x}<br>count=%{y}<extra></extra>",
         "legendgroup": "Arena Entertainment",
         "marker": {
          "color": "#B6E880",
          "pattern": {
           "shape": ""
          }
         },
         "name": "Arena Entertainment",
         "offsetgroup": "Arena Entertainment",
         "orientation": "v",
         "showlegend": true,
         "textposition": "auto",
         "type": "bar",
         "x": [
          "GEN"
         ],
         "xaxis": "x",
         "y": [
          2
         ],
         "yaxis": "y"
        },
        {
         "alignmentgroup": "True",
         "hovertemplate": "Publisher=Funbox Media<br>Platform=%{x}<br>count=%{y}<extra></extra>",
         "legendgroup": "Funbox Media",
         "marker": {
          "color": "#FF97FF",
          "pattern": {
           "shape": ""
          }
         },
         "name": "Funbox Media",
         "offsetgroup": "Funbox Media",
         "orientation": "v",
         "showlegend": true,
         "textposition": "auto",
         "type": "bar",
         "x": [
          "Wii",
          "3DS",
          "PS3",
          "PSV"
         ],
         "xaxis": "x",
         "y": [
          2,
          2,
          1,
          1
         ],
         "yaxis": "y"
        },
        {
         "alignmentgroup": "True",
         "hovertemplate": "Publisher=Wanadoo<br>Platform=%{x}<br>count=%{y}<extra></extra>",
         "legendgroup": "Wanadoo",
         "marker": {
          "color": "#FECB52",
          "pattern": {
           "shape": ""
          }
         },
         "name": "Wanadoo",
         "offsetgroup": "Wanadoo",
         "orientation": "v",
         "showlegend": true,
         "textposition": "auto",
         "type": "bar",
         "x": [
          "PS2",
          "XB",
          "GC",
          "GBA"
         ],
         "xaxis": "x",
         "y": [
          2,
          1,
          1,
          1
         ],
         "yaxis": "y"
        },
        {
         "alignmentgroup": "True",
         "hovertemplate": "Publisher=Arika<br>Platform=%{x}<br>count=%{y}<extra></extra>",
         "legendgroup": "Arika",
         "marker": {
          "color": "#636efa",
          "pattern": {
           "shape": ""
          }
         },
         "name": "Arika",
         "offsetgroup": "Arika",
         "orientation": "v",
         "showlegend": true,
         "textposition": "auto",
         "type": "bar",
         "x": [
          "PS2",
          "DS"
         ],
         "xaxis": "x",
         "y": [
          2,
          1
         ],
         "yaxis": "y"
        },
        {
         "alignmentgroup": "True",
         "hovertemplate": "Publisher=Compile<br>Platform=%{x}<br>count=%{y}<extra></extra>",
         "legendgroup": "Compile",
         "marker": {
          "color": "#EF553B",
          "pattern": {
           "shape": ""
          }
         },
         "name": "Compile",
         "offsetgroup": "Compile",
         "orientation": "v",
         "showlegend": true,
         "textposition": "auto",
         "type": "bar",
         "x": [
          "SAT",
          "SNES",
          "N64",
          "PS"
         ],
         "xaxis": "x",
         "y": [
          2,
          2,
          1,
          1
         ],
         "yaxis": "y"
        },
        {
         "alignmentgroup": "True",
         "hovertemplate": "Publisher=Asmik Ace Entertainment<br>Platform=%{x}<br>count=%{y}<extra></extra>",
         "legendgroup": "Asmik Ace Entertainment",
         "marker": {
          "color": "#00cc96",
          "pattern": {
           "shape": ""
          }
         },
         "name": "Asmik Ace Entertainment",
         "offsetgroup": "Asmik Ace Entertainment",
         "orientation": "v",
         "showlegend": true,
         "textposition": "auto",
         "type": "bar",
         "x": [
          "PS2",
          "PS"
         ],
         "xaxis": "x",
         "y": [
          2,
          1
         ],
         "yaxis": "y"
        },
        {
         "alignmentgroup": "True",
         "hovertemplate": "Publisher=Flight-Plan<br>Platform=%{x}<br>count=%{y}<extra></extra>",
         "legendgroup": "Flight-Plan",
         "marker": {
          "color": "#ab63fa",
          "pattern": {
           "shape": ""
          }
         },
         "name": "Flight-Plan",
         "offsetgroup": "Flight-Plan",
         "orientation": "v",
         "showlegend": true,
         "textposition": "auto",
         "type": "bar",
         "x": [
          "PS2"
         ],
         "xaxis": "x",
         "y": [
          2
         ],
         "yaxis": "y"
        },
        {
         "alignmentgroup": "True",
         "hovertemplate": "Publisher=Asmik Corp<br>Platform=%{x}<br>count=%{y}<extra></extra>",
         "legendgroup": "Asmik Corp",
         "marker": {
          "color": "#FFA15A",
          "pattern": {
           "shape": ""
          }
         },
         "name": "Asmik Corp",
         "offsetgroup": "Asmik Corp",
         "orientation": "v",
         "showlegend": true,
         "textposition": "auto",
         "type": "bar",
         "x": [
          "SNES"
         ],
         "xaxis": "x",
         "y": [
          2
         ],
         "yaxis": "y"
        },
        {
         "alignmentgroup": "True",
         "hovertemplate": "Publisher=Evolved Games<br>Platform=%{x}<br>count=%{y}<extra></extra>",
         "legendgroup": "Evolved Games",
         "marker": {
          "color": "#19d3f3",
          "pattern": {
           "shape": ""
          }
         },
         "name": "Evolved Games",
         "offsetgroup": "Evolved Games",
         "orientation": "v",
         "showlegend": true,
         "textposition": "auto",
         "type": "bar",
         "x": [
          "XB",
          "X360",
          "PS2",
          "PC",
          "PS3"
         ],
         "xaxis": "x",
         "y": [
          2,
          2,
          2,
          1,
          1
         ],
         "yaxis": "y"
        },
        {
         "alignmentgroup": "True",
         "hovertemplate": "Publisher=Trion Worlds<br>Platform=%{x}<br>count=%{y}<extra></extra>",
         "legendgroup": "Trion Worlds",
         "marker": {
          "color": "#FF6692",
          "pattern": {
           "shape": ""
          }
         },
         "name": "Trion Worlds",
         "offsetgroup": "Trion Worlds",
         "orientation": "v",
         "showlegend": true,
         "textposition": "auto",
         "type": "bar",
         "x": [
          "PC",
          "PS3",
          "X360"
         ],
         "xaxis": "x",
         "y": [
          2,
          1,
          1
         ],
         "yaxis": "y"
        },
        {
         "alignmentgroup": "True",
         "hovertemplate": "Publisher=Global A Entertainment<br>Platform=%{x}<br>count=%{y}<extra></extra>",
         "legendgroup": "Global A Entertainment",
         "marker": {
          "color": "#B6E880",
          "pattern": {
           "shape": ""
          }
         },
         "name": "Global A Entertainment",
         "offsetgroup": "Global A Entertainment",
         "orientation": "v",
         "showlegend": true,
         "textposition": "auto",
         "type": "bar",
         "x": [
          "DS",
          "PSP"
         ],
         "xaxis": "x",
         "y": [
          2,
          2
         ],
         "yaxis": "y"
        },
        {
         "alignmentgroup": "True",
         "hovertemplate": "Publisher=Genki<br>Platform=%{x}<br>count=%{y}<extra></extra>",
         "legendgroup": "Genki",
         "marker": {
          "color": "#FF97FF",
          "pattern": {
           "shape": ""
          }
         },
         "name": "Genki",
         "offsetgroup": "Genki",
         "orientation": "v",
         "showlegend": true,
         "textposition": "auto",
         "type": "bar",
         "x": [
          "PS2",
          "3DS",
          "DC",
          "DS",
          "PS3",
          "PSP",
          "XB"
         ],
         "xaxis": "x",
         "y": [
          2,
          1,
          1,
          1,
          1,
          1,
          1
         ],
         "yaxis": "y"
        },
        {
         "alignmentgroup": "True",
         "hovertemplate": "Publisher=Xicat Interactive<br>Platform=%{x}<br>count=%{y}<extra></extra>",
         "legendgroup": "Xicat Interactive",
         "marker": {
          "color": "#FECB52",
          "pattern": {
           "shape": ""
          }
         },
         "name": "Xicat Interactive",
         "offsetgroup": "Xicat Interactive",
         "orientation": "v",
         "showlegend": true,
         "textposition": "auto",
         "type": "bar",
         "x": [
          "XB",
          "PS2"
         ],
         "xaxis": "x",
         "y": [
          2,
          1
         ],
         "yaxis": "y"
        },
        {
         "alignmentgroup": "True",
         "hovertemplate": "Publisher=Gainax Network Systems<br>Platform=%{x}<br>count=%{y}<extra></extra>",
         "legendgroup": "Gainax Network Systems",
         "marker": {
          "color": "#636efa",
          "pattern": {
           "shape": ""
          }
         },
         "name": "Gainax Network Systems",
         "offsetgroup": "Gainax Network Systems",
         "orientation": "v",
         "showlegend": true,
         "textposition": "auto",
         "type": "bar",
         "x": [
          "PS"
         ],
         "xaxis": "x",
         "y": [
          2
         ],
         "yaxis": "y"
        },
        {
         "alignmentgroup": "True",
         "hovertemplate": "Publisher=Alvion<br>Platform=%{x}<br>count=%{y}<extra></extra>",
         "legendgroup": "Alvion",
         "marker": {
          "color": "#EF553B",
          "pattern": {
           "shape": ""
          }
         },
         "name": "Alvion",
         "offsetgroup": "Alvion",
         "orientation": "v",
         "showlegend": true,
         "textposition": "auto",
         "type": "bar",
         "x": [
          "DS"
         ],
         "xaxis": "x",
         "y": [
          2
         ],
         "yaxis": "y"
        },
        {
         "alignmentgroup": "True",
         "hovertemplate": "Publisher=Game Life<br>Platform=%{x}<br>count=%{y}<extra></extra>",
         "legendgroup": "Game Life",
         "marker": {
          "color": "#00cc96",
          "pattern": {
           "shape": ""
          }
         },
         "name": "Game Life",
         "offsetgroup": "Game Life",
         "orientation": "v",
         "showlegend": true,
         "textposition": "auto",
         "type": "bar",
         "x": [
          "DS"
         ],
         "xaxis": "x",
         "y": [
          2
         ],
         "yaxis": "y"
        },
        {
         "alignmentgroup": "True",
         "hovertemplate": "Publisher=Gakken<br>Platform=%{x}<br>count=%{y}<extra></extra>",
         "legendgroup": "Gakken",
         "marker": {
          "color": "#ab63fa",
          "pattern": {
           "shape": ""
          }
         },
         "name": "Gakken",
         "offsetgroup": "Gakken",
         "orientation": "v",
         "showlegend": true,
         "textposition": "auto",
         "type": "bar",
         "x": [
          "DS"
         ],
         "xaxis": "x",
         "y": [
          2
         ],
         "yaxis": "y"
        },
        {
         "alignmentgroup": "True",
         "hovertemplate": "Publisher=Avalon Interactive<br>Platform=%{x}<br>count=%{y}<extra></extra>",
         "legendgroup": "Avalon Interactive",
         "marker": {
          "color": "#FFA15A",
          "pattern": {
           "shape": ""
          }
         },
         "name": "Avalon Interactive",
         "offsetgroup": "Avalon Interactive",
         "orientation": "v",
         "showlegend": true,
         "textposition": "auto",
         "type": "bar",
         "x": [
          "PS2",
          "XB",
          "2600",
          "PS"
         ],
         "xaxis": "x",
         "y": [
          2,
          2,
          1,
          1
         ],
         "yaxis": "y"
        },
        {
         "alignmentgroup": "True",
         "hovertemplate": "Publisher=DHM Interactive<br>Platform=%{x}<br>count=%{y}<extra></extra>",
         "legendgroup": "DHM Interactive",
         "marker": {
          "color": "#19d3f3",
          "pattern": {
           "shape": ""
          }
         },
         "name": "DHM Interactive",
         "offsetgroup": "DHM Interactive",
         "orientation": "v",
         "showlegend": true,
         "textposition": "auto",
         "type": "bar",
         "x": [
          "PSP",
          "DS"
         ],
         "xaxis": "x",
         "y": [
          2,
          1
         ],
         "yaxis": "y"
        },
        {
         "alignmentgroup": "True",
         "hovertemplate": "Publisher=ValuSoft<br>Platform=%{x}<br>count=%{y}<extra></extra>",
         "legendgroup": "ValuSoft",
         "marker": {
          "color": "#FF6692",
          "pattern": {
           "shape": ""
          }
         },
         "name": "ValuSoft",
         "offsetgroup": "ValuSoft",
         "orientation": "v",
         "showlegend": true,
         "textposition": "auto",
         "type": "bar",
         "x": [
          "DS",
          "PS2",
          "PC"
         ],
         "xaxis": "x",
         "y": [
          2,
          1,
          1
         ],
         "yaxis": "y"
        },
        {
         "alignmentgroup": "True",
         "hovertemplate": "Publisher=Culture Brain<br>Platform=%{x}<br>count=%{y}<extra></extra>",
         "legendgroup": "Culture Brain",
         "marker": {
          "color": "#B6E880",
          "pattern": {
           "shape": ""
          }
         },
         "name": "Culture Brain",
         "offsetgroup": "Culture Brain",
         "orientation": "v",
         "showlegend": true,
         "textposition": "auto",
         "type": "bar",
         "x": [
          "SNES",
          "DS"
         ],
         "xaxis": "x",
         "y": [
          2,
          2
         ],
         "yaxis": "y"
        },
        {
         "alignmentgroup": "True",
         "hovertemplate": "Publisher=Crimson Cow<br>Platform=%{x}<br>count=%{y}<extra></extra>",
         "legendgroup": "Crimson Cow",
         "marker": {
          "color": "#FF97FF",
          "pattern": {
           "shape": ""
          }
         },
         "name": "Crimson Cow",
         "offsetgroup": "Crimson Cow",
         "orientation": "v",
         "showlegend": true,
         "textposition": "auto",
         "type": "bar",
         "x": [
          "PC"
         ],
         "xaxis": "x",
         "y": [
          2
         ],
         "yaxis": "y"
        },
        {
         "alignmentgroup": "True",
         "hovertemplate": "Publisher=Core Design Ltd.<br>Platform=%{x}<br>count=%{y}<extra></extra>",
         "legendgroup": "Core Design Ltd.",
         "marker": {
          "color": "#FECB52",
          "pattern": {
           "shape": ""
          }
         },
         "name": "Core Design Ltd.",
         "offsetgroup": "Core Design Ltd.",
         "orientation": "v",
         "showlegend": true,
         "textposition": "auto",
         "type": "bar",
         "x": [
          "PS"
         ],
         "xaxis": "x",
         "y": [
          2
         ],
         "yaxis": "y"
        },
        {
         "alignmentgroup": "True",
         "hovertemplate": "Publisher=Valve Software<br>Platform=%{x}<br>count=%{y}<extra></extra>",
         "legendgroup": "Valve Software",
         "marker": {
          "color": "#636efa",
          "pattern": {
           "shape": ""
          }
         },
         "name": "Valve Software",
         "offsetgroup": "Valve Software",
         "orientation": "v",
         "showlegend": true,
         "textposition": "auto",
         "type": "bar",
         "x": [
          "PC",
          "X360"
         ],
         "xaxis": "x",
         "y": [
          2,
          1
         ],
         "yaxis": "y"
        },
        {
         "alignmentgroup": "True",
         "hovertemplate": "Publisher=Daito<br>Platform=%{x}<br>count=%{y}<extra></extra>",
         "legendgroup": "Daito",
         "marker": {
          "color": "#EF553B",
          "pattern": {
           "shape": ""
          }
         },
         "name": "Daito",
         "offsetgroup": "Daito",
         "orientation": "v",
         "showlegend": true,
         "textposition": "auto",
         "type": "bar",
         "x": [
          "PS2",
          "PSP"
         ],
         "xaxis": "x",
         "y": [
          2,
          2
         ],
         "yaxis": "y"
        },
        {
         "alignmentgroup": "True",
         "hovertemplate": "Publisher=Elf<br>Platform=%{x}<br>count=%{y}<extra></extra>",
         "legendgroup": "Elf",
         "marker": {
          "color": "#00cc96",
          "pattern": {
           "shape": ""
          }
         },
         "name": "Elf",
         "offsetgroup": "Elf",
         "orientation": "v",
         "showlegend": true,
         "textposition": "auto",
         "type": "bar",
         "x": [
          "SAT"
         ],
         "xaxis": "x",
         "y": [
          2
         ],
         "yaxis": "y"
        },
        {
         "alignmentgroup": "True",
         "hovertemplate": "Publisher=Electronic Arts Victor<br>Platform=%{x}<br>count=%{y}<extra></extra>",
         "legendgroup": "Electronic Arts Victor",
         "marker": {
          "color": "#ab63fa",
          "pattern": {
           "shape": ""
          }
         },
         "name": "Electronic Arts Victor",
         "offsetgroup": "Electronic Arts Victor",
         "orientation": "v",
         "showlegend": true,
         "textposition": "auto",
         "type": "bar",
         "x": [
          "PS"
         ],
         "xaxis": "x",
         "y": [
          2
         ],
         "yaxis": "y"
        },
        {
         "alignmentgroup": "True",
         "hovertemplate": "Publisher=Edia<br>Platform=%{x}<br>count=%{y}<extra></extra>",
         "legendgroup": "Edia",
         "marker": {
          "color": "#FFA15A",
          "pattern": {
           "shape": ""
          }
         },
         "name": "Edia",
         "offsetgroup": "Edia",
         "orientation": "v",
         "showlegend": true,
         "textposition": "auto",
         "type": "bar",
         "x": [
          "PSP"
         ],
         "xaxis": "x",
         "y": [
          2
         ],
         "yaxis": "y"
        },
        {
         "alignmentgroup": "True",
         "hovertemplate": "Publisher=Easy Interactive<br>Platform=%{x}<br>count=%{y}<extra></extra>",
         "legendgroup": "Easy Interactive",
         "marker": {
          "color": "#19d3f3",
          "pattern": {
           "shape": ""
          }
         },
         "name": "Easy Interactive",
         "offsetgroup": "Easy Interactive",
         "orientation": "v",
         "showlegend": true,
         "textposition": "auto",
         "type": "bar",
         "x": [
          "DS"
         ],
         "xaxis": "x",
         "y": [
          2
         ],
         "yaxis": "y"
        },
        {
         "alignmentgroup": "True",
         "hovertemplate": "Publisher=Dorart<br>Platform=%{x}<br>count=%{y}<extra></extra>",
         "legendgroup": "Dorart",
         "marker": {
          "color": "#FF6692",
          "pattern": {
           "shape": ""
          }
         },
         "name": "Dorart",
         "offsetgroup": "Dorart",
         "orientation": "v",
         "showlegend": true,
         "textposition": "auto",
         "type": "bar",
         "x": [
          "PSP"
         ],
         "xaxis": "x",
         "y": [
          2
         ],
         "yaxis": "y"
        },
        {
         "alignmentgroup": "True",
         "hovertemplate": "Publisher=Datam Polystar<br>Platform=%{x}<br>count=%{y}<extra></extra>",
         "legendgroup": "Datam Polystar",
         "marker": {
          "color": "#B6E880",
          "pattern": {
           "shape": ""
          }
         },
         "name": "Datam Polystar",
         "offsetgroup": "Datam Polystar",
         "orientation": "v",
         "showlegend": true,
         "textposition": "auto",
         "type": "bar",
         "x": [
          "PS2"
         ],
         "xaxis": "x",
         "y": [
          2
         ],
         "yaxis": "y"
        },
        {
         "alignmentgroup": "True",
         "hovertemplate": "Publisher=Data Age<br>Platform=%{x}<br>count=%{y}<extra></extra>",
         "legendgroup": "Data Age",
         "marker": {
          "color": "#FF97FF",
          "pattern": {
           "shape": ""
          }
         },
         "name": "Data Age",
         "offsetgroup": "Data Age",
         "orientation": "v",
         "showlegend": true,
         "textposition": "auto",
         "type": "bar",
         "x": [
          "2600"
         ],
         "xaxis": "x",
         "y": [
          2
         ],
         "yaxis": "y"
        },
        {
         "alignmentgroup": "True",
         "hovertemplate": "Publisher=Alawar Entertainment<br>Platform=%{x}<br>count=%{y}<extra></extra>",
         "legendgroup": "Alawar Entertainment",
         "marker": {
          "color": "#FECB52",
          "pattern": {
           "shape": ""
          }
         },
         "name": "Alawar Entertainment",
         "offsetgroup": "Alawar Entertainment",
         "orientation": "v",
         "showlegend": true,
         "textposition": "auto",
         "type": "bar",
         "x": [
          "PC"
         ],
         "xaxis": "x",
         "y": [
          2
         ],
         "yaxis": "y"
        },
        {
         "alignmentgroup": "True",
         "hovertemplate": "Publisher=7G//AMES<br>Platform=%{x}<br>count=%{y}<extra></extra>",
         "legendgroup": "7G//AMES",
         "marker": {
          "color": "#636efa",
          "pattern": {
           "shape": ""
          }
         },
         "name": "7G//AMES",
         "offsetgroup": "7G//AMES",
         "orientation": "v",
         "showlegend": true,
         "textposition": "auto",
         "type": "bar",
         "x": [
          "DS",
          "Wii"
         ],
         "xaxis": "x",
         "y": [
          2,
          2
         ],
         "yaxis": "y"
        },
        {
         "alignmentgroup": "True",
         "hovertemplate": "Publisher=AQ Interactive<br>Platform=%{x}<br>count=%{y}<extra></extra>",
         "legendgroup": "AQ Interactive",
         "marker": {
          "color": "#EF553B",
          "pattern": {
           "shape": ""
          }
         },
         "name": "AQ Interactive",
         "offsetgroup": "AQ Interactive",
         "orientation": "v",
         "showlegend": true,
         "textposition": "auto",
         "type": "bar",
         "x": [
          "DS",
          "PS2",
          "PSP"
         ],
         "xaxis": "x",
         "y": [
          2,
          2,
          1
         ],
         "yaxis": "y"
        },
        {
         "alignmentgroup": "True",
         "hovertemplate": "Publisher=Jorudan<br>Platform=%{x}<br>count=%{y}<extra></extra>",
         "legendgroup": "Jorudan",
         "marker": {
          "color": "#00cc96",
          "pattern": {
           "shape": ""
          }
         },
         "name": "Jorudan",
         "offsetgroup": "Jorudan",
         "orientation": "v",
         "showlegend": true,
         "textposition": "auto",
         "type": "bar",
         "x": [
          "GBA",
          "GB"
         ],
         "xaxis": "x",
         "y": [
          2,
          1
         ],
         "yaxis": "y"
        },
        {
         "alignmentgroup": "True",
         "hovertemplate": "Publisher=CTO SpA<br>Platform=%{x}<br>count=%{y}<extra></extra>",
         "legendgroup": "CTO SpA",
         "marker": {
          "color": "#ab63fa",
          "pattern": {
           "shape": ""
          }
         },
         "name": "CTO SpA",
         "offsetgroup": "CTO SpA",
         "orientation": "v",
         "showlegend": true,
         "textposition": "auto",
         "type": "bar",
         "x": [
          "PS"
         ],
         "xaxis": "x",
         "y": [
          2
         ],
         "yaxis": "y"
        },
        {
         "alignmentgroup": "True",
         "hovertemplate": "Publisher=Jack of All Games<br>Platform=%{x}<br>count=%{y}<extra></extra>",
         "legendgroup": "Jack of All Games",
         "marker": {
          "color": "#FFA15A",
          "pattern": {
           "shape": ""
          }
         },
         "name": "Jack of All Games",
         "offsetgroup": "Jack of All Games",
         "orientation": "v",
         "showlegend": true,
         "textposition": "auto",
         "type": "bar",
         "x": [
          "DS",
          "GBA"
         ],
         "xaxis": "x",
         "y": [
          2,
          1
         ],
         "yaxis": "y"
        },
        {
         "alignmentgroup": "True",
         "hovertemplate": "Publisher=Zenrin<br>Platform=%{x}<br>count=%{y}<extra></extra>",
         "legendgroup": "Zenrin",
         "marker": {
          "color": "#19d3f3",
          "pattern": {
           "shape": ""
          }
         },
         "name": "Zenrin",
         "offsetgroup": "Zenrin",
         "orientation": "v",
         "showlegend": true,
         "textposition": "auto",
         "type": "bar",
         "x": [
          "PSP"
         ],
         "xaxis": "x",
         "y": [
          2
         ],
         "yaxis": "y"
        },
        {
         "alignmentgroup": "True",
         "hovertemplate": "Publisher=Virtual Play Games<br>Platform=%{x}<br>count=%{y}<extra></extra>",
         "legendgroup": "Virtual Play Games",
         "marker": {
          "color": "#FF6692",
          "pattern": {
           "shape": ""
          }
         },
         "name": "Virtual Play Games",
         "offsetgroup": "Virtual Play Games",
         "orientation": "v",
         "showlegend": true,
         "textposition": "auto",
         "type": "bar",
         "x": [
          "Wii"
         ],
         "xaxis": "x",
         "y": [
          2
         ],
         "yaxis": "y"
        },
        {
         "alignmentgroup": "True",
         "hovertemplate": "Publisher=Liquid Games<br>Platform=%{x}<br>count=%{y}<extra></extra>",
         "legendgroup": "Liquid Games",
         "marker": {
          "color": "#B6E880",
          "pattern": {
           "shape": ""
          }
         },
         "name": "Liquid Games",
         "offsetgroup": "Liquid Games",
         "orientation": "v",
         "showlegend": true,
         "textposition": "auto",
         "type": "bar",
         "x": [
          "GBA"
         ],
         "xaxis": "x",
         "y": [
          2
         ],
         "yaxis": "y"
        },
        {
         "alignmentgroup": "True",
         "hovertemplate": "Publisher=Licensed 4U<br>Platform=%{x}<br>count=%{y}<extra></extra>",
         "legendgroup": "Licensed 4U",
         "marker": {
          "color": "#FF97FF",
          "pattern": {
           "shape": ""
          }
         },
         "name": "Licensed 4U",
         "offsetgroup": "Licensed 4U",
         "orientation": "v",
         "showlegend": true,
         "textposition": "auto",
         "type": "bar",
         "x": [
          "DS",
          "3DS"
         ],
         "xaxis": "x",
         "y": [
          2,
          1
         ],
         "yaxis": "y"
        },
        {
         "alignmentgroup": "True",
         "hovertemplate": "Publisher=Lexicon Entertainment<br>Platform=%{x}<br>count=%{y}<extra></extra>",
         "legendgroup": "Lexicon Entertainment",
         "marker": {
          "color": "#FECB52",
          "pattern": {
           "shape": ""
          }
         },
         "name": "Lexicon Entertainment",
         "offsetgroup": "Lexicon Entertainment",
         "orientation": "v",
         "showlegend": true,
         "textposition": "auto",
         "type": "bar",
         "x": [
          "DS"
         ],
         "xaxis": "x",
         "y": [
          2
         ],
         "yaxis": "y"
        },
        {
         "alignmentgroup": "True",
         "hovertemplate": "Publisher=imageepoch Inc.<br>Platform=%{x}<br>count=%{y}<extra></extra>",
         "legendgroup": "imageepoch Inc.",
         "marker": {
          "color": "#636efa",
          "pattern": {
           "shape": ""
          }
         },
         "name": "imageepoch Inc.",
         "offsetgroup": "imageepoch Inc.",
         "orientation": "v",
         "showlegend": true,
         "textposition": "auto",
         "type": "bar",
         "x": [
          "3DS"
         ],
         "xaxis": "x",
         "y": [
          2
         ],
         "yaxis": "y"
        },
        {
         "alignmentgroup": "True",
         "hovertemplate": "Publisher=Knowledge Adventure<br>Platform=%{x}<br>count=%{y}<extra></extra>",
         "legendgroup": "Knowledge Adventure",
         "marker": {
          "color": "#EF553B",
          "pattern": {
           "shape": ""
          }
         },
         "name": "Knowledge Adventure",
         "offsetgroup": "Knowledge Adventure",
         "orientation": "v",
         "showlegend": true,
         "textposition": "auto",
         "type": "bar",
         "x": [
          "Wii",
          "GBA"
         ],
         "xaxis": "x",
         "y": [
          2,
          2
         ],
         "yaxis": "y"
        },
        {
         "alignmentgroup": "True",
         "hovertemplate": "Publisher=Home Entertainment Suppliers<br>Platform=%{x}<br>count=%{y}<extra></extra>",
         "legendgroup": "Home Entertainment Suppliers",
         "marker": {
          "color": "#00cc96",
          "pattern": {
           "shape": ""
          }
         },
         "name": "Home Entertainment Suppliers",
         "offsetgroup": "Home Entertainment Suppliers",
         "orientation": "v",
         "showlegend": true,
         "textposition": "auto",
         "type": "bar",
         "x": [
          "X360",
          "PS3",
          "PC"
         ],
         "xaxis": "x",
         "y": [
          2,
          2,
          1
         ],
         "yaxis": "y"
        },
        {
         "alignmentgroup": "True",
         "hovertemplate": "Publisher=Hip Interactive<br>Platform=%{x}<br>count=%{y}<extra></extra>",
         "legendgroup": "Hip Interactive",
         "marker": {
          "color": "#ab63fa",
          "pattern": {
           "shape": ""
          }
         },
         "name": "Hip Interactive",
         "offsetgroup": "Hip Interactive",
         "orientation": "v",
         "showlegend": true,
         "textposition": "auto",
         "type": "bar",
         "x": [
          "XB",
          "GBA",
          "PS2"
         ],
         "xaxis": "x",
         "y": [
          2,
          2,
          1
         ],
         "yaxis": "y"
        },
        {
         "alignmentgroup": "True",
         "hovertemplate": "Publisher=Hect<br>Platform=%{x}<br>count=%{y}<extra></extra>",
         "legendgroup": "Hect",
         "marker": {
          "color": "#FFA15A",
          "pattern": {
           "shape": ""
          }
         },
         "name": "Hect",
         "offsetgroup": "Hect",
         "orientation": "v",
         "showlegend": true,
         "textposition": "auto",
         "type": "bar",
         "x": [
          "SNES",
          "PS"
         ],
         "xaxis": "x",
         "y": [
          2,
          1
         ],
         "yaxis": "y"
        },
        {
         "alignmentgroup": "True",
         "hovertemplate": "Publisher=Xseed Games<br>Platform=%{x}<br>count=%{y}<extra></extra>",
         "legendgroup": "Xseed Games",
         "marker": {
          "color": "#19d3f3",
          "pattern": {
           "shape": ""
          }
         },
         "name": "Xseed Games",
         "offsetgroup": "Xseed Games",
         "orientation": "v",
         "showlegend": true,
         "textposition": "auto",
         "type": "bar",
         "x": [
          "PSV",
          "3DS",
          "PS4"
         ],
         "xaxis": "x",
         "y": [
          2,
          1,
          1
         ],
         "yaxis": "y"
        },
        {
         "alignmentgroup": "True",
         "hovertemplate": "Publisher=Big Fish Games<br>Platform=%{x}<br>count=%{y}<extra></extra>",
         "legendgroup": "Big Fish Games",
         "marker": {
          "color": "#FF6692",
          "pattern": {
           "shape": ""
          }
         },
         "name": "Big Fish Games",
         "offsetgroup": "Big Fish Games",
         "orientation": "v",
         "showlegend": true,
         "textposition": "auto",
         "type": "bar",
         "x": [
          "PC"
         ],
         "xaxis": "x",
         "y": [
          2
         ],
         "yaxis": "y"
        },
        {
         "alignmentgroup": "True",
         "hovertemplate": "Publisher=Groove Games<br>Platform=%{x}<br>count=%{y}<extra></extra>",
         "legendgroup": "Groove Games",
         "marker": {
          "color": "#B6E880",
          "pattern": {
           "shape": ""
          }
         },
         "name": "Groove Games",
         "offsetgroup": "Groove Games",
         "orientation": "v",
         "showlegend": true,
         "textposition": "auto",
         "type": "bar",
         "x": [
          "XB"
         ],
         "xaxis": "x",
         "y": [
          2
         ],
         "yaxis": "y"
        },
        {
         "alignmentgroup": "True",
         "hovertemplate": "Publisher=Video System<br>Platform=%{x}<br>count=%{y}<extra></extra>",
         "legendgroup": "Video System",
         "marker": {
          "color": "#FF97FF",
          "pattern": {
           "shape": ""
          }
         },
         "name": "Video System",
         "offsetgroup": "Video System",
         "orientation": "v",
         "showlegend": true,
         "textposition": "auto",
         "type": "bar",
         "x": [
          "N64",
          "PS",
          "SNES"
         ],
         "xaxis": "x",
         "y": [
          2,
          1,
          1
         ],
         "yaxis": "y"
        },
        {
         "alignmentgroup": "True",
         "hovertemplate": "Publisher=HuneX<br>Platform=%{x}<br>count=%{y}<extra></extra>",
         "legendgroup": "HuneX",
         "marker": {
          "color": "#FECB52",
          "pattern": {
           "shape": ""
          }
         },
         "name": "HuneX",
         "offsetgroup": "HuneX",
         "orientation": "v",
         "showlegend": true,
         "textposition": "auto",
         "type": "bar",
         "x": [
          "PSV"
         ],
         "xaxis": "x",
         "y": [
          2
         ],
         "yaxis": "y"
        },
        {
         "alignmentgroup": "True",
         "hovertemplate": "Publisher=Aerosoft<br>Platform=%{x}<br>count=%{y}<extra></extra>",
         "legendgroup": "Aerosoft",
         "marker": {
          "color": "#636efa",
          "pattern": {
           "shape": ""
          }
         },
         "name": "Aerosoft",
         "offsetgroup": "Aerosoft",
         "orientation": "v",
         "showlegend": true,
         "textposition": "auto",
         "type": "bar",
         "x": [
          "PC"
         ],
         "xaxis": "x",
         "y": [
          2
         ],
         "yaxis": "y"
        },
        {
         "alignmentgroup": "True",
         "hovertemplate": "Publisher=Agatsuma Entertainment<br>Platform=%{x}<br>count=%{y}<extra></extra>",
         "legendgroup": "Agatsuma Entertainment",
         "marker": {
          "color": "#EF553B",
          "pattern": {
           "shape": ""
          }
         },
         "name": "Agatsuma Entertainment",
         "offsetgroup": "Agatsuma Entertainment",
         "orientation": "v",
         "showlegend": true,
         "textposition": "auto",
         "type": "bar",
         "x": [
          "3DS",
          "GBA"
         ],
         "xaxis": "x",
         "y": [
          2,
          1
         ],
         "yaxis": "y"
        },
        {
         "alignmentgroup": "True",
         "hovertemplate": "Publisher=Vir2L Studios<br>Platform=%{x}<br>count=%{y}<extra></extra>",
         "legendgroup": "Vir2L Studios",
         "marker": {
          "color": "#00cc96",
          "pattern": {
           "shape": ""
          }
         },
         "name": "Vir2L Studios",
         "offsetgroup": "Vir2L Studios",
         "orientation": "v",
         "showlegend": true,
         "textposition": "auto",
         "type": "bar",
         "x": [
          "DS",
          "Wii"
         ],
         "xaxis": "x",
         "y": [
          2,
          1
         ],
         "yaxis": "y"
        },
        {
         "alignmentgroup": "True",
         "hovertemplate": "Publisher=Slightly Mad Studios<br>Platform=%{x}<br>count=%{y}<extra></extra>",
         "legendgroup": "Slightly Mad Studios",
         "marker": {
          "color": "#ab63fa",
          "pattern": {
           "shape": ""
          }
         },
         "name": "Slightly Mad Studios",
         "offsetgroup": "Slightly Mad Studios",
         "orientation": "v",
         "showlegend": true,
         "textposition": "auto",
         "type": "bar",
         "x": [
          "PC",
          "PS4",
          "XOne"
         ],
         "xaxis": "x",
         "y": [
          1,
          1,
          1
         ],
         "yaxis": "y"
        },
        {
         "alignmentgroup": "True",
         "hovertemplate": "Publisher=Simon & Schuster Interactive<br>Platform=%{x}<br>count=%{y}<extra></extra>",
         "legendgroup": "Simon & Schuster Interactive",
         "marker": {
          "color": "#FFA15A",
          "pattern": {
           "shape": ""
          }
         },
         "name": "Simon & Schuster Interactive",
         "offsetgroup": "Simon & Schuster Interactive",
         "orientation": "v",
         "showlegend": true,
         "textposition": "auto",
         "type": "bar",
         "x": [
          "XB"
         ],
         "xaxis": "x",
         "y": [
          1
         ],
         "yaxis": "y"
        },
        {
         "alignmentgroup": "True",
         "hovertemplate": "Publisher=Seventh Chord<br>Platform=%{x}<br>count=%{y}<extra></extra>",
         "legendgroup": "Seventh Chord",
         "marker": {
          "color": "#19d3f3",
          "pattern": {
           "shape": ""
          }
         },
         "name": "Seventh Chord",
         "offsetgroup": "Seventh Chord",
         "orientation": "v",
         "showlegend": true,
         "textposition": "auto",
         "type": "bar",
         "x": [
          "3DS"
         ],
         "xaxis": "x",
         "y": [
          1
         ],
         "yaxis": "y"
        },
        {
         "alignmentgroup": "True",
         "hovertemplate": "Publisher=T&E Soft<br>Platform=%{x}<br>count=%{y}<extra></extra>",
         "legendgroup": "T&E Soft",
         "marker": {
          "color": "#FF6692",
          "pattern": {
           "shape": ""
          }
         },
         "name": "T&E Soft",
         "offsetgroup": "T&E Soft",
         "orientation": "v",
         "showlegend": true,
         "textposition": "auto",
         "type": "bar",
         "x": [
          "SNES"
         ],
         "xaxis": "x",
         "y": [
          1
         ],
         "yaxis": "y"
        },
        {
         "alignmentgroup": "True",
         "hovertemplate": "Publisher=Warashi<br>Platform=%{x}<br>count=%{y}<extra></extra>",
         "legendgroup": "Warashi",
         "marker": {
          "color": "#B6E880",
          "pattern": {
           "shape": ""
          }
         },
         "name": "Warashi",
         "offsetgroup": "Warashi",
         "orientation": "v",
         "showlegend": true,
         "textposition": "auto",
         "type": "bar",
         "x": [
          "DC"
         ],
         "xaxis": "x",
         "y": [
          1
         ],
         "yaxis": "y"
        },
        {
         "alignmentgroup": "True",
         "hovertemplate": "Publisher=SSI<br>Platform=%{x}<br>count=%{y}<extra></extra>",
         "legendgroup": "SSI",
         "marker": {
          "color": "#FF97FF",
          "pattern": {
           "shape": ""
          }
         },
         "name": "SSI",
         "offsetgroup": "SSI",
         "orientation": "v",
         "showlegend": true,
         "textposition": "auto",
         "type": "bar",
         "x": [
          "PS"
         ],
         "xaxis": "x",
         "y": [
          1
         ],
         "yaxis": "y"
        },
        {
         "alignmentgroup": "True",
         "hovertemplate": "Publisher=Yamasa Entertainment<br>Platform=%{x}<br>count=%{y}<extra></extra>",
         "legendgroup": "Yamasa Entertainment",
         "marker": {
          "color": "#FECB52",
          "pattern": {
           "shape": ""
          }
         },
         "name": "Yamasa Entertainment",
         "offsetgroup": "Yamasa Entertainment",
         "orientation": "v",
         "showlegend": true,
         "textposition": "auto",
         "type": "bar",
         "x": [
          "PS2",
          "PSP"
         ],
         "xaxis": "x",
         "y": [
          1,
          1
         ],
         "yaxis": "y"
        },
        {
         "alignmentgroup": "True",
         "hovertemplate": "Publisher=Yumedia<br>Platform=%{x}<br>count=%{y}<extra></extra>",
         "legendgroup": "Yumedia",
         "marker": {
          "color": "#636efa",
          "pattern": {
           "shape": ""
          }
         },
         "name": "Yumedia",
         "offsetgroup": "Yumedia",
         "orientation": "v",
         "showlegend": true,
         "textposition": "auto",
         "type": "bar",
         "x": [
          "SAT"
         ],
         "xaxis": "x",
         "y": [
          1
         ],
         "yaxis": "y"
        },
        {
         "alignmentgroup": "True",
         "hovertemplate": "Publisher=fonfun<br>Platform=%{x}<br>count=%{y}<extra></extra>",
         "legendgroup": "fonfun",
         "marker": {
          "color": "#EF553B",
          "pattern": {
           "shape": ""
          }
         },
         "name": "fonfun",
         "offsetgroup": "fonfun",
         "orientation": "v",
         "showlegend": true,
         "textposition": "auto",
         "type": "bar",
         "x": [
          "PSP"
         ],
         "xaxis": "x",
         "y": [
          1
         ],
         "yaxis": "y"
        },
        {
         "alignmentgroup": "True",
         "hovertemplate": "Publisher=iWin<br>Platform=%{x}<br>count=%{y}<extra></extra>",
         "legendgroup": "iWin",
         "marker": {
          "color": "#00cc96",
          "pattern": {
           "shape": ""
          }
         },
         "name": "iWin",
         "offsetgroup": "iWin",
         "orientation": "v",
         "showlegend": true,
         "textposition": "auto",
         "type": "bar",
         "x": [
          "DS"
         ],
         "xaxis": "x",
         "y": [
          1
         ],
         "yaxis": "y"
        },
        {
         "alignmentgroup": "True",
         "hovertemplate": "Publisher=id Software<br>Platform=%{x}<br>count=%{y}<extra></extra>",
         "legendgroup": "id Software",
         "marker": {
          "color": "#ab63fa",
          "pattern": {
           "shape": ""
          }
         },
         "name": "id Software",
         "offsetgroup": "id Software",
         "orientation": "v",
         "showlegend": true,
         "textposition": "auto",
         "type": "bar",
         "x": [
          "PC"
         ],
         "xaxis": "x",
         "y": [
          1
         ],
         "yaxis": "y"
        },
        {
         "alignmentgroup": "True",
         "hovertemplate": "Publisher=inXile Entertainment<br>Platform=%{x}<br>count=%{y}<extra></extra>",
         "legendgroup": "inXile Entertainment",
         "marker": {
          "color": "#FFA15A",
          "pattern": {
           "shape": ""
          }
         },
         "name": "inXile Entertainment",
         "offsetgroup": "inXile Entertainment",
         "orientation": "v",
         "showlegend": true,
         "textposition": "auto",
         "type": "bar",
         "x": [
          "PC"
         ],
         "xaxis": "x",
         "y": [
          1
         ],
         "yaxis": "y"
        },
        {
         "alignmentgroup": "True",
         "hovertemplate": "Publisher=mixi, Inc<br>Platform=%{x}<br>count=%{y}<extra></extra>",
         "legendgroup": "mixi, Inc",
         "marker": {
          "color": "#19d3f3",
          "pattern": {
           "shape": ""
          }
         },
         "name": "mixi, Inc",
         "offsetgroup": "mixi, Inc",
         "orientation": "v",
         "showlegend": true,
         "textposition": "auto",
         "type": "bar",
         "x": [
          "3DS"
         ],
         "xaxis": "x",
         "y": [
          1
         ],
         "yaxis": "y"
        },
        {
         "alignmentgroup": "True",
         "hovertemplate": "Publisher=responDESIGN<br>Platform=%{x}<br>count=%{y}<extra></extra>",
         "legendgroup": "responDESIGN",
         "marker": {
          "color": "#FF6692",
          "pattern": {
           "shape": ""
          }
         },
         "name": "responDESIGN",
         "offsetgroup": "responDESIGN",
         "orientation": "v",
         "showlegend": true,
         "textposition": "auto",
         "type": "bar",
         "x": [
          "PS2",
          "XB"
         ],
         "xaxis": "x",
         "y": [
          1,
          1
         ],
         "yaxis": "y"
        },
        {
         "alignmentgroup": "True",
         "hovertemplate": "Publisher=SCS Software<br>Platform=%{x}<br>count=%{y}<extra></extra>",
         "legendgroup": "SCS Software",
         "marker": {
          "color": "#B6E880",
          "pattern": {
           "shape": ""
          }
         },
         "name": "SCS Software",
         "offsetgroup": "SCS Software",
         "orientation": "v",
         "showlegend": true,
         "textposition": "auto",
         "type": "bar",
         "x": [
          "PC"
         ],
         "xaxis": "x",
         "y": [
          1
         ],
         "yaxis": "y"
        },
        {
         "alignmentgroup": "True",
         "hovertemplate": "Publisher=SPS<br>Platform=%{x}<br>count=%{y}<extra></extra>",
         "legendgroup": "SPS",
         "marker": {
          "color": "#FF97FF",
          "pattern": {
           "shape": ""
          }
         },
         "name": "SPS",
         "offsetgroup": "SPS",
         "orientation": "v",
         "showlegend": true,
         "textposition": "auto",
         "type": "bar",
         "x": [
          "PS"
         ],
         "xaxis": "x",
         "y": [
          1
         ],
         "yaxis": "y"
        },
        {
         "alignmentgroup": "True",
         "hovertemplate": "Publisher=Wargaming.net<br>Platform=%{x}<br>count=%{y}<extra></extra>",
         "legendgroup": "Wargaming.net",
         "marker": {
          "color": "#FECB52",
          "pattern": {
           "shape": ""
          }
         },
         "name": "Wargaming.net",
         "offsetgroup": "Wargaming.net",
         "orientation": "v",
         "showlegend": true,
         "textposition": "auto",
         "type": "bar",
         "x": [
          "PC"
         ],
         "xaxis": "x",
         "y": [
          1
         ],
         "yaxis": "y"
        },
        {
         "alignmentgroup": "True",
         "hovertemplate": "Publisher=Yacht Club Games<br>Platform=%{x}<br>count=%{y}<extra></extra>",
         "legendgroup": "Yacht Club Games",
         "marker": {
          "color": "#636efa",
          "pattern": {
           "shape": ""
          }
         },
         "name": "Yacht Club Games",
         "offsetgroup": "Yacht Club Games",
         "orientation": "v",
         "showlegend": true,
         "textposition": "auto",
         "type": "bar",
         "x": [
          "WiiU",
          "3DS",
          "PS4"
         ],
         "xaxis": "x",
         "y": [
          1,
          1,
          1
         ],
         "yaxis": "y"
        },
        {
         "alignmentgroup": "True",
         "hovertemplate": "Publisher=Warp<br>Platform=%{x}<br>count=%{y}<extra></extra>",
         "legendgroup": "Warp",
         "marker": {
          "color": "#EF553B",
          "pattern": {
           "shape": ""
          }
         },
         "name": "Warp",
         "offsetgroup": "Warp",
         "orientation": "v",
         "showlegend": true,
         "textposition": "auto",
         "type": "bar",
         "x": [
          "SAT"
         ],
         "xaxis": "x",
         "y": [
          1
         ],
         "yaxis": "y"
        },
        {
         "alignmentgroup": "True",
         "hovertemplate": "Publisher=WayForward Technologies<br>Platform=%{x}<br>count=%{y}<extra></extra>",
         "legendgroup": "WayForward Technologies",
         "marker": {
          "color": "#00cc96",
          "pattern": {
           "shape": ""
          }
         },
         "name": "WayForward Technologies",
         "offsetgroup": "WayForward Technologies",
         "orientation": "v",
         "showlegend": true,
         "textposition": "auto",
         "type": "bar",
         "x": [
          "3DS"
         ],
         "xaxis": "x",
         "y": [
          1
         ],
         "yaxis": "y"
        },
        {
         "alignmentgroup": "True",
         "hovertemplate": "Publisher=Westwood Studios<br>Platform=%{x}<br>count=%{y}<extra></extra>",
         "legendgroup": "Westwood Studios",
         "marker": {
          "color": "#ab63fa",
          "pattern": {
           "shape": ""
          }
         },
         "name": "Westwood Studios",
         "offsetgroup": "Westwood Studios",
         "orientation": "v",
         "showlegend": true,
         "textposition": "auto",
         "type": "bar",
         "x": [
          "PC"
         ],
         "xaxis": "x",
         "y": [
          1
         ],
         "yaxis": "y"
        },
        {
         "alignmentgroup": "True",
         "hovertemplate": "Publisher=White Park Bay Software<br>Platform=%{x}<br>count=%{y}<extra></extra>",
         "legendgroup": "White Park Bay Software",
         "marker": {
          "color": "#FFA15A",
          "pattern": {
           "shape": ""
          }
         },
         "name": "White Park Bay Software",
         "offsetgroup": "White Park Bay Software",
         "orientation": "v",
         "showlegend": true,
         "textposition": "auto",
         "type": "bar",
         "x": [
          "DS"
         ],
         "xaxis": "x",
         "y": [
          1
         ],
         "yaxis": "y"
        },
        {
         "alignmentgroup": "True",
         "hovertemplate": "Publisher=Wizard Video Games<br>Platform=%{x}<br>count=%{y}<extra></extra>",
         "legendgroup": "Wizard Video Games",
         "marker": {
          "color": "#19d3f3",
          "pattern": {
           "shape": ""
          }
         },
         "name": "Wizard Video Games",
         "offsetgroup": "Wizard Video Games",
         "orientation": "v",
         "showlegend": true,
         "textposition": "auto",
         "type": "bar",
         "x": [
          "2600"
         ],
         "xaxis": "x",
         "y": [
          1
         ],
         "yaxis": "y"
        },
        {
         "alignmentgroup": "True",
         "hovertemplate": "Publisher=Xing Entertainment<br>Platform=%{x}<br>count=%{y}<extra></extra>",
         "legendgroup": "Xing Entertainment",
         "marker": {
          "color": "#FF6692",
          "pattern": {
           "shape": ""
          }
         },
         "name": "Xing Entertainment",
         "offsetgroup": "Xing Entertainment",
         "orientation": "v",
         "showlegend": true,
         "textposition": "auto",
         "type": "bar",
         "x": [
          "PS"
         ],
         "xaxis": "x",
         "y": [
          1
         ],
         "yaxis": "y"
        },
        {
         "alignmentgroup": "True",
         "hovertemplate": "Publisher=Saurus<br>Platform=%{x}<br>count=%{y}<extra></extra>",
         "legendgroup": "Saurus",
         "marker": {
          "color": "#B6E880",
          "pattern": {
           "shape": ""
          }
         },
         "name": "Saurus",
         "offsetgroup": "Saurus",
         "orientation": "v",
         "showlegend": true,
         "textposition": "auto",
         "type": "bar",
         "x": [
          "PS"
         ],
         "xaxis": "x",
         "y": [
          1
         ],
         "yaxis": "y"
        },
        {
         "alignmentgroup": "True",
         "hovertemplate": "Publisher=Sears<br>Platform=%{x}<br>count=%{y}<extra></extra>",
         "legendgroup": "Sears",
         "marker": {
          "color": "#FF97FF",
          "pattern": {
           "shape": ""
          }
         },
         "name": "Sears",
         "offsetgroup": "Sears",
         "orientation": "v",
         "showlegend": true,
         "textposition": "auto",
         "type": "bar",
         "x": [
          "2600"
         ],
         "xaxis": "x",
         "y": [
          1
         ],
         "yaxis": "y"
        },
        {
         "alignmentgroup": "True",
         "hovertemplate": "Publisher=Slitherine Software<br>Platform=%{x}<br>count=%{y}<extra></extra>",
         "legendgroup": "Slitherine Software",
         "marker": {
          "color": "#FECB52",
          "pattern": {
           "shape": ""
          }
         },
         "name": "Slitherine Software",
         "offsetgroup": "Slitherine Software",
         "orientation": "v",
         "showlegend": true,
         "textposition": "auto",
         "type": "bar",
         "x": [
          "DS",
          "PS3",
          "X360",
          "PSP"
         ],
         "xaxis": "x",
         "y": [
          1,
          1,
          1,
          1
         ],
         "yaxis": "y"
        },
        {
         "alignmentgroup": "True",
         "hovertemplate": "Publisher=Stainless Games<br>Platform=%{x}<br>count=%{y}<extra></extra>",
         "legendgroup": "Stainless Games",
         "marker": {
          "color": "#636efa",
          "pattern": {
           "shape": ""
          }
         },
         "name": "Stainless Games",
         "offsetgroup": "Stainless Games",
         "orientation": "v",
         "showlegend": true,
         "textposition": "auto",
         "type": "bar",
         "x": [
          "XOne"
         ],
         "xaxis": "x",
         "y": [
          1
         ],
         "yaxis": "y"
        },
        {
         "alignmentgroup": "True",
         "hovertemplate": "Publisher=TalonSoft<br>Platform=%{x}<br>count=%{y}<extra></extra>",
         "legendgroup": "TalonSoft",
         "marker": {
          "color": "#EF553B",
          "pattern": {
           "shape": ""
          }
         },
         "name": "TalonSoft",
         "offsetgroup": "TalonSoft",
         "orientation": "v",
         "showlegend": true,
         "textposition": "auto",
         "type": "bar",
         "x": [
          "PS"
         ],
         "xaxis": "x",
         "y": [
          1
         ],
         "yaxis": "y"
        },
        {
         "alignmentgroup": "True",
         "hovertemplate": "Publisher=Team17 Software<br>Platform=%{x}<br>count=%{y}<extra></extra>",
         "legendgroup": "Team17 Software",
         "marker": {
          "color": "#00cc96",
          "pattern": {
           "shape": ""
          }
         },
         "name": "Team17 Software",
         "offsetgroup": "Team17 Software",
         "orientation": "v",
         "showlegend": true,
         "textposition": "auto",
         "type": "bar",
         "x": [
          "PC"
         ],
         "xaxis": "x",
         "y": [
          1
         ],
         "yaxis": "y"
        },
        {
         "alignmentgroup": "True",
         "hovertemplate": "Publisher=TechnoSoft<br>Platform=%{x}<br>count=%{y}<extra></extra>",
         "legendgroup": "TechnoSoft",
         "marker": {
          "color": "#ab63fa",
          "pattern": {
           "shape": ""
          }
         },
         "name": "TechnoSoft",
         "offsetgroup": "TechnoSoft",
         "orientation": "v",
         "showlegend": true,
         "textposition": "auto",
         "type": "bar",
         "x": [
          "PS"
         ],
         "xaxis": "x",
         "y": [
          1
         ],
         "yaxis": "y"
        },
        {
         "alignmentgroup": "True",
         "hovertemplate": "Publisher=Technos Japan Corporation<br>Platform=%{x}<br>count=%{y}<extra></extra>",
         "legendgroup": "Technos Japan Corporation",
         "marker": {
          "color": "#FFA15A",
          "pattern": {
           "shape": ""
          }
         },
         "name": "Technos Japan Corporation",
         "offsetgroup": "Technos Japan Corporation",
         "orientation": "v",
         "showlegend": true,
         "textposition": "auto",
         "type": "bar",
         "x": [
          "NG"
         ],
         "xaxis": "x",
         "y": [
          1
         ],
         "yaxis": "y"
        },
        {
         "alignmentgroup": "True",
         "hovertemplate": "Publisher=Starpath Corp.<br>Platform=%{x}<br>count=%{y}<extra></extra>",
         "legendgroup": "Starpath Corp.",
         "marker": {
          "color": "#19d3f3",
          "pattern": {
           "shape": ""
          }
         },
         "name": "Starpath Corp.",
         "offsetgroup": "Starpath Corp.",
         "orientation": "v",
         "showlegend": true,
         "textposition": "auto",
         "type": "bar",
         "x": [
          "2600"
         ],
         "xaxis": "x",
         "y": [
          1
         ],
         "yaxis": "y"
        },
        {
         "alignmentgroup": "True",
         "hovertemplate": "Publisher=Takuyo<br>Platform=%{x}<br>count=%{y}<extra></extra>",
         "legendgroup": "Takuyo",
         "marker": {
          "color": "#FF6692",
          "pattern": {
           "shape": ""
          }
         },
         "name": "Takuyo",
         "offsetgroup": "Takuyo",
         "orientation": "v",
         "showlegend": true,
         "textposition": "auto",
         "type": "bar",
         "x": [
          "PSP"
         ],
         "xaxis": "x",
         "y": [
          1
         ],
         "yaxis": "y"
        },
        {
         "alignmentgroup": "True",
         "hovertemplate": "Publisher=Tetris Online<br>Platform=%{x}<br>count=%{y}<extra></extra>",
         "legendgroup": "Tetris Online",
         "marker": {
          "color": "#B6E880",
          "pattern": {
           "shape": ""
          }
         },
         "name": "Tetris Online",
         "offsetgroup": "Tetris Online",
         "orientation": "v",
         "showlegend": true,
         "textposition": "auto",
         "type": "bar",
         "x": [
          "3DS"
         ],
         "xaxis": "x",
         "y": [
          1
         ],
         "yaxis": "y"
        },
        {
         "alignmentgroup": "True",
         "hovertemplate": "Publisher=The Learning Company<br>Platform=%{x}<br>count=%{y}<extra></extra>",
         "legendgroup": "The Learning Company",
         "marker": {
          "color": "#FF97FF",
          "pattern": {
           "shape": ""
          }
         },
         "name": "The Learning Company",
         "offsetgroup": "The Learning Company",
         "orientation": "v",
         "showlegend": true,
         "textposition": "auto",
         "type": "bar",
         "x": [
          "PS"
         ],
         "xaxis": "x",
         "y": [
          1
         ],
         "yaxis": "y"
        },
        {
         "alignmentgroup": "True",
         "hovertemplate": "Publisher=TopWare Interactive<br>Platform=%{x}<br>count=%{y}<extra></extra>",
         "legendgroup": "TopWare Interactive",
         "marker": {
          "color": "#FECB52",
          "pattern": {
           "shape": ""
          }
         },
         "name": "TopWare Interactive",
         "offsetgroup": "TopWare Interactive",
         "orientation": "v",
         "showlegend": true,
         "textposition": "auto",
         "type": "bar",
         "x": [
          "PC",
          "PS3",
          "PS4",
          "X360"
         ],
         "xaxis": "x",
         "y": [
          1,
          1,
          1,
          1
         ],
         "yaxis": "y"
        },
        {
         "alignmentgroup": "True",
         "hovertemplate": "Publisher=Touchstone<br>Platform=%{x}<br>count=%{y}<extra></extra>",
         "legendgroup": "Touchstone",
         "marker": {
          "color": "#636efa",
          "pattern": {
           "shape": ""
          }
         },
         "name": "Touchstone",
         "offsetgroup": "Touchstone",
         "orientation": "v",
         "showlegend": true,
         "textposition": "auto",
         "type": "bar",
         "x": [
          "DS",
          "PC",
          "PS3",
          "X360"
         ],
         "xaxis": "x",
         "y": [
          1,
          1,
          1,
          1
         ],
         "yaxis": "y"
        },
        {
         "alignmentgroup": "True",
         "hovertemplate": "Publisher=Strategy First<br>Platform=%{x}<br>count=%{y}<extra></extra>",
         "legendgroup": "Strategy First",
         "marker": {
          "color": "#EF553B",
          "pattern": {
           "shape": ""
          }
         },
         "name": "Strategy First",
         "offsetgroup": "Strategy First",
         "orientation": "v",
         "showlegend": true,
         "textposition": "auto",
         "type": "bar",
         "x": [
          "PC"
         ],
         "xaxis": "x",
         "y": [
          1
         ],
         "yaxis": "y"
        },
        {
         "alignmentgroup": "True",
         "hovertemplate": "Publisher=TYO<br>Platform=%{x}<br>count=%{y}<extra></extra>",
         "legendgroup": "TYO",
         "marker": {
          "color": "#00cc96",
          "pattern": {
           "shape": ""
          }
         },
         "name": "TYO",
         "offsetgroup": "TYO",
         "orientation": "v",
         "showlegend": true,
         "textposition": "auto",
         "type": "bar",
         "x": [
          "PS"
         ],
         "xaxis": "x",
         "y": [
          1
         ],
         "yaxis": "y"
        },
        {
         "alignmentgroup": "True",
         "hovertemplate": "Publisher=System 3<br>Platform=%{x}<br>count=%{y}<extra></extra>",
         "legendgroup": "System 3",
         "marker": {
          "color": "#ab63fa",
          "pattern": {
           "shape": ""
          }
         },
         "name": "System 3",
         "offsetgroup": "System 3",
         "orientation": "v",
         "showlegend": true,
         "textposition": "auto",
         "type": "bar",
         "x": [
          "PSV",
          "PS4",
          "PS3"
         ],
         "xaxis": "x",
         "y": [
          1,
          1,
          1
         ],
         "yaxis": "y"
        },
        {
         "alignmentgroup": "True",
         "hovertemplate": "Publisher=TOHO<br>Platform=%{x}<br>count=%{y}<extra></extra>",
         "legendgroup": "TOHO",
         "marker": {
          "color": "#FFA15A",
          "pattern": {
           "shape": ""
          }
         },
         "name": "TOHO",
         "offsetgroup": "TOHO",
         "orientation": "v",
         "showlegend": true,
         "textposition": "auto",
         "type": "bar",
         "x": [
          "SNES"
         ],
         "xaxis": "x",
         "y": [
          1
         ],
         "yaxis": "y"
        },
        {
         "alignmentgroup": "True",
         "hovertemplate": "Publisher=Sunflowers<br>Platform=%{x}<br>count=%{y}<extra></extra>",
         "legendgroup": "Sunflowers",
         "marker": {
          "color": "#19d3f3",
          "pattern": {
           "shape": ""
          }
         },
         "name": "Sunflowers",
         "offsetgroup": "Sunflowers",
         "orientation": "v",
         "showlegend": true,
         "textposition": "auto",
         "type": "bar",
         "x": [
          "PC"
         ],
         "xaxis": "x",
         "y": [
          1
         ],
         "yaxis": "y"
        },
        {
         "alignmentgroup": "True",
         "hovertemplate": "Publisher=Summitsoft<br>Platform=%{x}<br>count=%{y}<extra></extra>",
         "legendgroup": "Summitsoft",
         "marker": {
          "color": "#FF6692",
          "pattern": {
           "shape": ""
          }
         },
         "name": "Summitsoft",
         "offsetgroup": "Summitsoft",
         "orientation": "v",
         "showlegend": true,
         "textposition": "auto",
         "type": "bar",
         "x": [
          "GBA"
         ],
         "xaxis": "x",
         "y": [
          1
         ],
         "yaxis": "y"
        },
        {
         "alignmentgroup": "True",
         "hovertemplate": "Publisher=Tradewest<br>Platform=%{x}<br>count=%{y}<extra></extra>",
         "legendgroup": "Tradewest",
         "marker": {
          "color": "#B6E880",
          "pattern": {
           "shape": ""
          }
         },
         "name": "Tradewest",
         "offsetgroup": "Tradewest",
         "orientation": "v",
         "showlegend": true,
         "textposition": "auto",
         "type": "bar",
         "x": [
          "PS3",
          "Wii",
          "X360"
         ],
         "xaxis": "x",
         "y": [
          1,
          1,
          1
         ],
         "yaxis": "y"
        },
        {
         "alignmentgroup": "True",
         "hovertemplate": "Publisher=Sony Computer Entertainment America<br>Platform=%{x}<br>count=%{y}<extra></extra>",
         "legendgroup": "Sony Computer Entertainment America",
         "marker": {
          "color": "#FF97FF",
          "pattern": {
           "shape": ""
          }
         },
         "name": "Sony Computer Entertainment America",
         "offsetgroup": "Sony Computer Entertainment America",
         "orientation": "v",
         "showlegend": true,
         "textposition": "auto",
         "type": "bar",
         "x": [
          "PS3",
          "PSV",
          "PS4"
         ],
         "xaxis": "x",
         "y": [
          1,
          1,
          1
         ],
         "yaxis": "y"
        },
        {
         "alignmentgroup": "True",
         "hovertemplate": "Publisher=Vap<br>Platform=%{x}<br>count=%{y}<extra></extra>",
         "legendgroup": "Vap",
         "marker": {
          "color": "#FECB52",
          "pattern": {
           "shape": ""
          }
         },
         "name": "Vap",
         "offsetgroup": "Vap",
         "orientation": "v",
         "showlegend": true,
         "textposition": "auto",
         "type": "bar",
         "x": [
          "SNES"
         ],
         "xaxis": "x",
         "y": [
          1
         ],
         "yaxis": "y"
        },
        {
         "alignmentgroup": "True",
         "hovertemplate": "Publisher=Vatical Entertainment<br>Platform=%{x}<br>count=%{y}<extra></extra>",
         "legendgroup": "Vatical Entertainment",
         "marker": {
          "color": "#636efa",
          "pattern": {
           "shape": ""
          }
         },
         "name": "Vatical Entertainment",
         "offsetgroup": "Vatical Entertainment",
         "orientation": "v",
         "showlegend": true,
         "textposition": "auto",
         "type": "bar",
         "x": [
          "N64",
          "PS"
         ],
         "xaxis": "x",
         "y": [
          1,
          1
         ],
         "yaxis": "y"
        },
        {
         "alignmentgroup": "True",
         "hovertemplate": "Publisher=Vic Tokai<br>Platform=%{x}<br>count=%{y}<extra></extra>",
         "legendgroup": "Vic Tokai",
         "marker": {
          "color": "#EF553B",
          "pattern": {
           "shape": ""
          }
         },
         "name": "Vic Tokai",
         "offsetgroup": "Vic Tokai",
         "orientation": "v",
         "showlegend": true,
         "textposition": "auto",
         "type": "bar",
         "x": [
          "N64",
          "PS"
         ],
         "xaxis": "x",
         "y": [
          1,
          1
         ],
         "yaxis": "y"
        },
        {
         "alignmentgroup": "True",
         "hovertemplate": "Publisher=Views<br>Platform=%{x}<br>count=%{y}<extra></extra>",
         "legendgroup": "Views",
         "marker": {
          "color": "#00cc96",
          "pattern": {
           "shape": ""
          }
         },
         "name": "Views",
         "offsetgroup": "Views",
         "orientation": "v",
         "showlegend": true,
         "textposition": "auto",
         "type": "bar",
         "x": [
          "PS3",
          "PSP"
         ],
         "xaxis": "x",
         "y": [
          1,
          1
         ],
         "yaxis": "y"
        },
        {
         "alignmentgroup": "True",
         "hovertemplate": "Publisher=Visco<br>Platform=%{x}<br>count=%{y}<extra></extra>",
         "legendgroup": "Visco",
         "marker": {
          "color": "#ab63fa",
          "pattern": {
           "shape": ""
          }
         },
         "name": "Visco",
         "offsetgroup": "Visco",
         "orientation": "v",
         "showlegend": true,
         "textposition": "auto",
         "type": "bar",
         "x": [
          "PC"
         ],
         "xaxis": "x",
         "y": [
          1
         ],
         "yaxis": "y"
        },
        {
         "alignmentgroup": "True",
         "hovertemplate": "Publisher=Sold Out<br>Platform=%{x}<br>count=%{y}<extra></extra>",
         "legendgroup": "Sold Out",
         "marker": {
          "color": "#FFA15A",
          "pattern": {
           "shape": ""
          }
         },
         "name": "Sold Out",
         "offsetgroup": "Sold Out",
         "orientation": "v",
         "showlegend": true,
         "textposition": "auto",
         "type": "bar",
         "x": [
          "PS4"
         ],
         "xaxis": "x",
         "y": [
          1
         ],
         "yaxis": "y"
        },
        {
         "alignmentgroup": "True",
         "hovertemplate": "Publisher=Societa<br>Platform=%{x}<br>count=%{y}<extra></extra>",
         "legendgroup": "Societa",
         "marker": {
          "color": "#19d3f3",
          "pattern": {
           "shape": ""
          }
         },
         "name": "Societa",
         "offsetgroup": "Societa",
         "orientation": "v",
         "showlegend": true,
         "textposition": "auto",
         "type": "bar",
         "x": [
          "SAT"
         ],
         "xaxis": "x",
         "y": [
          1
         ],
         "yaxis": "y"
        },
        {
         "alignmentgroup": "True",
         "hovertemplate": "Publisher=Valve<br>Platform=%{x}<br>count=%{y}<extra></extra>",
         "legendgroup": "Valve",
         "marker": {
          "color": "#FF6692",
          "pattern": {
           "shape": ""
          }
         },
         "name": "Valve",
         "offsetgroup": "Valve",
         "orientation": "v",
         "showlegend": true,
         "textposition": "auto",
         "type": "bar",
         "x": [
          "PS3"
         ],
         "xaxis": "x",
         "y": [
          1
         ],
         "yaxis": "y"
        },
        {
         "alignmentgroup": "True",
         "hovertemplate": "Publisher=Sony Music Entertainment<br>Platform=%{x}<br>count=%{y}<extra></extra>",
         "legendgroup": "Sony Music Entertainment",
         "marker": {
          "color": "#B6E880",
          "pattern": {
           "shape": ""
          }
         },
         "name": "Sony Music Entertainment",
         "offsetgroup": "Sony Music Entertainment",
         "orientation": "v",
         "showlegend": true,
         "textposition": "auto",
         "type": "bar",
         "x": [
          "PS2"
         ],
         "xaxis": "x",
         "y": [
          1
         ],
         "yaxis": "y"
        },
        {
         "alignmentgroup": "True",
         "hovertemplate": "Publisher=Tripwire Interactive<br>Platform=%{x}<br>count=%{y}<extra></extra>",
         "legendgroup": "Tripwire Interactive",
         "marker": {
          "color": "#FF97FF",
          "pattern": {
           "shape": ""
          }
         },
         "name": "Tripwire Interactive",
         "offsetgroup": "Tripwire Interactive",
         "orientation": "v",
         "showlegend": true,
         "textposition": "auto",
         "type": "bar",
         "x": [
          "PC"
         ],
         "xaxis": "x",
         "y": [
          1
         ],
         "yaxis": "y"
        },
        {
         "alignmentgroup": "True",
         "hovertemplate": "Publisher=Square EA<br>Platform=%{x}<br>count=%{y}<extra></extra>",
         "legendgroup": "Square EA",
         "marker": {
          "color": "#FECB52",
          "pattern": {
           "shape": ""
          }
         },
         "name": "Square EA",
         "offsetgroup": "Square EA",
         "orientation": "v",
         "showlegend": true,
         "textposition": "auto",
         "type": "bar",
         "x": [
          "PS"
         ],
         "xaxis": "x",
         "y": [
          1
         ],
         "yaxis": "y"
        },
        {
         "alignmentgroup": "True",
         "hovertemplate": "Publisher=Tryfirst<br>Platform=%{x}<br>count=%{y}<extra></extra>",
         "legendgroup": "Tryfirst",
         "marker": {
          "color": "#636efa",
          "pattern": {
           "shape": ""
          }
         },
         "name": "Tryfirst",
         "offsetgroup": "Tryfirst",
         "orientation": "v",
         "showlegend": true,
         "textposition": "auto",
         "type": "bar",
         "x": [
          "PS2"
         ],
         "xaxis": "x",
         "y": [
          1
         ],
         "yaxis": "y"
        },
        {
         "alignmentgroup": "True",
         "hovertemplate": "Publisher=Type-Moon<br>Platform=%{x}<br>count=%{y}<extra></extra>",
         "legendgroup": "Type-Moon",
         "marker": {
          "color": "#EF553B",
          "pattern": {
           "shape": ""
          }
         },
         "name": "Type-Moon",
         "offsetgroup": "Type-Moon",
         "orientation": "v",
         "showlegend": true,
         "textposition": "auto",
         "type": "bar",
         "x": [
          "PSV"
         ],
         "xaxis": "x",
         "y": [
          1
         ],
         "yaxis": "y"
        },
        {
         "alignmentgroup": "True",
         "hovertemplate": "Publisher=UEP Systems<br>Platform=%{x}<br>count=%{y}<extra></extra>",
         "legendgroup": "UEP Systems",
         "marker": {
          "color": "#00cc96",
          "pattern": {
           "shape": ""
          }
         },
         "name": "UEP Systems",
         "offsetgroup": "UEP Systems",
         "orientation": "v",
         "showlegend": true,
         "textposition": "auto",
         "type": "bar",
         "x": [
          "PS"
         ],
         "xaxis": "x",
         "y": [
          1
         ],
         "yaxis": "y"
        },
        {
         "alignmentgroup": "True",
         "hovertemplate": "Publisher=UIG Entertainment<br>Platform=%{x}<br>count=%{y}<extra></extra>",
         "legendgroup": "UIG Entertainment",
         "marker": {
          "color": "#ab63fa",
          "pattern": {
           "shape": ""
          }
         },
         "name": "UIG Entertainment",
         "offsetgroup": "UIG Entertainment",
         "orientation": "v",
         "showlegend": true,
         "textposition": "auto",
         "type": "bar",
         "x": [
          "PS4"
         ],
         "xaxis": "x",
         "y": [
          1
         ],
         "yaxis": "y"
        },
        {
         "alignmentgroup": "True",
         "hovertemplate": "Publisher=Ultravision<br>Platform=%{x}<br>count=%{y}<extra></extra>",
         "legendgroup": "Ultravision",
         "marker": {
          "color": "#FFA15A",
          "pattern": {
           "shape": ""
          }
         },
         "name": "Ultravision",
         "offsetgroup": "Ultravision",
         "orientation": "v",
         "showlegend": true,
         "textposition": "auto",
         "type": "bar",
         "x": [
          "2600"
         ],
         "xaxis": "x",
         "y": [
          1
         ],
         "yaxis": "y"
        },
        {
         "alignmentgroup": "True",
         "hovertemplate": "Publisher=Universal Gamex<br>Platform=%{x}<br>count=%{y}<extra></extra>",
         "legendgroup": "Universal Gamex",
         "marker": {
          "color": "#19d3f3",
          "pattern": {
           "shape": ""
          }
         },
         "name": "Universal Gamex",
         "offsetgroup": "Universal Gamex",
         "orientation": "v",
         "showlegend": true,
         "textposition": "auto",
         "type": "bar",
         "x": [
          "2600"
         ],
         "xaxis": "x",
         "y": [
          1
         ],
         "yaxis": "y"
        },
        {
         "alignmentgroup": "True",
         "hovertemplate": "Publisher=Legacy Interactive<br>Platform=%{x}<br>count=%{y}<extra></extra>",
         "legendgroup": "Legacy Interactive",
         "marker": {
          "color": "#FF6692",
          "pattern": {
           "shape": ""
          }
         },
         "name": "Legacy Interactive",
         "offsetgroup": "Legacy Interactive",
         "orientation": "v",
         "showlegend": true,
         "textposition": "auto",
         "type": "bar",
         "x": [
          "DS"
         ],
         "xaxis": "x",
         "y": [
          1
         ],
         "yaxis": "y"
        },
        {
         "alignmentgroup": "True",
         "hovertemplate": "Publisher=FunSoft<br>Platform=%{x}<br>count=%{y}<extra></extra>",
         "legendgroup": "FunSoft",
         "marker": {
          "color": "#B6E880",
          "pattern": {
           "shape": ""
          }
         },
         "name": "FunSoft",
         "offsetgroup": "FunSoft",
         "orientation": "v",
         "showlegend": true,
         "textposition": "auto",
         "type": "bar",
         "x": [
          "PS"
         ],
         "xaxis": "x",
         "y": [
          1
         ],
         "yaxis": "y"
        },
        {
         "alignmentgroup": "True",
         "hovertemplate": "Publisher=Enjoy Gaming ltd.<br>Platform=%{x}<br>count=%{y}<extra></extra>",
         "legendgroup": "Enjoy Gaming ltd.",
         "marker": {
          "color": "#FF97FF",
          "pattern": {
           "shape": ""
          }
         },
         "name": "Enjoy Gaming ltd.",
         "offsetgroup": "Enjoy Gaming ltd.",
         "orientation": "v",
         "showlegend": true,
         "textposition": "auto",
         "type": "bar",
         "x": [
          "DS"
         ],
         "xaxis": "x",
         "y": [
          1
         ],
         "yaxis": "y"
        },
        {
         "alignmentgroup": "True",
         "hovertemplate": "Publisher=Epic Games<br>Platform=%{x}<br>count=%{y}<extra></extra>",
         "legendgroup": "Epic Games",
         "marker": {
          "color": "#FECB52",
          "pattern": {
           "shape": ""
          }
         },
         "name": "Epic Games",
         "offsetgroup": "Epic Games",
         "orientation": "v",
         "showlegend": true,
         "textposition": "auto",
         "type": "bar",
         "x": [
          "PS4"
         ],
         "xaxis": "x",
         "y": [
          1
         ],
         "yaxis": "y"
        },
        {
         "alignmentgroup": "True",
         "hovertemplate": "Publisher=Ertain<br>Platform=%{x}<br>count=%{y}<extra></extra>",
         "legendgroup": "Ertain",
         "marker": {
          "color": "#636efa",
          "pattern": {
           "shape": ""
          }
         },
         "name": "Ertain",
         "offsetgroup": "Ertain",
         "orientation": "v",
         "showlegend": true,
         "textposition": "auto",
         "type": "bar",
         "x": [
          "DS"
         ],
         "xaxis": "x",
         "y": [
          1
         ],
         "yaxis": "y"
        },
        {
         "alignmentgroup": "True",
         "hovertemplate": "Publisher=Evolution Games<br>Platform=%{x}<br>count=%{y}<extra></extra>",
         "legendgroup": "Evolution Games",
         "marker": {
          "color": "#EF553B",
          "pattern": {
           "shape": ""
          }
         },
         "name": "Evolution Games",
         "offsetgroup": "Evolution Games",
         "orientation": "v",
         "showlegend": true,
         "textposition": "auto",
         "type": "bar",
         "x": [
          "PS"
         ],
         "xaxis": "x",
         "y": [
          1
         ],
         "yaxis": "y"
        },
        {
         "alignmentgroup": "True",
         "hovertemplate": "Publisher=Extreme Entertainment Group<br>Platform=%{x}<br>count=%{y}<extra></extra>",
         "legendgroup": "Extreme Entertainment Group",
         "marker": {
          "color": "#00cc96",
          "pattern": {
           "shape": ""
          }
         },
         "name": "Extreme Entertainment Group",
         "offsetgroup": "Extreme Entertainment Group",
         "orientation": "v",
         "showlegend": true,
         "textposition": "auto",
         "type": "bar",
         "x": [
          "3DS"
         ],
         "xaxis": "x",
         "y": [
          1
         ],
         "yaxis": "y"
        },
        {
         "alignmentgroup": "True",
         "hovertemplate": "Publisher=Fields<br>Platform=%{x}<br>count=%{y}<extra></extra>",
         "legendgroup": "Fields",
         "marker": {
          "color": "#ab63fa",
          "pattern": {
           "shape": ""
          }
         },
         "name": "Fields",
         "offsetgroup": "Fields",
         "orientation": "v",
         "showlegend": true,
         "textposition": "auto",
         "type": "bar",
         "x": [
          "PS3"
         ],
         "xaxis": "x",
         "y": [
          1
         ],
         "yaxis": "y"
        },
        {
         "alignmentgroup": "True",
         "hovertemplate": "Publisher=Flashpoint Games<br>Platform=%{x}<br>count=%{y}<extra></extra>",
         "legendgroup": "Flashpoint Games",
         "marker": {
          "color": "#FFA15A",
          "pattern": {
           "shape": ""
          }
         },
         "name": "Flashpoint Games",
         "offsetgroup": "Flashpoint Games",
         "orientation": "v",
         "showlegend": true,
         "textposition": "auto",
         "type": "bar",
         "x": [
          "GBA",
          "Wii"
         ],
         "xaxis": "x",
         "y": [
          1,
          1
         ],
         "yaxis": "y"
        },
        {
         "alignmentgroup": "True",
         "hovertemplate": "Publisher=Fortyfive<br>Platform=%{x}<br>count=%{y}<extra></extra>",
         "legendgroup": "Fortyfive",
         "marker": {
          "color": "#19d3f3",
          "pattern": {
           "shape": ""
          }
         },
         "name": "Fortyfive",
         "offsetgroup": "Fortyfive",
         "orientation": "v",
         "showlegend": true,
         "textposition": "auto",
         "type": "bar",
         "x": [
          "DC"
         ],
         "xaxis": "x",
         "y": [
          1
         ],
         "yaxis": "y"
        },
        {
         "alignmentgroup": "True",
         "hovertemplate": "Publisher=FuRyu Corporation<br>Platform=%{x}<br>count=%{y}<extra></extra>",
         "legendgroup": "FuRyu Corporation",
         "marker": {
          "color": "#FF6692",
          "pattern": {
           "shape": ""
          }
         },
         "name": "FuRyu Corporation",
         "offsetgroup": "FuRyu Corporation",
         "orientation": "v",
         "showlegend": true,
         "textposition": "auto",
         "type": "bar",
         "x": [
          "PS4"
         ],
         "xaxis": "x",
         "y": [
          1
         ],
         "yaxis": "y"
        },
        {
         "alignmentgroup": "True",
         "hovertemplate": "Publisher=Encore<br>Platform=%{x}<br>count=%{y}<extra></extra>",
         "legendgroup": "Encore",
         "marker": {
          "color": "#B6E880",
          "pattern": {
           "shape": ""
          }
         },
         "name": "Encore",
         "offsetgroup": "Encore",
         "orientation": "v",
         "showlegend": true,
         "textposition": "auto",
         "type": "bar",
         "x": [
          "XB",
          "PS",
          "PC",
          "GC"
         ],
         "xaxis": "x",
         "y": [
          1,
          1,
          1,
          1
         ],
         "yaxis": "y"
        },
        {
         "alignmentgroup": "True",
         "hovertemplate": "Publisher=DigiCube<br>Platform=%{x}<br>count=%{y}<extra></extra>",
         "legendgroup": "DigiCube",
         "marker": {
          "color": "#FF97FF",
          "pattern": {
           "shape": ""
          }
         },
         "name": "DigiCube",
         "offsetgroup": "DigiCube",
         "orientation": "v",
         "showlegend": true,
         "textposition": "auto",
         "type": "bar",
         "x": [
          "PS2"
         ],
         "xaxis": "x",
         "y": [
          1
         ],
         "yaxis": "y"
        },
        {
         "alignmentgroup": "True",
         "hovertemplate": "Publisher=Data East<br>Platform=%{x}<br>count=%{y}<extra></extra>",
         "legendgroup": "Data East",
         "marker": {
          "color": "#FECB52",
          "pattern": {
           "shape": ""
          }
         },
         "name": "Data East",
         "offsetgroup": "Data East",
         "orientation": "v",
         "showlegend": true,
         "textposition": "auto",
         "type": "bar",
         "x": [
          "SAT",
          "SNES"
         ],
         "xaxis": "x",
         "y": [
          1,
          1
         ],
         "yaxis": "y"
        },
        {
         "alignmentgroup": "True",
         "hovertemplate": "Publisher=Detn8 Games<br>Platform=%{x}<br>count=%{y}<extra></extra>",
         "legendgroup": "Detn8 Games",
         "marker": {
          "color": "#636efa",
          "pattern": {
           "shape": ""
          }
         },
         "name": "Detn8 Games",
         "offsetgroup": "Detn8 Games",
         "orientation": "v",
         "showlegend": true,
         "textposition": "auto",
         "type": "bar",
         "x": [
          "Wii"
         ],
         "xaxis": "x",
         "y": [
          1
         ],
         "yaxis": "y"
        },
        {
         "alignmentgroup": "True",
         "hovertemplate": "Publisher=Devolver Digital<br>Platform=%{x}<br>count=%{y}<extra></extra>",
         "legendgroup": "Devolver Digital",
         "marker": {
          "color": "#EF553B",
          "pattern": {
           "shape": ""
          }
         },
         "name": "Devolver Digital",
         "offsetgroup": "Devolver Digital",
         "orientation": "v",
         "showlegend": true,
         "textposition": "auto",
         "type": "bar",
         "x": [
          "PC",
          "PS4"
         ],
         "xaxis": "x",
         "y": [
          1,
          1
         ],
         "yaxis": "y"
        },
        {
         "alignmentgroup": "True",
         "hovertemplate": "Publisher=DreamWorks Interactive<br>Platform=%{x}<br>count=%{y}<extra></extra>",
         "legendgroup": "DreamWorks Interactive",
         "marker": {
          "color": "#00cc96",
          "pattern": {
           "shape": ""
          }
         },
         "name": "DreamWorks Interactive",
         "offsetgroup": "DreamWorks Interactive",
         "orientation": "v",
         "showlegend": true,
         "textposition": "auto",
         "type": "bar",
         "x": [
          "PS"
         ],
         "xaxis": "x",
         "y": [
          1
         ],
         "yaxis": "y"
        },
        {
         "alignmentgroup": "True",
         "hovertemplate": "Publisher=Dusenberry Martin Racing<br>Platform=%{x}<br>count=%{y}<extra></extra>",
         "legendgroup": "Dusenberry Martin Racing",
         "marker": {
          "color": "#ab63fa",
          "pattern": {
           "shape": ""
          }
         },
         "name": "Dusenberry Martin Racing",
         "offsetgroup": "Dusenberry Martin Racing",
         "orientation": "v",
         "showlegend": true,
         "textposition": "auto",
         "type": "bar",
         "x": [
          "PS4",
          "XOne"
         ],
         "xaxis": "x",
         "y": [
          1,
          1
         ],
         "yaxis": "y"
        },
        {
         "alignmentgroup": "True",
         "hovertemplate": "Publisher=EA Games<br>Platform=%{x}<br>count=%{y}<extra></extra>",
         "legendgroup": "EA Games",
         "marker": {
          "color": "#FFA15A",
          "pattern": {
           "shape": ""
          }
         },
         "name": "EA Games",
         "offsetgroup": "EA Games",
         "orientation": "v",
         "showlegend": true,
         "textposition": "auto",
         "type": "bar",
         "x": [
          "PS3"
         ],
         "xaxis": "x",
         "y": [
          1
         ],
         "yaxis": "y"
        },
        {
         "alignmentgroup": "True",
         "hovertemplate": "Publisher=EON Digital Entertainment<br>Platform=%{x}<br>count=%{y}<extra></extra>",
         "legendgroup": "EON Digital Entertainment",
         "marker": {
          "color": "#19d3f3",
          "pattern": {
           "shape": ""
          }
         },
         "name": "EON Digital Entertainment",
         "offsetgroup": "EON Digital Entertainment",
         "orientation": "v",
         "showlegend": true,
         "textposition": "auto",
         "type": "bar",
         "x": [
          "PS"
         ],
         "xaxis": "x",
         "y": [
          1
         ],
         "yaxis": "y"
        },
        {
         "alignmentgroup": "True",
         "hovertemplate": "Publisher=Ecole<br>Platform=%{x}<br>count=%{y}<extra></extra>",
         "legendgroup": "Ecole",
         "marker": {
          "color": "#FF6692",
          "pattern": {
           "shape": ""
          }
         },
         "name": "Ecole",
         "offsetgroup": "Ecole",
         "orientation": "v",
         "showlegend": true,
         "textposition": "auto",
         "type": "bar",
         "x": [
          "PS2"
         ],
         "xaxis": "x",
         "y": [
          1
         ],
         "yaxis": "y"
        },
        {
         "alignmentgroup": "True",
         "hovertemplate": "Publisher=Elite<br>Platform=%{x}<br>count=%{y}<extra></extra>",
         "legendgroup": "Elite",
         "marker": {
          "color": "#B6E880",
          "pattern": {
           "shape": ""
          }
         },
         "name": "Elite",
         "offsetgroup": "Elite",
         "orientation": "v",
         "showlegend": true,
         "textposition": "auto",
         "type": "bar",
         "x": [
          "PS"
         ],
         "xaxis": "x",
         "y": [
          1
         ],
         "yaxis": "y"
        },
        {
         "alignmentgroup": "True",
         "hovertemplate": "Publisher=Fuji<br>Platform=%{x}<br>count=%{y}<extra></extra>",
         "legendgroup": "Fuji",
         "marker": {
          "color": "#FF97FF",
          "pattern": {
           "shape": ""
          }
         },
         "name": "Fuji",
         "offsetgroup": "Fuji",
         "orientation": "v",
         "showlegend": true,
         "textposition": "auto",
         "type": "bar",
         "x": [
          "PS"
         ],
         "xaxis": "x",
         "y": [
          1
         ],
         "yaxis": "y"
        },
        {
         "alignmentgroup": "True",
         "hovertemplate": "Publisher=Grand Prix Games<br>Platform=%{x}<br>count=%{y}<extra></extra>",
         "legendgroup": "Grand Prix Games",
         "marker": {
          "color": "#FECB52",
          "pattern": {
           "shape": ""
          }
         },
         "name": "Grand Prix Games",
         "offsetgroup": "Grand Prix Games",
         "orientation": "v",
         "showlegend": true,
         "textposition": "auto",
         "type": "bar",
         "x": [
          "PSP"
         ],
         "xaxis": "x",
         "y": [
          1
         ],
         "yaxis": "y"
        },
        {
         "alignmentgroup": "True",
         "hovertemplate": "Publisher=Graphsim Entertainment<br>Platform=%{x}<br>count=%{y}<extra></extra>",
         "legendgroup": "Graphsim Entertainment",
         "marker": {
          "color": "#636efa",
          "pattern": {
           "shape": ""
          }
         },
         "name": "Graphsim Entertainment",
         "offsetgroup": "Graphsim Entertainment",
         "orientation": "v",
         "showlegend": true,
         "textposition": "auto",
         "type": "bar",
         "x": [
          "PC"
         ],
         "xaxis": "x",
         "y": [
          1
         ],
         "yaxis": "y"
        },
        {
         "alignmentgroup": "True",
         "hovertemplate": "Publisher=Griffin International<br>Platform=%{x}<br>count=%{y}<extra></extra>",
         "legendgroup": "Griffin International",
         "marker": {
          "color": "#EF553B",
          "pattern": {
           "shape": ""
          }
         },
         "name": "Griffin International",
         "offsetgroup": "Griffin International",
         "orientation": "v",
         "showlegend": true,
         "textposition": "auto",
         "type": "bar",
         "x": [
          "X360"
         ],
         "xaxis": "x",
         "y": [
          1
         ],
         "yaxis": "y"
        },
        {
         "alignmentgroup": "True",
         "hovertemplate": "Publisher=HAL Laboratory<br>Platform=%{x}<br>count=%{y}<extra></extra>",
         "legendgroup": "HAL Laboratory",
         "marker": {
          "color": "#00cc96",
          "pattern": {
           "shape": ""
          }
         },
         "name": "HAL Laboratory",
         "offsetgroup": "HAL Laboratory",
         "orientation": "v",
         "showlegend": true,
         "textposition": "auto",
         "type": "bar",
         "x": [
          "NES"
         ],
         "xaxis": "x",
         "y": [
          1
         ],
         "yaxis": "y"
        },
        {
         "alignmentgroup": "True",
         "hovertemplate": "Publisher=HMH Interactive<br>Platform=%{x}<br>count=%{y}<extra></extra>",
         "legendgroup": "HMH Interactive",
         "marker": {
          "color": "#ab63fa",
          "pattern": {
           "shape": ""
          }
         },
         "name": "HMH Interactive",
         "offsetgroup": "HMH Interactive",
         "orientation": "v",
         "showlegend": true,
         "textposition": "auto",
         "type": "bar",
         "x": [
          "DS",
          "PC"
         ],
         "xaxis": "x",
         "y": [
          1,
          1
         ],
         "yaxis": "y"
        },
        {
         "alignmentgroup": "True",
         "hovertemplate": "Publisher=Hamster Corporation<br>Platform=%{x}<br>count=%{y}<extra></extra>",
         "legendgroup": "Hamster Corporation",
         "marker": {
          "color": "#FFA15A",
          "pattern": {
           "shape": ""
          }
         },
         "name": "Hamster Corporation",
         "offsetgroup": "Hamster Corporation",
         "orientation": "v",
         "showlegend": true,
         "textposition": "auto",
         "type": "bar",
         "x": [
          "PS",
          "PS2"
         ],
         "xaxis": "x",
         "y": [
          1,
          1
         ],
         "yaxis": "y"
        },
        {
         "alignmentgroup": "True",
         "hovertemplate": "Publisher=Harmonix Music Systems<br>Platform=%{x}<br>count=%{y}<extra></extra>",
         "legendgroup": "Harmonix Music Systems",
         "marker": {
          "color": "#19d3f3",
          "pattern": {
           "shape": ""
          }
         },
         "name": "Harmonix Music Systems",
         "offsetgroup": "Harmonix Music Systems",
         "orientation": "v",
         "showlegend": true,
         "textposition": "auto",
         "type": "bar",
         "x": [
          "PS4",
          "XOne"
         ],
         "xaxis": "x",
         "y": [
          1,
          1
         ],
         "yaxis": "y"
        },
        {
         "alignmentgroup": "True",
         "hovertemplate": "Publisher=Havas Interactive<br>Platform=%{x}<br>count=%{y}<extra></extra>",
         "legendgroup": "Havas Interactive",
         "marker": {
          "color": "#FF6692",
          "pattern": {
           "shape": ""
          }
         },
         "name": "Havas Interactive",
         "offsetgroup": "Havas Interactive",
         "orientation": "v",
         "showlegend": true,
         "textposition": "auto",
         "type": "bar",
         "x": [
          "PC"
         ],
         "xaxis": "x",
         "y": [
          1
         ],
         "yaxis": "y"
        },
        {
         "alignmentgroup": "True",
         "hovertemplate": "Publisher=Headup Games<br>Platform=%{x}<br>count=%{y}<extra></extra>",
         "legendgroup": "Headup Games",
         "marker": {
          "color": "#B6E880",
          "pattern": {
           "shape": ""
          }
         },
         "name": "Headup Games",
         "offsetgroup": "Headup Games",
         "orientation": "v",
         "showlegend": true,
         "textposition": "auto",
         "type": "bar",
         "x": [
          "PC"
         ],
         "xaxis": "x",
         "y": [
          1
         ],
         "yaxis": "y"
        },
        {
         "alignmentgroup": "True",
         "hovertemplate": "Publisher=Hearty Robin<br>Platform=%{x}<br>count=%{y}<extra></extra>",
         "legendgroup": "Hearty Robin",
         "marker": {
          "color": "#FF97FF",
          "pattern": {
           "shape": ""
          }
         },
         "name": "Hearty Robin",
         "offsetgroup": "Hearty Robin",
         "orientation": "v",
         "showlegend": true,
         "textposition": "auto",
         "type": "bar",
         "x": [
          "PS"
         ],
         "xaxis": "x",
         "y": [
          1
         ],
         "yaxis": "y"
        },
        {
         "alignmentgroup": "True",
         "hovertemplate": "Publisher=Hello Games<br>Platform=%{x}<br>count=%{y}<extra></extra>",
         "legendgroup": "Hello Games",
         "marker": {
          "color": "#FECB52",
          "pattern": {
           "shape": ""
          }
         },
         "name": "Hello Games",
         "offsetgroup": "Hello Games",
         "orientation": "v",
         "showlegend": true,
         "textposition": "auto",
         "type": "bar",
         "x": [
          "PS4"
         ],
         "xaxis": "x",
         "y": [
          1
         ],
         "yaxis": "y"
        },
        {
         "alignmentgroup": "True",
         "hovertemplate": "Publisher=Her Interactive<br>Platform=%{x}<br>count=%{y}<extra></extra>",
         "legendgroup": "Her Interactive",
         "marker": {
          "color": "#636efa",
          "pattern": {
           "shape": ""
          }
         },
         "name": "Her Interactive",
         "offsetgroup": "Her Interactive",
         "orientation": "v",
         "showlegend": true,
         "textposition": "auto",
         "type": "bar",
         "x": [
          "PC"
         ],
         "xaxis": "x",
         "y": [
          1
         ],
         "yaxis": "y"
        },
        {
         "alignmentgroup": "True",
         "hovertemplate": "Publisher=Glams<br>Platform=%{x}<br>count=%{y}<extra></extra>",
         "legendgroup": "Glams",
         "marker": {
          "color": "#EF553B",
          "pattern": {
           "shape": ""
          }
         },
         "name": "Glams",
         "offsetgroup": "Glams",
         "orientation": "v",
         "showlegend": true,
         "textposition": "auto",
         "type": "bar",
         "x": [
          "SAT"
         ],
         "xaxis": "x",
         "y": [
          1
         ],
         "yaxis": "y"
        },
        {
         "alignmentgroup": "True",
         "hovertemplate": "Publisher=Giza10<br>Platform=%{x}<br>count=%{y}<extra></extra>",
         "legendgroup": "Giza10",
         "marker": {
          "color": "#00cc96",
          "pattern": {
           "shape": ""
          }
         },
         "name": "Giza10",
         "offsetgroup": "Giza10",
         "orientation": "v",
         "showlegend": true,
         "textposition": "auto",
         "type": "bar",
         "x": [
          "PSP"
         ],
         "xaxis": "x",
         "y": [
          1
         ],
         "yaxis": "y"
        },
        {
         "alignmentgroup": "True",
         "hovertemplate": "Publisher=Giga<br>Platform=%{x}<br>count=%{y}<extra></extra>",
         "legendgroup": "Giga",
         "marker": {
          "color": "#ab63fa",
          "pattern": {
           "shape": ""
          }
         },
         "name": "Giga",
         "offsetgroup": "Giga",
         "orientation": "v",
         "showlegend": true,
         "textposition": "auto",
         "type": "bar",
         "x": [
          "PSV"
         ],
         "xaxis": "x",
         "y": [
          1
         ],
         "yaxis": "y"
        },
        {
         "alignmentgroup": "True",
         "hovertemplate": "Publisher=Gamecock<br>Platform=%{x}<br>count=%{y}<extra></extra>",
         "legendgroup": "Gamecock",
         "marker": {
          "color": "#FFA15A",
          "pattern": {
           "shape": ""
          }
         },
         "name": "Gamecock",
         "offsetgroup": "Gamecock",
         "orientation": "v",
         "showlegend": true,
         "textposition": "auto",
         "type": "bar",
         "x": [
          "DS",
          "PC",
          "PS3",
          "X360"
         ],
         "xaxis": "x",
         "y": [
          1,
          1,
          1,
          1
         ],
         "yaxis": "y"
        },
        {
         "alignmentgroup": "True",
         "hovertemplate": "Publisher=GOA<br>Platform=%{x}<br>count=%{y}<extra></extra>",
         "legendgroup": "GOA",
         "marker": {
          "color": "#19d3f3",
          "pattern": {
           "shape": ""
          }
         },
         "name": "GOA",
         "offsetgroup": "GOA",
         "orientation": "v",
         "showlegend": true,
         "textposition": "auto",
         "type": "bar",
         "x": [
          "PC"
         ],
         "xaxis": "x",
         "y": [
          1
         ],
         "yaxis": "y"
        },
        {
         "alignmentgroup": "True",
         "hovertemplate": "Publisher=Gaga<br>Platform=%{x}<br>count=%{y}<extra></extra>",
         "legendgroup": "Gaga",
         "marker": {
          "color": "#FF6692",
          "pattern": {
           "shape": ""
          }
         },
         "name": "Gaga",
         "offsetgroup": "Gaga",
         "orientation": "v",
         "showlegend": true,
         "textposition": "auto",
         "type": "bar",
         "x": [
          "SAT"
         ],
         "xaxis": "x",
         "y": [
          1
         ],
         "yaxis": "y"
        },
        {
         "alignmentgroup": "True",
         "hovertemplate": "Publisher=Game Arts<br>Platform=%{x}<br>count=%{y}<extra></extra>",
         "legendgroup": "Game Arts",
         "marker": {
          "color": "#B6E880",
          "pattern": {
           "shape": ""
          }
         },
         "name": "Game Arts",
         "offsetgroup": "Game Arts",
         "orientation": "v",
         "showlegend": true,
         "textposition": "auto",
         "type": "bar",
         "x": [
          "GEN"
         ],
         "xaxis": "x",
         "y": [
          1
         ],
         "yaxis": "y"
        },
        {
         "alignmentgroup": "True",
         "hovertemplate": "Publisher=GameTek<br>Platform=%{x}<br>count=%{y}<extra></extra>",
         "legendgroup": "GameTek",
         "marker": {
          "color": "#FF97FF",
          "pattern": {
           "shape": ""
          }
         },
         "name": "GameTek",
         "offsetgroup": "GameTek",
         "orientation": "v",
         "showlegend": true,
         "textposition": "auto",
         "type": "bar",
         "x": [
          "N64"
         ],
         "xaxis": "x",
         "y": [
          1
         ],
         "yaxis": "y"
        },
        {
         "alignmentgroup": "True",
         "hovertemplate": "Publisher=Gamebridge<br>Platform=%{x}<br>count=%{y}<extra></extra>",
         "legendgroup": "Gamebridge",
         "marker": {
          "color": "#FECB52",
          "pattern": {
           "shape": ""
          }
         },
         "name": "Gamebridge",
         "offsetgroup": "Gamebridge",
         "orientation": "v",
         "showlegend": true,
         "textposition": "auto",
         "type": "bar",
         "x": [
          "PS3",
          "X360"
         ],
         "xaxis": "x",
         "y": [
          1,
          1
         ],
         "yaxis": "y"
        },
        {
         "alignmentgroup": "True",
         "hovertemplate": "Publisher=Gameloft<br>Platform=%{x}<br>count=%{y}<extra></extra>",
         "legendgroup": "Gameloft",
         "marker": {
          "color": "#636efa",
          "pattern": {
           "shape": ""
          }
         },
         "name": "Gameloft",
         "offsetgroup": "Gameloft",
         "orientation": "v",
         "showlegend": true,
         "textposition": "auto",
         "type": "bar",
         "x": [
          "DS"
         ],
         "xaxis": "x",
         "y": [
          1
         ],
         "yaxis": "y"
        },
        {
         "alignmentgroup": "True",
         "hovertemplate": "Publisher=General Entertainment<br>Platform=%{x}<br>count=%{y}<extra></extra>",
         "legendgroup": "General Entertainment",
         "marker": {
          "color": "#EF553B",
          "pattern": {
           "shape": ""
          }
         },
         "name": "General Entertainment",
         "offsetgroup": "General Entertainment",
         "orientation": "v",
         "showlegend": true,
         "textposition": "auto",
         "type": "bar",
         "x": [
          "PS"
         ],
         "xaxis": "x",
         "y": [
          1
         ],
         "yaxis": "y"
        },
        {
         "alignmentgroup": "True",
         "hovertemplate": "Publisher=Genterprise<br>Platform=%{x}<br>count=%{y}<extra></extra>",
         "legendgroup": "Genterprise",
         "marker": {
          "color": "#00cc96",
          "pattern": {
           "shape": ""
          }
         },
         "name": "Genterprise",
         "offsetgroup": "Genterprise",
         "orientation": "v",
         "showlegend": true,
         "textposition": "auto",
         "type": "bar",
         "x": [
          "DS"
         ],
         "xaxis": "x",
         "y": [
          1
         ],
         "yaxis": "y"
        },
        {
         "alignmentgroup": "True",
         "hovertemplate": "Publisher=Cygames<br>Platform=%{x}<br>count=%{y}<extra></extra>",
         "legendgroup": "Cygames",
         "marker": {
          "color": "#ab63fa",
          "pattern": {
           "shape": ""
          }
         },
         "name": "Cygames",
         "offsetgroup": "Cygames",
         "orientation": "v",
         "showlegend": true,
         "textposition": "auto",
         "type": "bar",
         "x": [
          "PSV"
         ],
         "xaxis": "x",
         "y": [
          1
         ],
         "yaxis": "y"
        },
        {
         "alignmentgroup": "True",
         "hovertemplate": "Publisher=Culture Publishers<br>Platform=%{x}<br>count=%{y}<extra></extra>",
         "legendgroup": "Culture Publishers",
         "marker": {
          "color": "#FFA15A",
          "pattern": {
           "shape": ""
          }
         },
         "name": "Culture Publishers",
         "offsetgroup": "Culture Publishers",
         "orientation": "v",
         "showlegend": true,
         "textposition": "auto",
         "type": "bar",
         "x": [
          "PS"
         ],
         "xaxis": "x",
         "y": [
          1
         ],
         "yaxis": "y"
        },
        {
         "alignmentgroup": "True",
         "hovertemplate": "Publisher=Adeline Software<br>Platform=%{x}<br>count=%{y}<extra></extra>",
         "legendgroup": "Adeline Software",
         "marker": {
          "color": "#19d3f3",
          "pattern": {
           "shape": ""
          }
         },
         "name": "Adeline Software",
         "offsetgroup": "Adeline Software",
         "orientation": "v",
         "showlegend": true,
         "textposition": "auto",
         "type": "bar",
         "x": [
          "PS"
         ],
         "xaxis": "x",
         "y": [
          1
         ],
         "yaxis": "y"
        },
        {
         "alignmentgroup": "True",
         "hovertemplate": "Publisher=Alternative Software<br>Platform=%{x}<br>count=%{y}<extra></extra>",
         "legendgroup": "Alternative Software",
         "marker": {
          "color": "#FF6692",
          "pattern": {
           "shape": ""
          }
         },
         "name": "Alternative Software",
         "offsetgroup": "Alternative Software",
         "orientation": "v",
         "showlegend": true,
         "textposition": "auto",
         "type": "bar",
         "x": [
          "PC",
          "PS3",
          "PS4",
          "Wii",
          "X360",
          "XOne"
         ],
         "xaxis": "x",
         "y": [
          1,
          1,
          1,
          1,
          1,
          1
         ],
         "yaxis": "y"
        },
        {
         "alignmentgroup": "True",
         "hovertemplate": "Publisher=Altron<br>Platform=%{x}<br>count=%{y}<extra></extra>",
         "legendgroup": "Altron",
         "marker": {
          "color": "#B6E880",
          "pattern": {
           "shape": ""
          }
         },
         "name": "Altron",
         "offsetgroup": "Altron",
         "orientation": "v",
         "showlegend": true,
         "textposition": "auto",
         "type": "bar",
         "x": [
          "GBA"
         ],
         "xaxis": "x",
         "y": [
          1
         ],
         "yaxis": "y"
        },
        {
         "alignmentgroup": "True",
         "hovertemplate": "Publisher=American Softworks<br>Platform=%{x}<br>count=%{y}<extra></extra>",
         "legendgroup": "American Softworks",
         "marker": {
          "color": "#FF97FF",
          "pattern": {
           "shape": ""
          }
         },
         "name": "American Softworks",
         "offsetgroup": "American Softworks",
         "orientation": "v",
         "showlegend": true,
         "textposition": "auto",
         "type": "bar",
         "x": [
          "PS"
         ],
         "xaxis": "x",
         "y": [
          1
         ],
         "yaxis": "y"
        },
        {
         "alignmentgroup": "True",
         "hovertemplate": "Publisher=Answer Software<br>Platform=%{x}<br>count=%{y}<extra></extra>",
         "legendgroup": "Answer Software",
         "marker": {
          "color": "#FECB52",
          "pattern": {
           "shape": ""
          }
         },
         "name": "Answer Software",
         "offsetgroup": "Answer Software",
         "orientation": "v",
         "showlegend": true,
         "textposition": "auto",
         "type": "bar",
         "x": [
          "2600"
         ],
         "xaxis": "x",
         "y": [
          1
         ],
         "yaxis": "y"
        },
        {
         "alignmentgroup": "True",
         "hovertemplate": "Publisher=Aques<br>Platform=%{x}<br>count=%{y}<extra></extra>",
         "legendgroup": "Aques",
         "marker": {
          "color": "#636efa",
          "pattern": {
           "shape": ""
          }
         },
         "name": "Aques",
         "offsetgroup": "Aques",
         "orientation": "v",
         "showlegend": true,
         "textposition": "auto",
         "type": "bar",
         "x": [
          "PS"
         ],
         "xaxis": "x",
         "y": [
          1
         ],
         "yaxis": "y"
        },
        {
         "alignmentgroup": "True",
         "hovertemplate": "Publisher=Aria<br>Platform=%{x}<br>count=%{y}<extra></extra>",
         "legendgroup": "Aria",
         "marker": {
          "color": "#EF553B",
          "pattern": {
           "shape": ""
          }
         },
         "name": "Aria",
         "offsetgroup": "Aria",
         "orientation": "v",
         "showlegend": true,
         "textposition": "auto",
         "type": "bar",
         "x": [
          "PS2"
         ],
         "xaxis": "x",
         "y": [
          1
         ],
         "yaxis": "y"
        },
        {
         "alignmentgroup": "True",
         "hovertemplate": "Publisher=Ascaron Entertainment<br>Platform=%{x}<br>count=%{y}<extra></extra>",
         "legendgroup": "Ascaron Entertainment",
         "marker": {
          "color": "#00cc96",
          "pattern": {
           "shape": ""
          }
         },
         "name": "Ascaron Entertainment",
         "offsetgroup": "Ascaron Entertainment",
         "orientation": "v",
         "showlegend": true,
         "textposition": "auto",
         "type": "bar",
         "x": [
          "PC"
         ],
         "xaxis": "x",
         "y": [
          1
         ],
         "yaxis": "y"
        },
        {
         "alignmentgroup": "True",
         "hovertemplate": "Publisher=Activision Blizzard<br>Platform=%{x}<br>count=%{y}<extra></extra>",
         "legendgroup": "Activision Blizzard",
         "marker": {
          "color": "#ab63fa",
          "pattern": {
           "shape": ""
          }
         },
         "name": "Activision Blizzard",
         "offsetgroup": "Activision Blizzard",
         "orientation": "v",
         "showlegend": true,
         "textposition": "auto",
         "type": "bar",
         "x": [
          "PC"
         ],
         "xaxis": "x",
         "y": [
          1
         ],
         "yaxis": "y"
        },
        {
         "alignmentgroup": "True",
         "hovertemplate": "Publisher=2D Boy<br>Platform=%{x}<br>count=%{y}<extra></extra>",
         "legendgroup": "2D Boy",
         "marker": {
          "color": "#FFA15A",
          "pattern": {
           "shape": ""
          }
         },
         "name": "2D Boy",
         "offsetgroup": "2D Boy",
         "orientation": "v",
         "showlegend": true,
         "textposition": "auto",
         "type": "bar",
         "x": [
          "PC"
         ],
         "xaxis": "x",
         "y": [
          1
         ],
         "yaxis": "y"
        },
        {
         "alignmentgroup": "True",
         "hovertemplate": "Publisher=49Games<br>Platform=%{x}<br>count=%{y}<extra></extra>",
         "legendgroup": "49Games",
         "marker": {
          "color": "#19d3f3",
          "pattern": {
           "shape": ""
          }
         },
         "name": "49Games",
         "offsetgroup": "49Games",
         "orientation": "v",
         "showlegend": true,
         "textposition": "auto",
         "type": "bar",
         "x": [
          "X360"
         ],
         "xaxis": "x",
         "y": [
          1
         ],
         "yaxis": "y"
        },
        {
         "alignmentgroup": "True",
         "hovertemplate": "Publisher=989 Sports<br>Platform=%{x}<br>count=%{y}<extra></extra>",
         "legendgroup": "989 Sports",
         "marker": {
          "color": "#FF6692",
          "pattern": {
           "shape": ""
          }
         },
         "name": "989 Sports",
         "offsetgroup": "989 Sports",
         "orientation": "v",
         "showlegend": true,
         "textposition": "auto",
         "type": "bar",
         "x": [
          "PS"
         ],
         "xaxis": "x",
         "y": [
          1
         ],
         "yaxis": "y"
        },
        {
         "alignmentgroup": "True",
         "hovertemplate": "Publisher=ASK<br>Platform=%{x}<br>count=%{y}<extra></extra>",
         "legendgroup": "ASK",
         "marker": {
          "color": "#B6E880",
          "pattern": {
           "shape": ""
          }
         },
         "name": "ASK",
         "offsetgroup": "ASK",
         "orientation": "v",
         "showlegend": true,
         "textposition": "auto",
         "type": "bar",
         "x": [
          "SAT"
         ],
         "xaxis": "x",
         "y": [
          1
         ],
         "yaxis": "y"
        },
        {
         "alignmentgroup": "True",
         "hovertemplate": "Publisher=Abylight<br>Platform=%{x}<br>count=%{y}<extra></extra>",
         "legendgroup": "Abylight",
         "marker": {
          "color": "#FF97FF",
          "pattern": {
           "shape": ""
          }
         },
         "name": "Abylight",
         "offsetgroup": "Abylight",
         "orientation": "v",
         "showlegend": true,
         "textposition": "auto",
         "type": "bar",
         "x": [
          "PS3"
         ],
         "xaxis": "x",
         "y": [
          1
         ],
         "yaxis": "y"
        },
        {
         "alignmentgroup": "True",
         "hovertemplate": "Publisher=Coconuts Japan<br>Platform=%{x}<br>count=%{y}<extra></extra>",
         "legendgroup": "Coconuts Japan",
         "marker": {
          "color": "#FECB52",
          "pattern": {
           "shape": ""
          }
         },
         "name": "Coconuts Japan",
         "offsetgroup": "Coconuts Japan",
         "orientation": "v",
         "showlegend": true,
         "textposition": "auto",
         "type": "bar",
         "x": [
          "SNES",
          "PS"
         ],
         "xaxis": "x",
         "y": [
          1,
          1
         ],
         "yaxis": "y"
        },
        {
         "alignmentgroup": "True",
         "hovertemplate": "Publisher=Cloud Imperium Games Corporation<br>Platform=%{x}<br>count=%{y}<extra></extra>",
         "legendgroup": "Cloud Imperium Games Corporation",
         "marker": {
          "color": "#636efa",
          "pattern": {
           "shape": ""
          }
         },
         "name": "Cloud Imperium Games Corporation",
         "offsetgroup": "Cloud Imperium Games Corporation",
         "orientation": "v",
         "showlegend": true,
         "textposition": "auto",
         "type": "bar",
         "x": [
          "PS3",
          "X360"
         ],
         "xaxis": "x",
         "y": [
          1,
          1
         ],
         "yaxis": "y"
        },
        {
         "alignmentgroup": "True",
         "hovertemplate": "Publisher=Codemasters Online<br>Platform=%{x}<br>count=%{y}<extra></extra>",
         "legendgroup": "Codemasters Online",
         "marker": {
          "color": "#EF553B",
          "pattern": {
           "shape": ""
          }
         },
         "name": "Codemasters Online",
         "offsetgroup": "Codemasters Online",
         "orientation": "v",
         "showlegend": true,
         "textposition": "auto",
         "type": "bar",
         "x": [
          "PC"
         ],
         "xaxis": "x",
         "y": [
          1
         ],
         "yaxis": "y"
        },
        {
         "alignmentgroup": "True",
         "hovertemplate": "Publisher=CokeM Interactive<br>Platform=%{x}<br>count=%{y}<extra></extra>",
         "legendgroup": "CokeM Interactive",
         "marker": {
          "color": "#00cc96",
          "pattern": {
           "shape": ""
          }
         },
         "name": "CokeM Interactive",
         "offsetgroup": "CokeM Interactive",
         "orientation": "v",
         "showlegend": true,
         "textposition": "auto",
         "type": "bar",
         "x": [
          "DS"
         ],
         "xaxis": "x",
         "y": [
          1
         ],
         "yaxis": "y"
        },
        {
         "alignmentgroup": "True",
         "hovertemplate": "Publisher=Commseed<br>Platform=%{x}<br>count=%{y}<extra></extra>",
         "legendgroup": "Commseed",
         "marker": {
          "color": "#ab63fa",
          "pattern": {
           "shape": ""
          }
         },
         "name": "Commseed",
         "offsetgroup": "Commseed",
         "orientation": "v",
         "showlegend": true,
         "textposition": "auto",
         "type": "bar",
         "x": [
          "DS"
         ],
         "xaxis": "x",
         "y": [
          1
         ],
         "yaxis": "y"
        },
        {
         "alignmentgroup": "True",
         "hovertemplate": "Publisher=CPG Products<br>Platform=%{x}<br>count=%{y}<extra></extra>",
         "legendgroup": "CPG Products",
         "marker": {
          "color": "#FFA15A",
          "pattern": {
           "shape": ""
          }
         },
         "name": "CPG Products",
         "offsetgroup": "CPG Products",
         "orientation": "v",
         "showlegend": true,
         "textposition": "auto",
         "type": "bar",
         "x": [
          "2600"
         ],
         "xaxis": "x",
         "y": [
          1
         ],
         "yaxis": "y"
        },
        {
         "alignmentgroup": "True",
         "hovertemplate": "Publisher=CCP<br>Platform=%{x}<br>count=%{y}<extra></extra>",
         "legendgroup": "CCP",
         "marker": {
          "color": "#19d3f3",
          "pattern": {
           "shape": ""
          }
         },
         "name": "CCP",
         "offsetgroup": "CCP",
         "orientation": "v",
         "showlegend": true,
         "textposition": "auto",
         "type": "bar",
         "x": [
          "PC"
         ],
         "xaxis": "x",
         "y": [
          1
         ],
         "yaxis": "y"
        },
        {
         "alignmentgroup": "True",
         "hovertemplate": "Publisher=Athena<br>Platform=%{x}<br>count=%{y}<extra></extra>",
         "legendgroup": "Athena",
         "marker": {
          "color": "#FF6692",
          "pattern": {
           "shape": ""
          }
         },
         "name": "Athena",
         "offsetgroup": "Athena",
         "orientation": "v",
         "showlegend": true,
         "textposition": "auto",
         "type": "bar",
         "x": [
          "N64",
          "PS2"
         ],
         "xaxis": "x",
         "y": [
          1,
          1
         ],
         "yaxis": "y"
        },
        {
         "alignmentgroup": "True",
         "hovertemplate": "Publisher=Axela<br>Platform=%{x}<br>count=%{y}<extra></extra>",
         "legendgroup": "Axela",
         "marker": {
          "color": "#B6E880",
          "pattern": {
           "shape": ""
          }
         },
         "name": "Axela",
         "offsetgroup": "Axela",
         "orientation": "v",
         "showlegend": true,
         "textposition": "auto",
         "type": "bar",
         "x": [
          "PS"
         ],
         "xaxis": "x",
         "y": [
          1
         ],
         "yaxis": "y"
        },
        {
         "alignmentgroup": "True",
         "hovertemplate": "Publisher=BPS<br>Platform=%{x}<br>count=%{y}<extra></extra>",
         "legendgroup": "BPS",
         "marker": {
          "color": "#FF97FF",
          "pattern": {
           "shape": ""
          }
         },
         "name": "BPS",
         "offsetgroup": "BPS",
         "orientation": "v",
         "showlegend": true,
         "textposition": "auto",
         "type": "bar",
         "x": [
          "NES",
          "SNES"
         ],
         "xaxis": "x",
         "y": [
          1,
          1
         ],
         "yaxis": "y"
        },
        {
         "alignmentgroup": "True",
         "hovertemplate": "Publisher=CBS Electronics<br>Platform=%{x}<br>count=%{y}<extra></extra>",
         "legendgroup": "CBS Electronics",
         "marker": {
          "color": "#FECB52",
          "pattern": {
           "shape": ""
          }
         },
         "name": "CBS Electronics",
         "offsetgroup": "CBS Electronics",
         "orientation": "v",
         "showlegend": true,
         "textposition": "auto",
         "type": "bar",
         "x": [
          "2600"
         ],
         "xaxis": "x",
         "y": [
          1
         ],
         "yaxis": "y"
        },
        {
         "alignmentgroup": "True",
         "hovertemplate": "Publisher=Berkeley<br>Platform=%{x}<br>count=%{y}<extra></extra>",
         "legendgroup": "Berkeley",
         "marker": {
          "color": "#636efa",
          "pattern": {
           "shape": ""
          }
         },
         "name": "Berkeley",
         "offsetgroup": "Berkeley",
         "orientation": "v",
         "showlegend": true,
         "textposition": "auto",
         "type": "bar",
         "x": [
          "PS"
         ],
         "xaxis": "x",
         "y": [
          1
         ],
         "yaxis": "y"
        },
        {
         "alignmentgroup": "True",
         "hovertemplate": "Publisher=Black Label Games<br>Platform=%{x}<br>count=%{y}<extra></extra>",
         "legendgroup": "Black Label Games",
         "marker": {
          "color": "#EF553B",
          "pattern": {
           "shape": ""
          }
         },
         "name": "Black Label Games",
         "offsetgroup": "Black Label Games",
         "orientation": "v",
         "showlegend": true,
         "textposition": "auto",
         "type": "bar",
         "x": [
          "PS2"
         ],
         "xaxis": "x",
         "y": [
          1
         ],
         "yaxis": "y"
        },
        {
         "alignmentgroup": "True",
         "hovertemplate": "Publisher=Bohemia Interactive<br>Platform=%{x}<br>count=%{y}<extra></extra>",
         "legendgroup": "Bohemia Interactive",
         "marker": {
          "color": "#00cc96",
          "pattern": {
           "shape": ""
          }
         },
         "name": "Bohemia Interactive",
         "offsetgroup": "Bohemia Interactive",
         "orientation": "v",
         "showlegend": true,
         "textposition": "auto",
         "type": "bar",
         "x": [
          "PC"
         ],
         "xaxis": "x",
         "y": [
          1
         ],
         "yaxis": "y"
        },
        {
         "alignmentgroup": "True",
         "hovertemplate": "Publisher=Bomb<br>Platform=%{x}<br>count=%{y}<extra></extra>",
         "legendgroup": "Bomb",
         "marker": {
          "color": "#ab63fa",
          "pattern": {
           "shape": ""
          }
         },
         "name": "Bomb",
         "offsetgroup": "Bomb",
         "orientation": "v",
         "showlegend": true,
         "textposition": "auto",
         "type": "bar",
         "x": [
          "2600"
         ],
         "xaxis": "x",
         "y": [
          1
         ],
         "yaxis": "y"
        },
        {
         "alignmentgroup": "True",
         "hovertemplate": "Publisher=Boost On<br>Platform=%{x}<br>count=%{y}<extra></extra>",
         "legendgroup": "Boost On",
         "marker": {
          "color": "#FFA15A",
          "pattern": {
           "shape": ""
          }
         },
         "name": "Boost On",
         "offsetgroup": "Boost On",
         "orientation": "v",
         "showlegend": true,
         "textposition": "auto",
         "type": "bar",
         "x": [
          "PSP"
         ],
         "xaxis": "x",
         "y": [
          1
         ],
         "yaxis": "y"
        },
        {
         "alignmentgroup": "True",
         "hovertemplate": "Publisher=BushiRoad<br>Platform=%{x}<br>count=%{y}<extra></extra>",
         "legendgroup": "BushiRoad",
         "marker": {
          "color": "#19d3f3",
          "pattern": {
           "shape": ""
          }
         },
         "name": "BushiRoad",
         "offsetgroup": "BushiRoad",
         "orientation": "v",
         "showlegend": true,
         "textposition": "auto",
         "type": "bar",
         "x": [
          "PSP"
         ],
         "xaxis": "x",
         "y": [
          1
         ],
         "yaxis": "y"
        },
        {
         "alignmentgroup": "True",
         "hovertemplate": "Publisher=Ongakukan<br>Platform=%{x}<br>count=%{y}<extra></extra>",
         "legendgroup": "Ongakukan",
         "marker": {
          "color": "#FF6692",
          "pattern": {
           "shape": ""
          }
         },
         "name": "Ongakukan",
         "offsetgroup": "Ongakukan",
         "orientation": "v",
         "showlegend": true,
         "textposition": "auto",
         "type": "bar",
         "x": [
          "PS3"
         ],
         "xaxis": "x",
         "y": [
          1
         ],
         "yaxis": "y"
        },
        {
         "alignmentgroup": "True",
         "hovertemplate": "Publisher=Navarre Corp<br>Platform=%{x}<br>count=%{y}<extra></extra>",
         "legendgroup": "Navarre Corp",
         "marker": {
          "color": "#B6E880",
          "pattern": {
           "shape": ""
          }
         },
         "name": "Navarre Corp",
         "offsetgroup": "Navarre Corp",
         "orientation": "v",
         "showlegend": true,
         "textposition": "auto",
         "type": "bar",
         "x": [
          "X360"
         ],
         "xaxis": "x",
         "y": [
          1
         ],
         "yaxis": "y"
        },
        {
         "alignmentgroup": "True",
         "hovertemplate": "Publisher=Naxat Soft<br>Platform=%{x}<br>count=%{y}<extra></extra>",
         "legendgroup": "Naxat Soft",
         "marker": {
          "color": "#FF97FF",
          "pattern": {
           "shape": ""
          }
         },
         "name": "Naxat Soft",
         "offsetgroup": "Naxat Soft",
         "orientation": "v",
         "showlegend": true,
         "textposition": "auto",
         "type": "bar",
         "x": [
          "PS2"
         ],
         "xaxis": "x",
         "y": [
          1
         ],
         "yaxis": "y"
        },
        {
         "alignmentgroup": "True",
         "hovertemplate": "Publisher=New<br>Platform=%{x}<br>count=%{y}<extra></extra>",
         "legendgroup": "New",
         "marker": {
          "color": "#FECB52",
          "pattern": {
           "shape": ""
          }
         },
         "name": "New",
         "offsetgroup": "New",
         "orientation": "v",
         "showlegend": true,
         "textposition": "auto",
         "type": "bar",
         "x": [
          "PS"
         ],
         "xaxis": "x",
         "y": [
          1
         ],
         "yaxis": "y"
        },
        {
         "alignmentgroup": "True",
         "hovertemplate": "Publisher=New World Computing<br>Platform=%{x}<br>count=%{y}<extra></extra>",
         "legendgroup": "New World Computing",
         "marker": {
          "color": "#636efa",
          "pattern": {
           "shape": ""
          }
         },
         "name": "New World Computing",
         "offsetgroup": "New World Computing",
         "orientation": "v",
         "showlegend": true,
         "textposition": "auto",
         "type": "bar",
         "x": [
          "PC"
         ],
         "xaxis": "x",
         "y": [
          1
         ],
         "yaxis": "y"
        },
        {
         "alignmentgroup": "True",
         "hovertemplate": "Publisher=Nexon<br>Platform=%{x}<br>count=%{y}<extra></extra>",
         "legendgroup": "Nexon",
         "marker": {
          "color": "#EF553B",
          "pattern": {
           "shape": ""
          }
         },
         "name": "Nexon",
         "offsetgroup": "Nexon",
         "orientation": "v",
         "showlegend": true,
         "textposition": "auto",
         "type": "bar",
         "x": [
          "DS"
         ],
         "xaxis": "x",
         "y": [
          1
         ],
         "yaxis": "y"
        },
        {
         "alignmentgroup": "True",
         "hovertemplate": "Publisher=Nichibutsu<br>Platform=%{x}<br>count=%{y}<extra></extra>",
         "legendgroup": "Nichibutsu",
         "marker": {
          "color": "#00cc96",
          "pattern": {
           "shape": ""
          }
         },
         "name": "Nichibutsu",
         "offsetgroup": "Nichibutsu",
         "orientation": "v",
         "showlegend": true,
         "textposition": "auto",
         "type": "bar",
         "x": [
          "SNES"
         ],
         "xaxis": "x",
         "y": [
          1
         ],
         "yaxis": "y"
        },
        {
         "alignmentgroup": "True",
         "hovertemplate": "Publisher=Nippon Amuse<br>Platform=%{x}<br>count=%{y}<extra></extra>",
         "legendgroup": "Nippon Amuse",
         "marker": {
          "color": "#ab63fa",
          "pattern": {
           "shape": ""
          }
         },
         "name": "Nippon Amuse",
         "offsetgroup": "Nippon Amuse",
         "orientation": "v",
         "showlegend": true,
         "textposition": "auto",
         "type": "bar",
         "x": [
          "PS2"
         ],
         "xaxis": "x",
         "y": [
          1
         ],
         "yaxis": "y"
        },
        {
         "alignmentgroup": "True",
         "hovertemplate": "Publisher=Nitroplus<br>Platform=%{x}<br>count=%{y}<extra></extra>",
         "legendgroup": "Nitroplus",
         "marker": {
          "color": "#FFA15A",
          "pattern": {
           "shape": ""
          }
         },
         "name": "Nitroplus",
         "offsetgroup": "Nitroplus",
         "orientation": "v",
         "showlegend": true,
         "textposition": "auto",
         "type": "bar",
         "x": [
          "PS3",
          "PSV"
         ],
         "xaxis": "x",
         "y": [
          1,
          1
         ],
         "yaxis": "y"
        },
        {
         "alignmentgroup": "True",
         "hovertemplate": "Publisher=NovaLogic<br>Platform=%{x}<br>count=%{y}<extra></extra>",
         "legendgroup": "NovaLogic",
         "marker": {
          "color": "#19d3f3",
          "pattern": {
           "shape": ""
          }
         },
         "name": "NovaLogic",
         "offsetgroup": "NovaLogic",
         "orientation": "v",
         "showlegend": true,
         "textposition": "auto",
         "type": "bar",
         "x": [
          "PC",
          "PS2",
          "XB"
         ],
         "xaxis": "x",
         "y": [
          1,
          1,
          1
         ],
         "yaxis": "y"
        },
        {
         "alignmentgroup": "True",
         "hovertemplate": "Publisher=Number None<br>Platform=%{x}<br>count=%{y}<extra></extra>",
         "legendgroup": "Number None",
         "marker": {
          "color": "#FF6692",
          "pattern": {
           "shape": ""
          }
         },
         "name": "Number None",
         "offsetgroup": "Number None",
         "orientation": "v",
         "showlegend": true,
         "textposition": "auto",
         "type": "bar",
         "x": [
          "PC"
         ],
         "xaxis": "x",
         "y": [
          1
         ],
         "yaxis": "y"
        },
        {
         "alignmentgroup": "True",
         "hovertemplate": "Publisher=NEC<br>Platform=%{x}<br>count=%{y}<extra></extra>",
         "legendgroup": "NEC",
         "marker": {
          "color": "#B6E880",
          "pattern": {
           "shape": ""
          }
         },
         "name": "NEC",
         "offsetgroup": "NEC",
         "orientation": "v",
         "showlegend": true,
         "textposition": "auto",
         "type": "bar",
         "x": [
          "TG16",
          "SAT",
          "PCFX"
         ],
         "xaxis": "x",
         "y": [
          1,
          1,
          1
         ],
         "yaxis": "y"
        },
        {
         "alignmentgroup": "True",
         "hovertemplate": "Publisher=Mojang<br>Platform=%{x}<br>count=%{y}<extra></extra>",
         "legendgroup": "Mojang",
         "marker": {
          "color": "#FF97FF",
          "pattern": {
           "shape": ""
          }
         },
         "name": "Mojang",
         "offsetgroup": "Mojang",
         "orientation": "v",
         "showlegend": true,
         "textposition": "auto",
         "type": "bar",
         "x": [
          "PS3",
          "PC",
          "PS4",
          "X360",
          "XOne"
         ],
         "xaxis": "x",
         "y": [
          1,
          1,
          1,
          1,
          1
         ],
         "yaxis": "y"
        },
        {
         "alignmentgroup": "True",
         "hovertemplate": "Publisher=Milestone S.r.l<br>Platform=%{x}<br>count=%{y}<extra></extra>",
         "legendgroup": "Milestone S.r.l",
         "marker": {
          "color": "#FECB52",
          "pattern": {
           "shape": ""
          }
         },
         "name": "Milestone S.r.l",
         "offsetgroup": "Milestone S.r.l",
         "orientation": "v",
         "showlegend": true,
         "textposition": "auto",
         "type": "bar",
         "x": [
          "XOne",
          "PS4"
         ],
         "xaxis": "x",
         "y": [
          1,
          1
         ],
         "yaxis": "y"
        },
        {
         "alignmentgroup": "True",
         "hovertemplate": "Publisher=Minato Station<br>Platform=%{x}<br>count=%{y}<extra></extra>",
         "legendgroup": "Minato Station",
         "marker": {
          "color": "#636efa",
          "pattern": {
           "shape": ""
          }
         },
         "name": "Minato Station",
         "offsetgroup": "Minato Station",
         "orientation": "v",
         "showlegend": true,
         "textposition": "auto",
         "type": "bar",
         "x": [
          "PS2",
          "PS3",
          "PSV"
         ],
         "xaxis": "x",
         "y": [
          1,
          1,
          1
         ],
         "yaxis": "y"
        },
        {
         "alignmentgroup": "True",
         "hovertemplate": "Publisher=Mirai Shounen<br>Platform=%{x}<br>count=%{y}<extra></extra>",
         "legendgroup": "Mirai Shounen",
         "marker": {
          "color": "#EF553B",
          "pattern": {
           "shape": ""
          }
         },
         "name": "Mirai Shounen",
         "offsetgroup": "Mirai Shounen",
         "orientation": "v",
         "showlegend": true,
         "textposition": "auto",
         "type": "bar",
         "x": [
          "DS"
         ],
         "xaxis": "x",
         "y": [
          1
         ],
         "yaxis": "y"
        },
        {
         "alignmentgroup": "True",
         "hovertemplate": "Publisher=Mitsui<br>Platform=%{x}<br>count=%{y}<extra></extra>",
         "legendgroup": "Mitsui",
         "marker": {
          "color": "#00cc96",
          "pattern": {
           "shape": ""
          }
         },
         "name": "Mitsui",
         "offsetgroup": "Mitsui",
         "orientation": "v",
         "showlegend": true,
         "textposition": "auto",
         "type": "bar",
         "x": [
          "N64"
         ],
         "xaxis": "x",
         "y": [
          1
         ],
         "yaxis": "y"
        },
        {
         "alignmentgroup": "True",
         "hovertemplate": "Publisher=Monte Christo Multimedia<br>Platform=%{x}<br>count=%{y}<extra></extra>",
         "legendgroup": "Monte Christo Multimedia",
         "marker": {
          "color": "#ab63fa",
          "pattern": {
           "shape": ""
          }
         },
         "name": "Monte Christo Multimedia",
         "offsetgroup": "Monte Christo Multimedia",
         "orientation": "v",
         "showlegend": true,
         "textposition": "auto",
         "type": "bar",
         "x": [
          "PC"
         ],
         "xaxis": "x",
         "y": [
          1
         ],
         "yaxis": "y"
        },
        {
         "alignmentgroup": "True",
         "hovertemplate": "Publisher=Mycom<br>Platform=%{x}<br>count=%{y}<extra></extra>",
         "legendgroup": "Mycom",
         "marker": {
          "color": "#FFA15A",
          "pattern": {
           "shape": ""
          }
         },
         "name": "Mycom",
         "offsetgroup": "Mycom",
         "orientation": "v",
         "showlegend": true,
         "textposition": "auto",
         "type": "bar",
         "x": [
          "DS"
         ],
         "xaxis": "x",
         "y": [
          1
         ],
         "yaxis": "y"
        },
        {
         "alignmentgroup": "True",
         "hovertemplate": "Publisher=Myelin Media<br>Platform=%{x}<br>count=%{y}<extra></extra>",
         "legendgroup": "Myelin Media",
         "marker": {
          "color": "#19d3f3",
          "pattern": {
           "shape": ""
          }
         },
         "name": "Myelin Media",
         "offsetgroup": "Myelin Media",
         "orientation": "v",
         "showlegend": true,
         "textposition": "auto",
         "type": "bar",
         "x": [
          "PS2",
          "PSP",
          "XB"
         ],
         "xaxis": "x",
         "y": [
          1,
          1,
          1
         ],
         "yaxis": "y"
        },
        {
         "alignmentgroup": "True",
         "hovertemplate": "Publisher=Mystique<br>Platform=%{x}<br>count=%{y}<extra></extra>",
         "legendgroup": "Mystique",
         "marker": {
          "color": "#FF6692",
          "pattern": {
           "shape": ""
          }
         },
         "name": "Mystique",
         "offsetgroup": "Mystique",
         "orientation": "v",
         "showlegend": true,
         "textposition": "auto",
         "type": "bar",
         "x": [
          "2600"
         ],
         "xaxis": "x",
         "y": [
          1
         ],
         "yaxis": "y"
        },
        {
         "alignmentgroup": "True",
         "hovertemplate": "Publisher=NDA Productions<br>Platform=%{x}<br>count=%{y}<extra></extra>",
         "legendgroup": "NDA Productions",
         "marker": {
          "color": "#B6E880",
          "pattern": {
           "shape": ""
          }
         },
         "name": "NDA Productions",
         "offsetgroup": "NDA Productions",
         "orientation": "v",
         "showlegend": true,
         "textposition": "auto",
         "type": "bar",
         "x": [
          "GC"
         ],
         "xaxis": "x",
         "y": [
          1
         ],
         "yaxis": "y"
        },
        {
         "alignmentgroup": "True",
         "hovertemplate": "Publisher=On Demand<br>Platform=%{x}<br>count=%{y}<extra></extra>",
         "legendgroup": "On Demand",
         "marker": {
          "color": "#FF97FF",
          "pattern": {
           "shape": ""
          }
         },
         "name": "On Demand",
         "offsetgroup": "On Demand",
         "orientation": "v",
         "showlegend": true,
         "textposition": "auto",
         "type": "bar",
         "x": [
          "PS"
         ],
         "xaxis": "x",
         "y": [
          1
         ],
         "yaxis": "y"
        },
        {
         "alignmentgroup": "True",
         "hovertemplate": "Publisher=Origin Systems<br>Platform=%{x}<br>count=%{y}<extra></extra>",
         "legendgroup": "Origin Systems",
         "marker": {
          "color": "#FECB52",
          "pattern": {
           "shape": ""
          }
         },
         "name": "Origin Systems",
         "offsetgroup": "Origin Systems",
         "orientation": "v",
         "showlegend": true,
         "textposition": "auto",
         "type": "bar",
         "x": [
          "PS"
         ],
         "xaxis": "x",
         "y": [
          1
         ],
         "yaxis": "y"
        },
        {
         "alignmentgroup": "True",
         "hovertemplate": "Publisher=Otomate<br>Platform=%{x}<br>count=%{y}<extra></extra>",
         "legendgroup": "Otomate",
         "marker": {
          "color": "#636efa",
          "pattern": {
           "shape": ""
          }
         },
         "name": "Otomate",
         "offsetgroup": "Otomate",
         "orientation": "v",
         "showlegend": true,
         "textposition": "auto",
         "type": "bar",
         "x": [
          "PSP"
         ],
         "xaxis": "x",
         "y": [
          1
         ],
         "yaxis": "y"
        },
        {
         "alignmentgroup": "True",
         "hovertemplate": "Publisher=Plenty<br>Platform=%{x}<br>count=%{y}<extra></extra>",
         "legendgroup": "Plenty",
         "marker": {
          "color": "#EF553B",
          "pattern": {
           "shape": ""
          }
         },
         "name": "Plenty",
         "offsetgroup": "Plenty",
         "orientation": "v",
         "showlegend": true,
         "textposition": "auto",
         "type": "bar",
         "x": [
          "DS"
         ],
         "xaxis": "x",
         "y": [
          1
         ],
         "yaxis": "y"
        },
        {
         "alignmentgroup": "True",
         "hovertemplate": "Publisher=Pony Canyon<br>Platform=%{x}<br>count=%{y}<extra></extra>",
         "legendgroup": "Pony Canyon",
         "marker": {
          "color": "#00cc96",
          "pattern": {
           "shape": ""
          }
         },
         "name": "Pony Canyon",
         "offsetgroup": "Pony Canyon",
         "orientation": "v",
         "showlegend": true,
         "textposition": "auto",
         "type": "bar",
         "x": [
          "PS"
         ],
         "xaxis": "x",
         "y": [
          1
         ],
         "yaxis": "y"
        },
        {
         "alignmentgroup": "True",
         "hovertemplate": "Publisher=PopTop Software<br>Platform=%{x}<br>count=%{y}<extra></extra>",
         "legendgroup": "PopTop Software",
         "marker": {
          "color": "#ab63fa",
          "pattern": {
           "shape": ""
          }
         },
         "name": "PopTop Software",
         "offsetgroup": "PopTop Software",
         "orientation": "v",
         "showlegend": true,
         "textposition": "auto",
         "type": "bar",
         "x": [
          "PS"
         ],
         "xaxis": "x",
         "y": [
          1
         ],
         "yaxis": "y"
        },
        {
         "alignmentgroup": "True",
         "hovertemplate": "Publisher=Pow<br>Platform=%{x}<br>count=%{y}<extra></extra>",
         "legendgroup": "Pow",
         "marker": {
          "color": "#FFA15A",
          "pattern": {
           "shape": ""
          }
         },
         "name": "Pow",
         "offsetgroup": "Pow",
         "orientation": "v",
         "showlegend": true,
         "textposition": "auto",
         "type": "bar",
         "x": [
          "SNES"
         ],
         "xaxis": "x",
         "y": [
          1
         ],
         "yaxis": "y"
        },
        {
         "alignmentgroup": "True",
         "hovertemplate": "Publisher=Quelle<br>Platform=%{x}<br>count=%{y}<extra></extra>",
         "legendgroup": "Quelle",
         "marker": {
          "color": "#19d3f3",
          "pattern": {
           "shape": ""
          }
         },
         "name": "Quelle",
         "offsetgroup": "Quelle",
         "orientation": "v",
         "showlegend": true,
         "textposition": "auto",
         "type": "bar",
         "x": [
          "2600"
         ],
         "xaxis": "x",
         "y": [
          1
         ],
         "yaxis": "y"
        },
        {
         "alignmentgroup": "True",
         "hovertemplate": "Publisher=Quest<br>Platform=%{x}<br>count=%{y}<extra></extra>",
         "legendgroup": "Quest",
         "marker": {
          "color": "#FF6692",
          "pattern": {
           "shape": ""
          }
         },
         "name": "Quest",
         "offsetgroup": "Quest",
         "orientation": "v",
         "showlegend": true,
         "textposition": "auto",
         "type": "bar",
         "x": [
          "SNES"
         ],
         "xaxis": "x",
         "y": [
          1
         ],
         "yaxis": "y"
        },
        {
         "alignmentgroup": "True",
         "hovertemplate": "Publisher=Quintet<br>Platform=%{x}<br>count=%{y}<extra></extra>",
         "legendgroup": "Quintet",
         "marker": {
          "color": "#B6E880",
          "pattern": {
           "shape": ""
          }
         },
         "name": "Quintet",
         "offsetgroup": "Quintet",
         "orientation": "v",
         "showlegend": true,
         "textposition": "auto",
         "type": "bar",
         "x": [
          "SAT"
         ],
         "xaxis": "x",
         "y": [
          1
         ],
         "yaxis": "y"
        },
        {
         "alignmentgroup": "True",
         "hovertemplate": "Publisher=RED Entertainment<br>Platform=%{x}<br>count=%{y}<extra></extra>",
         "legendgroup": "RED Entertainment",
         "marker": {
          "color": "#FF97FF",
          "pattern": {
           "shape": ""
          }
         },
         "name": "RED Entertainment",
         "offsetgroup": "RED Entertainment",
         "orientation": "v",
         "showlegend": true,
         "textposition": "auto",
         "type": "bar",
         "x": [
          "PS2"
         ],
         "xaxis": "x",
         "y": [
          1
         ],
         "yaxis": "y"
        },
        {
         "alignmentgroup": "True",
         "hovertemplate": "Publisher=Rain Games<br>Platform=%{x}<br>count=%{y}<extra></extra>",
         "legendgroup": "Rain Games",
         "marker": {
          "color": "#FECB52",
          "pattern": {
           "shape": ""
          }
         },
         "name": "Rain Games",
         "offsetgroup": "Rain Games",
         "orientation": "v",
         "showlegend": true,
         "textposition": "auto",
         "type": "bar",
         "x": [
          "PSV"
         ],
         "xaxis": "x",
         "y": [
          1
         ],
         "yaxis": "y"
        },
        {
         "alignmentgroup": "True",
         "hovertemplate": "Publisher=Rebellion Developments<br>Platform=%{x}<br>count=%{y}<extra></extra>",
         "legendgroup": "Rebellion Developments",
         "marker": {
          "color": "#636efa",
          "pattern": {
           "shape": ""
          }
         },
         "name": "Rebellion Developments",
         "offsetgroup": "Rebellion Developments",
         "orientation": "v",
         "showlegend": true,
         "textposition": "auto",
         "type": "bar",
         "x": [
          "PS4",
          "XOne"
         ],
         "xaxis": "x",
         "y": [
          1,
          1
         ],
         "yaxis": "y"
        },
        {
         "alignmentgroup": "True",
         "hovertemplate": "Publisher=Revolution (Japan)<br>Platform=%{x}<br>count=%{y}<extra></extra>",
         "legendgroup": "Revolution (Japan)",
         "marker": {
          "color": "#EF553B",
          "pattern": {
           "shape": ""
          }
         },
         "name": "Revolution (Japan)",
         "offsetgroup": "Revolution (Japan)",
         "orientation": "v",
         "showlegend": true,
         "textposition": "auto",
         "type": "bar",
         "x": [
          "PS2"
         ],
         "xaxis": "x",
         "y": [
          1
         ],
         "yaxis": "y"
        },
        {
         "alignmentgroup": "True",
         "hovertemplate": "Publisher=Revolution Software<br>Platform=%{x}<br>count=%{y}<extra></extra>",
         "legendgroup": "Revolution Software",
         "marker": {
          "color": "#00cc96",
          "pattern": {
           "shape": ""
          }
         },
         "name": "Revolution Software",
         "offsetgroup": "Revolution Software",
         "orientation": "v",
         "showlegend": true,
         "textposition": "auto",
         "type": "bar",
         "x": [
          "PS4",
          "XOne"
         ],
         "xaxis": "x",
         "y": [
          1,
          1
         ],
         "yaxis": "y"
        },
        {
         "alignmentgroup": "True",
         "hovertemplate": "Publisher=Riverhillsoft<br>Platform=%{x}<br>count=%{y}<extra></extra>",
         "legendgroup": "Riverhillsoft",
         "marker": {
          "color": "#ab63fa",
          "pattern": {
           "shape": ""
          }
         },
         "name": "Riverhillsoft",
         "offsetgroup": "Riverhillsoft",
         "orientation": "v",
         "showlegend": true,
         "textposition": "auto",
         "type": "bar",
         "x": [
          "PS"
         ],
         "xaxis": "x",
         "y": [
          1
         ],
         "yaxis": "y"
        },
        {
         "alignmentgroup": "True",
         "hovertemplate": "Publisher=Playmore<br>Platform=%{x}<br>count=%{y}<extra></extra>",
         "legendgroup": "Playmore",
         "marker": {
          "color": "#FFA15A",
          "pattern": {
           "shape": ""
          }
         },
         "name": "Playmore",
         "offsetgroup": "Playmore",
         "orientation": "v",
         "showlegend": true,
         "textposition": "auto",
         "type": "bar",
         "x": [
          "PS2"
         ],
         "xaxis": "x",
         "y": [
          1
         ],
         "yaxis": "y"
        },
        {
         "alignmentgroup": "True",
         "hovertemplate": "Publisher=Playmates<br>Platform=%{x}<br>count=%{y}<extra></extra>",
         "legendgroup": "Playmates",
         "marker": {
          "color": "#19d3f3",
          "pattern": {
           "shape": ""
          }
         },
         "name": "Playmates",
         "offsetgroup": "Playmates",
         "orientation": "v",
         "showlegend": true,
         "textposition": "auto",
         "type": "bar",
         "x": [
          "PS"
         ],
         "xaxis": "x",
         "y": [
          1
         ],
         "yaxis": "y"
        },
        {
         "alignmentgroup": "True",
         "hovertemplate": "Publisher=Paon Corporation<br>Platform=%{x}<br>count=%{y}<extra></extra>",
         "legendgroup": "Paon Corporation",
         "marker": {
          "color": "#FF6692",
          "pattern": {
           "shape": ""
          }
         },
         "name": "Paon Corporation",
         "offsetgroup": "Paon Corporation",
         "orientation": "v",
         "showlegend": true,
         "textposition": "auto",
         "type": "bar",
         "x": [
          "PS3"
         ],
         "xaxis": "x",
         "y": [
          1
         ],
         "yaxis": "y"
        },
        {
         "alignmentgroup": "True",
         "hovertemplate": "Publisher=PM Studios<br>Platform=%{x}<br>count=%{y}<extra></extra>",
         "legendgroup": "PM Studios",
         "marker": {
          "color": "#B6E880",
          "pattern": {
           "shape": ""
          }
         },
         "name": "PM Studios",
         "offsetgroup": "PM Studios",
         "orientation": "v",
         "showlegend": true,
         "textposition": "auto",
         "type": "bar",
         "x": [
          "PSP"
         ],
         "xaxis": "x",
         "y": [
          1
         ],
         "yaxis": "y"
        },
        {
         "alignmentgroup": "True",
         "hovertemplate": "Publisher=Pacific Century Cyber Works<br>Platform=%{x}<br>count=%{y}<extra></extra>",
         "legendgroup": "Pacific Century Cyber Works",
         "marker": {
          "color": "#FF97FF",
          "pattern": {
           "shape": ""
          }
         },
         "name": "Pacific Century Cyber Works",
         "offsetgroup": "Pacific Century Cyber Works",
         "orientation": "v",
         "showlegend": true,
         "textposition": "auto",
         "type": "bar",
         "x": [
          "PS2"
         ],
         "xaxis": "x",
         "y": [
          1
         ],
         "yaxis": "y"
        },
        {
         "alignmentgroup": "True",
         "hovertemplate": "Publisher=Pack In Soft<br>Platform=%{x}<br>count=%{y}<extra></extra>",
         "legendgroup": "Pack In Soft",
         "marker": {
          "color": "#FECB52",
          "pattern": {
           "shape": ""
          }
         },
         "name": "Pack In Soft",
         "offsetgroup": "Pack In Soft",
         "orientation": "v",
         "showlegend": true,
         "textposition": "auto",
         "type": "bar",
         "x": [
          "N64"
         ],
         "xaxis": "x",
         "y": [
          1
         ],
         "yaxis": "y"
        },
        {
         "alignmentgroup": "True",
         "hovertemplate": "Publisher=Palcom<br>Platform=%{x}<br>count=%{y}<extra></extra>",
         "legendgroup": "Palcom",
         "marker": {
          "color": "#636efa",
          "pattern": {
           "shape": ""
          }
         },
         "name": "Palcom",
         "offsetgroup": "Palcom",
         "orientation": "v",
         "showlegend": true,
         "textposition": "auto",
         "type": "bar",
         "x": [
          "NES"
         ],
         "xaxis": "x",
         "y": [
          1
         ],
         "yaxis": "y"
        },
        {
         "alignmentgroup": "True",
         "hovertemplate": "Publisher=Panther Software<br>Platform=%{x}<br>count=%{y}<extra></extra>",
         "legendgroup": "Panther Software",
         "marker": {
          "color": "#EF553B",
          "pattern": {
           "shape": ""
          }
         },
         "name": "Panther Software",
         "offsetgroup": "Panther Software",
         "orientation": "v",
         "showlegend": true,
         "textposition": "auto",
         "type": "bar",
         "x": [
          "PS"
         ],
         "xaxis": "x",
         "y": [
          1
         ],
         "yaxis": "y"
        },
        {
         "alignmentgroup": "True",
         "hovertemplate": "Publisher=Paradox Development<br>Platform=%{x}<br>count=%{y}<extra></extra>",
         "legendgroup": "Paradox Development",
         "marker": {
          "color": "#00cc96",
          "pattern": {
           "shape": ""
          }
         },
         "name": "Paradox Development",
         "offsetgroup": "Paradox Development",
         "orientation": "v",
         "showlegend": true,
         "textposition": "auto",
         "type": "bar",
         "x": [
          "PC"
         ],
         "xaxis": "x",
         "y": [
          1
         ],
         "yaxis": "y"
        },
        {
         "alignmentgroup": "True",
         "hovertemplate": "Publisher=Performance Designed Products<br>Platform=%{x}<br>count=%{y}<extra></extra>",
         "legendgroup": "Performance Designed Products",
         "marker": {
          "color": "#ab63fa",
          "pattern": {
           "shape": ""
          }
         },
         "name": "Performance Designed Products",
         "offsetgroup": "Performance Designed Products",
         "orientation": "v",
         "showlegend": true,
         "textposition": "auto",
         "type": "bar",
         "x": [
          "DS",
          "Wii"
         ],
         "xaxis": "x",
         "y": [
          1,
          1
         ],
         "yaxis": "y"
        },
        {
         "alignmentgroup": "True",
         "hovertemplate": "Publisher=Phantagram<br>Platform=%{x}<br>count=%{y}<extra></extra>",
         "legendgroup": "Phantagram",
         "marker": {
          "color": "#FFA15A",
          "pattern": {
           "shape": ""
          }
         },
         "name": "Phantagram",
         "offsetgroup": "Phantagram",
         "orientation": "v",
         "showlegend": true,
         "textposition": "auto",
         "type": "bar",
         "x": [
          "XB"
         ],
         "xaxis": "x",
         "y": [
          1
         ],
         "yaxis": "y"
        },
        {
         "alignmentgroup": "True",
         "hovertemplate": "Publisher=Phantom EFX<br>Platform=%{x}<br>count=%{y}<extra></extra>",
         "legendgroup": "Phantom EFX",
         "marker": {
          "color": "#19d3f3",
          "pattern": {
           "shape": ""
          }
         },
         "name": "Phantom EFX",
         "offsetgroup": "Phantom EFX",
         "orientation": "v",
         "showlegend": true,
         "textposition": "auto",
         "type": "bar",
         "x": [
          "X360"
         ],
         "xaxis": "x",
         "y": [
          1
         ],
         "yaxis": "y"
        },
        {
         "alignmentgroup": "True",
         "hovertemplate": "Publisher=Phoenix Games<br>Platform=%{x}<br>count=%{y}<extra></extra>",
         "legendgroup": "Phoenix Games",
         "marker": {
          "color": "#FF6692",
          "pattern": {
           "shape": ""
          }
         },
         "name": "Phoenix Games",
         "offsetgroup": "Phoenix Games",
         "orientation": "v",
         "showlegend": true,
         "textposition": "auto",
         "type": "bar",
         "x": [
          "DS"
         ],
         "xaxis": "x",
         "y": [
          1
         ],
         "yaxis": "y"
        },
        {
         "alignmentgroup": "True",
         "hovertemplate": "Publisher=Piacci<br>Platform=%{x}<br>count=%{y}<extra></extra>",
         "legendgroup": "Piacci",
         "marker": {
          "color": "#B6E880",
          "pattern": {
           "shape": ""
          }
         },
         "name": "Piacci",
         "offsetgroup": "Piacci",
         "orientation": "v",
         "showlegend": true,
         "textposition": "auto",
         "type": "bar",
         "x": [
          "PSP"
         ],
         "xaxis": "x",
         "y": [
          1
         ],
         "yaxis": "y"
        },
        {
         "alignmentgroup": "True",
         "hovertemplate": "Publisher=Milestone<br>Platform=%{x}<br>count=%{y}<extra></extra>",
         "legendgroup": "Milestone",
         "marker": {
          "color": "#FF97FF",
          "pattern": {
           "shape": ""
          }
         },
         "name": "Milestone",
         "offsetgroup": "Milestone",
         "orientation": "v",
         "showlegend": true,
         "textposition": "auto",
         "type": "bar",
         "x": [
          "Wii"
         ],
         "xaxis": "x",
         "y": [
          1
         ],
         "yaxis": "y"
        },
        {
         "alignmentgroup": "True",
         "hovertemplate": "Publisher=Just Flight<br>Platform=%{x}<br>count=%{y}<extra></extra>",
         "legendgroup": "Just Flight",
         "marker": {
          "color": "#FECB52",
          "pattern": {
           "shape": ""
          }
         },
         "name": "Just Flight",
         "offsetgroup": "Just Flight",
         "orientation": "v",
         "showlegend": true,
         "textposition": "auto",
         "type": "bar",
         "x": [
          "PC"
         ],
         "xaxis": "x",
         "y": [
          1
         ],
         "yaxis": "y"
        },
        {
         "alignmentgroup": "True",
         "hovertemplate": "Publisher=KSS<br>Platform=%{x}<br>count=%{y}<extra></extra>",
         "legendgroup": "KSS",
         "marker": {
          "color": "#636efa",
          "pattern": {
           "shape": ""
          }
         },
         "name": "KSS",
         "offsetgroup": "KSS",
         "orientation": "v",
         "showlegend": true,
         "textposition": "auto",
         "type": "bar",
         "x": [
          "SNES"
         ],
         "xaxis": "x",
         "y": [
          1
         ],
         "yaxis": "y"
        },
        {
         "alignmentgroup": "True",
         "hovertemplate": "Publisher=Kamui<br>Platform=%{x}<br>count=%{y}<extra></extra>",
         "legendgroup": "Kamui",
         "marker": {
          "color": "#EF553B",
          "pattern": {
           "shape": ""
          }
         },
         "name": "Kamui",
         "offsetgroup": "Kamui",
         "orientation": "v",
         "showlegend": true,
         "textposition": "auto",
         "type": "bar",
         "x": [
          "DS"
         ],
         "xaxis": "x",
         "y": [
          1
         ],
         "yaxis": "y"
        },
        {
         "alignmentgroup": "True",
         "hovertemplate": "Publisher=Kando Games<br>Platform=%{x}<br>count=%{y}<extra></extra>",
         "legendgroup": "Kando Games",
         "marker": {
          "color": "#00cc96",
          "pattern": {
           "shape": ""
          }
         },
         "name": "Kando Games",
         "offsetgroup": "Kando Games",
         "orientation": "v",
         "showlegend": true,
         "textposition": "auto",
         "type": "bar",
         "x": [
          "PS2"
         ],
         "xaxis": "x",
         "y": [
          1
         ],
         "yaxis": "y"
        },
        {
         "alignmentgroup": "True",
         "hovertemplate": "Publisher=Karin Entertainment<br>Platform=%{x}<br>count=%{y}<extra></extra>",
         "legendgroup": "Karin Entertainment",
         "marker": {
          "color": "#ab63fa",
          "pattern": {
           "shape": ""
          }
         },
         "name": "Karin Entertainment",
         "offsetgroup": "Karin Entertainment",
         "orientation": "v",
         "showlegend": true,
         "textposition": "auto",
         "type": "bar",
         "x": [
          "PSP"
         ],
         "xaxis": "x",
         "y": [
          1
         ],
         "yaxis": "y"
        },
        {
         "alignmentgroup": "True",
         "hovertemplate": "Publisher=Kids Station<br>Platform=%{x}<br>count=%{y}<extra></extra>",
         "legendgroup": "Kids Station",
         "marker": {
          "color": "#FFA15A",
          "pattern": {
           "shape": ""
          }
         },
         "name": "Kids Station",
         "offsetgroup": "Kids Station",
         "orientation": "v",
         "showlegend": true,
         "textposition": "auto",
         "type": "bar",
         "x": [
          "DS"
         ],
         "xaxis": "x",
         "y": [
          1
         ],
         "yaxis": "y"
        },
        {
         "alignmentgroup": "True",
         "hovertemplate": "Publisher=King Records<br>Platform=%{x}<br>count=%{y}<extra></extra>",
         "legendgroup": "King Records",
         "marker": {
          "color": "#19d3f3",
          "pattern": {
           "shape": ""
          }
         },
         "name": "King Records",
         "offsetgroup": "King Records",
         "orientation": "v",
         "showlegend": true,
         "textposition": "auto",
         "type": "bar",
         "x": [
          "GBA"
         ],
         "xaxis": "x",
         "y": [
          1
         ],
         "yaxis": "y"
        },
        {
         "alignmentgroup": "True",
         "hovertemplate": "Publisher=Ivolgamus<br>Platform=%{x}<br>count=%{y}<extra></extra>",
         "legendgroup": "Ivolgamus",
         "marker": {
          "color": "#FF6692",
          "pattern": {
           "shape": ""
          }
         },
         "name": "Ivolgamus",
         "offsetgroup": "Ivolgamus",
         "orientation": "v",
         "showlegend": true,
         "textposition": "auto",
         "type": "bar",
         "x": [
          "PSP"
         ],
         "xaxis": "x",
         "y": [
          1
         ],
         "yaxis": "y"
        },
        {
         "alignmentgroup": "True",
         "hovertemplate": "Publisher=ITT Family Games<br>Platform=%{x}<br>count=%{y}<extra></extra>",
         "legendgroup": "ITT Family Games",
         "marker": {
          "color": "#B6E880",
          "pattern": {
           "shape": ""
          }
         },
         "name": "ITT Family Games",
         "offsetgroup": "ITT Family Games",
         "orientation": "v",
         "showlegend": true,
         "textposition": "auto",
         "type": "bar",
         "x": [
          "2600"
         ],
         "xaxis": "x",
         "y": [
          1
         ],
         "yaxis": "y"
        },
        {
         "alignmentgroup": "True",
         "hovertemplate": "Publisher=Illusion Softworks<br>Platform=%{x}<br>count=%{y}<extra></extra>",
         "legendgroup": "Illusion Softworks",
         "marker": {
          "color": "#FF97FF",
          "pattern": {
           "shape": ""
          }
         },
         "name": "Illusion Softworks",
         "offsetgroup": "Illusion Softworks",
         "orientation": "v",
         "showlegend": true,
         "textposition": "auto",
         "type": "bar",
         "x": [
          "PS2"
         ],
         "xaxis": "x",
         "y": [
          1
         ],
         "yaxis": "y"
        },
        {
         "alignmentgroup": "True",
         "hovertemplate": "Publisher=Imadio<br>Platform=%{x}<br>count=%{y}<extra></extra>",
         "legendgroup": "Imadio",
         "marker": {
          "color": "#FECB52",
          "pattern": {
           "shape": ""
          }
         },
         "name": "Imadio",
         "offsetgroup": "Imadio",
         "orientation": "v",
         "showlegend": true,
         "textposition": "auto",
         "type": "bar",
         "x": [
          "SAT"
         ],
         "xaxis": "x",
         "y": [
          1
         ],
         "yaxis": "y"
        },
        {
         "alignmentgroup": "True",
         "hovertemplate": "Publisher=Image Epoch<br>Platform=%{x}<br>count=%{y}<extra></extra>",
         "legendgroup": "Image Epoch",
         "marker": {
          "color": "#636efa",
          "pattern": {
           "shape": ""
          }
         },
         "name": "Image Epoch",
         "offsetgroup": "Image Epoch",
         "orientation": "v",
         "showlegend": true,
         "textposition": "auto",
         "type": "bar",
         "x": [
          "PSP"
         ],
         "xaxis": "x",
         "y": [
          1
         ],
         "yaxis": "y"
        },
        {
         "alignmentgroup": "True",
         "hovertemplate": "Publisher=Imageworks<br>Platform=%{x}<br>count=%{y}<extra></extra>",
         "legendgroup": "Imageworks",
         "marker": {
          "color": "#EF553B",
          "pattern": {
           "shape": ""
          }
         },
         "name": "Imageworks",
         "offsetgroup": "Imageworks",
         "orientation": "v",
         "showlegend": true,
         "textposition": "auto",
         "type": "bar",
         "x": [
          "3DO"
         ],
         "xaxis": "x",
         "y": [
          1
         ],
         "yaxis": "y"
        },
        {
         "alignmentgroup": "True",
         "hovertemplate": "Publisher=Imax<br>Platform=%{x}<br>count=%{y}<extra></extra>",
         "legendgroup": "Imax",
         "marker": {
          "color": "#00cc96",
          "pattern": {
           "shape": ""
          }
         },
         "name": "Imax",
         "offsetgroup": "Imax",
         "orientation": "v",
         "showlegend": true,
         "textposition": "auto",
         "type": "bar",
         "x": [
          "SNES"
         ],
         "xaxis": "x",
         "y": [
          1
         ],
         "yaxis": "y"
        },
        {
         "alignmentgroup": "True",
         "hovertemplate": "Publisher=Insomniac Games<br>Platform=%{x}<br>count=%{y}<extra></extra>",
         "legendgroup": "Insomniac Games",
         "marker": {
          "color": "#ab63fa",
          "pattern": {
           "shape": ""
          }
         },
         "name": "Insomniac Games",
         "offsetgroup": "Insomniac Games",
         "orientation": "v",
         "showlegend": true,
         "textposition": "auto",
         "type": "bar",
         "x": [
          "PC",
          "PS4",
          "XOne"
         ],
         "xaxis": "x",
         "y": [
          1,
          1,
          1
         ],
         "yaxis": "y"
        },
        {
         "alignmentgroup": "True",
         "hovertemplate": "Publisher=Interchannel-Holon<br>Platform=%{x}<br>count=%{y}<extra></extra>",
         "legendgroup": "Interchannel-Holon",
         "marker": {
          "color": "#FFA15A",
          "pattern": {
           "shape": ""
          }
         },
         "name": "Interchannel-Holon",
         "offsetgroup": "Interchannel-Holon",
         "orientation": "v",
         "showlegend": true,
         "textposition": "auto",
         "type": "bar",
         "x": [
          "PS2"
         ],
         "xaxis": "x",
         "y": [
          1
         ],
         "yaxis": "y"
        },
        {
         "alignmentgroup": "True",
         "hovertemplate": "Publisher=Intergrow<br>Platform=%{x}<br>count=%{y}<extra></extra>",
         "legendgroup": "Intergrow",
         "marker": {
          "color": "#19d3f3",
          "pattern": {
           "shape": ""
          }
         },
         "name": "Intergrow",
         "offsetgroup": "Intergrow",
         "orientation": "v",
         "showlegend": true,
         "textposition": "auto",
         "type": "bar",
         "x": [
          "3DS"
         ],
         "xaxis": "x",
         "y": [
          1
         ],
         "yaxis": "y"
        },
        {
         "alignmentgroup": "True",
         "hovertemplate": "Publisher=Interplay Productions<br>Platform=%{x}<br>count=%{y}<extra></extra>",
         "legendgroup": "Interplay Productions",
         "marker": {
          "color": "#FF6692",
          "pattern": {
           "shape": ""
          }
         },
         "name": "Interplay Productions",
         "offsetgroup": "Interplay Productions",
         "orientation": "v",
         "showlegend": true,
         "textposition": "auto",
         "type": "bar",
         "x": [
          "PS"
         ],
         "xaxis": "x",
         "y": [
          1
         ],
         "yaxis": "y"
        },
        {
         "alignmentgroup": "True",
         "hovertemplate": "Publisher=Interworks Unlimited, Inc.<br>Platform=%{x}<br>count=%{y}<extra></extra>",
         "legendgroup": "Interworks Unlimited, Inc.",
         "marker": {
          "color": "#B6E880",
          "pattern": {
           "shape": ""
          }
         },
         "name": "Interworks Unlimited, Inc.",
         "offsetgroup": "Interworks Unlimited, Inc.",
         "orientation": "v",
         "showlegend": true,
         "textposition": "auto",
         "type": "bar",
         "x": [
          "PS3"
         ],
         "xaxis": "x",
         "y": [
          1
         ],
         "yaxis": "y"
        },
        {
         "alignmentgroup": "True",
         "hovertemplate": "Publisher=Inti Creates<br>Platform=%{x}<br>count=%{y}<extra></extra>",
         "legendgroup": "Inti Creates",
         "marker": {
          "color": "#FF97FF",
          "pattern": {
           "shape": ""
          }
         },
         "name": "Inti Creates",
         "offsetgroup": "Inti Creates",
         "orientation": "v",
         "showlegend": true,
         "textposition": "auto",
         "type": "bar",
         "x": [
          "3DS"
         ],
         "xaxis": "x",
         "y": [
          1
         ],
         "yaxis": "y"
        },
        {
         "alignmentgroup": "True",
         "hovertemplate": "Publisher=Introversion Software<br>Platform=%{x}<br>count=%{y}<extra></extra>",
         "legendgroup": "Introversion Software",
         "marker": {
          "color": "#FECB52",
          "pattern": {
           "shape": ""
          }
         },
         "name": "Introversion Software",
         "offsetgroup": "Introversion Software",
         "orientation": "v",
         "showlegend": true,
         "textposition": "auto",
         "type": "bar",
         "x": [
          "PS4"
         ],
         "xaxis": "x",
         "y": [
          1
         ],
         "yaxis": "y"
        },
        {
         "alignmentgroup": "True",
         "hovertemplate": "Publisher=Kokopeli Digital Studios<br>Platform=%{x}<br>count=%{y}<extra></extra>",
         "legendgroup": "Kokopeli Digital Studios",
         "marker": {
          "color": "#636efa",
          "pattern": {
           "shape": ""
          }
         },
         "name": "Kokopeli Digital Studios",
         "offsetgroup": "Kokopeli Digital Studios",
         "orientation": "v",
         "showlegend": true,
         "textposition": "auto",
         "type": "bar",
         "x": [
          "PS"
         ],
         "xaxis": "x",
         "y": [
          1
         ],
         "yaxis": "y"
        },
        {
         "alignmentgroup": "True",
         "hovertemplate": "Publisher=Media Entertainment<br>Platform=%{x}<br>count=%{y}<extra></extra>",
         "legendgroup": "Media Entertainment",
         "marker": {
          "color": "#EF553B",
          "pattern": {
           "shape": ""
          }
         },
         "name": "Media Entertainment",
         "offsetgroup": "Media Entertainment",
         "orientation": "v",
         "showlegend": true,
         "textposition": "auto",
         "type": "bar",
         "x": [
          "PS2"
         ],
         "xaxis": "x",
         "y": [
          1
         ],
         "yaxis": "y"
        },
        {
         "alignmentgroup": "True",
         "hovertemplate": "Publisher=Masque Publishing<br>Platform=%{x}<br>count=%{y}<extra></extra>",
         "legendgroup": "Masque Publishing",
         "marker": {
          "color": "#00cc96",
          "pattern": {
           "shape": ""
          }
         },
         "name": "Masque Publishing",
         "offsetgroup": "Masque Publishing",
         "orientation": "v",
         "showlegend": true,
         "textposition": "auto",
         "type": "bar",
         "x": [
          "PC"
         ],
         "xaxis": "x",
         "y": [
          1
         ],
         "yaxis": "y"
        },
        {
         "alignmentgroup": "True",
         "hovertemplate": "Publisher=Max Five<br>Platform=%{x}<br>count=%{y}<extra></extra>",
         "legendgroup": "Max Five",
         "marker": {
          "color": "#ab63fa",
          "pattern": {
           "shape": ""
          }
         },
         "name": "Max Five",
         "offsetgroup": "Max Five",
         "orientation": "v",
         "showlegend": true,
         "textposition": "auto",
         "type": "bar",
         "x": [
          "PS"
         ],
         "xaxis": "x",
         "y": [
          1
         ],
         "yaxis": "y"
        },
        {
         "alignmentgroup": "True",
         "hovertemplate": "Publisher=Maximum Family Games<br>Platform=%{x}<br>count=%{y}<extra></extra>",
         "legendgroup": "Maximum Family Games",
         "marker": {
          "color": "#FFA15A",
          "pattern": {
           "shape": ""
          }
         },
         "name": "Maximum Family Games",
         "offsetgroup": "Maximum Family Games",
         "orientation": "v",
         "showlegend": true,
         "textposition": "auto",
         "type": "bar",
         "x": [
          "3DS"
         ],
         "xaxis": "x",
         "y": [
          1
         ],
         "yaxis": "y"
        },
        {
         "alignmentgroup": "True",
         "hovertemplate": "Publisher=Media Factory<br>Platform=%{x}<br>count=%{y}<extra></extra>",
         "legendgroup": "Media Factory",
         "marker": {
          "color": "#19d3f3",
          "pattern": {
           "shape": ""
          }
         },
         "name": "Media Factory",
         "offsetgroup": "Media Factory",
         "orientation": "v",
         "showlegend": true,
         "textposition": "auto",
         "type": "bar",
         "x": [
          "GB",
          "N64"
         ],
         "xaxis": "x",
         "y": [
          1,
          1
         ],
         "yaxis": "y"
        },
        {
         "alignmentgroup": "True",
         "hovertemplate": "Publisher=Marvel Entertainment<br>Platform=%{x}<br>count=%{y}<extra></extra>",
         "legendgroup": "Marvel Entertainment",
         "marker": {
          "color": "#FF6692",
          "pattern": {
           "shape": ""
          }
         },
         "name": "Marvel Entertainment",
         "offsetgroup": "Marvel Entertainment",
         "orientation": "v",
         "showlegend": true,
         "textposition": "auto",
         "type": "bar",
         "x": [
          "PSV"
         ],
         "xaxis": "x",
         "y": [
          1
         ],
         "yaxis": "y"
        },
        {
         "alignmentgroup": "True",
         "hovertemplate": "Publisher=MediaQuest<br>Platform=%{x}<br>count=%{y}<extra></extra>",
         "legendgroup": "MediaQuest",
         "marker": {
          "color": "#B6E880",
          "pattern": {
           "shape": ""
          }
         },
         "name": "MediaQuest",
         "offsetgroup": "MediaQuest",
         "orientation": "v",
         "showlegend": true,
         "textposition": "auto",
         "type": "bar",
         "x": [
          "PS"
         ],
         "xaxis": "x",
         "y": [
          1
         ],
         "yaxis": "y"
        },
        {
         "alignmentgroup": "True",
         "hovertemplate": "Publisher=Men-A-Vision<br>Platform=%{x}<br>count=%{y}<extra></extra>",
         "legendgroup": "Men-A-Vision",
         "marker": {
          "color": "#FF97FF",
          "pattern": {
           "shape": ""
          }
         },
         "name": "Men-A-Vision",
         "offsetgroup": "Men-A-Vision",
         "orientation": "v",
         "showlegend": true,
         "textposition": "auto",
         "type": "bar",
         "x": [
          "2600"
         ],
         "xaxis": "x",
         "y": [
          1
         ],
         "yaxis": "y"
        },
        {
         "alignmentgroup": "True",
         "hovertemplate": "Publisher=Merscom LLC<br>Platform=%{x}<br>count=%{y}<extra></extra>",
         "legendgroup": "Merscom LLC",
         "marker": {
          "color": "#FECB52",
          "pattern": {
           "shape": ""
          }
         },
         "name": "Merscom LLC",
         "offsetgroup": "Merscom LLC",
         "orientation": "v",
         "showlegend": true,
         "textposition": "auto",
         "type": "bar",
         "x": [
          "PC"
         ],
         "xaxis": "x",
         "y": [
          1
         ],
         "yaxis": "y"
        },
        {
         "alignmentgroup": "True",
         "hovertemplate": "Publisher=Michaelsoft<br>Platform=%{x}<br>count=%{y}<extra></extra>",
         "legendgroup": "Michaelsoft",
         "marker": {
          "color": "#636efa",
          "pattern": {
           "shape": ""
          }
         },
         "name": "Michaelsoft",
         "offsetgroup": "Michaelsoft",
         "orientation": "v",
         "showlegend": true,
         "textposition": "auto",
         "type": "bar",
         "x": [
          "PS2"
         ],
         "xaxis": "x",
         "y": [
          1
         ],
         "yaxis": "y"
        },
        {
         "alignmentgroup": "True",
         "hovertemplate": "Publisher=Marvelous Games<br>Platform=%{x}<br>count=%{y}<extra></extra>",
         "legendgroup": "Marvelous Games",
         "marker": {
          "color": "#EF553B",
          "pattern": {
           "shape": ""
          }
         },
         "name": "Marvelous Games",
         "offsetgroup": "Marvelous Games",
         "orientation": "v",
         "showlegend": true,
         "textposition": "auto",
         "type": "bar",
         "x": [
          "PSV"
         ],
         "xaxis": "x",
         "y": [
          1
         ],
         "yaxis": "y"
        },
        {
         "alignmentgroup": "True",
         "hovertemplate": "Publisher=Kool Kizz<br>Platform=%{x}<br>count=%{y}<extra></extra>",
         "legendgroup": "Kool Kizz",
         "marker": {
          "color": "#00cc96",
          "pattern": {
           "shape": ""
          }
         },
         "name": "Kool Kizz",
         "offsetgroup": "Kool Kizz",
         "orientation": "v",
         "showlegend": true,
         "textposition": "auto",
         "type": "bar",
         "x": [
          "XB"
         ],
         "xaxis": "x",
         "y": [
          1
         ],
         "yaxis": "y"
        },
        {
         "alignmentgroup": "True",
         "hovertemplate": "Publisher=Lighthouse Interactive<br>Platform=%{x}<br>count=%{y}<extra></extra>",
         "legendgroup": "Lighthouse Interactive",
         "marker": {
          "color": "#ab63fa",
          "pattern": {
           "shape": ""
          }
         },
         "name": "Lighthouse Interactive",
         "offsetgroup": "Lighthouse Interactive",
         "orientation": "v",
         "showlegend": true,
         "textposition": "auto",
         "type": "bar",
         "x": [
          "PC"
         ],
         "xaxis": "x",
         "y": [
          1
         ],
         "yaxis": "y"
        },
        {
         "alignmentgroup": "True",
         "hovertemplate": "Publisher=Locus<br>Platform=%{x}<br>count=%{y}<extra></extra>",
         "legendgroup": "Locus",
         "marker": {
          "color": "#FFA15A",
          "pattern": {
           "shape": ""
          }
         },
         "name": "Locus",
         "offsetgroup": "Locus",
         "orientation": "v",
         "showlegend": true,
         "textposition": "auto",
         "type": "bar",
         "x": [
          "PS"
         ],
         "xaxis": "x",
         "y": [
          1
         ],
         "yaxis": "y"
        },
        {
         "alignmentgroup": "True",
         "hovertemplate": "Publisher=MLB.com<br>Platform=%{x}<br>count=%{y}<extra></extra>",
         "legendgroup": "MLB.com",
         "marker": {
          "color": "#19d3f3",
          "pattern": {
           "shape": ""
          }
         },
         "name": "MLB.com",
         "offsetgroup": "MLB.com",
         "orientation": "v",
         "showlegend": true,
         "textposition": "auto",
         "type": "bar",
         "x": [
          "XOne"
         ],
         "xaxis": "x",
         "y": [
          1
         ],
         "yaxis": "y"
        },
        {
         "alignmentgroup": "True",
         "hovertemplate": "Publisher=Mad Catz<br>Platform=%{x}<br>count=%{y}<extra></extra>",
         "legendgroup": "Mad Catz",
         "marker": {
          "color": "#FF6692",
          "pattern": {
           "shape": ""
          }
         },
         "name": "Mad Catz",
         "offsetgroup": "Mad Catz",
         "orientation": "v",
         "showlegend": true,
         "textposition": "auto",
         "type": "bar",
         "x": [
          "GC",
          "X360",
          "XB"
         ],
         "xaxis": "x",
         "y": [
          1,
          1,
          1
         ],
         "yaxis": "y"
        },
        {
         "alignmentgroup": "True",
         "hovertemplate": "Publisher=Magical Company<br>Platform=%{x}<br>count=%{y}<extra></extra>",
         "legendgroup": "Magical Company",
         "marker": {
          "color": "#B6E880",
          "pattern": {
           "shape": ""
          }
         },
         "name": "Magical Company",
         "offsetgroup": "Magical Company",
         "orientation": "v",
         "showlegend": true,
         "textposition": "auto",
         "type": "bar",
         "x": [
          "PS"
         ],
         "xaxis": "x",
         "y": [
          1
         ],
         "yaxis": "y"
        }
       ],
       "layout": {
        "barmode": "relative",
        "legend": {
         "title": {
          "text": "Publisher"
         },
         "tracegroupgap": 0
        },
        "margin": {
         "b": 30,
         "l": 10,
         "r": 10,
         "t": 50
        },
        "template": {
         "data": {
          "bar": [
           {
            "error_x": {
             "color": "#2a3f5f"
            },
            "error_y": {
             "color": "#2a3f5f"
            },
            "marker": {
             "line": {
              "color": "#E5ECF6",
              "width": 0.5
             },
             "pattern": {
              "fillmode": "overlay",
              "size": 10,
              "solidity": 0.2
             }
            },
            "type": "bar"
           }
          ],
          "barpolar": [
           {
            "marker": {
             "line": {
              "color": "#E5ECF6",
              "width": 0.5
             },
             "pattern": {
              "fillmode": "overlay",
              "size": 10,
              "solidity": 0.2
             }
            },
            "type": "barpolar"
           }
          ],
          "carpet": [
           {
            "aaxis": {
             "endlinecolor": "#2a3f5f",
             "gridcolor": "white",
             "linecolor": "white",
             "minorgridcolor": "white",
             "startlinecolor": "#2a3f5f"
            },
            "baxis": {
             "endlinecolor": "#2a3f5f",
             "gridcolor": "white",
             "linecolor": "white",
             "minorgridcolor": "white",
             "startlinecolor": "#2a3f5f"
            },
            "type": "carpet"
           }
          ],
          "choropleth": [
           {
            "colorbar": {
             "outlinewidth": 0,
             "ticks": ""
            },
            "type": "choropleth"
           }
          ],
          "contour": [
           {
            "colorbar": {
             "outlinewidth": 0,
             "ticks": ""
            },
            "colorscale": [
             [
              0,
              "#0d0887"
             ],
             [
              0.1111111111111111,
              "#46039f"
             ],
             [
              0.2222222222222222,
              "#7201a8"
             ],
             [
              0.3333333333333333,
              "#9c179e"
             ],
             [
              0.4444444444444444,
              "#bd3786"
             ],
             [
              0.5555555555555556,
              "#d8576b"
             ],
             [
              0.6666666666666666,
              "#ed7953"
             ],
             [
              0.7777777777777778,
              "#fb9f3a"
             ],
             [
              0.8888888888888888,
              "#fdca26"
             ],
             [
              1,
              "#f0f921"
             ]
            ],
            "type": "contour"
           }
          ],
          "contourcarpet": [
           {
            "colorbar": {
             "outlinewidth": 0,
             "ticks": ""
            },
            "type": "contourcarpet"
           }
          ],
          "heatmap": [
           {
            "colorbar": {
             "outlinewidth": 0,
             "ticks": ""
            },
            "colorscale": [
             [
              0,
              "#0d0887"
             ],
             [
              0.1111111111111111,
              "#46039f"
             ],
             [
              0.2222222222222222,
              "#7201a8"
             ],
             [
              0.3333333333333333,
              "#9c179e"
             ],
             [
              0.4444444444444444,
              "#bd3786"
             ],
             [
              0.5555555555555556,
              "#d8576b"
             ],
             [
              0.6666666666666666,
              "#ed7953"
             ],
             [
              0.7777777777777778,
              "#fb9f3a"
             ],
             [
              0.8888888888888888,
              "#fdca26"
             ],
             [
              1,
              "#f0f921"
             ]
            ],
            "type": "heatmap"
           }
          ],
          "heatmapgl": [
           {
            "colorbar": {
             "outlinewidth": 0,
             "ticks": ""
            },
            "colorscale": [
             [
              0,
              "#0d0887"
             ],
             [
              0.1111111111111111,
              "#46039f"
             ],
             [
              0.2222222222222222,
              "#7201a8"
             ],
             [
              0.3333333333333333,
              "#9c179e"
             ],
             [
              0.4444444444444444,
              "#bd3786"
             ],
             [
              0.5555555555555556,
              "#d8576b"
             ],
             [
              0.6666666666666666,
              "#ed7953"
             ],
             [
              0.7777777777777778,
              "#fb9f3a"
             ],
             [
              0.8888888888888888,
              "#fdca26"
             ],
             [
              1,
              "#f0f921"
             ]
            ],
            "type": "heatmapgl"
           }
          ],
          "histogram": [
           {
            "marker": {
             "pattern": {
              "fillmode": "overlay",
              "size": 10,
              "solidity": 0.2
             }
            },
            "type": "histogram"
           }
          ],
          "histogram2d": [
           {
            "colorbar": {
             "outlinewidth": 0,
             "ticks": ""
            },
            "colorscale": [
             [
              0,
              "#0d0887"
             ],
             [
              0.1111111111111111,
              "#46039f"
             ],
             [
              0.2222222222222222,
              "#7201a8"
             ],
             [
              0.3333333333333333,
              "#9c179e"
             ],
             [
              0.4444444444444444,
              "#bd3786"
             ],
             [
              0.5555555555555556,
              "#d8576b"
             ],
             [
              0.6666666666666666,
              "#ed7953"
             ],
             [
              0.7777777777777778,
              "#fb9f3a"
             ],
             [
              0.8888888888888888,
              "#fdca26"
             ],
             [
              1,
              "#f0f921"
             ]
            ],
            "type": "histogram2d"
           }
          ],
          "histogram2dcontour": [
           {
            "colorbar": {
             "outlinewidth": 0,
             "ticks": ""
            },
            "colorscale": [
             [
              0,
              "#0d0887"
             ],
             [
              0.1111111111111111,
              "#46039f"
             ],
             [
              0.2222222222222222,
              "#7201a8"
             ],
             [
              0.3333333333333333,
              "#9c179e"
             ],
             [
              0.4444444444444444,
              "#bd3786"
             ],
             [
              0.5555555555555556,
              "#d8576b"
             ],
             [
              0.6666666666666666,
              "#ed7953"
             ],
             [
              0.7777777777777778,
              "#fb9f3a"
             ],
             [
              0.8888888888888888,
              "#fdca26"
             ],
             [
              1,
              "#f0f921"
             ]
            ],
            "type": "histogram2dcontour"
           }
          ],
          "mesh3d": [
           {
            "colorbar": {
             "outlinewidth": 0,
             "ticks": ""
            },
            "type": "mesh3d"
           }
          ],
          "parcoords": [
           {
            "line": {
             "colorbar": {
              "outlinewidth": 0,
              "ticks": ""
             }
            },
            "type": "parcoords"
           }
          ],
          "pie": [
           {
            "automargin": true,
            "type": "pie"
           }
          ],
          "scatter": [
           {
            "fillpattern": {
             "fillmode": "overlay",
             "size": 10,
             "solidity": 0.2
            },
            "type": "scatter"
           }
          ],
          "scatter3d": [
           {
            "line": {
             "colorbar": {
              "outlinewidth": 0,
              "ticks": ""
             }
            },
            "marker": {
             "colorbar": {
              "outlinewidth": 0,
              "ticks": ""
             }
            },
            "type": "scatter3d"
           }
          ],
          "scattercarpet": [
           {
            "marker": {
             "colorbar": {
              "outlinewidth": 0,
              "ticks": ""
             }
            },
            "type": "scattercarpet"
           }
          ],
          "scattergeo": [
           {
            "marker": {
             "colorbar": {
              "outlinewidth": 0,
              "ticks": ""
             }
            },
            "type": "scattergeo"
           }
          ],
          "scattergl": [
           {
            "marker": {
             "colorbar": {
              "outlinewidth": 0,
              "ticks": ""
             }
            },
            "type": "scattergl"
           }
          ],
          "scattermapbox": [
           {
            "marker": {
             "colorbar": {
              "outlinewidth": 0,
              "ticks": ""
             }
            },
            "type": "scattermapbox"
           }
          ],
          "scatterpolar": [
           {
            "marker": {
             "colorbar": {
              "outlinewidth": 0,
              "ticks": ""
             }
            },
            "type": "scatterpolar"
           }
          ],
          "scatterpolargl": [
           {
            "marker": {
             "colorbar": {
              "outlinewidth": 0,
              "ticks": ""
             }
            },
            "type": "scatterpolargl"
           }
          ],
          "scatterternary": [
           {
            "marker": {
             "colorbar": {
              "outlinewidth": 0,
              "ticks": ""
             }
            },
            "type": "scatterternary"
           }
          ],
          "surface": [
           {
            "colorbar": {
             "outlinewidth": 0,
             "ticks": ""
            },
            "colorscale": [
             [
              0,
              "#0d0887"
             ],
             [
              0.1111111111111111,
              "#46039f"
             ],
             [
              0.2222222222222222,
              "#7201a8"
             ],
             [
              0.3333333333333333,
              "#9c179e"
             ],
             [
              0.4444444444444444,
              "#bd3786"
             ],
             [
              0.5555555555555556,
              "#d8576b"
             ],
             [
              0.6666666666666666,
              "#ed7953"
             ],
             [
              0.7777777777777778,
              "#fb9f3a"
             ],
             [
              0.8888888888888888,
              "#fdca26"
             ],
             [
              1,
              "#f0f921"
             ]
            ],
            "type": "surface"
           }
          ],
          "table": [
           {
            "cells": {
             "fill": {
              "color": "#EBF0F8"
             },
             "line": {
              "color": "white"
             }
            },
            "header": {
             "fill": {
              "color": "#C8D4E3"
             },
             "line": {
              "color": "white"
             }
            },
            "type": "table"
           }
          ]
         },
         "layout": {
          "annotationdefaults": {
           "arrowcolor": "#2a3f5f",
           "arrowhead": 0,
           "arrowwidth": 1
          },
          "autotypenumbers": "strict",
          "coloraxis": {
           "colorbar": {
            "outlinewidth": 0,
            "ticks": ""
           }
          },
          "colorscale": {
           "diverging": [
            [
             0,
             "#8e0152"
            ],
            [
             0.1,
             "#c51b7d"
            ],
            [
             0.2,
             "#de77ae"
            ],
            [
             0.3,
             "#f1b6da"
            ],
            [
             0.4,
             "#fde0ef"
            ],
            [
             0.5,
             "#f7f7f7"
            ],
            [
             0.6,
             "#e6f5d0"
            ],
            [
             0.7,
             "#b8e186"
            ],
            [
             0.8,
             "#7fbc41"
            ],
            [
             0.9,
             "#4d9221"
            ],
            [
             1,
             "#276419"
            ]
           ],
           "sequential": [
            [
             0,
             "#0d0887"
            ],
            [
             0.1111111111111111,
             "#46039f"
            ],
            [
             0.2222222222222222,
             "#7201a8"
            ],
            [
             0.3333333333333333,
             "#9c179e"
            ],
            [
             0.4444444444444444,
             "#bd3786"
            ],
            [
             0.5555555555555556,
             "#d8576b"
            ],
            [
             0.6666666666666666,
             "#ed7953"
            ],
            [
             0.7777777777777778,
             "#fb9f3a"
            ],
            [
             0.8888888888888888,
             "#fdca26"
            ],
            [
             1,
             "#f0f921"
            ]
           ],
           "sequentialminus": [
            [
             0,
             "#0d0887"
            ],
            [
             0.1111111111111111,
             "#46039f"
            ],
            [
             0.2222222222222222,
             "#7201a8"
            ],
            [
             0.3333333333333333,
             "#9c179e"
            ],
            [
             0.4444444444444444,
             "#bd3786"
            ],
            [
             0.5555555555555556,
             "#d8576b"
            ],
            [
             0.6666666666666666,
             "#ed7953"
            ],
            [
             0.7777777777777778,
             "#fb9f3a"
            ],
            [
             0.8888888888888888,
             "#fdca26"
            ],
            [
             1,
             "#f0f921"
            ]
           ]
          },
          "colorway": [
           "#636efa",
           "#EF553B",
           "#00cc96",
           "#ab63fa",
           "#FFA15A",
           "#19d3f3",
           "#FF6692",
           "#B6E880",
           "#FF97FF",
           "#FECB52"
          ],
          "font": {
           "color": "#2a3f5f"
          },
          "geo": {
           "bgcolor": "white",
           "lakecolor": "white",
           "landcolor": "#E5ECF6",
           "showlakes": true,
           "showland": true,
           "subunitcolor": "white"
          },
          "hoverlabel": {
           "align": "left"
          },
          "hovermode": "closest",
          "mapbox": {
           "style": "light"
          },
          "paper_bgcolor": "white",
          "plot_bgcolor": "#E5ECF6",
          "polar": {
           "angularaxis": {
            "gridcolor": "white",
            "linecolor": "white",
            "ticks": ""
           },
           "bgcolor": "#E5ECF6",
           "radialaxis": {
            "gridcolor": "white",
            "linecolor": "white",
            "ticks": ""
           }
          },
          "scene": {
           "xaxis": {
            "backgroundcolor": "#E5ECF6",
            "gridcolor": "white",
            "gridwidth": 2,
            "linecolor": "white",
            "showbackground": true,
            "ticks": "",
            "zerolinecolor": "white"
           },
           "yaxis": {
            "backgroundcolor": "#E5ECF6",
            "gridcolor": "white",
            "gridwidth": 2,
            "linecolor": "white",
            "showbackground": true,
            "ticks": "",
            "zerolinecolor": "white"
           },
           "zaxis": {
            "backgroundcolor": "#E5ECF6",
            "gridcolor": "white",
            "gridwidth": 2,
            "linecolor": "white",
            "showbackground": true,
            "ticks": "",
            "zerolinecolor": "white"
           }
          },
          "shapedefaults": {
           "line": {
            "color": "#2a3f5f"
           }
          },
          "ternary": {
           "aaxis": {
            "gridcolor": "white",
            "linecolor": "white",
            "ticks": ""
           },
           "baxis": {
            "gridcolor": "white",
            "linecolor": "white",
            "ticks": ""
           },
           "bgcolor": "#E5ECF6",
           "caxis": {
            "gridcolor": "white",
            "linecolor": "white",
            "ticks": ""
           }
          },
          "title": {
           "x": 0.05
          },
          "xaxis": {
           "automargin": true,
           "gridcolor": "white",
           "linecolor": "white",
           "ticks": "",
           "title": {
            "standoff": 15
           },
           "zerolinecolor": "white",
           "zerolinewidth": 2
          },
          "yaxis": {
           "automargin": true,
           "gridcolor": "white",
           "linecolor": "white",
           "ticks": "",
           "title": {
            "standoff": 15
           },
           "zerolinecolor": "white",
           "zerolinewidth": 2
          }
         }
        },
        "title": {
         "text": "Количество выпущенных издателями видеоигр для каждой платформы",
         "x": 0.5
        },
        "xaxis": {
         "anchor": "y",
         "domain": [
          0,
          1
         ],
         "title": {
          "text": "Издатель"
         }
        },
        "yaxis": {
         "anchor": "x",
         "domain": [
          0,
          1
         ],
         "title": {
          "text": "Количество"
         }
        }
       }
      }
     },
     "metadata": {},
     "output_type": "display_data"
    }
   ],
   "source": [
    "fig = px.bar(df_platform, x='Platform', y='count', color='Publisher',\n",
    "             title='Количество выпущенных издателями видеоигр для каждой платформы')\n",
    "fig.update_layout(title_x=0.5,\n",
    "                  xaxis_title=\"Издатель\",\n",
    "                  yaxis_title=\"Количество\",\n",
    "                  margin=dict(l=10, r=10, t=50, b=30),\n",
    "                  )\n",
    "fig.show()\n"
   ]
  },
  {
   "cell_type": "code",
   "execution_count": 13,
   "metadata": {},
   "outputs": [],
   "source": [
    "sales_before_2000 = {}\n",
    "sales_before_2000['NA_Sales'] = df_game[df_game.Year < 2000]['NA_Sales'].sum()\n",
    "sales_before_2000['EU_Sales'] = df_game[df_game.Year < 2000]['EU_Sales'].sum()\n",
    "sales_before_2000['JP_Sales'] = df_game[df_game.Year < 2000]['JP_Sales'].sum()\n",
    "sales_before_2000['Other_Sales'] = df_game[df_game.Year <\n",
    "                                           2000]['Other_Sales'].sum()\n",
    "sales_after_2000 = {}\n",
    "sales_after_2000['NA_Sales'] = df_game[df_game.Year >= 2000]['NA_Sales'].sum()\n",
    "sales_after_2000['EU_Sales'] = df_game[df_game.Year >= 2000]['EU_Sales'].sum()\n",
    "sales_after_2000['JP_Sales'] = df_game[df_game.Year >= 2000]['JP_Sales'].sum()\n",
    "sales_after_2000['Other_Sales'] = df_game[df_game.Year >=\n",
    "                                          2000]['Other_Sales'].sum()\n"
   ]
  },
  {
   "cell_type": "code",
   "execution_count": null,
   "metadata": {},
   "outputs": [
    {
     "data": {
      "application/vnd.plotly.v1+json": {
       "config": {
        "plotlyServerURL": "https://plot.ly"
       },
       "data": [
        {
         "domain": {
          "x": [
           0,
           0.45
          ],
          "y": [
           0,
           1
          ]
         },
         "hole": 0.5,
         "hoverinfo": "label+percent",
         "labels": [
          "NA_Sales",
          "EU_Sales",
          "JP_Sales",
          "Other_Sales"
         ],
         "name": "до 2000",
         "textinfo": "label+percent",
         "type": "pie",
         "values": [
          811.7699999999999,
          314.07,
          474.82000000000005,
          54.55000000000001
         ]
        },
        {
         "domain": {
          "x": [
           0.55,
           1
          ],
          "y": [
           0,
           1
          ]
         },
         "hole": 0.5,
         "hoverinfo": "label+percent",
         "labels": [
          "NA_Sales",
          "EU_Sales",
          "JP_Sales",
          "Other_Sales"
         ],
         "name": "после 2000",
         "textinfo": "label+percent",
         "type": "pie",
         "values": [
          3521.66,
          2095.0499999999997,
          809.4799999999999,
          734.46
         ]
        }
       ],
       "layout": {
        "annotations": [
         {
          "font": {
           "size": 20
          },
          "showarrow": false,
          "text": "до 2000 года",
          "x": 0.225,
          "xanchor": "center",
          "y": 0.5
         },
         {
          "font": {
           "size": 20
          },
          "showarrow": false,
          "text": "после 2000 года",
          "x": 0.775,
          "xanchor": "center",
          "y": 0.5
         }
        ],
        "margin": {
         "b": 30,
         "l": 10,
         "r": 10,
         "t": 50
        },
        "showlegend": false,
        "template": {
         "data": {
          "bar": [
           {
            "error_x": {
             "color": "#2a3f5f"
            },
            "error_y": {
             "color": "#2a3f5f"
            },
            "marker": {
             "line": {
              "color": "#E5ECF6",
              "width": 0.5
             },
             "pattern": {
              "fillmode": "overlay",
              "size": 10,
              "solidity": 0.2
             }
            },
            "type": "bar"
           }
          ],
          "barpolar": [
           {
            "marker": {
             "line": {
              "color": "#E5ECF6",
              "width": 0.5
             },
             "pattern": {
              "fillmode": "overlay",
              "size": 10,
              "solidity": 0.2
             }
            },
            "type": "barpolar"
           }
          ],
          "carpet": [
           {
            "aaxis": {
             "endlinecolor": "#2a3f5f",
             "gridcolor": "white",
             "linecolor": "white",
             "minorgridcolor": "white",
             "startlinecolor": "#2a3f5f"
            },
            "baxis": {
             "endlinecolor": "#2a3f5f",
             "gridcolor": "white",
             "linecolor": "white",
             "minorgridcolor": "white",
             "startlinecolor": "#2a3f5f"
            },
            "type": "carpet"
           }
          ],
          "choropleth": [
           {
            "colorbar": {
             "outlinewidth": 0,
             "ticks": ""
            },
            "type": "choropleth"
           }
          ],
          "contour": [
           {
            "colorbar": {
             "outlinewidth": 0,
             "ticks": ""
            },
            "colorscale": [
             [
              0,
              "#0d0887"
             ],
             [
              0.1111111111111111,
              "#46039f"
             ],
             [
              0.2222222222222222,
              "#7201a8"
             ],
             [
              0.3333333333333333,
              "#9c179e"
             ],
             [
              0.4444444444444444,
              "#bd3786"
             ],
             [
              0.5555555555555556,
              "#d8576b"
             ],
             [
              0.6666666666666666,
              "#ed7953"
             ],
             [
              0.7777777777777778,
              "#fb9f3a"
             ],
             [
              0.8888888888888888,
              "#fdca26"
             ],
             [
              1,
              "#f0f921"
             ]
            ],
            "type": "contour"
           }
          ],
          "contourcarpet": [
           {
            "colorbar": {
             "outlinewidth": 0,
             "ticks": ""
            },
            "type": "contourcarpet"
           }
          ],
          "heatmap": [
           {
            "colorbar": {
             "outlinewidth": 0,
             "ticks": ""
            },
            "colorscale": [
             [
              0,
              "#0d0887"
             ],
             [
              0.1111111111111111,
              "#46039f"
             ],
             [
              0.2222222222222222,
              "#7201a8"
             ],
             [
              0.3333333333333333,
              "#9c179e"
             ],
             [
              0.4444444444444444,
              "#bd3786"
             ],
             [
              0.5555555555555556,
              "#d8576b"
             ],
             [
              0.6666666666666666,
              "#ed7953"
             ],
             [
              0.7777777777777778,
              "#fb9f3a"
             ],
             [
              0.8888888888888888,
              "#fdca26"
             ],
             [
              1,
              "#f0f921"
             ]
            ],
            "type": "heatmap"
           }
          ],
          "heatmapgl": [
           {
            "colorbar": {
             "outlinewidth": 0,
             "ticks": ""
            },
            "colorscale": [
             [
              0,
              "#0d0887"
             ],
             [
              0.1111111111111111,
              "#46039f"
             ],
             [
              0.2222222222222222,
              "#7201a8"
             ],
             [
              0.3333333333333333,
              "#9c179e"
             ],
             [
              0.4444444444444444,
              "#bd3786"
             ],
             [
              0.5555555555555556,
              "#d8576b"
             ],
             [
              0.6666666666666666,
              "#ed7953"
             ],
             [
              0.7777777777777778,
              "#fb9f3a"
             ],
             [
              0.8888888888888888,
              "#fdca26"
             ],
             [
              1,
              "#f0f921"
             ]
            ],
            "type": "heatmapgl"
           }
          ],
          "histogram": [
           {
            "marker": {
             "pattern": {
              "fillmode": "overlay",
              "size": 10,
              "solidity": 0.2
             }
            },
            "type": "histogram"
           }
          ],
          "histogram2d": [
           {
            "colorbar": {
             "outlinewidth": 0,
             "ticks": ""
            },
            "colorscale": [
             [
              0,
              "#0d0887"
             ],
             [
              0.1111111111111111,
              "#46039f"
             ],
             [
              0.2222222222222222,
              "#7201a8"
             ],
             [
              0.3333333333333333,
              "#9c179e"
             ],
             [
              0.4444444444444444,
              "#bd3786"
             ],
             [
              0.5555555555555556,
              "#d8576b"
             ],
             [
              0.6666666666666666,
              "#ed7953"
             ],
             [
              0.7777777777777778,
              "#fb9f3a"
             ],
             [
              0.8888888888888888,
              "#fdca26"
             ],
             [
              1,
              "#f0f921"
             ]
            ],
            "type": "histogram2d"
           }
          ],
          "histogram2dcontour": [
           {
            "colorbar": {
             "outlinewidth": 0,
             "ticks": ""
            },
            "colorscale": [
             [
              0,
              "#0d0887"
             ],
             [
              0.1111111111111111,
              "#46039f"
             ],
             [
              0.2222222222222222,
              "#7201a8"
             ],
             [
              0.3333333333333333,
              "#9c179e"
             ],
             [
              0.4444444444444444,
              "#bd3786"
             ],
             [
              0.5555555555555556,
              "#d8576b"
             ],
             [
              0.6666666666666666,
              "#ed7953"
             ],
             [
              0.7777777777777778,
              "#fb9f3a"
             ],
             [
              0.8888888888888888,
              "#fdca26"
             ],
             [
              1,
              "#f0f921"
             ]
            ],
            "type": "histogram2dcontour"
           }
          ],
          "mesh3d": [
           {
            "colorbar": {
             "outlinewidth": 0,
             "ticks": ""
            },
            "type": "mesh3d"
           }
          ],
          "parcoords": [
           {
            "line": {
             "colorbar": {
              "outlinewidth": 0,
              "ticks": ""
             }
            },
            "type": "parcoords"
           }
          ],
          "pie": [
           {
            "automargin": true,
            "type": "pie"
           }
          ],
          "scatter": [
           {
            "fillpattern": {
             "fillmode": "overlay",
             "size": 10,
             "solidity": 0.2
            },
            "type": "scatter"
           }
          ],
          "scatter3d": [
           {
            "line": {
             "colorbar": {
              "outlinewidth": 0,
              "ticks": ""
             }
            },
            "marker": {
             "colorbar": {
              "outlinewidth": 0,
              "ticks": ""
             }
            },
            "type": "scatter3d"
           }
          ],
          "scattercarpet": [
           {
            "marker": {
             "colorbar": {
              "outlinewidth": 0,
              "ticks": ""
             }
            },
            "type": "scattercarpet"
           }
          ],
          "scattergeo": [
           {
            "marker": {
             "colorbar": {
              "outlinewidth": 0,
              "ticks": ""
             }
            },
            "type": "scattergeo"
           }
          ],
          "scattergl": [
           {
            "marker": {
             "colorbar": {
              "outlinewidth": 0,
              "ticks": ""
             }
            },
            "type": "scattergl"
           }
          ],
          "scattermapbox": [
           {
            "marker": {
             "colorbar": {
              "outlinewidth": 0,
              "ticks": ""
             }
            },
            "type": "scattermapbox"
           }
          ],
          "scatterpolar": [
           {
            "marker": {
             "colorbar": {
              "outlinewidth": 0,
              "ticks": ""
             }
            },
            "type": "scatterpolar"
           }
          ],
          "scatterpolargl": [
           {
            "marker": {
             "colorbar": {
              "outlinewidth": 0,
              "ticks": ""
             }
            },
            "type": "scatterpolargl"
           }
          ],
          "scatterternary": [
           {
            "marker": {
             "colorbar": {
              "outlinewidth": 0,
              "ticks": ""
             }
            },
            "type": "scatterternary"
           }
          ],
          "surface": [
           {
            "colorbar": {
             "outlinewidth": 0,
             "ticks": ""
            },
            "colorscale": [
             [
              0,
              "#0d0887"
             ],
             [
              0.1111111111111111,
              "#46039f"
             ],
             [
              0.2222222222222222,
              "#7201a8"
             ],
             [
              0.3333333333333333,
              "#9c179e"
             ],
             [
              0.4444444444444444,
              "#bd3786"
             ],
             [
              0.5555555555555556,
              "#d8576b"
             ],
             [
              0.6666666666666666,
              "#ed7953"
             ],
             [
              0.7777777777777778,
              "#fb9f3a"
             ],
             [
              0.8888888888888888,
              "#fdca26"
             ],
             [
              1,
              "#f0f921"
             ]
            ],
            "type": "surface"
           }
          ],
          "table": [
           {
            "cells": {
             "fill": {
              "color": "#EBF0F8"
             },
             "line": {
              "color": "white"
             }
            },
            "header": {
             "fill": {
              "color": "#C8D4E3"
             },
             "line": {
              "color": "white"
             }
            },
            "type": "table"
           }
          ]
         },
         "layout": {
          "annotationdefaults": {
           "arrowcolor": "#2a3f5f",
           "arrowhead": 0,
           "arrowwidth": 1
          },
          "autotypenumbers": "strict",
          "coloraxis": {
           "colorbar": {
            "outlinewidth": 0,
            "ticks": ""
           }
          },
          "colorscale": {
           "diverging": [
            [
             0,
             "#8e0152"
            ],
            [
             0.1,
             "#c51b7d"
            ],
            [
             0.2,
             "#de77ae"
            ],
            [
             0.3,
             "#f1b6da"
            ],
            [
             0.4,
             "#fde0ef"
            ],
            [
             0.5,
             "#f7f7f7"
            ],
            [
             0.6,
             "#e6f5d0"
            ],
            [
             0.7,
             "#b8e186"
            ],
            [
             0.8,
             "#7fbc41"
            ],
            [
             0.9,
             "#4d9221"
            ],
            [
             1,
             "#276419"
            ]
           ],
           "sequential": [
            [
             0,
             "#0d0887"
            ],
            [
             0.1111111111111111,
             "#46039f"
            ],
            [
             0.2222222222222222,
             "#7201a8"
            ],
            [
             0.3333333333333333,
             "#9c179e"
            ],
            [
             0.4444444444444444,
             "#bd3786"
            ],
            [
             0.5555555555555556,
             "#d8576b"
            ],
            [
             0.6666666666666666,
             "#ed7953"
            ],
            [
             0.7777777777777778,
             "#fb9f3a"
            ],
            [
             0.8888888888888888,
             "#fdca26"
            ],
            [
             1,
             "#f0f921"
            ]
           ],
           "sequentialminus": [
            [
             0,
             "#0d0887"
            ],
            [
             0.1111111111111111,
             "#46039f"
            ],
            [
             0.2222222222222222,
             "#7201a8"
            ],
            [
             0.3333333333333333,
             "#9c179e"
            ],
            [
             0.4444444444444444,
             "#bd3786"
            ],
            [
             0.5555555555555556,
             "#d8576b"
            ],
            [
             0.6666666666666666,
             "#ed7953"
            ],
            [
             0.7777777777777778,
             "#fb9f3a"
            ],
            [
             0.8888888888888888,
             "#fdca26"
            ],
            [
             1,
             "#f0f921"
            ]
           ]
          },
          "colorway": [
           "#636efa",
           "#EF553B",
           "#00cc96",
           "#ab63fa",
           "#FFA15A",
           "#19d3f3",
           "#FF6692",
           "#B6E880",
           "#FF97FF",
           "#FECB52"
          ],
          "font": {
           "color": "#2a3f5f"
          },
          "geo": {
           "bgcolor": "white",
           "lakecolor": "white",
           "landcolor": "#E5ECF6",
           "showlakes": true,
           "showland": true,
           "subunitcolor": "white"
          },
          "hoverlabel": {
           "align": "left"
          },
          "hovermode": "closest",
          "mapbox": {
           "style": "light"
          },
          "paper_bgcolor": "white",
          "plot_bgcolor": "#E5ECF6",
          "polar": {
           "angularaxis": {
            "gridcolor": "white",
            "linecolor": "white",
            "ticks": ""
           },
           "bgcolor": "#E5ECF6",
           "radialaxis": {
            "gridcolor": "white",
            "linecolor": "white",
            "ticks": ""
           }
          },
          "scene": {
           "xaxis": {
            "backgroundcolor": "#E5ECF6",
            "gridcolor": "white",
            "gridwidth": 2,
            "linecolor": "white",
            "showbackground": true,
            "ticks": "",
            "zerolinecolor": "white"
           },
           "yaxis": {
            "backgroundcolor": "#E5ECF6",
            "gridcolor": "white",
            "gridwidth": 2,
            "linecolor": "white",
            "showbackground": true,
            "ticks": "",
            "zerolinecolor": "white"
           },
           "zaxis": {
            "backgroundcolor": "#E5ECF6",
            "gridcolor": "white",
            "gridwidth": 2,
            "linecolor": "white",
            "showbackground": true,
            "ticks": "",
            "zerolinecolor": "white"
           }
          },
          "shapedefaults": {
           "line": {
            "color": "#2a3f5f"
           }
          },
          "ternary": {
           "aaxis": {
            "gridcolor": "white",
            "linecolor": "white",
            "ticks": ""
           },
           "baxis": {
            "gridcolor": "white",
            "linecolor": "white",
            "ticks": ""
           },
           "bgcolor": "#E5ECF6",
           "caxis": {
            "gridcolor": "white",
            "linecolor": "white",
            "ticks": ""
           }
          },
          "title": {
           "x": 0.05
          },
          "xaxis": {
           "automargin": true,
           "gridcolor": "white",
           "linecolor": "white",
           "ticks": "",
           "title": {
            "standoff": 15
           },
           "zerolinecolor": "white",
           "zerolinewidth": 2
          },
          "yaxis": {
           "automargin": true,
           "gridcolor": "white",
           "linecolor": "white",
           "ticks": "",
           "title": {
            "standoff": 15
           },
           "zerolinecolor": "white",
           "zerolinewidth": 2
          }
         }
        },
        "title": {
         "text": "Продажи по регионам",
         "x": 0.5
        }
       }
      }
     },
     "metadata": {},
     "output_type": "display_data"
    }
   ],
   "source": [
    "fig = make_subplots(rows=1, cols=2, specs=[\n",
    "                    [{'type': 'domain'}, \n",
    "                     {'type': 'domain'}]]\n",
    "                    )\n",
    "fig.add_trace(go.Pie(values=list(sales_before_2000.values()),\n",
    "                     labels=list(sales_before_2000.keys()),\n",
    "                     textinfo='label+percent',\n",
    "                     name='до 2000'),\n",
    "              row=1, col=1)\n",
    "fig.add_trace(go.Pie(values=list(sales_after_2000.values()),\n",
    "                     labels=list(sales_after_2000.keys()),\n",
    "                     textinfo='label+percent',\n",
    "                     name='после 2000'),\n",
    "              row=1, col=2)\n",
    "fig.update_traces(hole=.5, hoverinfo=\"label+percent\")\n",
    "fig.update_layout(\n",
    "    title_text='Продажи по регионам',\n",
    "    title_x=0.5,\n",
    "    showlegend=False,\n",
    "    annotations=[dict(text='до 2000 года',\n",
    "                      x=sum(fig.get_subplot(1, 1).x) / 2, y=0.5,\n",
    "                      font_size=20, showarrow=False, xanchor=\"center\"),\n",
    "                 dict(text='после 2000 года', x=sum(fig.get_subplot(1, 2).x) / 2, y=0.5,\n",
    "                      font_size=20, showarrow=False, xanchor=\"center\")],\n",
    "    margin=dict(l=10, r=10, t=50, b=30),\n",
    ")\n",
    "fig.show()\n"
   ]
  },
  {
   "cell_type": "markdown",
   "metadata": {
    "id": "J4iRUePc4KBs"
   },
   "source": [
    "# Задача 2.\n",
    "\n",
    "Для выполнения работы будет использован csv файл “**IQ_countries**”, содержащий данные о среднем значении IQ по странам мира. Каждое из наблюдений в файле имеет следующие характеристики:\n",
    "\n",
    "* Rank – место в рейтинге\n",
    "* Country – название страны\n",
    "* Average IQ – средний показатель IQ\n",
    "* Continent – название континента\n",
    "* Literacy Rate – коэффициент грамотности\n",
    "* Nobel Prices – количество нобелевских премий\n",
    "* Human Development Index – индекс человеческого развития\n",
    "* Mean years of schooling – среднее количество лет школы\n",
    "* Gross National Income – показатель “валовой национальный доход”\n",
    "* Population – численность населения.\n",
    "\n",
    "**Задание:** проведи разведочный анализ данных, выяви необычные взаимосвязи между значениями столбцов таблицы, выполни визуализацию, сделай выводы.\n",
    "\n",
    "Файл “IQ_countries.csv“ можно скачать по ссылке:\n",
    "\n",
    "https://drive.google.com/file/d/1d3kt9flMqa7SLzVHXZ6zYIS-OEFrK8TF/view"
   ]
  },
  {
   "cell_type": "code",
   "execution_count": null,
   "metadata": {
    "id": "cn-El3e74mX8"
   },
   "outputs": [],
   "source": []
  },
  {
   "cell_type": "markdown",
   "metadata": {
    "id": "ZGRoH3BG4m-N"
   },
   "source": [
    "# Задача 3.\n",
    "\n",
    "Для выполнения работы будет использован csv файл “**shopping_habits**”, содержащий данные о различных покупках, которые совершаются покупателями в разных штатах США. Каждое из наблюдений в файле имеет следующие характеристики:\n",
    "\n",
    "* Customer ID – порядковый номер строки в таблице\n",
    "* Age – возраст покупателя\n",
    "* Gender – пол покупателя\n",
    "* Item Purchased – приобретенный товар\n",
    "* Category - категория\n",
    "* Purchase Amount (USD) – сумма покупки (в долларах)\n",
    "* Location – локация покупки\n",
    "* Size – размер (одежды)\n",
    "* Color – цвет\n",
    "* Season – время года совершения покупки\n",
    "* Review Rating – полученный в отзыве рейтинг\n",
    "* Subscription Status – статус подписки покупателя\n",
    "* Shipping Type – тип доставки\n",
    "* Discount Applied – применена ли скидка\n",
    "* Promo Code Used – применен ли промокод\n",
    "* Previous Purchases – были ли у данного покупателя предыдущие покупки\n",
    "* Payment Method – способ оплаты\n",
    "* Frequency of Purchases – частота покупок.\n",
    "\n",
    "**Задание:** проведи разведочный анализ данных, выяви обычные взаимосвязи между значениями столбцов таблицы, выполни визуализацию, сделай выводы.\n",
    "\n",
    "Файл “shopping_habits.csv“ можно скачать по ссылке:\n",
    "\n",
    "https://drive.google.com/file/d/1Y7L6PQcr8_jblDWNqunh3XLG7YgUViT-/view"
   ]
  }
 ],
 "metadata": {
  "colab": {
   "provenance": []
  },
  "kernelspec": {
   "display_name": "base",
   "language": "python",
   "name": "python3"
  },
  "language_info": {
   "codemirror_mode": {
    "name": "ipython",
    "version": 3
   },
   "file_extension": ".py",
   "mimetype": "text/x-python",
   "name": "python",
   "nbconvert_exporter": "python",
   "pygments_lexer": "ipython3",
   "version": "3.12.2"
  }
 },
 "nbformat": 4,
 "nbformat_minor": 0
}
