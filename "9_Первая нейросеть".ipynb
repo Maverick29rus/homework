{
  "cells": [
    {
      "cell_type": "markdown",
      "metadata": {
        "colab_type": "text",
        "id": "view-in-github"
      },
      "source": [
        "<a href=\"https://colab.research.google.com/github/Maverick29rus/homework/blob/master/%229%20%D0%9F%D0%B5%D1%80%D0%B2%D0%B0%D1%8F%20%D0%BD%D0%B5%D0%B9%D1%80%D0%BE%D1%81%D0%B5%D1%82%D1%8C%22.ipynb\" target=\"_parent\"><img src=\"https://colab.research.google.com/assets/colab-badge.svg\" alt=\"Open In Colab\"/></a>"
      ]
    },
    {
      "cell_type": "markdown",
      "metadata": {
        "id": "8LIWrmOPjBO6"
      },
      "source": [
        "**Навигация по уроку**\n",
        "\n",
        "1. [Краткая история нейронных сетей. Знакомство с многослойным персептроном](https://colab.research.google.com/drive/1-FEYLgNSN5kJyAOoaW9dOhDUABU8VJlc)\n",
        "2. [Математический аппарат обучения нейронных сетей](https://colab.research.google.com/drive/1FtyyBXYq9FaOEknvu4ghim-ejuO_3aIZ)\n",
        "3. [Обучение многослойного персептрона в TensorFlow (Практика)](https://colab.research.google.com/drive/1Q8ioc9pkkaqGravu37C7jKw9OaG7cNL0)\n",
        "4. Домашняя работа"
      ]
    },
    {
      "cell_type": "markdown",
      "metadata": {
        "id": "apk45uj2fGer"
      },
      "source": [
        "Используя модель обучения многослойного персептрона из практической части урока (9.3), выполните следующее:\n",
        "\n",
        "1. Увеличьте число слоев до 4-х и сравните время обучения модели и точность на тестовой выборке.\n",
        "2. В качестве датасета использовать любой из наборов данных TensorFlow. Обучить модель. Добейтесь результата распознования более 85% на тестовой выборке. [Датасеты на выбор](https://www.tensorflow.org/datasets/overview). Используйте датасет отличный от MNIST, который был в уроке.\n",
        "\n",
        "Для прохождения урока достаточно решить первое задание."
      ]
    },
    {
      "cell_type": "code",
      "execution_count": 5,
      "metadata": {
        "id": "s7fOdIp-mr3S"
      },
      "outputs": [],
      "source": [
        "import tensorflow_datasets as tfds\n",
        "import tensorflow as tf\n",
        "import pandas as pd\n",
        "import matplotlib\n",
        "from matplotlib import pyplot as plt\n",
        "import seaborn as sns\n",
        "import tempfile\n",
        "import os\n",
        "# Установим по умолчанию размер фигуры для Matplotlib по умолчанию.\n",
        "matplotlib.rcParams['figure.figsize'] = [9, 6]\n"
      ]
    },
    {
      "cell_type": "markdown",
      "metadata": {
        "id": "e2eTMOQ-Iqw8"
      },
      "source": [
        "#Загрузка данных"
      ]
    },
    {
      "cell_type": "code",
      "execution_count": 6,
      "metadata": {
        "colab": {
          "base_uri": "https://localhost:8080/",
          "height": 166,
          "referenced_widgets": [
            "14fac0e10e964b77bf6de91f5959b867",
            "e86c45397fa6431887dbded832a01c49",
            "d51936e853684868a54f84cd47d010e7",
            "35e03a129c4945a2977d5d1d13619171",
            "46a022f805a7470f9bfc1a52c0f4d5f8",
            "bd7538b5c64e45c680fabfc2ba892086",
            "5ddc752cb9644e17996e52706897faf0",
            "81da28f1febd4f38b7a4bfe23271a581",
            "f0f9d0bb1d1f46d5a4c49ae3823b5f72",
            "4aff0a315ecf49a39a52243edc0a9247",
            "6fac3817100b4065a8c9d86cf0ae1db5",
            "aa9b08dcd2c14381a9356ed7c8d81420",
            "eed3f192737448d6850a03d8c0ec344c",
            "2ce40c25d8794013979310b50d7b046c",
            "bd3595455df74687bfdf326e7f1c577f",
            "25b8fac635dd4664ac3f868b81d61e64",
            "4ed666ae1fd34a13a0fbfdba31f8601f",
            "b718b5ff6d6a4a64a4e1a120d62826e1",
            "b13082abb05e4680ae69892d287e9ffa",
            "0d3c651783554d939383d8ffb1f23ff1",
            "babfbad4e860487c8a482058f76347f5",
            "9176a761c6be459cb3b69148ed0784d4",
            "6774b7d90e7b43b19e4e6316c80589c7",
            "5a49919d2eb64afb99be73b018eabd11",
            "04e31809d6644e8984b9fa758e5c41f2",
            "808e2123eb9145d0b2be330f09833349",
            "26858b01c9ee4a5c99f5a38eba0145ae",
            "2d582274cafd4fa0ae0b4c8a139ba363",
            "606303e5e2ed485a8c1d24bef1b3b686",
            "2eb7b56a67574b438b41a97a75ba9996",
            "894c5bb1592d47cf9a5a7b5851565dab",
            "f037de1b331440b698c24d8c54246c93",
            "b8671aeff9ae4ac8ad26698fd662a5d5",
            "ea8ee9bcd5b040d88a71626cade5c6bb",
            "f53e6f9bb76c4a9da924e326a77a6fbd",
            "932cebfae4f44e1492bfa29408053cbb",
            "b36f679c3578442bad30d70a535d85db",
            "9899620e590a4d05b1dc5eebd638103e",
            "3f30c653409348f097634fa6e26dec0d",
            "f31675d08ede46a2bf7354c1858df954",
            "641cf07a22ce4d96820c329901a977df",
            "81e0a0f945a54d57b0a375c0b2b1a1e3",
            "9d0efa480c0d4929a1c1fa5869771cb0",
            "4d6ea62918bd4855ae04b52c649f271c",
            "17f293b6d3984fe59b34e056cf472512",
            "820c0f916d644fbc82ffacd455a51872",
            "030e2a86a2d747ce8ddc51f44da39229",
            "bbd398e200fc401f9c05efb251b33651",
            "287d1f07309e4c3e9690c81de7c503ee",
            "d0c7884f56f24244a0ac2e2d815decf2",
            "40a788e6ed694416be7b6d54beb331db",
            "a14e8f6e90f949b98a13be1ce7f8a752",
            "b6f4b1e4f9c64e788b5fa086743fbc50",
            "e1d8e0188f644394aadc9d50d7e54237",
            "182039dc954e4850ad9312484c63b923",
            "d5456387a3dd402db4affba401f00f32",
            "198553af879b4c9d96dc969ed537515e",
            "cef413f177a14536a25e434ca93bde8a",
            "529595fcefea4024acdd66d64a938c45",
            "59cc305014df4906913edd111c7853c4",
            "a4a4db47b2d74bea8d48e57e19f84a4a",
            "1edbfee691ec4f0096848da9a071d125",
            "e4fd7c62fa6a4a2194cd4c5d8fcdddc8",
            "5d3552350d5b43dd8704fcb3d34d2655",
            "36b4148c5a264695a88b5ae5ebe4d26c",
            "0779fed6d809422a8d4e6243bd14bb62",
            "a3f5aff8f19747b696c665cbb83ca5d9",
            "58934f53bfbe4d4cb9f8e3edab6c8bcb",
            "2538d0dd8b6a4d07b45f659450bc0950",
            "68330b1331fa403f8dd0a314f29e821f",
            "83657ab4da2949ba90d8d7b1b0238680",
            "7695cce1442b42468acc9d8f40ed9265",
            "77a95b4c891341a0b8eced6063015f49",
            "de6bcfc4057e4bd7bae2c9f9a9ed88f9",
            "33456d2f793c4fdc810b989c75acb440",
            "66f31ac5f0ab45dfac4585ae10210ca2",
            "1fe95ad922d44b3bbc920edd7367c683",
            "a5ef2819b504466e8028405394b2564b",
            "70fbc0bc2c494d978b86fc1f9e5e5947",
            "a4b8894bba0d4a43be75725edb3f8b51",
            "c7026c07e59f46a7b6f34f3d0b3c29fb",
            "8bd4d11c3c66421ca1489a0d9504ed78",
            "22c62e024ef14708889e278880cefe5e",
            "f5087462fc994894bbc3f82e99a1d826",
            "696c3acf738445bdba81bb6f57f63886",
            "a6deb9101f914b5ea08a79a9d447fa53",
            "7ebc2aa87ddd4b37a62202b56407bb00",
            "779e8445aa26415cab873e57b9f26e13"
          ]
        },
        "id": "PNrIaQzvmw8S",
        "outputId": "086f9a77-3514-4e91-9b98-7b6f0202f2d9"
      },
      "outputs": [],
      "source": [
        "train_data, val_data, test_data = tfds.load(\"fashion_mnist\",\n",
        "                                            split=['train[6000:]',\n",
        "                                                   'train[0:6000]',\n",
        "                                                   'test'],\n",
        "                                            batch_size=128,\n",
        "                                            as_supervised=True\n",
        "                                            )\n"
      ]
    },
    {
      "cell_type": "markdown",
      "metadata": {
        "id": "vtICiFIhIzaD"
      },
      "source": [
        "#Визуализируем примеры"
      ]
    },
    {
      "cell_type": "code",
      "execution_count": 7,
      "metadata": {
        "id": "DL2vMODXjjOC"
      },
      "outputs": [],
      "source": [
        "class_names = ['Футболка / топ', \"Брюки\", \"Свитер\", \"Платье\",\n",
        "               \"Плащ\", \"Сандали\", \"Рубашка\", \"Кроссовок\", \"Сумка\",\n",
        "               \"Ботинок\"]\n"
      ]
    },
    {
      "cell_type": "code",
      "execution_count": 8,
      "metadata": {
        "colab": {
          "base_uri": "https://localhost:8080/",
          "height": 554
        },
        "id": "mhjAwFo4m0Kh",
        "outputId": "592f24f5-7e71-4a23-cafa-930f4a6a92aa"
      },
      "outputs": [
        {
          "name": "stdout",
          "output_type": "stream",
          "text": [
            "Размерность исходных данных: (1500, 28, 28, 1)\n",
            "Размерность данных после сжатия: (1500, 28, 28)\n"
          ]
        },
        {
          "data": {
            "image/png": "[encoded data removed]",
            "text/plain": [
              "<Figure size 900x600 with 16 Axes>"
            ]
          },
          "metadata": {},
          "output_type": "display_data"
        }
      ],
      "source": [
        "# Взять все одним батчем и выбрать его для визуализации\n",
        "x_viz, y_viz = tfds.load(\"fashion_mnist\",\n",
        "                         split=['train[:1500]'],\n",
        "                         batch_size=-1,\n",
        "                         as_supervised=True)[0]\n",
        "print('Размерность исходных данных:', x_viz.shape)\n",
        "# метод сжатия размерности, исключаем данные по оси с индексом 3\n",
        "x_viz = tf.squeeze(x_viz, axis=3)\n",
        "print('Размерность данных после сжатия:', x_viz.shape)\n",
        "\n",
        "for i in range(16):  # Выводим 16 картинок из датасета\n",
        "    plt.subplot(4, 4, 1+i)\n",
        "    plt.axis('off')\n",
        "    # отображение массива numpy как картинки; cmap - карта цветов, используем серую 'gray'\n",
        "    plt.imshow(x_viz[i], cmap='gray_r')\n",
        "    plt.title(class_names[y_viz[i]])\n",
        "    # Отступы по ширине и высоте между картинками\n",
        "    plt.subplots_adjust(hspace=.5, wspace=.5)\n"
      ]
    },
    {
      "cell_type": "markdown",
      "metadata": {
        "id": "r8juz2wxI4p9"
      },
      "source": [
        "Построим распределение цифр в обучающей выборке, чтобы убедиться, что каждый класс равномерно представлен в наборе данных."
      ]
    },
    {
      "cell_type": "code",
      "execution_count": 9,
      "metadata": {
        "colab": {
          "base_uri": "https://localhost:8080/",
          "height": 565
        },
        "id": "2fZ2wJs_m21F",
        "outputId": "c2bf9b98-5eff-4e25-d68b-6ef857fc6d9a"
      },
      "outputs": [
        {
          "data": {
            "text/plain": [
              "Text(0.5, 1.0, 'Распределение цифр в fashion_mnist')"
            ]
          },
          "execution_count": 9,
          "metadata": {},
          "output_type": "execute_result"
        },
        {
          "data": {
            "image/png": "[encoded data removed]",
            "text/plain": [
              "<Figure size 900x600 with 1 Axes>"
            ]
          },
          "metadata": {},
          "output_type": "display_data"
        }
      ],
      "source": [
        "sns.countplot(x=y_viz.numpy())\n",
        "plt.xlabel('Цифры')\n",
        "plt.ylabel('Штук')\n",
        "plt.title(\"Распределение цифр в fashion_mnist\")\n"
      ]
    },
    {
      "cell_type": "markdown",
      "metadata": {
        "id": "TlpMOihMI-aN"
      },
      "source": [
        "#Предобработка данных"
      ]
    },
    {
      "cell_type": "code",
      "execution_count": 10,
      "metadata": {
        "id": "bloKZXpSm-y-"
      },
      "outputs": [],
      "source": [
        "# Функция изменения формы и масштабирования данных\n",
        "def preprocess(x, y):\n",
        "    # reshape - изменяет форму данных\n",
        "    # -1 - значит сохранить форму для заданного индекса матрицы, равносильно указать 1500\n",
        "    x = tf.reshape(x, shape=(-1, 784))\n",
        "    # Масштабируем данные\n",
        "    x = x/255\n",
        "    return x, y\n",
        "\n",
        "\n",
        "# map выполняет функцию preprocess для каждого элемента данных, к которым применяется\n",
        "train_data, val_data = train_data.map(preprocess), val_data.map(preprocess)\n"
      ]
    },
    {
      "cell_type": "markdown",
      "metadata": {
        "id": "NoJMRMmQT62L"
      },
      "source": [
        "# Создание модели"
      ]
    },
    {
      "cell_type": "markdown",
      "metadata": {
        "id": "Eepcj-tTJV4I"
      },
      "source": [
        "## Функция инициализации Ксавье"
      ]
    },
    {
      "cell_type": "code",
      "execution_count": 11,
      "metadata": {
        "id": "EH89QD9gnIcK"
      },
      "outputs": [],
      "source": [
        "def xavier_init(shape):\n",
        "    # Вычисляем значения инициализации xavier для весовой матрицы\n",
        "    in_dim, out_dim = shape\n",
        "\n",
        "    # Задаем диапазон инициализации весов по схеме Ксавье\n",
        "    xavier_lim = tf.sqrt(6.)/tf.sqrt(tf.cast(in_dim + out_dim, tf.float32))\n",
        "\n",
        "    # Возвращаем тензор с равномерно распределенными случайными величинами в указанном интервале.\n",
        "    weight_vals = tf.random.uniform(shape=(in_dim, out_dim),\n",
        "                                    minval=-xavier_lim, maxval=xavier_lim)\n",
        "    return weight_vals\n"
      ]
    },
    {
      "cell_type": "markdown",
      "metadata": {
        "id": "_JPl-mpgJMX1"
      },
      "source": [
        "## Полносвязанный слой"
      ]
    },
    {
      "cell_type": "code",
      "execution_count": 12,
      "metadata": {
        "id": "TFNQI81rnoPV"
      },
      "outputs": [],
      "source": [
        "class DenseLayer(tf.Module):\n",
        "\n",
        "    def __init__(self, out_dim, weight_init=xavier_init, activation=tf.identity):\n",
        "        # Инициализация размеров и функции активации\n",
        "        self.out_dim = out_dim  # Определяем размерность выходов\n",
        "        self.weight_init = weight_init  # Инициализируем веса\n",
        "        self.activation = activation  # Задаем функцию активации\n",
        "        self.built = False\n",
        "\n",
        "    @tf.function  # Декоратор, который переносит вычисления на уровень графа TensorFlow\n",
        "    def __call__(self, x):\n",
        "        if not self.built:  # Если запущен первый раз проводим инициализацию\n",
        "            # Вывод входного измерения на основе первого вызова\n",
        "            self.in_dim = x.shape[1]\n",
        "            # Инициализация весов и смещений\n",
        "            # Объявление тензорных переменных\n",
        "            self.w = tf.Variable(self.weight_init(\n",
        "                shape=(self.in_dim, self.out_dim)))\n",
        "            # Объявление тензорных переменных\n",
        "            self.b = tf.Variable(tf.zeros(shape=(self.out_dim,)))\n",
        "            self.built = True  # Инициализация пройдена\n",
        "        # Вычисление прямого прохода\n",
        "        y = tf.add(tf.matmul(x, self.w), self.b)  # уравнение персептрона\n",
        "        # Применение функции активации к уравнению персептрона\n",
        "        return self.activation(y)\n"
      ]
    },
    {
      "cell_type": "markdown",
      "metadata": {
        "id": "hHqZbehZJhyX"
      },
      "source": [
        "## Класс для модели MLP"
      ]
    },
    {
      "cell_type": "code",
      "execution_count": 13,
      "metadata": {
        "id": "mGsiw9Nqnrdk"
      },
      "outputs": [],
      "source": [
        "class MLP(tf.Module):\n",
        "\n",
        "    def __init__(self, layers):\n",
        "        self.layers = layers\n",
        "\n",
        "    @tf.function  # Декоратор, который переносит вычисления на уровень графа TensorFlow\n",
        "    def __call__(self, x, preds=False):\n",
        "        # Последовательное выполнение слоев модели\n",
        "        for layer in self.layers:\n",
        "            x = layer(x)\n",
        "        return x\n"
      ]
    },
    {
      "cell_type": "markdown",
      "metadata": {
        "id": "aF0vpPivJnsu"
      },
      "source": [
        "## Инициализируем модель MLP"
      ]
    },
    {
      "cell_type": "code",
      "execution_count": 14,
      "metadata": {
        "id": "ZahmZn0ZnwCh"
      },
      "outputs": [],
      "source": [
        "hidden_layer_1_size = 700\n",
        "hidden_layer_2_size = 500\n",
        "hidden_layer_3_size = 300\n",
        "output_size = 10\n",
        "\n",
        "# Создание модели нейронной сети с 3 слоями\n",
        "mlp_model_3 = MLP([\n",
        "    DenseLayer(out_dim=hidden_layer_1_size, activation=tf.nn.relu),\n",
        "    DenseLayer(out_dim=hidden_layer_2_size, activation=tf.nn.relu),\n",
        "    DenseLayer(out_dim=output_size)])\n",
        "\n",
        "# Создание модели нейронной сети с 4 слоями\n",
        "mlp_model_4 = MLP([\n",
        "    DenseLayer(out_dim=hidden_layer_1_size, activation=tf.nn.relu),\n",
        "    DenseLayer(out_dim=hidden_layer_2_size, activation=tf.nn.relu),\n",
        "    DenseLayer(out_dim=hidden_layer_3_size, activation=tf.nn.relu),\n",
        "    DenseLayer(out_dim=output_size)])\n"
      ]
    },
    {
      "cell_type": "markdown",
      "metadata": {
        "id": "i60CnIHAJwhF"
      },
      "source": [
        "## Функция потерь перекрестной энтропии"
      ]
    },
    {
      "cell_type": "code",
      "execution_count": 15,
      "metadata": {
        "id": "TSU2E7fdn355"
      },
      "outputs": [],
      "source": [
        "def cross_entropy_loss(y_pred, y):\n",
        "    # Вычисление перекрестной энтропии с помощью разреженной операции\n",
        "    sparse_ce = tf.nn.sparse_softmax_cross_entropy_with_logits(\n",
        "        labels=y, logits=y_pred)\n",
        "    return tf.reduce_mean(sparse_ce)  # аналог np.mean для тензоров\n"
      ]
    },
    {
      "cell_type": "markdown",
      "metadata": {
        "id": "zdu1r7k2J2UI"
      },
      "source": [
        "## Функция вычисления точности"
      ]
    },
    {
      "cell_type": "code",
      "execution_count": 16,
      "metadata": {
        "id": "4uvRveSFn5wI"
      },
      "outputs": [],
      "source": [
        "def accuracy(y_pred, y):\n",
        "    # Вычисляем точность после извлечения предсказаний класса\n",
        "    # возвращает индекс максимального элемента\n",
        "    class_preds = tf.argmax(tf.nn.softmax(y_pred), axis=1)\n",
        "    is_equal = tf.equal(y, class_preds)  # сравнение тензорных значений\n",
        "    # аналог np.mean для тензоров\n",
        "    return tf.reduce_mean(tf.cast(is_equal, tf.float32))\n"
      ]
    },
    {
      "cell_type": "markdown",
      "metadata": {
        "id": "SnvIQuUKQG4U"
      },
      "source": [
        "## Алгоритм оптимизации"
      ]
    },
    {
      "cell_type": "code",
      "execution_count": 17,
      "metadata": {
        "id": "KO-o-kjjn-JX"
      },
      "outputs": [],
      "source": [
        "class Adam:\n",
        "\n",
        "    def __init__(self, learning_rate=1e-3, beta_1=0.9, beta_2=0.999, ep=1e-7):\n",
        "        # Инициализируем параметры оптимизатора и резервируем переменные\n",
        "        self.beta_1 = beta_1  # гиперпараметр\n",
        "        self.beta_2 = beta_2  # гиперпараметр\n",
        "        self.learning_rate = learning_rate  # шаг обучения\n",
        "        self.ep = ep  # Эпсилон - предотвращает деление на ноль, слабо влияет на обучение\n",
        "        self.t = 1.\n",
        "        self.v_dvar, self.s_dvar = [], []\n",
        "        self.built = False\n",
        "\n",
        "    def apply_gradients(self, grads, vars):\n",
        "        # Инициализируем переменные при первом вызове\n",
        "        if not self.built:\n",
        "            for var in vars:\n",
        "                v = tf.Variable(tf.zeros(shape=var.shape))\n",
        "                s = tf.Variable(tf.zeros(shape=var.shape))\n",
        "                self.v_dvar.append(v)\n",
        "                self.s_dvar.append(s)\n",
        "            self.built = True\n",
        "        # Обновите переменные модели с учетом их градиентов\n",
        "        for i, (d_var, var) in enumerate(zip(grads, vars)):\n",
        "            self.v_dvar[i].assign(\n",
        "                self.beta_1*self.v_dvar[i] + (1-self.beta_1)*d_var)\n",
        "            self.s_dvar[i].assign(\n",
        "                self.beta_2*self.s_dvar[i] + (1-self.beta_2)*tf.square(d_var))\n",
        "            v_dvar_bc = self.v_dvar[i]/(1-(self.beta_1**self.t))\n",
        "            s_dvar_bc = self.s_dvar[i]/(1-(self.beta_2**self.t))\n",
        "            var.assign_sub(self.learning_rate*(v_dvar_bc /\n",
        "                           (tf.sqrt(s_dvar_bc) + self.ep)))\n",
        "        self.t += 1.\n",
        "        return\n"
      ]
    },
    {
      "cell_type": "markdown",
      "metadata": {
        "id": "7KFmhl1EQ3po"
      },
      "source": [
        "## Цикл обучения\n",
        "\n",
        "Теперь напишем пользовательский цикл обучения, который обновляет параметры MLP с помощью мини-пакетного градиентного спуска."
      ]
    },
    {
      "cell_type": "code",
      "execution_count": 18,
      "metadata": {
        "id": "qHEMIbxgoCc5"
      },
      "outputs": [],
      "source": [
        "def train_step(x_batch, y_batch, loss, acc, model, optimizer):\n",
        "    # Обновляем состояние модели с учетом пакета данных\n",
        "    with tf.GradientTape() as tape:\n",
        "        y_pred = model(x_batch)  # Предсказываем значение с текущими весами\n",
        "        batch_loss = loss(y_pred, y_batch)  # Оцениваем ошибку на текущих весах\n",
        "    batch_acc = acc(y_pred, y_batch)  # Оцениваем точность на текущих весах\n",
        "    grads = tape.gradient(batch_loss, model.variables)  # Вычисляем градиенты\n",
        "    # Обновляем переменные с учетом полученных градиентов\n",
        "    optimizer.apply_gradients(grads, model.variables)\n",
        "    # Возвращаем ошибку и точность на основе заданного пакета\n",
        "    return batch_loss, batch_acc\n",
        "\n",
        "\n",
        "def val_step(x_batch, y_batch, loss, acc, model):\n",
        "    # Оцениваем модель на основе заданного пакета валидационных данных без обучения на текущих весах\n",
        "    y_pred = model(x_batch)\n",
        "    batch_loss = loss(y_pred, y_batch)\n",
        "    batch_acc = acc(y_pred, y_batch)\n",
        "    return batch_loss, batch_acc\n"
      ]
    },
    {
      "cell_type": "code",
      "execution_count": 19,
      "metadata": {
        "id": "QZyn1gFwoEsH"
      },
      "outputs": [],
      "source": [
        "def train_model(mlp, train_data, val_data, loss, acc, optimizer, epochs):\n",
        "    # Инициализация структур данных\n",
        "    train_losses, train_accs = [], []\n",
        "    val_losses, val_accs = [], []\n",
        "\n",
        "    # Отформатируем тренировочный цикл и начнем обучение\n",
        "    for epoch in range(epochs):\n",
        "        batch_losses_train, batch_accs_train = [], []\n",
        "        batch_losses_val, batch_accs_val = [], []\n",
        "\n",
        "        # Выполняем итерацию по обучающим данным\n",
        "        for x_batch, y_batch in train_data:\n",
        "            # Вычисляем градиенты и обновляем параметры модели\n",
        "            batch_loss, batch_acc = train_step(\n",
        "                x_batch, y_batch, loss, acc, mlp, optimizer)\n",
        "            # Следим за результатами обучения на пакетном уровне\n",
        "            batch_losses_train.append(batch_loss)\n",
        "            batch_accs_train.append(batch_acc)\n",
        "\n",
        "        # Повторяем процедуру проверки данных\n",
        "        for x_batch, y_batch in val_data:\n",
        "            batch_loss, batch_acc = val_step(x_batch, y_batch, loss, acc, mlp)\n",
        "            batch_losses_val.append(batch_loss)\n",
        "            batch_accs_val.append(batch_acc)\n",
        "\n",
        "        # Следим за производительностью модели на уровне эпохи\n",
        "        train_loss, train_acc = tf.reduce_mean(\n",
        "            batch_losses_train), tf.reduce_mean(batch_accs_train)\n",
        "        val_loss, val_acc = tf.reduce_mean(\n",
        "            batch_losses_val), tf.reduce_mean(batch_accs_val)\n",
        "        train_losses.append(train_loss)\n",
        "        train_accs.append(train_acc)\n",
        "        val_losses.append(val_loss)\n",
        "        val_accs.append(val_acc)\n",
        "        print(f\"Эпоха: {epoch}\")\n",
        "        print(f\"Обучающая ошибка: {train_loss:.3f}, \n",
        "              Обучающая точность: {train_acc:.3f}\"\n",
        "              )\n",
        "        print(f\"Валидационная ошибка: {val_loss:.3f}, \n",
        "              Валидационная точность: {val_acc:.3f}\"\n",
        "              )\n",
        "    return train_losses, train_accs, val_losses, val_accs\n"
      ]
    },
    {
      "cell_type": "markdown",
      "metadata": {
        "id": "Lil021vwRAzg"
      },
      "source": [
        "#Тренируем модель MLP в течение 10 эпох с размером пакета 128"
      ]
    },
    {
      "cell_type": "code",
      "execution_count": 20,
      "metadata": {
        "colab": {
          "base_uri": "https://localhost:8080/"
        },
        "id": "9KE1_7wboHU3",
        "outputId": "3bed49df-4ad1-47e0-8190-f89385d7c9dc"
      },
      "outputs": [
        {
          "name": "stdout",
          "output_type": "stream",
          "text": [
            "Эпоха: 0\n",
            "Обучающая ошибка: 0.479, Обучающая точность: 0.827\n",
            "Валидационная ошибка: 0.403, Валидационная точность: 0.854\n",
            "Эпоха: 1\n",
            "Обучающая ошибка: 0.351, Обучающая точность: 0.871\n",
            "Валидационная ошибка: 0.330, Валидационная точность: 0.883\n",
            "Эпоха: 2\n",
            "Обучающая ошибка: 0.314, Обучающая точность: 0.884\n",
            "Валидационная ошибка: 0.316, Валидационная точность: 0.887\n",
            "Эпоха: 3\n",
            "Обучающая ошибка: 0.290, Обучающая точность: 0.892\n",
            "Валидационная ошибка: 0.303, Валидационная точность: 0.891\n",
            "Эпоха: 4\n",
            "Обучающая ошибка: 0.270, Обучающая точность: 0.899\n",
            "Валидационная ошибка: 0.312, Валидационная точность: 0.887\n",
            "Эпоха: 5\n",
            "Обучающая ошибка: 0.252, Обучающая точность: 0.905\n",
            "Валидационная ошибка: 0.303, Валидационная точность: 0.894\n",
            "Эпоха: 6\n",
            "Обучающая ошибка: 0.236, Обучающая точность: 0.911\n",
            "Валидационная ошибка: 0.309, Валидационная точность: 0.895\n",
            "Эпоха: 7\n",
            "Обучающая ошибка: 0.226, Обучающая точность: 0.914\n",
            "Валидационная ошибка: 0.323, Валидационная точность: 0.892\n",
            "Эпоха: 8\n",
            "Обучающая ошибка: 0.215, Обучающая точность: 0.919\n",
            "Валидационная ошибка: 0.327, Валидационная точность: 0.893\n",
            "Эпоха: 9\n",
            "Обучающая ошибка: 0.204, Обучающая точность: 0.924\n",
            "Валидационная ошибка: 0.330, Валидационная точность: 0.895\n"
          ]
        }
      ],
      "source": [
        "from time import time\n",
        "start = time()\n",
        "train_losses, train_accs, val_losses, val_accs = train_model(mlp_model_3,\n",
        "                                                             train_data, val_data, \n",
        "                                                             loss=cross_entropy_loss, \n",
        "                                                             acc=accuracy, \n",
        "                                                             optimizer=Adam(), \n",
        "                                                             epochs=10\n",
        "                                                             )\n",
        "learning_time_3 = time()-start\n"
      ]
    },
    {
      "cell_type": "markdown",
      "metadata": {
        "id": "r8Zix8BPRMaE"
      },
      "source": [
        "# Оценка производительности\n",
        "\n",
        "Начнем с написания функции построения графика, чтобы визуализировать потери и точность модели во время обучения."
      ]
    },
    {
      "cell_type": "code",
      "execution_count": 21,
      "metadata": {
        "id": "6aSyXQS6oJ94"
      },
      "outputs": [],
      "source": [
        "def plot_metrics(train_metric, val_metric, metric_type):\n",
        "    # Визуализация метрик в зависимости от эпох обучения\n",
        "    plt.figure()\n",
        "    plt.plot(range(len(train_metric)), \n",
        "             train_metric,\n",
        "             label=f\"{metric_type} на обучающей выборке\")\n",
        "    plt.plot(range(len(val_metric)), \n",
        "             val_metric, \n",
        "             label=f\"{metric_type} на валидационной выборке\")\n",
        "    plt.xlabel(\"Эпохи\")\n",
        "    plt.ylabel(metric_type)\n",
        "    plt.legend()\n",
        "    plt.title(f\"{metric_type} от эпохи\")\n"
      ]
    },
    {
      "cell_type": "code",
      "execution_count": 22,
      "metadata": {
        "colab": {
          "base_uri": "https://localhost:8080/",
          "height": 565
        },
        "id": "9Tx2fCL9oL8a",
        "outputId": "853da68e-83c4-4420-925c-241f371a64d6"
      },
      "outputs": [
        {
          "data": {
            "image/png": "[encoded data removed]",
            "text/plain": [
              "<Figure size 900x600 with 1 Axes>"
            ]
          },
          "metadata": {},
          "output_type": "display_data"
        }
      ],
      "source": [
        "plot_metrics(train_losses, val_losses, \"Ошибка перекрестной энтропии\")\n"
      ]
    },
    {
      "cell_type": "code",
      "execution_count": 23,
      "metadata": {
        "colab": {
          "base_uri": "https://localhost:8080/",
          "height": 565
        },
        "id": "EsvQlZGSoOF8",
        "outputId": "88fd9ac7-3f3b-4f37-e460-6c306ede579a"
      },
      "outputs": [
        {
          "data": {
            "image/png": "[encoded data removed]",
            "text/plain": [
              "<Figure size 900x600 with 1 Axes>"
            ]
          },
          "metadata": {},
          "output_type": "display_data"
        }
      ],
      "source": [
        "plot_metrics(train_accs, val_accs, \"точность\")\n"
      ]
    },
    {
      "cell_type": "markdown",
      "metadata": {
        "id": "qr0PSO_JRTON"
      },
      "source": [
        "# Сохранение и загрузка модели\n",
        "\n",
        "Создадим модуль экспорта, который принимает необработанные данные и выполняет следующие операции:\n",
        "- Предобработка данных\n",
        "- Прогнозирование вероятности\n",
        "- Прогнозирование класса\n"
      ]
    },
    {
      "cell_type": "code",
      "execution_count": 24,
      "metadata": {
        "id": "uwdUb4j1oRRl"
      },
      "outputs": [],
      "source": [
        "class ExportModule(tf.Module):\n",
        "    def __init__(self, model, preprocess, class_pred):\n",
        "        # Инициализация функций предобработки и постобработки\n",
        "        self.model = model\n",
        "        self.preprocess = preprocess\n",
        "        self.class_pred = class_pred\n",
        "\n",
        "    @tf.function(input_signature=[tf.TensorSpec(shape=[None, None, None, None],\n",
        "                                                dtype=tf.uint8)])\n",
        "    def __call__(self, x):\n",
        "        # Запускаем модуль экспорта для получения новых точек данных\n",
        "        x = self.preprocess(x)\n",
        "        y = self.model(x)\n",
        "        y = self.class_pred(y)\n",
        "        return y\n"
      ]
    },
    {
      "cell_type": "code",
      "execution_count": 25,
      "metadata": {
        "id": "fg8F17qHoTBC"
      },
      "outputs": [],
      "source": [
        "def preprocess_test(x):\n",
        "    # Модуль экспорта принимает необработанные и немаркированные данные\n",
        "    x = tf.reshape(x, shape=[-1, 784])\n",
        "    x = x/255\n",
        "    return x\n",
        "\n",
        "\n",
        "def class_pred_test(y):\n",
        "    # Сгенерируем прогнозы классов на основе выходных данных MLP\n",
        "    return tf.argmax(tf.nn.softmax(y), axis=1)\n"
      ]
    },
    {
      "cell_type": "code",
      "execution_count": 26,
      "metadata": {
        "id": "uFiCXMxGoV-3"
      },
      "outputs": [],
      "source": [
        "mlp_model_export = ExportModule(model=mlp_model_3,\n",
        "                                preprocess=preprocess_test,\n",
        "                                class_pred=class_pred_test)\n"
      ]
    },
    {
      "cell_type": "code",
      "execution_count": 27,
      "metadata": {
        "id": "DbgeF2mzoZWf"
      },
      "outputs": [
        {
          "name": "stdout",
          "output_type": "stream",
          "text": [
            "INFO:tensorflow:Assets written to: /var/folders/1y/bx2jjy_d3gx03cp1vkc6cbyh0000gp/T/tmp_39e44ld/mlp_model_export/assets\n"
          ]
        },
        {
          "name": "stderr",
          "output_type": "stream",
          "text": [
            "INFO:tensorflow:Assets written to: /var/folders/1y/bx2jjy_d3gx03cp1vkc6cbyh0000gp/T/tmp_39e44ld/mlp_model_export/assets\n"
          ]
        }
      ],
      "source": [
        "models = tempfile.mkdtemp()\n",
        "save_path = os.path.join(models, 'mlp_model_export')\n",
        "tf.saved_model.save(mlp_model_export, save_path)\n"
      ]
    },
    {
      "cell_type": "markdown",
      "metadata": {
        "id": "50meXRcmRdUm"
      },
      "source": [
        "# Проверка производительности\n",
        "\n",
        "Загрузим сохраненную модель и проверим ее производительность на невидимых ранее моделью тестовых данных.\n"
      ]
    },
    {
      "cell_type": "code",
      "execution_count": 28,
      "metadata": {
        "id": "JcipakLqodJM"
      },
      "outputs": [],
      "source": [
        "mlp_loaded_3 = tf.saved_model.load(save_path)\n"
      ]
    },
    {
      "cell_type": "code",
      "execution_count": 29,
      "metadata": {
        "colab": {
          "base_uri": "https://localhost:8080/"
        },
        "id": "UBSSYhhaoe9W",
        "outputId": "f1808676-6038-4a77-b400-f94da5d49416"
      },
      "outputs": [
        {
          "name": "stdout",
          "output_type": "stream",
          "text": [
            "Точность на тестовой выборке: 0.883\n"
          ]
        }
      ],
      "source": [
        "def accuracy_score(y_pred, y):\n",
        "    # Общая функция точности\n",
        "    is_equal = tf.equal(y_pred, y)\n",
        "    return tf.reduce_mean(tf.cast(is_equal, tf.float32))\n",
        "\n",
        "\n",
        "x_test, y_test = tfds.load(\"fashion_mnist\", split=[\n",
        "                           'test'], batch_size=-1, \n",
        "                           as_supervised=True)[0]\n",
        "test_classes = mlp_loaded_3(x_test)\n",
        "test_acc_3 = accuracy_score(test_classes, y_test)\n",
        "print(f\"Точность на тестовой выборке: {test_acc_3:.3f}\")\n"
      ]
    },
    {
      "cell_type": "markdown",
      "metadata": {
        "id": "qN20UMuiRncu"
      },
      "source": [
        "Модель отлично справляется с классификацией написанных от руки цифр в обучающем наборе данных, а также хорошо обобщает невидимые ранее данные. Теперь проверим точность модели по классам, чтобы обеспечить хорошую производительность для каждой цифры."
      ]
    },
    {
      "cell_type": "code",
      "execution_count": 30,
      "metadata": {
        "colab": {
          "base_uri": "https://localhost:8080/"
        },
        "id": "UMxQ6MIUoiId",
        "outputId": "76ed8696-c702-4e31-be1d-b31550b5c313"
      },
      "outputs": [
        {
          "name": "stdout",
          "output_type": "stream",
          "text": [
            "Точность с разбивкой по цифрам :\n",
            "---------------------------\n",
            "Цифра 6: 0.595\n",
            "Цифра 4: 0.766\n",
            "Цифра 2: 0.872\n",
            "Цифра 0: 0.876\n",
            "Цифра 3: 0.882\n",
            "Цифра 9: 0.945\n",
            "Цифра 5: 0.960\n",
            "Цифра 7: 0.973\n",
            "Цифра 8: 0.984\n"
          ]
        }
      ],
      "source": [
        "print(\"Точность с разбивкой по цифрам :\")\n",
        "print(\"---------------------------\")\n",
        "label_accs = {}\n",
        "for label in range(10):\n",
        "    label_ind = (y_test == label)\n",
        "    # extract predictions for specific true label\n",
        "    pred_label = test_classes[label_ind]\n",
        "    labels = y_test[label_ind]\n",
        "    # compute class-wise accuracy\n",
        "    label_accs[accuracy_score(pred_label, labels).numpy()] = label\n",
        "for key in sorted(label_accs):\n",
        "    print(f\"Цифра {label_accs[key]}: {key:.3f}\")\n"
      ]
    },
    {
      "cell_type": "markdown",
      "metadata": {
        "id": "dzOhY2iJRuhJ"
      },
      "source": [
        "Похоже, что модель испытывает трудности с некоторыми цифрами немного больше, чем с другими, что довольно часто встречается во многих задачах многоклассовой классификации. В качестве заключительного упражнения построим матрицу ошибок предсказаний модели и соответствующих ей истинных меток, чтобы получить больше информации на уровне класса. В Sklearn и seaborn есть функции для генерации и визуализации матриц ошибок."
      ]
    },
    {
      "cell_type": "code",
      "execution_count": null,
      "metadata": {
        "colab": {
          "base_uri": "https://localhost:8080/",
          "height": 815
        },
        "id": "o-sT5W1OolBn",
        "outputId": "1960e5a1-1cbc-42f3-9fa8-e55d60f9d0a2"
      },
      "outputs": [
        {
          "data": {
            "image/png": "[encoded data removed]",
            "text/plain": [
              "<Figure size 1000x1000 with 2 Axes>"
            ]
          },
          "metadata": {},
          "output_type": "display_data"
        }
      ],
      "source": [
        "import sklearn.metrics as sk_metrics\n",
        "\n",
        "\n",
        "def show_confusion_matrix(test_labels, test_classes):\n",
        "    # Вычисление матрицы ошибок и ее нормализация\n",
        "    plt.figure(figsize=(10, 10))\n",
        "    confusion = sk_metrics.confusion_matrix(test_labels.numpy(),\n",
        "                                            test_classes.numpy())\n",
        "    confusion_normalized = confusion / confusion.sum(axis=1, keepdims=True)\n",
        "\n",
        "    ax = sns.heatmap(confusion_normalized, cmap='Blues',\n",
        "                     annot=True, fmt='.4f', square=True)\n",
        "    plt.title(\"Матрица ошибок\")\n",
        "    plt.ylabel(\"Истинные метки\")\n",
        "    plt.xlabel(\"Предсказанные метки\")\n",
        "\n",
        "\n",
        "show_confusion_matrix(y_test, test_classes)\n"
      ]
    },
    {
      "cell_type": "markdown",
      "metadata": {
        "id": "C3_XIy6fHeo6"
      },
      "source": [
        "# Обучаем модель с 4 слоями"
      ]
    },
    {
      "cell_type": "code",
      "execution_count": 32,
      "metadata": {
        "colab": {
          "base_uri": "https://localhost:8080/"
        },
        "id": "JWWaolbfBwIx",
        "outputId": "06f3ae47-08b7-4900-aee7-8a887b1cfaf5"
      },
      "outputs": [
        {
          "name": "stdout",
          "output_type": "stream",
          "text": [
            "Эпоха: 0\n",
            "Обучающая ошибка: 0.486, Обучающая точность: 0.823\n",
            "Валидационная ошибка: 0.425, Валидационная точность: 0.849\n",
            "Эпоха: 1\n",
            "Обучающая ошибка: 0.357, Обучающая точность: 0.868\n",
            "Валидационная ошибка: 0.333, Валидационная точность: 0.882\n",
            "Эпоха: 2\n",
            "Обучающая ошибка: 0.321, Обучающая точность: 0.881\n",
            "Валидационная ошибка: 0.320, Валидационная точность: 0.884\n",
            "Эпоха: 3\n",
            "Обучающая ошибка: 0.295, Обучающая точность: 0.889\n",
            "Валидационная ошибка: 0.330, Валидационная точность: 0.883\n",
            "Эпоха: 4\n",
            "Обучающая ошибка: 0.274, Обучающая точность: 0.896\n",
            "Валидационная ошибка: 0.321, Валидационная точность: 0.884\n",
            "Эпоха: 5\n",
            "Обучающая ошибка: 0.258, Обучающая точность: 0.903\n",
            "Валидационная ошибка: 0.327, Валидационная точность: 0.885\n",
            "Эпоха: 6\n",
            "Обучающая ошибка: 0.244, Обучающая точность: 0.907\n",
            "Валидационная ошибка: 0.336, Валидационная точность: 0.883\n",
            "Эпоха: 7\n",
            "Обучающая ошибка: 0.232, Обучающая точность: 0.911\n",
            "Валидационная ошибка: 0.321, Валидационная точность: 0.885\n",
            "Эпоха: 8\n",
            "Обучающая ошибка: 0.226, Обучающая точность: 0.913\n",
            "Валидационная ошибка: 0.336, Валидационная точность: 0.890\n",
            "Эпоха: 9\n",
            "Обучающая ошибка: 0.214, Обучающая точность: 0.917\n",
            "Валидационная ошибка: 0.338, Валидационная точность: 0.893\n"
          ]
        }
      ],
      "source": [
        "start = time()\n",
        "train_losses, train_accs, val_losses, val_accs = train_model(mlp_model_4,\n",
        "                                                             train_data, val_data, loss=cross_entropy_loss, acc=accuracy, optimizer=Adam(), epochs=10)\n",
        "learning_time_4 = time()-start\n"
      ]
    },
    {
      "cell_type": "code",
      "execution_count": 33,
      "metadata": {
        "id": "SH59uQ_6B7Nj"
      },
      "outputs": [],
      "source": [
        "mlp_model_export = ExportModule(model=mlp_model_4,\n",
        "                                preprocess=preprocess_test,\n",
        "                                class_pred=class_pred_test)\n"
      ]
    },
    {
      "cell_type": "code",
      "execution_count": 34,
      "metadata": {
        "id": "ASdOnlxRCHcD"
      },
      "outputs": [
        {
          "name": "stdout",
          "output_type": "stream",
          "text": [
            "INFO:tensorflow:Assets written to: /var/folders/1y/bx2jjy_d3gx03cp1vkc6cbyh0000gp/T/tmp9w6asnti/mlp_model_export/assets\n"
          ]
        },
        {
          "name": "stderr",
          "output_type": "stream",
          "text": [
            "INFO:tensorflow:Assets written to: /var/folders/1y/bx2jjy_d3gx03cp1vkc6cbyh0000gp/T/tmp9w6asnti/mlp_model_export/assets\n"
          ]
        }
      ],
      "source": [
        "models = tempfile.mkdtemp()\n",
        "save_path = os.path.join(models, 'mlp_model_export')\n",
        "tf.saved_model.save(mlp_model_export, save_path)\n"
      ]
    },
    {
      "cell_type": "code",
      "execution_count": 35,
      "metadata": {
        "id": "hA6bntUMCNbn"
      },
      "outputs": [],
      "source": [
        "mlp_loaded_4 = tf.saved_model.load(save_path)\n"
      ]
    },
    {
      "cell_type": "code",
      "execution_count": 36,
      "metadata": {
        "colab": {
          "base_uri": "https://localhost:8080/"
        },
        "id": "zM5LWqfqCSaF",
        "outputId": "5546b353-6654-443e-de41-88b08e0a88c2"
      },
      "outputs": [
        {
          "name": "stdout",
          "output_type": "stream",
          "text": [
            "Точность на тестовой выборке: 0.878\n"
          ]
        }
      ],
      "source": [
        "x_test, y_test = tfds.load(\"fashion_mnist\", \n",
        "                           split=['test'], \n",
        "                           batch_size=-1, \n",
        "                           as_supervised=True)[0]\n",
        "test_classes = mlp_loaded_4(x_test)\n",
        "test_acc_4 = accuracy_score(test_classes, y_test)\n",
        "print(f\"Точность на тестовой выборке: {test_acc_4:.3f}\")\n"
      ]
    },
    {
      "cell_type": "markdown",
      "metadata": {
        "id": "tmAb-CwXHv38"
      },
      "source": [
        "# Итоги:"
      ]
    },
    {
      "cell_type": "code",
      "execution_count": 37,
      "metadata": {
        "colab": {
          "base_uri": "https://localhost:8080/"
        },
        "id": "Xe4hDtdCDI7c",
        "outputId": "39c15b83-743a-46e6-becb-1710cea0ac0d"
      },
      "outputs": [
        {
          "name": "stdout",
          "output_type": "stream",
          "text": [
            "3 слоя:\n",
            "Время: 64.455 секунд\n",
            "Точность: 0.883\n",
            "4 слоя:\n",
            "Время: 78.459 секунд\n",
            "Точность: 0.878\n"
          ]
        }
      ],
      "source": [
        "print('3 слоя:', \n",
        "      f'Время: {learning_time_3:.3f} секунд',\n",
        "      f'Точность: {test_acc_3:.3f}', sep='\\n')\n",
        "print('4 слоя:', \n",
        "      f'Время: {learning_time_4:.3f} секунд',\n",
        "      f'Точность: {test_acc_4:.3f}', sep='\\n')\n"
      ]
    },
    {
      "cell_type": "markdown",
      "metadata": {
        "id": "k9xMxDbagfIH"
      },
      "source": [
        "Вывод: С увеличением нейросети с 3 слоев до 4 время обучение увеличилось почти на 20 секунд (что составляет 16%), при этом точность увеличилась на 0,003 (0,34%), из чего можно сделать заключение, что добавление 4-го слоя не дает значительного увеличения точности при значительном увеличении затрат времени."
      ]
    }
  ],
  "metadata": {
    "accelerator": "GPU",
    "colab": {
      "gpuType": "T4",
      "include_colab_link": true,
      "provenance": [],
      "toc_visible": true
    },
    "kernelspec": {
      "display_name": "venv",
      "language": "python",
      "name": "python3"
    },
    "language_info": {
      "codemirror_mode": {
        "name": "ipython",
        "version": 3
      },
      "file_extension": ".py",
      "mimetype": "text/x-python",
      "name": "python",
      "nbconvert_exporter": "python",
      "pygments_lexer": "ipython3",
      "version": "3.13.2"
    },
    "widgets": {
      "application/vnd.jupyter.widget-state+json": {
        "030e2a86a2d747ce8ddc51f44da39229": {
          "model_module": "@jupyter-widgets/controls",
          "model_module_version": "1.5.0",
          "model_name": "FloatProgressModel",
          "state": {
            "_dom_classes": [],
            "_model_module": "@jupyter-widgets/controls",
            "_model_module_version": "1.5.0",
            "_model_name": "FloatProgressModel",
            "_view_count": null,
            "_view_module": "@jupyter-widgets/controls",
            "_view_module_version": "1.5.0",
            "_view_name": "ProgressView",
            "bar_style": "",
            "description": "",
            "description_tooltip": null,
            "layout": "IPY_MODEL_a14e8f6e90f949b98a13be1ce7f8a752",
            "max": 60000,
            "min": 0,
            "orientation": "horizontal",
            "style": "IPY_MODEL_b6f4b1e4f9c64e788b5fa086743fbc50",
            "value": 60000
          }
        },
        "04e31809d6644e8984b9fa758e5c41f2": {
          "model_module": "@jupyter-widgets/controls",
          "model_module_version": "1.5.0",
          "model_name": "FloatProgressModel",
          "state": {
            "_dom_classes": [],
            "_model_module": "@jupyter-widgets/controls",
            "_model_module_version": "1.5.0",
            "_model_name": "FloatProgressModel",
            "_view_count": null,
            "_view_module": "@jupyter-widgets/controls",
            "_view_module_version": "1.5.0",
            "_view_name": "ProgressView",
            "bar_style": "success",
            "description": "",
            "description_tooltip": null,
            "layout": "IPY_MODEL_2eb7b56a67574b438b41a97a75ba9996",
            "max": 1,
            "min": 0,
            "orientation": "horizontal",
            "style": "IPY_MODEL_894c5bb1592d47cf9a5a7b5851565dab",
            "value": 0
          }
        },
        "0779fed6d809422a8d4e6243bd14bb62": {
          "model_module": "@jupyter-widgets/controls",
          "model_module_version": "1.5.0",
          "model_name": "DescriptionStyleModel",
          "state": {
            "_model_module": "@jupyter-widgets/controls",
            "_model_module_version": "1.5.0",
            "_model_name": "DescriptionStyleModel",
            "_view_count": null,
            "_view_module": "@jupyter-widgets/base",
            "_view_module_version": "1.2.0",
            "_view_name": "StyleView",
            "description_width": ""
          }
        },
        "0d3c651783554d939383d8ffb1f23ff1": {
          "model_module": "@jupyter-widgets/controls",
          "model_module_version": "1.5.0",
          "model_name": "ProgressStyleModel",
          "state": {
            "_model_module": "@jupyter-widgets/controls",
            "_model_module_version": "1.5.0",
            "_model_name": "ProgressStyleModel",
            "_view_count": null,
            "_view_module": "@jupyter-widgets/base",
            "_view_module_version": "1.2.0",
            "_view_name": "StyleView",
            "bar_color": null,
            "description_width": ""
          }
        },
        "14fac0e10e964b77bf6de91f5959b867": {
          "model_module": "@jupyter-widgets/controls",
          "model_module_version": "1.5.0",
          "model_name": "HBoxModel",
          "state": {
            "_dom_classes": [],
            "_model_module": "@jupyter-widgets/controls",
            "_model_module_version": "1.5.0",
            "_model_name": "HBoxModel",
            "_view_count": null,
            "_view_module": "@jupyter-widgets/controls",
            "_view_module_version": "1.5.0",
            "_view_name": "HBoxView",
            "box_style": "",
            "children": [
              "IPY_MODEL_e86c45397fa6431887dbded832a01c49",
              "IPY_MODEL_d51936e853684868a54f84cd47d010e7",
              "IPY_MODEL_35e03a129c4945a2977d5d1d13619171"
            ],
            "layout": "IPY_MODEL_46a022f805a7470f9bfc1a52c0f4d5f8"
          }
        },
        "17f293b6d3984fe59b34e056cf472512": {
          "model_module": "@jupyter-widgets/controls",
          "model_module_version": "1.5.0",
          "model_name": "HBoxModel",
          "state": {
            "_dom_classes": [],
            "_model_module": "@jupyter-widgets/controls",
            "_model_module_version": "1.5.0",
            "_model_name": "HBoxModel",
            "_view_count": null,
            "_view_module": "@jupyter-widgets/controls",
            "_view_module_version": "1.5.0",
            "_view_name": "HBoxView",
            "box_style": "",
            "children": [
              "IPY_MODEL_820c0f916d644fbc82ffacd455a51872",
              "IPY_MODEL_030e2a86a2d747ce8ddc51f44da39229",
              "IPY_MODEL_bbd398e200fc401f9c05efb251b33651"
            ],
            "layout": "IPY_MODEL_287d1f07309e4c3e9690c81de7c503ee"
          }
        },
        "182039dc954e4850ad9312484c63b923": {
          "model_module": "@jupyter-widgets/controls",
          "model_module_version": "1.5.0",
          "model_name": "DescriptionStyleModel",
          "state": {
            "_model_module": "@jupyter-widgets/controls",
            "_model_module_version": "1.5.0",
            "_model_name": "DescriptionStyleModel",
            "_view_count": null,
            "_view_module": "@jupyter-widgets/base",
            "_view_module_version": "1.2.0",
            "_view_name": "StyleView",
            "description_width": ""
          }
        },
        "198553af879b4c9d96dc969ed537515e": {
          "model_module": "@jupyter-widgets/controls",
          "model_module_version": "1.5.0",
          "model_name": "HTMLModel",
          "state": {
            "_dom_classes": [],
            "_model_module": "@jupyter-widgets/controls",
            "_model_module_version": "1.5.0",
            "_model_name": "HTMLModel",
            "_view_count": null,
            "_view_module": "@jupyter-widgets/controls",
            "_view_module_version": "1.5.0",
            "_view_name": "HTMLView",
            "description": "",
            "description_tooltip": null,
            "layout": "IPY_MODEL_a4a4db47b2d74bea8d48e57e19f84a4a",
            "placeholder": "​",
            "style": "IPY_MODEL_1edbfee691ec4f0096848da9a071d125",
            "value": "Shuffling /root/tensorflow_datasets/fashion_mnist/incomplete.SA2FYD_3.0.1/fashion_mnist-train.tfrecord*...:   0%"
          }
        },
        "1edbfee691ec4f0096848da9a071d125": {
          "model_module": "@jupyter-widgets/controls",
          "model_module_version": "1.5.0",
          "model_name": "DescriptionStyleModel",
          "state": {
            "_model_module": "@jupyter-widgets/controls",
            "_model_module_version": "1.5.0",
            "_model_name": "DescriptionStyleModel",
            "_view_count": null,
            "_view_module": "@jupyter-widgets/base",
            "_view_module_version": "1.2.0",
            "_view_name": "StyleView",
            "description_width": ""
          }
        },
        "1fe95ad922d44b3bbc920edd7367c683": {
          "model_module": "@jupyter-widgets/controls",
          "model_module_version": "1.5.0",
          "model_name": "DescriptionStyleModel",
          "state": {
            "_model_module": "@jupyter-widgets/controls",
            "_model_module_version": "1.5.0",
            "_model_name": "DescriptionStyleModel",
            "_view_count": null,
            "_view_module": "@jupyter-widgets/base",
            "_view_module_version": "1.2.0",
            "_view_name": "StyleView",
            "description_width": ""
          }
        },
        "22c62e024ef14708889e278880cefe5e": {
          "model_module": "@jupyter-widgets/base",
          "model_module_version": "1.2.0",
          "model_name": "LayoutModel",
          "state": {
            "_model_module": "@jupyter-widgets/base",
            "_model_module_version": "1.2.0",
            "_model_name": "LayoutModel",
            "_view_count": null,
            "_view_module": "@jupyter-widgets/base",
            "_view_module_version": "1.2.0",
            "_view_name": "LayoutView",
            "align_content": null,
            "align_items": null,
            "align_self": null,
            "border": null,
            "bottom": null,
            "display": null,
            "flex": null,
            "flex_flow": null,
            "grid_area": null,
            "grid_auto_columns": null,
            "grid_auto_flow": null,
            "grid_auto_rows": null,
            "grid_column": null,
            "grid_gap": null,
            "grid_row": null,
            "grid_template_areas": null,
            "grid_template_columns": null,
            "grid_template_rows": null,
            "height": null,
            "justify_content": null,
            "justify_items": null,
            "left": null,
            "margin": null,
            "max_height": null,
            "max_width": null,
            "min_height": null,
            "min_width": null,
            "object_fit": null,
            "object_position": null,
            "order": null,
            "overflow": null,
            "overflow_x": null,
            "overflow_y": null,
            "padding": null,
            "right": null,
            "top": null,
            "visibility": null,
            "width": null
          }
        },
        "2538d0dd8b6a4d07b45f659450bc0950": {
          "model_module": "@jupyter-widgets/controls",
          "model_module_version": "1.5.0",
          "model_name": "FloatProgressModel",
          "state": {
            "_dom_classes": [],
            "_model_module": "@jupyter-widgets/controls",
            "_model_module_version": "1.5.0",
            "_model_name": "FloatProgressModel",
            "_view_count": null,
            "_view_module": "@jupyter-widgets/controls",
            "_view_module_version": "1.5.0",
            "_view_name": "ProgressView",
            "bar_style": "",
            "description": "",
            "description_tooltip": null,
            "layout": "IPY_MODEL_de6bcfc4057e4bd7bae2c9f9a9ed88f9",
            "max": 10000,
            "min": 0,
            "orientation": "horizontal",
            "style": "IPY_MODEL_33456d2f793c4fdc810b989c75acb440",
            "value": 10000
          }
        },
        "25b8fac635dd4664ac3f868b81d61e64": {
          "model_module": "@jupyter-widgets/base",
          "model_module_version": "1.2.0",
          "model_name": "LayoutModel",
          "state": {
            "_model_module": "@jupyter-widgets/base",
            "_model_module_version": "1.2.0",
            "_model_name": "LayoutModel",
            "_view_count": null,
            "_view_module": "@jupyter-widgets/base",
            "_view_module_version": "1.2.0",
            "_view_name": "LayoutView",
            "align_content": null,
            "align_items": null,
            "align_self": null,
            "border": null,
            "bottom": null,
            "display": null,
            "flex": null,
            "flex_flow": null,
            "grid_area": null,
            "grid_auto_columns": null,
            "grid_auto_flow": null,
            "grid_auto_rows": null,
            "grid_column": null,
            "grid_gap": null,
            "grid_row": null,
            "grid_template_areas": null,
            "grid_template_columns": null,
            "grid_template_rows": null,
            "height": null,
            "justify_content": null,
            "justify_items": null,
            "left": null,
            "margin": null,
            "max_height": null,
            "max_width": null,
            "min_height": null,
            "min_width": null,
            "object_fit": null,
            "object_position": null,
            "order": null,
            "overflow": null,
            "overflow_x": null,
            "overflow_y": null,
            "padding": null,
            "right": null,
            "top": null,
            "visibility": null,
            "width": null
          }
        },
        "26858b01c9ee4a5c99f5a38eba0145ae": {
          "model_module": "@jupyter-widgets/base",
          "model_module_version": "1.2.0",
          "model_name": "LayoutModel",
          "state": {
            "_model_module": "@jupyter-widgets/base",
            "_model_module_version": "1.2.0",
            "_model_name": "LayoutModel",
            "_view_count": null,
            "_view_module": "@jupyter-widgets/base",
            "_view_module_version": "1.2.0",
            "_view_name": "LayoutView",
            "align_content": null,
            "align_items": null,
            "align_self": null,
            "border": null,
            "bottom": null,
            "display": null,
            "flex": null,
            "flex_flow": null,
            "grid_area": null,
            "grid_auto_columns": null,
            "grid_auto_flow": null,
            "grid_auto_rows": null,
            "grid_column": null,
            "grid_gap": null,
            "grid_row": null,
            "grid_template_areas": null,
            "grid_template_columns": null,
            "grid_template_rows": null,
            "height": null,
            "justify_content": null,
            "justify_items": null,
            "left": null,
            "margin": null,
            "max_height": null,
            "max_width": null,
            "min_height": null,
            "min_width": null,
            "object_fit": null,
            "object_position": null,
            "order": null,
            "overflow": null,
            "overflow_x": null,
            "overflow_y": null,
            "padding": null,
            "right": null,
            "top": null,
            "visibility": null,
            "width": null
          }
        },
        "287d1f07309e4c3e9690c81de7c503ee": {
          "model_module": "@jupyter-widgets/base",
          "model_module_version": "1.2.0",
          "model_name": "LayoutModel",
          "state": {
            "_model_module": "@jupyter-widgets/base",
            "_model_module_version": "1.2.0",
            "_model_name": "LayoutModel",
            "_view_count": null,
            "_view_module": "@jupyter-widgets/base",
            "_view_module_version": "1.2.0",
            "_view_name": "LayoutView",
            "align_content": null,
            "align_items": null,
            "align_self": null,
            "border": null,
            "bottom": null,
            "display": null,
            "flex": null,
            "flex_flow": null,
            "grid_area": null,
            "grid_auto_columns": null,
            "grid_auto_flow": null,
            "grid_auto_rows": null,
            "grid_column": null,
            "grid_gap": null,
            "grid_row": null,
            "grid_template_areas": null,
            "grid_template_columns": null,
            "grid_template_rows": null,
            "height": null,
            "justify_content": null,
            "justify_items": null,
            "left": null,
            "margin": null,
            "max_height": null,
            "max_width": null,
            "min_height": null,
            "min_width": null,
            "object_fit": null,
            "object_position": null,
            "order": null,
            "overflow": null,
            "overflow_x": null,
            "overflow_y": null,
            "padding": null,
            "right": null,
            "top": null,
            "visibility": "hidden",
            "width": null
          }
        },
        "2ce40c25d8794013979310b50d7b046c": {
          "model_module": "@jupyter-widgets/controls",
          "model_module_version": "1.5.0",
          "model_name": "FloatProgressModel",
          "state": {
            "_dom_classes": [],
            "_model_module": "@jupyter-widgets/controls",
            "_model_module_version": "1.5.0",
            "_model_name": "FloatProgressModel",
            "_view_count": null,
            "_view_module": "@jupyter-widgets/controls",
            "_view_module_version": "1.5.0",
            "_view_name": "ProgressView",
            "bar_style": "success",
            "description": "",
            "description_tooltip": null,
            "layout": "IPY_MODEL_b13082abb05e4680ae69892d287e9ffa",
            "max": 1,
            "min": 0,
            "orientation": "horizontal",
            "style": "IPY_MODEL_0d3c651783554d939383d8ffb1f23ff1",
            "value": 1
          }
        },
        "2d582274cafd4fa0ae0b4c8a139ba363": {
          "model_module": "@jupyter-widgets/base",
          "model_module_version": "1.2.0",
          "model_name": "LayoutModel",
          "state": {
            "_model_module": "@jupyter-widgets/base",
            "_model_module_version": "1.2.0",
            "_model_name": "LayoutModel",
            "_view_count": null,
            "_view_module": "@jupyter-widgets/base",
            "_view_module_version": "1.2.0",
            "_view_name": "LayoutView",
            "align_content": null,
            "align_items": null,
            "align_self": null,
            "border": null,
            "bottom": null,
            "display": null,
            "flex": null,
            "flex_flow": null,
            "grid_area": null,
            "grid_auto_columns": null,
            "grid_auto_flow": null,
            "grid_auto_rows": null,
            "grid_column": null,
            "grid_gap": null,
            "grid_row": null,
            "grid_template_areas": null,
            "grid_template_columns": null,
            "grid_template_rows": null,
            "height": null,
            "justify_content": null,
            "justify_items": null,
            "left": null,
            "margin": null,
            "max_height": null,
            "max_width": null,
            "min_height": null,
            "min_width": null,
            "object_fit": null,
            "object_position": null,
            "order": null,
            "overflow": null,
            "overflow_x": null,
            "overflow_y": null,
            "padding": null,
            "right": null,
            "top": null,
            "visibility": null,
            "width": null
          }
        },
        "2eb7b56a67574b438b41a97a75ba9996": {
          "model_module": "@jupyter-widgets/base",
          "model_module_version": "1.2.0",
          "model_name": "LayoutModel",
          "state": {
            "_model_module": "@jupyter-widgets/base",
            "_model_module_version": "1.2.0",
            "_model_name": "LayoutModel",
            "_view_count": null,
            "_view_module": "@jupyter-widgets/base",
            "_view_module_version": "1.2.0",
            "_view_name": "LayoutView",
            "align_content": null,
            "align_items": null,
            "align_self": null,
            "border": null,
            "bottom": null,
            "display": null,
            "flex": null,
            "flex_flow": null,
            "grid_area": null,
            "grid_auto_columns": null,
            "grid_auto_flow": null,
            "grid_auto_rows": null,
            "grid_column": null,
            "grid_gap": null,
            "grid_row": null,
            "grid_template_areas": null,
            "grid_template_columns": null,
            "grid_template_rows": null,
            "height": null,
            "justify_content": null,
            "justify_items": null,
            "left": null,
            "margin": null,
            "max_height": null,
            "max_width": null,
            "min_height": null,
            "min_width": null,
            "object_fit": null,
            "object_position": null,
            "order": null,
            "overflow": null,
            "overflow_x": null,
            "overflow_y": null,
            "padding": null,
            "right": null,
            "top": null,
            "visibility": null,
            "width": "20px"
          }
        },
        "33456d2f793c4fdc810b989c75acb440": {
          "model_module": "@jupyter-widgets/controls",
          "model_module_version": "1.5.0",
          "model_name": "ProgressStyleModel",
          "state": {
            "_model_module": "@jupyter-widgets/controls",
            "_model_module_version": "1.5.0",
            "_model_name": "ProgressStyleModel",
            "_view_count": null,
            "_view_module": "@jupyter-widgets/base",
            "_view_module_version": "1.2.0",
            "_view_name": "StyleView",
            "bar_color": null,
            "description_width": ""
          }
        },
        "35e03a129c4945a2977d5d1d13619171": {
          "model_module": "@jupyter-widgets/controls",
          "model_module_version": "1.5.0",
          "model_name": "HTMLModel",
          "state": {
            "_dom_classes": [],
            "_model_module": "@jupyter-widgets/controls",
            "_model_module_version": "1.5.0",
            "_model_name": "HTMLModel",
            "_view_count": null,
            "_view_module": "@jupyter-widgets/controls",
            "_view_module_version": "1.5.0",
            "_view_name": "HTMLView",
            "description": "",
            "description_tooltip": null,
            "layout": "IPY_MODEL_4aff0a315ecf49a39a52243edc0a9247",
            "placeholder": "​",
            "style": "IPY_MODEL_6fac3817100b4065a8c9d86cf0ae1db5",
            "value": " 4/4 [00:00&lt;00:00, 31.35 url/s]"
          }
        },
        "36b4148c5a264695a88b5ae5ebe4d26c": {
          "model_module": "@jupyter-widgets/base",
          "model_module_version": "1.2.0",
          "model_name": "LayoutModel",
          "state": {
            "_model_module": "@jupyter-widgets/base",
            "_model_module_version": "1.2.0",
            "_model_name": "LayoutModel",
            "_view_count": null,
            "_view_module": "@jupyter-widgets/base",
            "_view_module_version": "1.2.0",
            "_view_name": "LayoutView",
            "align_content": null,
            "align_items": null,
            "align_self": null,
            "border": null,
            "bottom": null,
            "display": null,
            "flex": null,
            "flex_flow": null,
            "grid_area": null,
            "grid_auto_columns": null,
            "grid_auto_flow": null,
            "grid_auto_rows": null,
            "grid_column": null,
            "grid_gap": null,
            "grid_row": null,
            "grid_template_areas": null,
            "grid_template_columns": null,
            "grid_template_rows": null,
            "height": null,
            "justify_content": null,
            "justify_items": null,
            "left": null,
            "margin": null,
            "max_height": null,
            "max_width": null,
            "min_height": null,
            "min_width": null,
            "object_fit": null,
            "object_position": null,
            "order": null,
            "overflow": null,
            "overflow_x": null,
            "overflow_y": null,
            "padding": null,
            "right": null,
            "top": null,
            "visibility": null,
            "width": null
          }
        },
        "3f30c653409348f097634fa6e26dec0d": {
          "model_module": "@jupyter-widgets/base",
          "model_module_version": "1.2.0",
          "model_name": "LayoutModel",
          "state": {
            "_model_module": "@jupyter-widgets/base",
            "_model_module_version": "1.2.0",
            "_model_name": "LayoutModel",
            "_view_count": null,
            "_view_module": "@jupyter-widgets/base",
            "_view_module_version": "1.2.0",
            "_view_name": "LayoutView",
            "align_content": null,
            "align_items": null,
            "align_self": null,
            "border": null,
            "bottom": null,
            "display": null,
            "flex": null,
            "flex_flow": null,
            "grid_area": null,
            "grid_auto_columns": null,
            "grid_auto_flow": null,
            "grid_auto_rows": null,
            "grid_column": null,
            "grid_gap": null,
            "grid_row": null,
            "grid_template_areas": null,
            "grid_template_columns": null,
            "grid_template_rows": null,
            "height": null,
            "justify_content": null,
            "justify_items": null,
            "left": null,
            "margin": null,
            "max_height": null,
            "max_width": null,
            "min_height": null,
            "min_width": null,
            "object_fit": null,
            "object_position": null,
            "order": null,
            "overflow": null,
            "overflow_x": null,
            "overflow_y": null,
            "padding": null,
            "right": null,
            "top": null,
            "visibility": null,
            "width": null
          }
        },
        "40a788e6ed694416be7b6d54beb331db": {
          "model_module": "@jupyter-widgets/controls",
          "model_module_version": "1.5.0",
          "model_name": "DescriptionStyleModel",
          "state": {
            "_model_module": "@jupyter-widgets/controls",
            "_model_module_version": "1.5.0",
            "_model_name": "DescriptionStyleModel",
            "_view_count": null,
            "_view_module": "@jupyter-widgets/base",
            "_view_module_version": "1.2.0",
            "_view_name": "StyleView",
            "description_width": ""
          }
        },
        "46a022f805a7470f9bfc1a52c0f4d5f8": {
          "model_module": "@jupyter-widgets/base",
          "model_module_version": "1.2.0",
          "model_name": "LayoutModel",
          "state": {
            "_model_module": "@jupyter-widgets/base",
            "_model_module_version": "1.2.0",
            "_model_name": "LayoutModel",
            "_view_count": null,
            "_view_module": "@jupyter-widgets/base",
            "_view_module_version": "1.2.0",
            "_view_name": "LayoutView",
            "align_content": null,
            "align_items": null,
            "align_self": null,
            "border": null,
            "bottom": null,
            "display": null,
            "flex": null,
            "flex_flow": null,
            "grid_area": null,
            "grid_auto_columns": null,
            "grid_auto_flow": null,
            "grid_auto_rows": null,
            "grid_column": null,
            "grid_gap": null,
            "grid_row": null,
            "grid_template_areas": null,
            "grid_template_columns": null,
            "grid_template_rows": null,
            "height": null,
            "justify_content": null,
            "justify_items": null,
            "left": null,
            "margin": null,
            "max_height": null,
            "max_width": null,
            "min_height": null,
            "min_width": null,
            "object_fit": null,
            "object_position": null,
            "order": null,
            "overflow": null,
            "overflow_x": null,
            "overflow_y": null,
            "padding": null,
            "right": null,
            "top": null,
            "visibility": null,
            "width": null
          }
        },
        "4aff0a315ecf49a39a52243edc0a9247": {
          "model_module": "@jupyter-widgets/base",
          "model_module_version": "1.2.0",
          "model_name": "LayoutModel",
          "state": {
            "_model_module": "@jupyter-widgets/base",
            "_model_module_version": "1.2.0",
            "_model_name": "LayoutModel",
            "_view_count": null,
            "_view_module": "@jupyter-widgets/base",
            "_view_module_version": "1.2.0",
            "_view_name": "LayoutView",
            "align_content": null,
            "align_items": null,
            "align_self": null,
            "border": null,
            "bottom": null,
            "display": null,
            "flex": null,
            "flex_flow": null,
            "grid_area": null,
            "grid_auto_columns": null,
            "grid_auto_flow": null,
            "grid_auto_rows": null,
            "grid_column": null,
            "grid_gap": null,
            "grid_row": null,
            "grid_template_areas": null,
            "grid_template_columns": null,
            "grid_template_rows": null,
            "height": null,
            "justify_content": null,
            "justify_items": null,
            "left": null,
            "margin": null,
            "max_height": null,
            "max_width": null,
            "min_height": null,
            "min_width": null,
            "object_fit": null,
            "object_position": null,
            "order": null,
            "overflow": null,
            "overflow_x": null,
            "overflow_y": null,
            "padding": null,
            "right": null,
            "top": null,
            "visibility": null,
            "width": null
          }
        },
        "4d6ea62918bd4855ae04b52c649f271c": {
          "model_module": "@jupyter-widgets/controls",
          "model_module_version": "1.5.0",
          "model_name": "DescriptionStyleModel",
          "state": {
            "_model_module": "@jupyter-widgets/controls",
            "_model_module_version": "1.5.0",
            "_model_name": "DescriptionStyleModel",
            "_view_count": null,
            "_view_module": "@jupyter-widgets/base",
            "_view_module_version": "1.2.0",
            "_view_name": "StyleView",
            "description_width": ""
          }
        },
        "4ed666ae1fd34a13a0fbfdba31f8601f": {
          "model_module": "@jupyter-widgets/base",
          "model_module_version": "1.2.0",
          "model_name": "LayoutModel",
          "state": {
            "_model_module": "@jupyter-widgets/base",
            "_model_module_version": "1.2.0",
            "_model_name": "LayoutModel",
            "_view_count": null,
            "_view_module": "@jupyter-widgets/base",
            "_view_module_version": "1.2.0",
            "_view_name": "LayoutView",
            "align_content": null,
            "align_items": null,
            "align_self": null,
            "border": null,
            "bottom": null,
            "display": null,
            "flex": null,
            "flex_flow": null,
            "grid_area": null,
            "grid_auto_columns": null,
            "grid_auto_flow": null,
            "grid_auto_rows": null,
            "grid_column": null,
            "grid_gap": null,
            "grid_row": null,
            "grid_template_areas": null,
            "grid_template_columns": null,
            "grid_template_rows": null,
            "height": null,
            "justify_content": null,
            "justify_items": null,
            "left": null,
            "margin": null,
            "max_height": null,
            "max_width": null,
            "min_height": null,
            "min_width": null,
            "object_fit": null,
            "object_position": null,
            "order": null,
            "overflow": null,
            "overflow_x": null,
            "overflow_y": null,
            "padding": null,
            "right": null,
            "top": null,
            "visibility": null,
            "width": null
          }
        },
        "529595fcefea4024acdd66d64a938c45": {
          "model_module": "@jupyter-widgets/controls",
          "model_module_version": "1.5.0",
          "model_name": "HTMLModel",
          "state": {
            "_dom_classes": [],
            "_model_module": "@jupyter-widgets/controls",
            "_model_module_version": "1.5.0",
            "_model_name": "HTMLModel",
            "_view_count": null,
            "_view_module": "@jupyter-widgets/controls",
            "_view_module_version": "1.5.0",
            "_view_name": "HTMLView",
            "description": "",
            "description_tooltip": null,
            "layout": "IPY_MODEL_36b4148c5a264695a88b5ae5ebe4d26c",
            "placeholder": "​",
            "style": "IPY_MODEL_0779fed6d809422a8d4e6243bd14bb62",
            "value": " 0/60000 [00:00&lt;?, ? examples/s]"
          }
        },
        "58934f53bfbe4d4cb9f8e3edab6c8bcb": {
          "model_module": "@jupyter-widgets/controls",
          "model_module_version": "1.5.0",
          "model_name": "HTMLModel",
          "state": {
            "_dom_classes": [],
            "_model_module": "@jupyter-widgets/controls",
            "_model_module_version": "1.5.0",
            "_model_name": "HTMLModel",
            "_view_count": null,
            "_view_module": "@jupyter-widgets/controls",
            "_view_module_version": "1.5.0",
            "_view_name": "HTMLView",
            "description": "",
            "description_tooltip": null,
            "layout": "IPY_MODEL_7695cce1442b42468acc9d8f40ed9265",
            "placeholder": "​",
            "style": "IPY_MODEL_77a95b4c891341a0b8eced6063015f49",
            "value": "Generating test examples...:  94%"
          }
        },
        "59cc305014df4906913edd111c7853c4": {
          "model_module": "@jupyter-widgets/base",
          "model_module_version": "1.2.0",
          "model_name": "LayoutModel",
          "state": {
            "_model_module": "@jupyter-widgets/base",
            "_model_module_version": "1.2.0",
            "_model_name": "LayoutModel",
            "_view_count": null,
            "_view_module": "@jupyter-widgets/base",
            "_view_module_version": "1.2.0",
            "_view_name": "LayoutView",
            "align_content": null,
            "align_items": null,
            "align_self": null,
            "border": null,
            "bottom": null,
            "display": null,
            "flex": null,
            "flex_flow": null,
            "grid_area": null,
            "grid_auto_columns": null,
            "grid_auto_flow": null,
            "grid_auto_rows": null,
            "grid_column": null,
            "grid_gap": null,
            "grid_row": null,
            "grid_template_areas": null,
            "grid_template_columns": null,
            "grid_template_rows": null,
            "height": null,
            "justify_content": null,
            "justify_items": null,
            "left": null,
            "margin": null,
            "max_height": null,
            "max_width": null,
            "min_height": null,
            "min_width": null,
            "object_fit": null,
            "object_position": null,
            "order": null,
            "overflow": null,
            "overflow_x": null,
            "overflow_y": null,
            "padding": null,
            "right": null,
            "top": null,
            "visibility": "hidden",
            "width": null
          }
        },
        "5a49919d2eb64afb99be73b018eabd11": {
          "model_module": "@jupyter-widgets/controls",
          "model_module_version": "1.5.0",
          "model_name": "HTMLModel",
          "state": {
            "_dom_classes": [],
            "_model_module": "@jupyter-widgets/controls",
            "_model_module_version": "1.5.0",
            "_model_name": "HTMLModel",
            "_view_count": null,
            "_view_module": "@jupyter-widgets/controls",
            "_view_module_version": "1.5.0",
            "_view_name": "HTMLView",
            "description": "",
            "description_tooltip": null,
            "layout": "IPY_MODEL_2d582274cafd4fa0ae0b4c8a139ba363",
            "placeholder": "​",
            "style": "IPY_MODEL_606303e5e2ed485a8c1d24bef1b3b686",
            "value": "Extraction completed...: "
          }
        },
        "5d3552350d5b43dd8704fcb3d34d2655": {
          "model_module": "@jupyter-widgets/controls",
          "model_module_version": "1.5.0",
          "model_name": "ProgressStyleModel",
          "state": {
            "_model_module": "@jupyter-widgets/controls",
            "_model_module_version": "1.5.0",
            "_model_name": "ProgressStyleModel",
            "_view_count": null,
            "_view_module": "@jupyter-widgets/base",
            "_view_module_version": "1.2.0",
            "_view_name": "StyleView",
            "bar_color": null,
            "description_width": ""
          }
        },
        "5ddc752cb9644e17996e52706897faf0": {
          "model_module": "@jupyter-widgets/controls",
          "model_module_version": "1.5.0",
          "model_name": "DescriptionStyleModel",
          "state": {
            "_model_module": "@jupyter-widgets/controls",
            "_model_module_version": "1.5.0",
            "_model_name": "DescriptionStyleModel",
            "_view_count": null,
            "_view_module": "@jupyter-widgets/base",
            "_view_module_version": "1.2.0",
            "_view_name": "StyleView",
            "description_width": ""
          }
        },
        "606303e5e2ed485a8c1d24bef1b3b686": {
          "model_module": "@jupyter-widgets/controls",
          "model_module_version": "1.5.0",
          "model_name": "DescriptionStyleModel",
          "state": {
            "_model_module": "@jupyter-widgets/controls",
            "_model_module_version": "1.5.0",
            "_model_name": "DescriptionStyleModel",
            "_view_count": null,
            "_view_module": "@jupyter-widgets/base",
            "_view_module_version": "1.2.0",
            "_view_name": "StyleView",
            "description_width": ""
          }
        },
        "641cf07a22ce4d96820c329901a977df": {
          "model_module": "@jupyter-widgets/base",
          "model_module_version": "1.2.0",
          "model_name": "LayoutModel",
          "state": {
            "_model_module": "@jupyter-widgets/base",
            "_model_module_version": "1.2.0",
            "_model_name": "LayoutModel",
            "_view_count": null,
            "_view_module": "@jupyter-widgets/base",
            "_view_module_version": "1.2.0",
            "_view_name": "LayoutView",
            "align_content": null,
            "align_items": null,
            "align_self": null,
            "border": null,
            "bottom": null,
            "display": null,
            "flex": null,
            "flex_flow": null,
            "grid_area": null,
            "grid_auto_columns": null,
            "grid_auto_flow": null,
            "grid_auto_rows": null,
            "grid_column": null,
            "grid_gap": null,
            "grid_row": null,
            "grid_template_areas": null,
            "grid_template_columns": null,
            "grid_template_rows": null,
            "height": null,
            "justify_content": null,
            "justify_items": null,
            "left": null,
            "margin": null,
            "max_height": null,
            "max_width": null,
            "min_height": null,
            "min_width": null,
            "object_fit": null,
            "object_position": null,
            "order": null,
            "overflow": null,
            "overflow_x": null,
            "overflow_y": null,
            "padding": null,
            "right": null,
            "top": null,
            "visibility": null,
            "width": null
          }
        },
        "66f31ac5f0ab45dfac4585ae10210ca2": {
          "model_module": "@jupyter-widgets/base",
          "model_module_version": "1.2.0",
          "model_name": "LayoutModel",
          "state": {
            "_model_module": "@jupyter-widgets/base",
            "_model_module_version": "1.2.0",
            "_model_name": "LayoutModel",
            "_view_count": null,
            "_view_module": "@jupyter-widgets/base",
            "_view_module_version": "1.2.0",
            "_view_name": "LayoutView",
            "align_content": null,
            "align_items": null,
            "align_self": null,
            "border": null,
            "bottom": null,
            "display": null,
            "flex": null,
            "flex_flow": null,
            "grid_area": null,
            "grid_auto_columns": null,
            "grid_auto_flow": null,
            "grid_auto_rows": null,
            "grid_column": null,
            "grid_gap": null,
            "grid_row": null,
            "grid_template_areas": null,
            "grid_template_columns": null,
            "grid_template_rows": null,
            "height": null,
            "justify_content": null,
            "justify_items": null,
            "left": null,
            "margin": null,
            "max_height": null,
            "max_width": null,
            "min_height": null,
            "min_width": null,
            "object_fit": null,
            "object_position": null,
            "order": null,
            "overflow": null,
            "overflow_x": null,
            "overflow_y": null,
            "padding": null,
            "right": null,
            "top": null,
            "visibility": null,
            "width": null
          }
        },
        "6774b7d90e7b43b19e4e6316c80589c7": {
          "model_module": "@jupyter-widgets/controls",
          "model_module_version": "1.5.0",
          "model_name": "HBoxModel",
          "state": {
            "_dom_classes": [],
            "_model_module": "@jupyter-widgets/controls",
            "_model_module_version": "1.5.0",
            "_model_name": "HBoxModel",
            "_view_count": null,
            "_view_module": "@jupyter-widgets/controls",
            "_view_module_version": "1.5.0",
            "_view_name": "HBoxView",
            "box_style": "",
            "children": [
              "IPY_MODEL_5a49919d2eb64afb99be73b018eabd11",
              "IPY_MODEL_04e31809d6644e8984b9fa758e5c41f2",
              "IPY_MODEL_808e2123eb9145d0b2be330f09833349"
            ],
            "layout": "IPY_MODEL_26858b01c9ee4a5c99f5a38eba0145ae"
          }
        },
        "68330b1331fa403f8dd0a314f29e821f": {
          "model_module": "@jupyter-widgets/controls",
          "model_module_version": "1.5.0",
          "model_name": "HTMLModel",
          "state": {
            "_dom_classes": [],
            "_model_module": "@jupyter-widgets/controls",
            "_model_module_version": "1.5.0",
            "_model_name": "HTMLModel",
            "_view_count": null,
            "_view_module": "@jupyter-widgets/controls",
            "_view_module_version": "1.5.0",
            "_view_name": "HTMLView",
            "description": "",
            "description_tooltip": null,
            "layout": "IPY_MODEL_66f31ac5f0ab45dfac4585ae10210ca2",
            "placeholder": "​",
            "style": "IPY_MODEL_1fe95ad922d44b3bbc920edd7367c683",
            "value": " 9380/10000 [00:06&lt;00:00, 1481.42 examples/s]"
          }
        },
        "696c3acf738445bdba81bb6f57f63886": {
          "model_module": "@jupyter-widgets/base",
          "model_module_version": "1.2.0",
          "model_name": "LayoutModel",
          "state": {
            "_model_module": "@jupyter-widgets/base",
            "_model_module_version": "1.2.0",
            "_model_name": "LayoutModel",
            "_view_count": null,
            "_view_module": "@jupyter-widgets/base",
            "_view_module_version": "1.2.0",
            "_view_name": "LayoutView",
            "align_content": null,
            "align_items": null,
            "align_self": null,
            "border": null,
            "bottom": null,
            "display": null,
            "flex": null,
            "flex_flow": null,
            "grid_area": null,
            "grid_auto_columns": null,
            "grid_auto_flow": null,
            "grid_auto_rows": null,
            "grid_column": null,
            "grid_gap": null,
            "grid_row": null,
            "grid_template_areas": null,
            "grid_template_columns": null,
            "grid_template_rows": null,
            "height": null,
            "justify_content": null,
            "justify_items": null,
            "left": null,
            "margin": null,
            "max_height": null,
            "max_width": null,
            "min_height": null,
            "min_width": null,
            "object_fit": null,
            "object_position": null,
            "order": null,
            "overflow": null,
            "overflow_x": null,
            "overflow_y": null,
            "padding": null,
            "right": null,
            "top": null,
            "visibility": null,
            "width": null
          }
        },
        "6fac3817100b4065a8c9d86cf0ae1db5": {
          "model_module": "@jupyter-widgets/controls",
          "model_module_version": "1.5.0",
          "model_name": "DescriptionStyleModel",
          "state": {
            "_model_module": "@jupyter-widgets/controls",
            "_model_module_version": "1.5.0",
            "_model_name": "DescriptionStyleModel",
            "_view_count": null,
            "_view_module": "@jupyter-widgets/base",
            "_view_module_version": "1.2.0",
            "_view_name": "StyleView",
            "description_width": ""
          }
        },
        "70fbc0bc2c494d978b86fc1f9e5e5947": {
          "model_module": "@jupyter-widgets/controls",
          "model_module_version": "1.5.0",
          "model_name": "HTMLModel",
          "state": {
            "_dom_classes": [],
            "_model_module": "@jupyter-widgets/controls",
            "_model_module_version": "1.5.0",
            "_model_name": "HTMLModel",
            "_view_count": null,
            "_view_module": "@jupyter-widgets/controls",
            "_view_module_version": "1.5.0",
            "_view_name": "HTMLView",
            "description": "",
            "description_tooltip": null,
            "layout": "IPY_MODEL_22c62e024ef14708889e278880cefe5e",
            "placeholder": "​",
            "style": "IPY_MODEL_f5087462fc994894bbc3f82e99a1d826",
            "value": "Shuffling /root/tensorflow_datasets/fashion_mnist/incomplete.SA2FYD_3.0.1/fashion_mnist-test.tfrecord*...:   0%"
          }
        },
        "7695cce1442b42468acc9d8f40ed9265": {
          "model_module": "@jupyter-widgets/base",
          "model_module_version": "1.2.0",
          "model_name": "LayoutModel",
          "state": {
            "_model_module": "@jupyter-widgets/base",
            "_model_module_version": "1.2.0",
            "_model_name": "LayoutModel",
            "_view_count": null,
            "_view_module": "@jupyter-widgets/base",
            "_view_module_version": "1.2.0",
            "_view_name": "LayoutView",
            "align_content": null,
            "align_items": null,
            "align_self": null,
            "border": null,
            "bottom": null,
            "display": null,
            "flex": null,
            "flex_flow": null,
            "grid_area": null,
            "grid_auto_columns": null,
            "grid_auto_flow": null,
            "grid_auto_rows": null,
            "grid_column": null,
            "grid_gap": null,
            "grid_row": null,
            "grid_template_areas": null,
            "grid_template_columns": null,
            "grid_template_rows": null,
            "height": null,
            "justify_content": null,
            "justify_items": null,
            "left": null,
            "margin": null,
            "max_height": null,
            "max_width": null,
            "min_height": null,
            "min_width": null,
            "object_fit": null,
            "object_position": null,
            "order": null,
            "overflow": null,
            "overflow_x": null,
            "overflow_y": null,
            "padding": null,
            "right": null,
            "top": null,
            "visibility": null,
            "width": null
          }
        },
        "779e8445aa26415cab873e57b9f26e13": {
          "model_module": "@jupyter-widgets/controls",
          "model_module_version": "1.5.0",
          "model_name": "DescriptionStyleModel",
          "state": {
            "_model_module": "@jupyter-widgets/controls",
            "_model_module_version": "1.5.0",
            "_model_name": "DescriptionStyleModel",
            "_view_count": null,
            "_view_module": "@jupyter-widgets/base",
            "_view_module_version": "1.2.0",
            "_view_name": "StyleView",
            "description_width": ""
          }
        },
        "77a95b4c891341a0b8eced6063015f49": {
          "model_module": "@jupyter-widgets/controls",
          "model_module_version": "1.5.0",
          "model_name": "DescriptionStyleModel",
          "state": {
            "_model_module": "@jupyter-widgets/controls",
            "_model_module_version": "1.5.0",
            "_model_name": "DescriptionStyleModel",
            "_view_count": null,
            "_view_module": "@jupyter-widgets/base",
            "_view_module_version": "1.2.0",
            "_view_name": "StyleView",
            "description_width": ""
          }
        },
        "7ebc2aa87ddd4b37a62202b56407bb00": {
          "model_module": "@jupyter-widgets/base",
          "model_module_version": "1.2.0",
          "model_name": "LayoutModel",
          "state": {
            "_model_module": "@jupyter-widgets/base",
            "_model_module_version": "1.2.0",
            "_model_name": "LayoutModel",
            "_view_count": null,
            "_view_module": "@jupyter-widgets/base",
            "_view_module_version": "1.2.0",
            "_view_name": "LayoutView",
            "align_content": null,
            "align_items": null,
            "align_self": null,
            "border": null,
            "bottom": null,
            "display": null,
            "flex": null,
            "flex_flow": null,
            "grid_area": null,
            "grid_auto_columns": null,
            "grid_auto_flow": null,
            "grid_auto_rows": null,
            "grid_column": null,
            "grid_gap": null,
            "grid_row": null,
            "grid_template_areas": null,
            "grid_template_columns": null,
            "grid_template_rows": null,
            "height": null,
            "justify_content": null,
            "justify_items": null,
            "left": null,
            "margin": null,
            "max_height": null,
            "max_width": null,
            "min_height": null,
            "min_width": null,
            "object_fit": null,
            "object_position": null,
            "order": null,
            "overflow": null,
            "overflow_x": null,
            "overflow_y": null,
            "padding": null,
            "right": null,
            "top": null,
            "visibility": null,
            "width": null
          }
        },
        "808e2123eb9145d0b2be330f09833349": {
          "model_module": "@jupyter-widgets/controls",
          "model_module_version": "1.5.0",
          "model_name": "HTMLModel",
          "state": {
            "_dom_classes": [],
            "_model_module": "@jupyter-widgets/controls",
            "_model_module_version": "1.5.0",
            "_model_name": "HTMLModel",
            "_view_count": null,
            "_view_module": "@jupyter-widgets/controls",
            "_view_module_version": "1.5.0",
            "_view_name": "HTMLView",
            "description": "",
            "description_tooltip": null,
            "layout": "IPY_MODEL_f037de1b331440b698c24d8c54246c93",
            "placeholder": "​",
            "style": "IPY_MODEL_b8671aeff9ae4ac8ad26698fd662a5d5",
            "value": " 0/0 [00:00&lt;?, ? file/s]"
          }
        },
        "81da28f1febd4f38b7a4bfe23271a581": {
          "model_module": "@jupyter-widgets/base",
          "model_module_version": "1.2.0",
          "model_name": "LayoutModel",
          "state": {
            "_model_module": "@jupyter-widgets/base",
            "_model_module_version": "1.2.0",
            "_model_name": "LayoutModel",
            "_view_count": null,
            "_view_module": "@jupyter-widgets/base",
            "_view_module_version": "1.2.0",
            "_view_name": "LayoutView",
            "align_content": null,
            "align_items": null,
            "align_self": null,
            "border": null,
            "bottom": null,
            "display": null,
            "flex": null,
            "flex_flow": null,
            "grid_area": null,
            "grid_auto_columns": null,
            "grid_auto_flow": null,
            "grid_auto_rows": null,
            "grid_column": null,
            "grid_gap": null,
            "grid_row": null,
            "grid_template_areas": null,
            "grid_template_columns": null,
            "grid_template_rows": null,
            "height": null,
            "justify_content": null,
            "justify_items": null,
            "left": null,
            "margin": null,
            "max_height": null,
            "max_width": null,
            "min_height": null,
            "min_width": null,
            "object_fit": null,
            "object_position": null,
            "order": null,
            "overflow": null,
            "overflow_x": null,
            "overflow_y": null,
            "padding": null,
            "right": null,
            "top": null,
            "visibility": null,
            "width": "20px"
          }
        },
        "81e0a0f945a54d57b0a375c0b2b1a1e3": {
          "model_module": "@jupyter-widgets/controls",
          "model_module_version": "1.5.0",
          "model_name": "ProgressStyleModel",
          "state": {
            "_model_module": "@jupyter-widgets/controls",
            "_model_module_version": "1.5.0",
            "_model_name": "ProgressStyleModel",
            "_view_count": null,
            "_view_module": "@jupyter-widgets/base",
            "_view_module_version": "1.2.0",
            "_view_name": "StyleView",
            "bar_color": null,
            "description_width": ""
          }
        },
        "820c0f916d644fbc82ffacd455a51872": {
          "model_module": "@jupyter-widgets/controls",
          "model_module_version": "1.5.0",
          "model_name": "HTMLModel",
          "state": {
            "_dom_classes": [],
            "_model_module": "@jupyter-widgets/controls",
            "_model_module_version": "1.5.0",
            "_model_name": "HTMLModel",
            "_view_count": null,
            "_view_module": "@jupyter-widgets/controls",
            "_view_module_version": "1.5.0",
            "_view_name": "HTMLView",
            "description": "",
            "description_tooltip": null,
            "layout": "IPY_MODEL_d0c7884f56f24244a0ac2e2d815decf2",
            "placeholder": "​",
            "style": "IPY_MODEL_40a788e6ed694416be7b6d54beb331db",
            "value": "Generating train examples...:  99%"
          }
        },
        "83657ab4da2949ba90d8d7b1b0238680": {
          "model_module": "@jupyter-widgets/base",
          "model_module_version": "1.2.0",
          "model_name": "LayoutModel",
          "state": {
            "_model_module": "@jupyter-widgets/base",
            "_model_module_version": "1.2.0",
            "_model_name": "LayoutModel",
            "_view_count": null,
            "_view_module": "@jupyter-widgets/base",
            "_view_module_version": "1.2.0",
            "_view_name": "LayoutView",
            "align_content": null,
            "align_items": null,
            "align_self": null,
            "border": null,
            "bottom": null,
            "display": null,
            "flex": null,
            "flex_flow": null,
            "grid_area": null,
            "grid_auto_columns": null,
            "grid_auto_flow": null,
            "grid_auto_rows": null,
            "grid_column": null,
            "grid_gap": null,
            "grid_row": null,
            "grid_template_areas": null,
            "grid_template_columns": null,
            "grid_template_rows": null,
            "height": null,
            "justify_content": null,
            "justify_items": null,
            "left": null,
            "margin": null,
            "max_height": null,
            "max_width": null,
            "min_height": null,
            "min_width": null,
            "object_fit": null,
            "object_position": null,
            "order": null,
            "overflow": null,
            "overflow_x": null,
            "overflow_y": null,
            "padding": null,
            "right": null,
            "top": null,
            "visibility": "hidden",
            "width": null
          }
        },
        "894c5bb1592d47cf9a5a7b5851565dab": {
          "model_module": "@jupyter-widgets/controls",
          "model_module_version": "1.5.0",
          "model_name": "ProgressStyleModel",
          "state": {
            "_model_module": "@jupyter-widgets/controls",
            "_model_module_version": "1.5.0",
            "_model_name": "ProgressStyleModel",
            "_view_count": null,
            "_view_module": "@jupyter-widgets/base",
            "_view_module_version": "1.2.0",
            "_view_name": "StyleView",
            "bar_color": null,
            "description_width": ""
          }
        },
        "8bd4d11c3c66421ca1489a0d9504ed78": {
          "model_module": "@jupyter-widgets/base",
          "model_module_version": "1.2.0",
          "model_name": "LayoutModel",
          "state": {
            "_model_module": "@jupyter-widgets/base",
            "_model_module_version": "1.2.0",
            "_model_name": "LayoutModel",
            "_view_count": null,
            "_view_module": "@jupyter-widgets/base",
            "_view_module_version": "1.2.0",
            "_view_name": "LayoutView",
            "align_content": null,
            "align_items": null,
            "align_self": null,
            "border": null,
            "bottom": null,
            "display": null,
            "flex": null,
            "flex_flow": null,
            "grid_area": null,
            "grid_auto_columns": null,
            "grid_auto_flow": null,
            "grid_auto_rows": null,
            "grid_column": null,
            "grid_gap": null,
            "grid_row": null,
            "grid_template_areas": null,
            "grid_template_columns": null,
            "grid_template_rows": null,
            "height": null,
            "justify_content": null,
            "justify_items": null,
            "left": null,
            "margin": null,
            "max_height": null,
            "max_width": null,
            "min_height": null,
            "min_width": null,
            "object_fit": null,
            "object_position": null,
            "order": null,
            "overflow": null,
            "overflow_x": null,
            "overflow_y": null,
            "padding": null,
            "right": null,
            "top": null,
            "visibility": "hidden",
            "width": null
          }
        },
        "9176a761c6be459cb3b69148ed0784d4": {
          "model_module": "@jupyter-widgets/controls",
          "model_module_version": "1.5.0",
          "model_name": "DescriptionStyleModel",
          "state": {
            "_model_module": "@jupyter-widgets/controls",
            "_model_module_version": "1.5.0",
            "_model_name": "DescriptionStyleModel",
            "_view_count": null,
            "_view_module": "@jupyter-widgets/base",
            "_view_module_version": "1.2.0",
            "_view_name": "StyleView",
            "description_width": ""
          }
        },
        "932cebfae4f44e1492bfa29408053cbb": {
          "model_module": "@jupyter-widgets/controls",
          "model_module_version": "1.5.0",
          "model_name": "FloatProgressModel",
          "state": {
            "_dom_classes": [],
            "_model_module": "@jupyter-widgets/controls",
            "_model_module_version": "1.5.0",
            "_model_name": "FloatProgressModel",
            "_view_count": null,
            "_view_module": "@jupyter-widgets/controls",
            "_view_module_version": "1.5.0",
            "_view_name": "ProgressView",
            "bar_style": "",
            "description": "",
            "description_tooltip": null,
            "layout": "IPY_MODEL_641cf07a22ce4d96820c329901a977df",
            "max": 2,
            "min": 0,
            "orientation": "horizontal",
            "style": "IPY_MODEL_81e0a0f945a54d57b0a375c0b2b1a1e3",
            "value": 2
          }
        },
        "9899620e590a4d05b1dc5eebd638103e": {
          "model_module": "@jupyter-widgets/base",
          "model_module_version": "1.2.0",
          "model_name": "LayoutModel",
          "state": {
            "_model_module": "@jupyter-widgets/base",
            "_model_module_version": "1.2.0",
            "_model_name": "LayoutModel",
            "_view_count": null,
            "_view_module": "@jupyter-widgets/base",
            "_view_module_version": "1.2.0",
            "_view_name": "LayoutView",
            "align_content": null,
            "align_items": null,
            "align_self": null,
            "border": null,
            "bottom": null,
            "display": null,
            "flex": null,
            "flex_flow": null,
            "grid_area": null,
            "grid_auto_columns": null,
            "grid_auto_flow": null,
            "grid_auto_rows": null,
            "grid_column": null,
            "grid_gap": null,
            "grid_row": null,
            "grid_template_areas": null,
            "grid_template_columns": null,
            "grid_template_rows": null,
            "height": null,
            "justify_content": null,
            "justify_items": null,
            "left": null,
            "margin": null,
            "max_height": null,
            "max_width": null,
            "min_height": null,
            "min_width": null,
            "object_fit": null,
            "object_position": null,
            "order": null,
            "overflow": null,
            "overflow_x": null,
            "overflow_y": null,
            "padding": null,
            "right": null,
            "top": null,
            "visibility": "hidden",
            "width": null
          }
        },
        "9d0efa480c0d4929a1c1fa5869771cb0": {
          "model_module": "@jupyter-widgets/base",
          "model_module_version": "1.2.0",
          "model_name": "LayoutModel",
          "state": {
            "_model_module": "@jupyter-widgets/base",
            "_model_module_version": "1.2.0",
            "_model_name": "LayoutModel",
            "_view_count": null,
            "_view_module": "@jupyter-widgets/base",
            "_view_module_version": "1.2.0",
            "_view_name": "LayoutView",
            "align_content": null,
            "align_items": null,
            "align_self": null,
            "border": null,
            "bottom": null,
            "display": null,
            "flex": null,
            "flex_flow": null,
            "grid_area": null,
            "grid_auto_columns": null,
            "grid_auto_flow": null,
            "grid_auto_rows": null,
            "grid_column": null,
            "grid_gap": null,
            "grid_row": null,
            "grid_template_areas": null,
            "grid_template_columns": null,
            "grid_template_rows": null,
            "height": null,
            "justify_content": null,
            "justify_items": null,
            "left": null,
            "margin": null,
            "max_height": null,
            "max_width": null,
            "min_height": null,
            "min_width": null,
            "object_fit": null,
            "object_position": null,
            "order": null,
            "overflow": null,
            "overflow_x": null,
            "overflow_y": null,
            "padding": null,
            "right": null,
            "top": null,
            "visibility": null,
            "width": null
          }
        },
        "a14e8f6e90f949b98a13be1ce7f8a752": {
          "model_module": "@jupyter-widgets/base",
          "model_module_version": "1.2.0",
          "model_name": "LayoutModel",
          "state": {
            "_model_module": "@jupyter-widgets/base",
            "_model_module_version": "1.2.0",
            "_model_name": "LayoutModel",
            "_view_count": null,
            "_view_module": "@jupyter-widgets/base",
            "_view_module_version": "1.2.0",
            "_view_name": "LayoutView",
            "align_content": null,
            "align_items": null,
            "align_self": null,
            "border": null,
            "bottom": null,
            "display": null,
            "flex": null,
            "flex_flow": null,
            "grid_area": null,
            "grid_auto_columns": null,
            "grid_auto_flow": null,
            "grid_auto_rows": null,
            "grid_column": null,
            "grid_gap": null,
            "grid_row": null,
            "grid_template_areas": null,
            "grid_template_columns": null,
            "grid_template_rows": null,
            "height": null,
            "justify_content": null,
            "justify_items": null,
            "left": null,
            "margin": null,
            "max_height": null,
            "max_width": null,
            "min_height": null,
            "min_width": null,
            "object_fit": null,
            "object_position": null,
            "order": null,
            "overflow": null,
            "overflow_x": null,
            "overflow_y": null,
            "padding": null,
            "right": null,
            "top": null,
            "visibility": null,
            "width": null
          }
        },
        "a3f5aff8f19747b696c665cbb83ca5d9": {
          "model_module": "@jupyter-widgets/controls",
          "model_module_version": "1.5.0",
          "model_name": "HBoxModel",
          "state": {
            "_dom_classes": [],
            "_model_module": "@jupyter-widgets/controls",
            "_model_module_version": "1.5.0",
            "_model_name": "HBoxModel",
            "_view_count": null,
            "_view_module": "@jupyter-widgets/controls",
            "_view_module_version": "1.5.0",
            "_view_name": "HBoxView",
            "box_style": "",
            "children": [
              "IPY_MODEL_58934f53bfbe4d4cb9f8e3edab6c8bcb",
              "IPY_MODEL_2538d0dd8b6a4d07b45f659450bc0950",
              "IPY_MODEL_68330b1331fa403f8dd0a314f29e821f"
            ],
            "layout": "IPY_MODEL_83657ab4da2949ba90d8d7b1b0238680"
          }
        },
        "a4a4db47b2d74bea8d48e57e19f84a4a": {
          "model_module": "@jupyter-widgets/base",
          "model_module_version": "1.2.0",
          "model_name": "LayoutModel",
          "state": {
            "_model_module": "@jupyter-widgets/base",
            "_model_module_version": "1.2.0",
            "_model_name": "LayoutModel",
            "_view_count": null,
            "_view_module": "@jupyter-widgets/base",
            "_view_module_version": "1.2.0",
            "_view_name": "LayoutView",
            "align_content": null,
            "align_items": null,
            "align_self": null,
            "border": null,
            "bottom": null,
            "display": null,
            "flex": null,
            "flex_flow": null,
            "grid_area": null,
            "grid_auto_columns": null,
            "grid_auto_flow": null,
            "grid_auto_rows": null,
            "grid_column": null,
            "grid_gap": null,
            "grid_row": null,
            "grid_template_areas": null,
            "grid_template_columns": null,
            "grid_template_rows": null,
            "height": null,
            "justify_content": null,
            "justify_items": null,
            "left": null,
            "margin": null,
            "max_height": null,
            "max_width": null,
            "min_height": null,
            "min_width": null,
            "object_fit": null,
            "object_position": null,
            "order": null,
            "overflow": null,
            "overflow_x": null,
            "overflow_y": null,
            "padding": null,
            "right": null,
            "top": null,
            "visibility": null,
            "width": null
          }
        },
        "a4b8894bba0d4a43be75725edb3f8b51": {
          "model_module": "@jupyter-widgets/controls",
          "model_module_version": "1.5.0",
          "model_name": "FloatProgressModel",
          "state": {
            "_dom_classes": [],
            "_model_module": "@jupyter-widgets/controls",
            "_model_module_version": "1.5.0",
            "_model_name": "FloatProgressModel",
            "_view_count": null,
            "_view_module": "@jupyter-widgets/controls",
            "_view_module_version": "1.5.0",
            "_view_name": "ProgressView",
            "bar_style": "",
            "description": "",
            "description_tooltip": null,
            "layout": "IPY_MODEL_696c3acf738445bdba81bb6f57f63886",
            "max": 10000,
            "min": 0,
            "orientation": "horizontal",
            "style": "IPY_MODEL_a6deb9101f914b5ea08a79a9d447fa53",
            "value": 10000
          }
        },
        "a5ef2819b504466e8028405394b2564b": {
          "model_module": "@jupyter-widgets/controls",
          "model_module_version": "1.5.0",
          "model_name": "HBoxModel",
          "state": {
            "_dom_classes": [],
            "_model_module": "@jupyter-widgets/controls",
            "_model_module_version": "1.5.0",
            "_model_name": "HBoxModel",
            "_view_count": null,
            "_view_module": "@jupyter-widgets/controls",
            "_view_module_version": "1.5.0",
            "_view_name": "HBoxView",
            "box_style": "",
            "children": [
              "IPY_MODEL_70fbc0bc2c494d978b86fc1f9e5e5947",
              "IPY_MODEL_a4b8894bba0d4a43be75725edb3f8b51",
              "IPY_MODEL_c7026c07e59f46a7b6f34f3d0b3c29fb"
            ],
            "layout": "IPY_MODEL_8bd4d11c3c66421ca1489a0d9504ed78"
          }
        },
        "a6deb9101f914b5ea08a79a9d447fa53": {
          "model_module": "@jupyter-widgets/controls",
          "model_module_version": "1.5.0",
          "model_name": "ProgressStyleModel",
          "state": {
            "_model_module": "@jupyter-widgets/controls",
            "_model_module_version": "1.5.0",
            "_model_name": "ProgressStyleModel",
            "_view_count": null,
            "_view_module": "@jupyter-widgets/base",
            "_view_module_version": "1.2.0",
            "_view_name": "StyleView",
            "bar_color": null,
            "description_width": ""
          }
        },
        "aa9b08dcd2c14381a9356ed7c8d81420": {
          "model_module": "@jupyter-widgets/controls",
          "model_module_version": "1.5.0",
          "model_name": "HBoxModel",
          "state": {
            "_dom_classes": [],
            "_model_module": "@jupyter-widgets/controls",
            "_model_module_version": "1.5.0",
            "_model_name": "HBoxModel",
            "_view_count": null,
            "_view_module": "@jupyter-widgets/controls",
            "_view_module_version": "1.5.0",
            "_view_name": "HBoxView",
            "box_style": "",
            "children": [
              "IPY_MODEL_eed3f192737448d6850a03d8c0ec344c",
              "IPY_MODEL_2ce40c25d8794013979310b50d7b046c",
              "IPY_MODEL_bd3595455df74687bfdf326e7f1c577f"
            ],
            "layout": "IPY_MODEL_25b8fac635dd4664ac3f868b81d61e64"
          }
        },
        "b13082abb05e4680ae69892d287e9ffa": {
          "model_module": "@jupyter-widgets/base",
          "model_module_version": "1.2.0",
          "model_name": "LayoutModel",
          "state": {
            "_model_module": "@jupyter-widgets/base",
            "_model_module_version": "1.2.0",
            "_model_name": "LayoutModel",
            "_view_count": null,
            "_view_module": "@jupyter-widgets/base",
            "_view_module_version": "1.2.0",
            "_view_name": "LayoutView",
            "align_content": null,
            "align_items": null,
            "align_self": null,
            "border": null,
            "bottom": null,
            "display": null,
            "flex": null,
            "flex_flow": null,
            "grid_area": null,
            "grid_auto_columns": null,
            "grid_auto_flow": null,
            "grid_auto_rows": null,
            "grid_column": null,
            "grid_gap": null,
            "grid_row": null,
            "grid_template_areas": null,
            "grid_template_columns": null,
            "grid_template_rows": null,
            "height": null,
            "justify_content": null,
            "justify_items": null,
            "left": null,
            "margin": null,
            "max_height": null,
            "max_width": null,
            "min_height": null,
            "min_width": null,
            "object_fit": null,
            "object_position": null,
            "order": null,
            "overflow": null,
            "overflow_x": null,
            "overflow_y": null,
            "padding": null,
            "right": null,
            "top": null,
            "visibility": null,
            "width": "20px"
          }
        },
        "b36f679c3578442bad30d70a535d85db": {
          "model_module": "@jupyter-widgets/controls",
          "model_module_version": "1.5.0",
          "model_name": "HTMLModel",
          "state": {
            "_dom_classes": [],
            "_model_module": "@jupyter-widgets/controls",
            "_model_module_version": "1.5.0",
            "_model_name": "HTMLModel",
            "_view_count": null,
            "_view_module": "@jupyter-widgets/controls",
            "_view_module_version": "1.5.0",
            "_view_name": "HTMLView",
            "description": "",
            "description_tooltip": null,
            "layout": "IPY_MODEL_9d0efa480c0d4929a1c1fa5869771cb0",
            "placeholder": "​",
            "style": "IPY_MODEL_4d6ea62918bd4855ae04b52c649f271c",
            "value": " 2/2 [00:46&lt;00:00, 20.24s/ splits]"
          }
        },
        "b6f4b1e4f9c64e788b5fa086743fbc50": {
          "model_module": "@jupyter-widgets/controls",
          "model_module_version": "1.5.0",
          "model_name": "ProgressStyleModel",
          "state": {
            "_model_module": "@jupyter-widgets/controls",
            "_model_module_version": "1.5.0",
            "_model_name": "ProgressStyleModel",
            "_view_count": null,
            "_view_module": "@jupyter-widgets/base",
            "_view_module_version": "1.2.0",
            "_view_name": "StyleView",
            "bar_color": null,
            "description_width": ""
          }
        },
        "b718b5ff6d6a4a64a4e1a120d62826e1": {
          "model_module": "@jupyter-widgets/controls",
          "model_module_version": "1.5.0",
          "model_name": "DescriptionStyleModel",
          "state": {
            "_model_module": "@jupyter-widgets/controls",
            "_model_module_version": "1.5.0",
            "_model_name": "DescriptionStyleModel",
            "_view_count": null,
            "_view_module": "@jupyter-widgets/base",
            "_view_module_version": "1.2.0",
            "_view_name": "StyleView",
            "description_width": ""
          }
        },
        "b8671aeff9ae4ac8ad26698fd662a5d5": {
          "model_module": "@jupyter-widgets/controls",
          "model_module_version": "1.5.0",
          "model_name": "DescriptionStyleModel",
          "state": {
            "_model_module": "@jupyter-widgets/controls",
            "_model_module_version": "1.5.0",
            "_model_name": "DescriptionStyleModel",
            "_view_count": null,
            "_view_module": "@jupyter-widgets/base",
            "_view_module_version": "1.2.0",
            "_view_name": "StyleView",
            "description_width": ""
          }
        },
        "babfbad4e860487c8a482058f76347f5": {
          "model_module": "@jupyter-widgets/base",
          "model_module_version": "1.2.0",
          "model_name": "LayoutModel",
          "state": {
            "_model_module": "@jupyter-widgets/base",
            "_model_module_version": "1.2.0",
            "_model_name": "LayoutModel",
            "_view_count": null,
            "_view_module": "@jupyter-widgets/base",
            "_view_module_version": "1.2.0",
            "_view_name": "LayoutView",
            "align_content": null,
            "align_items": null,
            "align_self": null,
            "border": null,
            "bottom": null,
            "display": null,
            "flex": null,
            "flex_flow": null,
            "grid_area": null,
            "grid_auto_columns": null,
            "grid_auto_flow": null,
            "grid_auto_rows": null,
            "grid_column": null,
            "grid_gap": null,
            "grid_row": null,
            "grid_template_areas": null,
            "grid_template_columns": null,
            "grid_template_rows": null,
            "height": null,
            "justify_content": null,
            "justify_items": null,
            "left": null,
            "margin": null,
            "max_height": null,
            "max_width": null,
            "min_height": null,
            "min_width": null,
            "object_fit": null,
            "object_position": null,
            "order": null,
            "overflow": null,
            "overflow_x": null,
            "overflow_y": null,
            "padding": null,
            "right": null,
            "top": null,
            "visibility": null,
            "width": null
          }
        },
        "bbd398e200fc401f9c05efb251b33651": {
          "model_module": "@jupyter-widgets/controls",
          "model_module_version": "1.5.0",
          "model_name": "HTMLModel",
          "state": {
            "_dom_classes": [],
            "_model_module": "@jupyter-widgets/controls",
            "_model_module_version": "1.5.0",
            "_model_name": "HTMLModel",
            "_view_count": null,
            "_view_module": "@jupyter-widgets/controls",
            "_view_module_version": "1.5.0",
            "_view_name": "HTMLView",
            "description": "",
            "description_tooltip": null,
            "layout": "IPY_MODEL_e1d8e0188f644394aadc9d50d7e54237",
            "placeholder": "​",
            "style": "IPY_MODEL_182039dc954e4850ad9312484c63b923",
            "value": " 59600/60000 [00:38&lt;00:00, 1568.36 examples/s]"
          }
        },
        "bd3595455df74687bfdf326e7f1c577f": {
          "model_module": "@jupyter-widgets/controls",
          "model_module_version": "1.5.0",
          "model_name": "HTMLModel",
          "state": {
            "_dom_classes": [],
            "_model_module": "@jupyter-widgets/controls",
            "_model_module_version": "1.5.0",
            "_model_name": "HTMLModel",
            "_view_count": null,
            "_view_module": "@jupyter-widgets/controls",
            "_view_module_version": "1.5.0",
            "_view_name": "HTMLView",
            "description": "",
            "description_tooltip": null,
            "layout": "IPY_MODEL_babfbad4e860487c8a482058f76347f5",
            "placeholder": "​",
            "style": "IPY_MODEL_9176a761c6be459cb3b69148ed0784d4",
            "value": " 30878645/30878645 [00:00&lt;00:00, 288643691.19 MiB/s]"
          }
        },
        "bd7538b5c64e45c680fabfc2ba892086": {
          "model_module": "@jupyter-widgets/base",
          "model_module_version": "1.2.0",
          "model_name": "LayoutModel",
          "state": {
            "_model_module": "@jupyter-widgets/base",
            "_model_module_version": "1.2.0",
            "_model_name": "LayoutModel",
            "_view_count": null,
            "_view_module": "@jupyter-widgets/base",
            "_view_module_version": "1.2.0",
            "_view_name": "LayoutView",
            "align_content": null,
            "align_items": null,
            "align_self": null,
            "border": null,
            "bottom": null,
            "display": null,
            "flex": null,
            "flex_flow": null,
            "grid_area": null,
            "grid_auto_columns": null,
            "grid_auto_flow": null,
            "grid_auto_rows": null,
            "grid_column": null,
            "grid_gap": null,
            "grid_row": null,
            "grid_template_areas": null,
            "grid_template_columns": null,
            "grid_template_rows": null,
            "height": null,
            "justify_content": null,
            "justify_items": null,
            "left": null,
            "margin": null,
            "max_height": null,
            "max_width": null,
            "min_height": null,
            "min_width": null,
            "object_fit": null,
            "object_position": null,
            "order": null,
            "overflow": null,
            "overflow_x": null,
            "overflow_y": null,
            "padding": null,
            "right": null,
            "top": null,
            "visibility": null,
            "width": null
          }
        },
        "c7026c07e59f46a7b6f34f3d0b3c29fb": {
          "model_module": "@jupyter-widgets/controls",
          "model_module_version": "1.5.0",
          "model_name": "HTMLModel",
          "state": {
            "_dom_classes": [],
            "_model_module": "@jupyter-widgets/controls",
            "_model_module_version": "1.5.0",
            "_model_name": "HTMLModel",
            "_view_count": null,
            "_view_module": "@jupyter-widgets/controls",
            "_view_module_version": "1.5.0",
            "_view_name": "HTMLView",
            "description": "",
            "description_tooltip": null,
            "layout": "IPY_MODEL_7ebc2aa87ddd4b37a62202b56407bb00",
            "placeholder": "​",
            "style": "IPY_MODEL_779e8445aa26415cab873e57b9f26e13",
            "value": " 0/10000 [00:00&lt;?, ? examples/s]"
          }
        },
        "cef413f177a14536a25e434ca93bde8a": {
          "model_module": "@jupyter-widgets/controls",
          "model_module_version": "1.5.0",
          "model_name": "FloatProgressModel",
          "state": {
            "_dom_classes": [],
            "_model_module": "@jupyter-widgets/controls",
            "_model_module_version": "1.5.0",
            "_model_name": "FloatProgressModel",
            "_view_count": null,
            "_view_module": "@jupyter-widgets/controls",
            "_view_module_version": "1.5.0",
            "_view_name": "ProgressView",
            "bar_style": "",
            "description": "",
            "description_tooltip": null,
            "layout": "IPY_MODEL_e4fd7c62fa6a4a2194cd4c5d8fcdddc8",
            "max": 60000,
            "min": 0,
            "orientation": "horizontal",
            "style": "IPY_MODEL_5d3552350d5b43dd8704fcb3d34d2655",
            "value": 60000
          }
        },
        "d0c7884f56f24244a0ac2e2d815decf2": {
          "model_module": "@jupyter-widgets/base",
          "model_module_version": "1.2.0",
          "model_name": "LayoutModel",
          "state": {
            "_model_module": "@jupyter-widgets/base",
            "_model_module_version": "1.2.0",
            "_model_name": "LayoutModel",
            "_view_count": null,
            "_view_module": "@jupyter-widgets/base",
            "_view_module_version": "1.2.0",
            "_view_name": "LayoutView",
            "align_content": null,
            "align_items": null,
            "align_self": null,
            "border": null,
            "bottom": null,
            "display": null,
            "flex": null,
            "flex_flow": null,
            "grid_area": null,
            "grid_auto_columns": null,
            "grid_auto_flow": null,
            "grid_auto_rows": null,
            "grid_column": null,
            "grid_gap": null,
            "grid_row": null,
            "grid_template_areas": null,
            "grid_template_columns": null,
            "grid_template_rows": null,
            "height": null,
            "justify_content": null,
            "justify_items": null,
            "left": null,
            "margin": null,
            "max_height": null,
            "max_width": null,
            "min_height": null,
            "min_width": null,
            "object_fit": null,
            "object_position": null,
            "order": null,
            "overflow": null,
            "overflow_x": null,
            "overflow_y": null,
            "padding": null,
            "right": null,
            "top": null,
            "visibility": null,
            "width": null
          }
        },
        "d51936e853684868a54f84cd47d010e7": {
          "model_module": "@jupyter-widgets/controls",
          "model_module_version": "1.5.0",
          "model_name": "FloatProgressModel",
          "state": {
            "_dom_classes": [],
            "_model_module": "@jupyter-widgets/controls",
            "_model_module_version": "1.5.0",
            "_model_name": "FloatProgressModel",
            "_view_count": null,
            "_view_module": "@jupyter-widgets/controls",
            "_view_module_version": "1.5.0",
            "_view_name": "ProgressView",
            "bar_style": "success",
            "description": "",
            "description_tooltip": null,
            "layout": "IPY_MODEL_81da28f1febd4f38b7a4bfe23271a581",
            "max": 1,
            "min": 0,
            "orientation": "horizontal",
            "style": "IPY_MODEL_f0f9d0bb1d1f46d5a4c49ae3823b5f72",
            "value": 1
          }
        },
        "d5456387a3dd402db4affba401f00f32": {
          "model_module": "@jupyter-widgets/controls",
          "model_module_version": "1.5.0",
          "model_name": "HBoxModel",
          "state": {
            "_dom_classes": [],
            "_model_module": "@jupyter-widgets/controls",
            "_model_module_version": "1.5.0",
            "_model_name": "HBoxModel",
            "_view_count": null,
            "_view_module": "@jupyter-widgets/controls",
            "_view_module_version": "1.5.0",
            "_view_name": "HBoxView",
            "box_style": "",
            "children": [
              "IPY_MODEL_198553af879b4c9d96dc969ed537515e",
              "IPY_MODEL_cef413f177a14536a25e434ca93bde8a",
              "IPY_MODEL_529595fcefea4024acdd66d64a938c45"
            ],
            "layout": "IPY_MODEL_59cc305014df4906913edd111c7853c4"
          }
        },
        "de6bcfc4057e4bd7bae2c9f9a9ed88f9": {
          "model_module": "@jupyter-widgets/base",
          "model_module_version": "1.2.0",
          "model_name": "LayoutModel",
          "state": {
            "_model_module": "@jupyter-widgets/base",
            "_model_module_version": "1.2.0",
            "_model_name": "LayoutModel",
            "_view_count": null,
            "_view_module": "@jupyter-widgets/base",
            "_view_module_version": "1.2.0",
            "_view_name": "LayoutView",
            "align_content": null,
            "align_items": null,
            "align_self": null,
            "border": null,
            "bottom": null,
            "display": null,
            "flex": null,
            "flex_flow": null,
            "grid_area": null,
            "grid_auto_columns": null,
            "grid_auto_flow": null,
            "grid_auto_rows": null,
            "grid_column": null,
            "grid_gap": null,
            "grid_row": null,
            "grid_template_areas": null,
            "grid_template_columns": null,
            "grid_template_rows": null,
            "height": null,
            "justify_content": null,
            "justify_items": null,
            "left": null,
            "margin": null,
            "max_height": null,
            "max_width": null,
            "min_height": null,
            "min_width": null,
            "object_fit": null,
            "object_position": null,
            "order": null,
            "overflow": null,
            "overflow_x": null,
            "overflow_y": null,
            "padding": null,
            "right": null,
            "top": null,
            "visibility": null,
            "width": null
          }
        },
        "e1d8e0188f644394aadc9d50d7e54237": {
          "model_module": "@jupyter-widgets/base",
          "model_module_version": "1.2.0",
          "model_name": "LayoutModel",
          "state": {
            "_model_module": "@jupyter-widgets/base",
            "_model_module_version": "1.2.0",
            "_model_name": "LayoutModel",
            "_view_count": null,
            "_view_module": "@jupyter-widgets/base",
            "_view_module_version": "1.2.0",
            "_view_name": "LayoutView",
            "align_content": null,
            "align_items": null,
            "align_self": null,
            "border": null,
            "bottom": null,
            "display": null,
            "flex": null,
            "flex_flow": null,
            "grid_area": null,
            "grid_auto_columns": null,
            "grid_auto_flow": null,
            "grid_auto_rows": null,
            "grid_column": null,
            "grid_gap": null,
            "grid_row": null,
            "grid_template_areas": null,
            "grid_template_columns": null,
            "grid_template_rows": null,
            "height": null,
            "justify_content": null,
            "justify_items": null,
            "left": null,
            "margin": null,
            "max_height": null,
            "max_width": null,
            "min_height": null,
            "min_width": null,
            "object_fit": null,
            "object_position": null,
            "order": null,
            "overflow": null,
            "overflow_x": null,
            "overflow_y": null,
            "padding": null,
            "right": null,
            "top": null,
            "visibility": null,
            "width": null
          }
        },
        "e4fd7c62fa6a4a2194cd4c5d8fcdddc8": {
          "model_module": "@jupyter-widgets/base",
          "model_module_version": "1.2.0",
          "model_name": "LayoutModel",
          "state": {
            "_model_module": "@jupyter-widgets/base",
            "_model_module_version": "1.2.0",
            "_model_name": "LayoutModel",
            "_view_count": null,
            "_view_module": "@jupyter-widgets/base",
            "_view_module_version": "1.2.0",
            "_view_name": "LayoutView",
            "align_content": null,
            "align_items": null,
            "align_self": null,
            "border": null,
            "bottom": null,
            "display": null,
            "flex": null,
            "flex_flow": null,
            "grid_area": null,
            "grid_auto_columns": null,
            "grid_auto_flow": null,
            "grid_auto_rows": null,
            "grid_column": null,
            "grid_gap": null,
            "grid_row": null,
            "grid_template_areas": null,
            "grid_template_columns": null,
            "grid_template_rows": null,
            "height": null,
            "justify_content": null,
            "justify_items": null,
            "left": null,
            "margin": null,
            "max_height": null,
            "max_width": null,
            "min_height": null,
            "min_width": null,
            "object_fit": null,
            "object_position": null,
            "order": null,
            "overflow": null,
            "overflow_x": null,
            "overflow_y": null,
            "padding": null,
            "right": null,
            "top": null,
            "visibility": null,
            "width": null
          }
        },
        "e86c45397fa6431887dbded832a01c49": {
          "model_module": "@jupyter-widgets/controls",
          "model_module_version": "1.5.0",
          "model_name": "HTMLModel",
          "state": {
            "_dom_classes": [],
            "_model_module": "@jupyter-widgets/controls",
            "_model_module_version": "1.5.0",
            "_model_name": "HTMLModel",
            "_view_count": null,
            "_view_module": "@jupyter-widgets/controls",
            "_view_module_version": "1.5.0",
            "_view_name": "HTMLView",
            "description": "",
            "description_tooltip": null,
            "layout": "IPY_MODEL_bd7538b5c64e45c680fabfc2ba892086",
            "placeholder": "​",
            "style": "IPY_MODEL_5ddc752cb9644e17996e52706897faf0",
            "value": "Dl Completed...: 100%"
          }
        },
        "ea8ee9bcd5b040d88a71626cade5c6bb": {
          "model_module": "@jupyter-widgets/controls",
          "model_module_version": "1.5.0",
          "model_name": "HBoxModel",
          "state": {
            "_dom_classes": [],
            "_model_module": "@jupyter-widgets/controls",
            "_model_module_version": "1.5.0",
            "_model_name": "HBoxModel",
            "_view_count": null,
            "_view_module": "@jupyter-widgets/controls",
            "_view_module_version": "1.5.0",
            "_view_name": "HBoxView",
            "box_style": "",
            "children": [
              "IPY_MODEL_f53e6f9bb76c4a9da924e326a77a6fbd",
              "IPY_MODEL_932cebfae4f44e1492bfa29408053cbb",
              "IPY_MODEL_b36f679c3578442bad30d70a535d85db"
            ],
            "layout": "IPY_MODEL_9899620e590a4d05b1dc5eebd638103e"
          }
        },
        "eed3f192737448d6850a03d8c0ec344c": {
          "model_module": "@jupyter-widgets/controls",
          "model_module_version": "1.5.0",
          "model_name": "HTMLModel",
          "state": {
            "_dom_classes": [],
            "_model_module": "@jupyter-widgets/controls",
            "_model_module_version": "1.5.0",
            "_model_name": "HTMLModel",
            "_view_count": null,
            "_view_module": "@jupyter-widgets/controls",
            "_view_module_version": "1.5.0",
            "_view_name": "HTMLView",
            "description": "",
            "description_tooltip": null,
            "layout": "IPY_MODEL_4ed666ae1fd34a13a0fbfdba31f8601f",
            "placeholder": "​",
            "style": "IPY_MODEL_b718b5ff6d6a4a64a4e1a120d62826e1",
            "value": "Dl Size...: 100%"
          }
        },
        "f037de1b331440b698c24d8c54246c93": {
          "model_module": "@jupyter-widgets/base",
          "model_module_version": "1.2.0",
          "model_name": "LayoutModel",
          "state": {
            "_model_module": "@jupyter-widgets/base",
            "_model_module_version": "1.2.0",
            "_model_name": "LayoutModel",
            "_view_count": null,
            "_view_module": "@jupyter-widgets/base",
            "_view_module_version": "1.2.0",
            "_view_name": "LayoutView",
            "align_content": null,
            "align_items": null,
            "align_self": null,
            "border": null,
            "bottom": null,
            "display": null,
            "flex": null,
            "flex_flow": null,
            "grid_area": null,
            "grid_auto_columns": null,
            "grid_auto_flow": null,
            "grid_auto_rows": null,
            "grid_column": null,
            "grid_gap": null,
            "grid_row": null,
            "grid_template_areas": null,
            "grid_template_columns": null,
            "grid_template_rows": null,
            "height": null,
            "justify_content": null,
            "justify_items": null,
            "left": null,
            "margin": null,
            "max_height": null,
            "max_width": null,
            "min_height": null,
            "min_width": null,
            "object_fit": null,
            "object_position": null,
            "order": null,
            "overflow": null,
            "overflow_x": null,
            "overflow_y": null,
            "padding": null,
            "right": null,
            "top": null,
            "visibility": null,
            "width": null
          }
        },
        "f0f9d0bb1d1f46d5a4c49ae3823b5f72": {
          "model_module": "@jupyter-widgets/controls",
          "model_module_version": "1.5.0",
          "model_name": "ProgressStyleModel",
          "state": {
            "_model_module": "@jupyter-widgets/controls",
            "_model_module_version": "1.5.0",
            "_model_name": "ProgressStyleModel",
            "_view_count": null,
            "_view_module": "@jupyter-widgets/base",
            "_view_module_version": "1.2.0",
            "_view_name": "StyleView",
            "bar_color": null,
            "description_width": ""
          }
        },
        "f31675d08ede46a2bf7354c1858df954": {
          "model_module": "@jupyter-widgets/controls",
          "model_module_version": "1.5.0",
          "model_name": "DescriptionStyleModel",
          "state": {
            "_model_module": "@jupyter-widgets/controls",
            "_model_module_version": "1.5.0",
            "_model_name": "DescriptionStyleModel",
            "_view_count": null,
            "_view_module": "@jupyter-widgets/base",
            "_view_module_version": "1.2.0",
            "_view_name": "StyleView",
            "description_width": ""
          }
        },
        "f5087462fc994894bbc3f82e99a1d826": {
          "model_module": "@jupyter-widgets/controls",
          "model_module_version": "1.5.0",
          "model_name": "DescriptionStyleModel",
          "state": {
            "_model_module": "@jupyter-widgets/controls",
            "_model_module_version": "1.5.0",
            "_model_name": "DescriptionStyleModel",
            "_view_count": null,
            "_view_module": "@jupyter-widgets/base",
            "_view_module_version": "1.2.0",
            "_view_name": "StyleView",
            "description_width": ""
          }
        },
        "f53e6f9bb76c4a9da924e326a77a6fbd": {
          "model_module": "@jupyter-widgets/controls",
          "model_module_version": "1.5.0",
          "model_name": "HTMLModel",
          "state": {
            "_dom_classes": [],
            "_model_module": "@jupyter-widgets/controls",
            "_model_module_version": "1.5.0",
            "_model_name": "HTMLModel",
            "_view_count": null,
            "_view_module": "@jupyter-widgets/controls",
            "_view_module_version": "1.5.0",
            "_view_name": "HTMLView",
            "description": "",
            "description_tooltip": null,
            "layout": "IPY_MODEL_3f30c653409348f097634fa6e26dec0d",
            "placeholder": "​",
            "style": "IPY_MODEL_f31675d08ede46a2bf7354c1858df954",
            "value": "Generating splits...: 100%"
          }
        }
      }
    }
  },
  "nbformat": 4,
  "nbformat_minor": 0
}
