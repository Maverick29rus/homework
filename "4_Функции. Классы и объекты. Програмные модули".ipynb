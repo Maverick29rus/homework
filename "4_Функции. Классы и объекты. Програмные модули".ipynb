{
  "nbformat": 4,
  "nbformat_minor": 0,
  "metadata": {
    "colab": {
      "provenance": [],
      "include_colab_link": true
    },
    "kernelspec": {
      "name": "python3",
      "display_name": "Python 3"
    },
    "language_info": {
      "name": "python"
    }
  },
  "cells": [
    {
      "cell_type": "markdown",
      "metadata": {
        "id": "view-in-github",
        "colab_type": "text"
      },
      "source": [
        "<a href=\"https://colab.research.google.com/github/Maverick29rus/homework/blob/master/%224_3_%D0%94%D0%BE%D0%BC%D0%B0%D1%88%D0%BD%D1%8F%D1%8F_%D1%80%D0%B0%D0%B1%D0%BE%D1%82%D0%B0%22.ipynb\" target=\"_parent\"><img src=\"https://colab.research.google.com/assets/colab-badge.svg\" alt=\"Open In Colab\"/></a>"
      ]
    },
    {
      "cell_type": "markdown",
      "source": [
        "**Навигация по уроку**\n",
        "\n",
        "1. [ Функции. Классы и объекты. Програмные модули](https://colab.research.google.com/drive/1LtSAdLzWIP-xTADXIktKF9yxsh0ioEqN#scrollTo=O0dFTIuYGKI4)\n",
        "2. [Практика кода](https://colab.research.google.com/drive/1GblqLwJKMaNBV4cIyrbQqt7Rsf-7Bbx7)\n",
        "3. Домашняя работа"
      ],
      "metadata": {
        "id": "8LIWrmOPjBO6"
      }
    },
    {
      "cell_type": "markdown",
      "source": [
        "Для прохождения урока необходимо решить минимум 2 задачи. Желаем удачи!"
      ],
      "metadata": {
        "id": "XpMXr5-w9Csf"
      }
    },
    {
      "cell_type": "markdown",
      "source": [
        "## Задача 1. Случайный номерной знак"
      ],
      "metadata": {
        "id": "Bh5tu_5BH-rG"
      }
    },
    {
      "cell_type": "markdown",
      "source": [
        "**Условие.** Представьте, что в вашем регионе устаревшим является формат номерных автомобильных знаков из трех букв, следом за которыми идут три цифры. Когда все номера такого шаблона закончились, было решено обновить формат, поставив в начало четыре цифры, а за ними три буквы.\n",
        "Напишите функцию, которая будет генерировать случайный номерной знак. При этом номера в старом и новом форматах должны создаваться примерно с одинаковой вероятностью. В основной программе нужно сгенерировать и вывести на экран случайный номерной знак."
      ],
      "metadata": {
        "id": "pLn92q_iLp_k"
      }
    },
    {
      "cell_type": "code",
      "execution_count": null,
      "metadata": {
        "id": "El4o9_QWeq78",
        "colab": {
          "base_uri": "https://localhost:8080/"
        },
        "outputId": "ecd33e54-c91a-4292-de77-c5fcd5f78160"
      },
      "outputs": [
        {
          "output_type": "stream",
          "name": "stdout",
          "text": [
            "Случайный номерной знак: 6358ХСТ\n"
          ]
        }
      ],
      "source": [
        "from random import randint, choices\n",
        "\n",
        "def generate_license_plate():\n",
        "\n",
        "    # Генерируем четыре случайные цифры\n",
        "    digits_4 = ''.join(str(randint(1, 9)) for x in range(4))\n",
        "\n",
        "    # Генерируем три случайные цифры\n",
        "    digits_3 = ''.join(str(randint(1, 9)) for x in range(3))\n",
        "\n",
        "    # Генерируем три случайные буквы\n",
        "    letter_list = 'АВЕКМНОРСТУХ'\n",
        "    letters = ''.join(choices(letter_list, k=3))\n",
        "\n",
        "    # Случайным образом генерируем новый или старый номерной знак\n",
        "    if randint(0, 1):\n",
        "        return letters + digits_3\n",
        "    else:\n",
        "        return digits_4 + letters\n",
        "\n",
        "# Основная программа\n",
        "if __name__ == \"__main__\":\n",
        "    random_license_plate = generate_license_plate()\n",
        "    print(\"Случайный номерной знак:\", generate_license_plate())\n"
      ]
    },
    {
      "cell_type": "markdown",
      "source": [
        "## Задача 2. Шестнадцатеричные и десятичные числа"
      ],
      "metadata": {
        "id": "I4wpSF3IMHdX"
      }
    },
    {
      "cell_type": "markdown",
      "source": [
        "**Условие.** Напишите две функции с  именами hex2int и  int2hex для конвертации\n",
        "значений из шестнадцатеричной системы счисления (0, 1, 2, 3, 4, 5, 6, 7, 8, 9, A, B, C, D, E и F) в десятичную (по основанию 10) и обратно. Функция hex2int должна принимать на вход строку с единственным символом в  шестнадцатеричной системе и  преобразовывать его в  число от нуля до 15 в десятичной системе, тогда как функция int2hex будет выполнять обратное действие – принимать десятичное число из диапазона от 0 до 15 и возвращать шестнадцатеричный эквивалент. Обе функции должны принимать единственный параметр со входным значением и возвращать преобразованное число. Удостоверьтесь, что функция hex2int корректно обрабатывает буквы в верхнем и нижнем регистрах. Если введенное пользователем значение выходит за допустимые границы, вы должны вывести сообщение об ошибке."
      ],
      "metadata": {
        "id": "mYg_KnVwMStB"
      }
    },
    {
      "cell_type": "code",
      "source": [
        "def hex2int(hex_char):\n",
        "    # Проверяем, является ли символ допустимым шестнадцатеричным символом\n",
        "    if hex_char.upper() in \"0123456789ABCDEF\" and len(hex_char) == 1:\n",
        "        # Используем встроенную функцию int для преобразования\n",
        "        return int(hex_char, 16)\n",
        "    else:\n",
        "        raise ValueError\n",
        "\n",
        "def int2hex(decimal_number):\n",
        "    # Проверяем, находится ли число в допустимом диапазоне\n",
        "    if 0 <= int(decimal_number) <= 15:\n",
        "        # Используем встроенную функцию форматирования и убираем префикс '0x'\n",
        "        return('%X' % int(decimal_number))\n",
        "    else:\n",
        "        raise ValueError\n",
        "\n",
        "hex_char = input('Введите число от 0 до F в шестнадцатиричной системе: ')\n",
        "decimal_number = input('Введите число от 0 до 15 в десятичной системе: ')\n",
        "\n",
        "# Проверяем удается ли успешно конвертировать наши числа и выводим их\n",
        "try:\n",
        "    print(\"Ваше шестнадцатиричное число в десятичной системе: \",\n",
        "          hex2int(hex_char))\n",
        "except ValueError:\n",
        "    print(\"Ошибка! Неверное шестнадцатиричное число!\")\n",
        "\n",
        "try:\n",
        "    print(\"Ваше десятичное число в шестнадцатиричной системе: \",\n",
        "          int2hex(decimal_number))\n",
        "except ValueError:\n",
        "    print(\"Ошибка! Неверное десятичное число!\")\n",
        "\n"
      ],
      "metadata": {
        "id": "j4R38AofMTBX",
        "colab": {
          "base_uri": "https://localhost:8080/"
        },
        "outputId": "469dd578-37bd-4e5b-c1e9-fa58d38cb993"
      },
      "execution_count": null,
      "outputs": [
        {
          "output_type": "stream",
          "name": "stdout",
          "text": [
            "Введите число от 0 до F в шестнадцатиричной системе: 0\n",
            "Введите число от 0 до 15 в десятичной системе: 0\n",
            "Ваше шестнадцатиричное число в десятичной системе:  0\n",
            "Ваше десятичное число в шестнадцатиричной системе:  0\n"
          ]
        }
      ]
    },
    {
      "cell_type": "markdown",
      "source": [
        "## Задача 3. Беспилотный автомобиль"
      ],
      "metadata": {
        "id": "RIOKyPjlMZA_"
      }
    },
    {
      "cell_type": "markdown",
      "source": [
        "**Условие.** Это творческая задача. Представьте, что вы проектируете беспилотный автомобиль. Вам необходимо продумать, какими свойствами он обладает и какие действия совершает. Создайте класс беспилотный автомобиль и сохраните его в виде программного модуля. Импортируете класс и инициализируйте новый объект.  "
      ],
      "metadata": {
        "id": "OlVQTKYrMZBA"
      }
    },
    {
      "cell_type": "code",
      "source": [
        "%%writefile auto_car.py\n",
        "\n",
        "# Инициализирует новый класс Auto_Car с заданными атрибутами\n",
        "class Auto_Car:\n",
        "    Name_class = 'Беспилотный автомобиль'\n",
        "\n",
        "    def __init__(self, version, SAE_class, sensors):\n",
        "        self.version = version # Версия прошивки\n",
        "        self.SAE_class = SAE_class # Уровень автономности по SAE\n",
        "        self.sensors = sensors # Количество датчиков\n",
        "\n",
        "\n",
        "        # Метод выбора дистанции.\n",
        "    def distance_selection(self):\n",
        "        # Команды для выбора дистанции\n",
        "        print(\"Выбираю дистанцию.\")\n",
        "\n",
        "        # Метод перестроения.\n",
        "    def lane_change(self):\n",
        "        # Команды для перестроения\n",
        "        print(\"Перестраиваюсь.\")\n",
        "\n",
        "        # Метод контроля полосы.\n",
        "    def lane_control(self):\n",
        "        # Команды для контроля полосы\n",
        "        print(\"Контролирую положение в полосе.\")\n",
        "\n",
        "        # Метод парковки.\n",
        "    def parking(self):\n",
        "        # Команды для парковки\n",
        "        print(\"Паркуюсь.\")\n",
        "\n",
        "        # Метод контроля скорости.\n",
        "    def speed_control(self):\n",
        "        # Команды для контроля скорости\n",
        "        print(\"Контролирую скорость.\")\n"
      ],
      "metadata": {
        "id": "U2JxR4KOMZBA",
        "colab": {
          "base_uri": "https://localhost:8080/"
        },
        "outputId": "71fa7deb-74a8-4ba0-d512-a440b34a24f2"
      },
      "execution_count": null,
      "outputs": [
        {
          "output_type": "stream",
          "name": "stdout",
          "text": [
            "Overwriting auto_car.py\n"
          ]
        }
      ]
    },
    {
      "cell_type": "code",
      "source": [
        "from auto_car import Auto_Car\n",
        "\n",
        "# Создаем объект автомобиля\n",
        "my_car = Auto_Car(version=1.13, SAE_class=4, sensors=20)\n",
        "\n",
        "print('Параметры автомобиля, созданного из класса: ', my_car.Name_class)\n",
        "print('Версия прошивки: ', my_car.version)\n",
        "print('Уровень автономности по SAE: ', my_car.SAE_class)\n",
        "print('Количество датчиков: ', my_car.sensors)\n",
        "\n"
      ],
      "metadata": {
        "id": "TzjmCPBLGBcY",
        "colab": {
          "base_uri": "https://localhost:8080/"
        },
        "outputId": "05f1806a-dee3-4e45-b87f-74ecf959ef15"
      },
      "execution_count": null,
      "outputs": [
        {
          "output_type": "stream",
          "name": "stdout",
          "text": [
            "Параметры автомобиля, созданного из класса:  Беспилотный автомобиль\n",
            "Версия прошивки:  1.13\n",
            "Уровень автономности по SAE:  4\n",
            "Количество датчиков:  20\n"
          ]
        }
      ]
    }
  ]
}
