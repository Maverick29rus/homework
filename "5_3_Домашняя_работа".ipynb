{
  "nbformat": 4,
  "nbformat_minor": 0,
  "metadata": {
    "colab": {
      "provenance": [],
      "include_colab_link": true
    },
    "kernelspec": {
      "name": "python3",
      "display_name": "Python 3"
    },
    "language_info": {
      "name": "python"
    }
  },
  "cells": [
    {
      "cell_type": "markdown",
      "metadata": {
        "id": "view-in-github",
        "colab_type": "text"
      },
      "source": [
        "<a href=\"https://colab.research.google.com/github/Maverick29rus/homework/blob/master/%225_3_%D0%94%D0%BE%D0%BC%D0%B0%D1%88%D0%BD%D1%8F%D1%8F_%D1%80%D0%B0%D0%B1%D0%BE%D1%82%D0%B0%22.ipynb\" target=\"_parent\"><img src=\"https://colab.research.google.com/assets/colab-badge.svg\" alt=\"Open In Colab\"/></a>"
      ]
    },
    {
      "cell_type": "markdown",
      "source": [
        "**Навигация по уроку**\n",
        "\n",
        "1. [Нейронные сети. Математическая модель нейрона.](https://colab.research.google.com/drive/1XXxO2vyd9IDYT23tQrVMAAYeHYn-Awww)\n",
        "2. [Нейронные сети. Функции активации](https://colab.research.google.com/drive/1mhEEhb3mdE5mKFIvOiC5tHvkPiWD8DBj)\n",
        "3. Домашняя работа"
      ],
      "metadata": {
        "id": "8LIWrmOPjBO6"
      }
    },
    {
      "cell_type": "markdown",
      "source": [
        "## Задача 1. Класс Neuron"
      ],
      "metadata": {
        "id": "B5IghQAm20sG"
      }
    },
    {
      "cell_type": "markdown",
      "source": [
        "**Условие** Используя примеры из теоретической части 5.1 и 5.2, составьте класс Neuron модели нейрона, принимающего на вход от одного до 10 входных параметров. Запрещается пользоваться библиотекой numpy. На вход подается список. Матричное умножение реализуется с помощью циклов самостоятельно. Класс содержит методы для вычисления взвешенной суммы, а также содержит функции активации из урока."
      ],
      "metadata": {
        "id": "BxRUPNKFrxow"
      }
    },
    {
      "cell_type": "code",
      "execution_count": null,
      "metadata": {
        "id": "El4o9_QWeq78"
      },
      "outputs": [],
      "source": [
        "class Neuron:\n",
        "    def __init__ (self, w):\n",
        "        self.w = w\n",
        "\n",
        "    def у(self, x): # Суммируем входы\n",
        "        s = []\n",
        "        for i in range(len(x)):\n",
        "            s.append(x[i] * self.w[i])\n",
        "        return sum(s)\n",
        "\n",
        "    def onestep(self, x): # Единичная функция активации\n",
        "        if x >= 0:\n",
        "            return 1\n",
        "        else:\n",
        "            return 0\n",
        "\n",
        "    def ReLU(self, x): # Функция активации ReLu\n",
        "        if x > 0:\n",
        "            return x\n",
        "        else:\n",
        "            return 0"
      ]
    },
    {
      "cell_type": "markdown",
      "source": [
        "## Задача 2. Класс Neuron (продолжение)"
      ],
      "metadata": {
        "id": "BXPoR8av3AUx"
      }
    },
    {
      "cell_type": "markdown",
      "source": [
        "**Условие.** Используя класс Neuron из первой задачи, придумай свой пример задачи на принятие решения (по аналогии с задачей \"о рыбаке и рыбке\"), не менее 4 входных параметров, веса установить произвольно из логики задачи, произведи расчёт функций активаций, определённых в классе первой задачи."
      ],
      "metadata": {
        "id": "KLC5Gv3L3CP_"
      }
    },
    {
      "cell_type": "code",
      "source": [
        "'''Нейрон оценивает привлекательность покупки жилья по нескольким мараметрам с учетом веса каждого параметра\n",
        "На входы в нейрон мы подадим следующие исходные данные:\n",
        "𝑥1 = 4 — стоимость квартиры;\n",
        "𝑥2 = 3 — количество комнат;\n",
        "𝑥3 = 3 — этаж;\n",
        "𝑥4 = 4 — возраст дома;\n",
        "𝑥5 = 1 — наличие балкона;\n",
        "𝑥6 = 5 — удаленность от центра.\n",
        "\n",
        "Веса входов распределим следующим образом:\n",
        "𝑤1 = 5\n",
        "𝑤2 = 4\n",
        "𝑤3 = 1\n",
        "𝑤4 = 4\n",
        "𝑤5 = 1\n",
        "𝑤6 = 3\n",
        "'''\n",
        "bias = 40 # порог срабатывания\n",
        "\n",
        "# Задаем входной вектор\n",
        "Xi = [4, 3, 3, 4, 1, 5]\n",
        "\n",
        "# Задаем вектор весов\n",
        "Wi = [5, 4, 1, 4, 1, 3]\n",
        "n = Neuron(Wi)\n",
        "S = n.у(Xi) - bias\n",
        "print('Y =', n.onestep(S))\n",
        "print('R =', n.ReLU(S))\n"
      ],
      "metadata": {
        "id": "yr-i4FFg3DAf",
        "colab": {
          "base_uri": "https://localhost:8080/"
        },
        "outputId": "a5200a26-d65c-4e04-fb65-02f75b8414f4"
      },
      "execution_count": null,
      "outputs": [
        {
          "output_type": "stream",
          "name": "stdout",
          "text": [
            "Y = 1\n",
            "R = 27\n"
          ]
        }
      ]
    }
  ]
}